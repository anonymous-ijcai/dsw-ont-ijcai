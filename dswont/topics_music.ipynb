{
 "metadata": {
  "name": "",
  "signature": "sha256:4d8dd393c2552c4aa372b9b760eb57a8e00f9d67cac2562512edf8ecf8ce642f"
 },
 "nbformat": 3,
 "nbformat_minor": 0,
 "worksheets": [
  {
   "cells": [
    {
     "cell_type": "code",
     "collapsed": false,
     "input": [
      "# %matplotlib inline\n",
      "# %load_ext autoreload\n",
      "# %autoreload 2"
     ],
     "language": "python",
     "metadata": {},
     "outputs": [],
     "prompt_number": 1
    },
    {
     "cell_type": "code",
     "collapsed": false,
     "input": [
      "import os\n",
      "# This hack makes ipython notebook import the modules correctly.\n",
      "if (os.path.basename(os.getcwd()) == 'dswont'):\n",
      "    os.chdir(os.path.dirname(os.getcwd()))"
     ],
     "language": "python",
     "metadata": {},
     "outputs": [],
     "prompt_number": 2
    },
    {
     "cell_type": "code",
     "collapsed": false,
     "input": [
      "import matplotlib\n",
      "import numpy as np\n",
      "import matplotlib.pyplot as plt\n",
      "import pandas as pd\n",
      "from scipy import stats\n",
      "\n",
      "import logging\n",
      "logging.basicConfig(level=logging.WARN)\n",
      "# Silence the verbose urllib logger.\n",
      "logging.getLogger('requests.packages.urllib3.connectionpool').setLevel(logging.WARN)\n",
      "\n",
      "from dswont import topics\n",
      "from dswont import util\n",
      "from dswont import dbpedia"
     ],
     "language": "python",
     "metadata": {},
     "outputs": [],
     "prompt_number": 3
    },
    {
     "cell_type": "code",
     "collapsed": false,
     "input": [
      "ROOT_CATEGORY_MUSIC = 'http://dbpedia.org/resource/Category:Music'\n",
      "DEFAULT_SELECTION_DEPTH = 9\n",
      "DEFAULT_RELATION_CACHE = topics.CategoryRelationCache(\n",
      "    subcat_index_file=util.resource('wikipedia/uri-to-subcats-music'),\n",
      "    supercat_index_file=util.resource('wikipedia/uri-to-supercats-music'))\n",
      "\n",
      "def music_category_selection(**params):\n",
      "    updated_params = {\n",
      "        'root' : ROOT_CATEGORY_MUSIC,\n",
      "        'relation_cache' : DEFAULT_RELATION_CACHE}\n",
      "    updated_params.update(params)\n",
      "    selection = topics.CategorySelection(**updated_params)\n",
      "    selection.run()\n",
      "    return selection\n",
      "\n",
      "def precompute_full_selection(precomputed_data={}):\n",
      "    if not 'full_selection' in precomputed_data:\n",
      "        precomputed_data['full_selection'] = music_category_selection(max_depth=DEFAULT_SELECTION_DEPTH)\n",
      "    return precomputed_data['full_selection']"
     ],
     "language": "python",
     "metadata": {},
     "outputs": [],
     "prompt_number": 4
    },
    {
     "cell_type": "code",
     "collapsed": false,
     "input": [
      "def make_topic_data_frame(selection):\n",
      "    topic_df = pd.DataFrame({'topic':list(selection)})\n",
      "    topic_df['depth'] = topic_df['topic'].apply(selection.get_depth)\n",
      "    topic_df['title'] = topic_df['topic'].apply(dbpedia.to_title)\n",
      "    topic_df = topic_df.reindex(columns=['topic', 'title', 'depth'])\n",
      "    return topic_df\n",
      "\n",
      "def precompute_unlabeled_topic_data_frame(precomputed_data={}):\n",
      "    if not 'unlabeled_topic_df' in precomputed_data:\n",
      "        precomputed_data['unlabeled_topic_df'] = make_topic_data_frame(precompute_full_selection())\n",
      "    return precomputed_data['unlabeled_topic_df']"
     ],
     "language": "python",
     "metadata": {},
     "outputs": [],
     "prompt_number": 5
    },
    {
     "cell_type": "code",
     "collapsed": false,
     "input": [
      "def report_level_distribution(topic_df):\n",
      "    return topic_df.groupby('depth').count()['title']"
     ],
     "language": "python",
     "metadata": {},
     "outputs": [],
     "prompt_number": 6
    },
    {
     "cell_type": "code",
     "collapsed": false,
     "input": [
      "# report_level_distribution(precompute_unlabeled_topic_data_frame())"
     ],
     "language": "python",
     "metadata": {},
     "outputs": [
      {
       "output_type": "stream",
       "stream": "stderr",
       "text": [
        "WARNING:root:Loop 'Israeli music'<->'Middle Eastern music'\n"
       ]
      },
      {
       "output_type": "stream",
       "stream": "stderr",
       "text": [
        "WARNING:root:Loop 'Distributed data storage'<->'Distributed data storage systems'\n"
       ]
      },
      {
       "output_type": "stream",
       "stream": "stderr",
       "text": [
        "WARNING:root:Loop 'Cloud storage'<->'File hosting'\n"
       ]
      },
      {
       "output_type": "stream",
       "stream": "stderr",
       "text": [
        "WARNING:root:Loop 'Cash-Carter family'<->'Johnny Cash'\n"
       ]
      },
      {
       "output_type": "stream",
       "stream": "stderr",
       "text": [
        "WARNING:root:Loop 'Lennon family'<->'John Lennon'\n"
       ]
      },
      {
       "output_type": "stream",
       "stream": "stderr",
       "text": [
        "WARNING:root:Loop 'Lennon family'<->'Yoko Ono'\n"
       ]
      },
      {
       "output_type": "stream",
       "stream": "stderr",
       "text": [
        "WARNING:root:Loop 'McCartney family'<->'Linda McCartney'\n"
       ]
      },
      {
       "output_type": "stream",
       "stream": "stderr",
       "text": [
        "WARNING:root:Loop 'Igbo language'<->'Igboid languages'\n"
       ]
      },
      {
       "output_type": "stream",
       "stream": "stderr",
       "text": [
        "WARNING:root:Loop 'Sound'<->'Hearing'\n"
       ]
      },
      {
       "output_type": "stream",
       "stream": "stderr",
       "text": [
        "WARNING:root:Loop 'Sound'<->'Music'\n"
       ]
      },
      {
       "output_type": "stream",
       "stream": "stderr",
       "text": [
        "WARNING:root:Loop 'Victoria Beckham'<->'David Beckham'\n"
       ]
      },
      {
       "output_type": "stream",
       "stream": "stderr",
       "text": [
        "WARNING:root:Loop 'Chinese language by country'<->'Chinese languages in Singapore'\n"
       ]
      },
      {
       "output_type": "stream",
       "stream": "stderr",
       "text": [
        "WARNING:root:Loop 'Magazines'<->'Magazine publishing'\n"
       ]
      },
      {
       "output_type": "stream",
       "stream": "stderr",
       "text": [
        "WARNING:root:Loop 'Basketball venues in the United States'<->'American Basketball Association (2000\u2013present) venues'\n"
       ]
      },
      {
       "output_type": "stream",
       "stream": "stderr",
       "text": [
        "WARNING:root:Loop 'Islamic Republic of Iran Broadcasting'<->'Television stations in Iran'\n"
       ]
      },
      {
       "output_type": "stream",
       "stream": "stderr",
       "text": [
        "WARNING:root:Loop 'Punjab'<->'Punjabi culture'\n"
       ]
      },
      {
       "output_type": "stream",
       "stream": "stderr",
       "text": [
        "WARNING:root:Loop 'Punjab, Pakistan'<->'Punjabi culture'\n"
       ]
      },
      {
       "output_type": "stream",
       "stream": "stderr",
       "text": [
        "WARNING:root:Loop 'Rosh Hashanah'<->'Ten Days of Repentance'\n"
       ]
      },
      {
       "output_type": "stream",
       "stream": "stderr",
       "text": [
        "WARNING:root:Loop 'Yom Kippur'<->'Ten Days of Repentance'\n"
       ]
      },
      {
       "output_type": "stream",
       "stream": "stderr",
       "text": [
        "WARNING:root:Loop 'Computer vision'<->'Image processing'\n"
       ]
      },
      {
       "output_type": "stream",
       "stream": "stderr",
       "text": [
        "WARNING:root:Loop 'Chinese society'<->'Chinese culture'\n"
       ]
      },
      {
       "output_type": "stream",
       "stream": "stderr",
       "text": [
        "WARNING:root:Loop 'Singaporean society'<->'Languages of Singapore'\n"
       ]
      },
      {
       "output_type": "stream",
       "stream": "stderr",
       "text": [
        "WARNING:root:Loop 'Singaporean society'<->'Singaporean culture'\n"
       ]
      },
      {
       "output_type": "stream",
       "stream": "stderr",
       "text": [
        "WARNING:root:Loop 'Punjab, India'<->'Punjabi culture'\n"
       ]
      },
      {
       "output_type": "stream",
       "stream": "stderr",
       "text": [
        "WARNING:root:Loop 'Maccabees'<->'Cultural depictions of the Maccabees'\n"
       ]
      },
      {
       "output_type": "stream",
       "stream": "stderr",
       "text": [
        "WARNING:root:Loop 'Optical materials'<->'Transparent materials'\n"
       ]
      },
      {
       "metadata": {},
       "output_type": "pyout",
       "prompt_number": 7,
       "text": [
        "depth\n",
        "0            1\n",
        "1           35\n",
        "2          382\n",
        "3         2689\n",
        "4        12043\n",
        "5        25191\n",
        "6        22872\n",
        "7         6927\n",
        "8         5637\n",
        "9        15752\n",
        "Name: title, dtype: int64"
       ]
      }
     ],
     "prompt_number": 7
    },
    {
     "cell_type": "code",
     "collapsed": false,
     "input": [
      "def sample_from_df(df, nrows = 10, seed=0):\n",
      "    np.random.seed(seed)\n",
      "    rows = np.random.choice(df.index.values, nrows, replace=False)\n",
      "    return df.ix[rows]"
     ],
     "language": "python",
     "metadata": {},
     "outputs": [],
     "prompt_number": 52
    },
    {
     "cell_type": "code",
     "collapsed": false,
     "input": [
      "def sample_from_level(df, level, nrows=10, seed=0):\n",
      "    return sample_from_df(df[df['depth']==level], nrows, seed)"
     ],
     "language": "python",
     "metadata": {},
     "outputs": [],
     "prompt_number": 53
    },
    {
     "cell_type": "code",
     "collapsed": false,
     "input": [
      "# sample_from_level(precompute_unlabeled_topic_data_frame(), 9, 100)['title'].values\n",
      "# # Number of relevant topics : 1\n",
      "# # 'Trauma Records albums'\n",
      "# # 95% conf. interval: [0.000, 0.054]\n",
      "# # Conclusion: could probably discard level 9\n",
      "\n",
      "# sample_from_level(precompute_unlabeled_topic_data_frame(), 8, 100)['title'].values\n",
      "# # Number of relevant topics : 21\n",
      "# # 'Raised by Swans albums'\n",
      "# # 'Low-importance Madonna articles'\n",
      "# # 'Cub Country albums'\n",
      "# # 'The Revolution Smile albums'\n",
      "# # 'Island Records albums'\n",
      "# # 'Polar Music albums'\n",
      "# # 'Hannah Georgas albums'\n",
      "# # 'Operas set in Turkey'\n",
      "# # 'Category-Class Madonna articles'\n",
      "# # 'Free multimedia codecs, containers, and splitters'\n",
      "# # 'J Storm albums'\n",
      "# # 'Portal-Class Madonna articles'\n",
      "# # 'The Folk Implosion albums'\n",
      "# # 'Hawksley Workman albums'\n",
      "# # 'Skipping Girl Vinegar albums'\n",
      "# # 'Loveless albums'\n",
      "# # 'The Hours albums'\n",
      "# # 'Nadine songs'\n",
      "# # 'Two Hours Traffic albums'\n",
      "# # 'Alternative rock groups from Maryland'\n",
      "# # 'Cusco (band) albums'\n",
      "# # 95% conf. interval: (0.135, 0.303)\n",
      "\n",
      "None"
     ],
     "language": "python",
     "metadata": {},
     "outputs": [],
     "prompt_number": 54
    },
    {
     "cell_type": "code",
     "collapsed": false,
     "input": [
      "def clopper_pearson(k, n, alpha):\n",
      "    \"\"\"\n",
      "    http://en.wikipedia.org/wiki/Binomial_proportion_confidence_interval\n",
      "    alpha confidence intervals for a binomial distribution of k expected successes on n trials\n",
      "    Clopper Pearson intervals are a conservative estimate.\n",
      "    \"\"\"\n",
      "    lo = stats.beta.ppf(alpha/2, k, n-k+1)\n",
      "    hi = stats.beta.ppf(1 - alpha/2, k+1, n-k)\n",
      "    return lo, hi"
     ],
     "language": "python",
     "metadata": {},
     "outputs": [],
     "prompt_number": 55
    },
    {
     "cell_type": "code",
     "collapsed": false,
     "input": [
      "def generate_and_save_topics_for_labeling(filename):\n",
      "    topic_data_sampler = topics.TrainingDataSelection(precompute_full_selection())\n",
      "    topic_sample = topic_data_sampler.sample_paths_through_from_anywhere(1000)\n",
      "    data_processing = topics.TrainingDataProcessing()\n",
      "    topics_for_labeling = list(topic_sample)\n",
      "    data_processing.save_topic_labels(topics_for_labeling, \n",
      "                                      [None] * len(topics_for_labeling), \n",
      "                                      topic_data_file, \n",
      "                                      topic_data_sampler)\n",
      "    \n",
      "# generate_and_save_topics_for_labeling()\n",
      "\n",
      "def read_ground_truth_topic_labels():\n",
      "    data_processing = topics.TrainingDataProcessing()\n",
      "    return data_processing.read_topic_labels(util.resource('labeled-topics-music-1000-dm.txt'))\n",
      "\n",
      "def make_labeled_topic_data_frame(selection, ground_truth_data):\n",
      "    selection_df = pd.DataFrame({'topic':list(selection)})\n",
      "    selection_df['depth'] = selection_df['topic'].apply(selection.get_depth)\n",
      "    ground_truth_topic_relevance_topics, ground_truth_topic_relevance_relevance =\\\n",
      "        zip(*ground_truth_data.items())\n",
      "    ground_truth_topic_relevance_df = pd.DataFrame(\n",
      "        {'topic':ground_truth_topic_relevance_topics,\n",
      "         'is_relevant':ground_truth_topic_relevance_relevance})\n",
      "    selection_df = selection_df.merge(ground_truth_topic_relevance_df, how='outer')\n",
      "    selection_df['title'] = selection_df['topic'].apply(dbpedia.to_title)\n",
      "    selection_df =\\\n",
      "        selection_df.reindex(columns=['topic', 'title', 'depth', 'is_relevant'])\n",
      "    return selection_df\n",
      "\n",
      "def precompute_labeled_topic_data_frame(precomputed_data={}):\n",
      "    if not 'labeled_topic_df' in precomputed_data:\n",
      "        selection = precompute_full_selection()\n",
      "        ground_truth_data = read_ground_truth_topic_labels()\n",
      "        selection_df = make_labeled_topic_data_frame(selection, ground_truth_data)\n",
      "        precomputed_data['labeled_topic_df'] = selection_df\n",
      "    return precomputed_data['labeled_topic_df']"
     ],
     "language": "python",
     "metadata": {},
     "outputs": [],
     "prompt_number": 56
    },
    {
     "cell_type": "code",
     "collapsed": false,
     "input": [
      "# precompute_labeled_topic_data_frame().groupby('depth')['topic'].count()"
     ],
     "language": "python",
     "metadata": {},
     "outputs": [
      {
       "metadata": {},
       "output_type": "pyout",
       "prompt_number": 15,
       "text": [
        "depth\n",
        "0            1\n",
        "1           35\n",
        "2          382\n",
        "3         2689\n",
        "4        12043\n",
        "5        25191\n",
        "6        22872\n",
        "7         6927\n",
        "8         5637\n",
        "9        15752\n",
        "Name: topic, dtype: int64"
       ]
      }
     ],
     "prompt_number": 15
    },
    {
     "cell_type": "code",
     "collapsed": false,
     "input": [
      "def apply_to_new_domain(selection_classifier:topics.CategorySelectionClassifier,\n",
      "                        new_domain_full_selection:topics.CategorySelection):\n",
      "        result = selection_classifier.copy()\n",
      "        old_topic_classifier = result.selection._classifier\n",
      "        result.full_selection = new_domain_full_selection\n",
      "        result.max_depth = new_domain_full_selection._max_depth\n",
      "        result.selection = topics.CategorySelection(\n",
      "            new_domain_full_selection._root,\n",
      "            old_topic_classifier,\n",
      "            new_domain_full_selection._max_depth,\n",
      "            new_domain_full_selection._relations)\n",
      "        result.selection.run()\n",
      "        return result"
     ],
     "language": "python",
     "metadata": {},
     "outputs": [],
     "prompt_number": 33
    },
    {
     "cell_type": "code",
     "collapsed": false,
     "input": [
      "# cs_clf = topics.default_trained_topic_selection_classifier()\n",
      "# music_clf = apply_to_new_domain(cs_clf, precompute_full_selection())"
     ],
     "language": "python",
     "metadata": {},
     "outputs": [
      {
       "output_type": "stream",
       "stream": "stderr",
       "text": [
        "WARNING:root:Loop 'Musicology'<->'Philosophy of music'\n"
       ]
      },
      {
       "output_type": "stream",
       "stream": "stderr",
       "text": [
        "WARNING:root:Loop 'Philosophy of music'<->'Musicology'\n"
       ]
      },
      {
       "output_type": "stream",
       "stream": "stderr",
       "text": [
        "WARNING:root:Loop 'Contemporary classical musicians'<->'Contemporary classical composers'\n"
       ]
      },
      {
       "output_type": "stream",
       "stream": "stderr",
       "text": [
        "WARNING:root:Loop 'Israeli music'<->'Middle Eastern music'\n"
       ]
      },
      {
       "output_type": "stream",
       "stream": "stderr",
       "text": [
        "WARNING:root:Loop 'Freak folk'<->'New Weird America'\n"
       ]
      },
      {
       "output_type": "stream",
       "stream": "stderr",
       "text": [
        "WARNING:root:Loop 'Distributed data storage'<->'Distributed data storage systems'\n"
       ]
      },
      {
       "output_type": "stream",
       "stream": "stderr",
       "text": [
        "WARNING:root:Loop 'Distributed data storage'<->'File sharing networks'\n"
       ]
      },
      {
       "output_type": "stream",
       "stream": "stderr",
       "text": [
        "WARNING:root:Loop 'File sharing networks'<->'Distributed data storage'\n"
       ]
      },
      {
       "output_type": "stream",
       "stream": "stderr",
       "text": [
        "WARNING:root:Loop 'Electronic musical instruments'<->'Quintephones'\n"
       ]
      },
      {
       "output_type": "stream",
       "stream": "stderr",
       "text": [
        "WARNING:root:Loop 'Contemporary classical composers'<->'Contemporary classical musicians'\n"
       ]
      },
      {
       "output_type": "stream",
       "stream": "stderr",
       "text": [
        "WARNING:root:Loop 'Band-centric video games'<->'Musician video games'\n"
       ]
      },
      {
       "output_type": "stream",
       "stream": "stderr",
       "text": [
        "WARNING:root:Loop 'Musician video games'<->'Band-centric video games'\n"
       ]
      },
      {
       "output_type": "stream",
       "stream": "stderr",
       "text": [
        "WARNING:root:Loop 'New Weird America'<->'Freak folk'\n"
       ]
      },
      {
       "output_type": "stream",
       "stream": "stderr",
       "text": [
        "WARNING:root:Loop 'Cloud storage'<->'File hosting'\n"
       ]
      },
      {
       "output_type": "stream",
       "stream": "stderr",
       "text": [
        "WARNING:root:Loop 'Cash-Carter family'<->'Johnny Cash'\n"
       ]
      },
      {
       "output_type": "stream",
       "stream": "stderr",
       "text": [
        "WARNING:root:Loop 'Lennon family'<->'John Lennon'\n"
       ]
      },
      {
       "output_type": "stream",
       "stream": "stderr",
       "text": [
        "WARNING:root:Loop 'Lennon family'<->'Yoko Ono'\n"
       ]
      },
      {
       "output_type": "stream",
       "stream": "stderr",
       "text": [
        "WARNING:root:Loop 'McCartney family'<->'Linda McCartney'\n"
       ]
      },
      {
       "output_type": "stream",
       "stream": "stderr",
       "text": [
        "WARNING:root:Loop 'Quintephones'<->'Electronic musical instruments'\n"
       ]
      },
      {
       "output_type": "stream",
       "stream": "stderr",
       "text": [
        "WARNING:root:Loop 'Sound'<->'Hearing'\n"
       ]
      },
      {
       "output_type": "stream",
       "stream": "stderr",
       "text": [
        "WARNING:root:Loop 'Sound'<->'Music'\n"
       ]
      },
      {
       "output_type": "stream",
       "stream": "stderr",
       "text": [
        "WARNING:root:Loop 'Marathi music'<->'Marathi film music composers'\n"
       ]
      },
      {
       "output_type": "stream",
       "stream": "stderr",
       "text": [
        "WARNING:root:Loop 'Middle Eastern music'<->'Israeli music'\n"
       ]
      },
      {
       "output_type": "stream",
       "stream": "stderr",
       "text": [
        "WARNING:root:Loop 'Central American music'<->'Latin American music'\n"
       ]
      },
      {
       "output_type": "stream",
       "stream": "stderr",
       "text": [
        "WARNING:root:Loop 'Latin American music'<->'Central American music'\n"
       ]
      },
      {
       "output_type": "stream",
       "stream": "stderr",
       "text": [
        "WARNING:root:Loop 'Marathi film music composers'<->'Marathi music'\n"
       ]
      },
      {
       "output_type": "stream",
       "stream": "stderr",
       "text": [
        "WARNING:root:Loop 'Johnny Cash'<->'Cash-Carter family'\n"
       ]
      },
      {
       "output_type": "stream",
       "stream": "stderr",
       "text": [
        "WARNING:root:Loop 'Linda McCartney'<->'McCartney family'\n"
       ]
      },
      {
       "output_type": "stream",
       "stream": "stderr",
       "text": [
        "WARNING:root:Loop 'Wynonna Judd'<->'The Judds'\n"
       ]
      },
      {
       "output_type": "stream",
       "stream": "stderr",
       "text": [
        "WARNING:root:Loop 'Yoko Ono'<->'Lennon family'\n"
       ]
      },
      {
       "output_type": "stream",
       "stream": "stderr",
       "text": [
        "WARNING:root:Loop 'John Lennon'<->'Lennon family'\n"
       ]
      },
      {
       "output_type": "stream",
       "stream": "stderr",
       "text": [
        "WARNING:root:Loop 'Victoria Beckham'<->'David Beckham'\n"
       ]
      },
      {
       "output_type": "stream",
       "stream": "stderr",
       "text": [
        "WARNING:root:Loop 'Latvian classical musicians by instrument'<->'Latvian classical organists'\n"
       ]
      },
      {
       "output_type": "stream",
       "stream": "stderr",
       "text": [
        "WARNING:root:Loop 'Australian electronic music groups'<->'Australian electronic dance music groups'\n"
       ]
      },
      {
       "output_type": "stream",
       "stream": "stderr",
       "text": [
        "WARNING:root:Loop 'Basketball venues in the United States'<->'American Basketball Association (2000\u2013present) venues'\n"
       ]
      },
      {
       "output_type": "stream",
       "stream": "stderr",
       "text": [
        "WARNING:root:Loop 'Latvian classical organists'<->'Latvian classical musicians'\n"
       ]
      },
      {
       "output_type": "stream",
       "stream": "stderr",
       "text": [
        "WARNING:root:Loop 'Latvian classical organists'<->'Latvian classical musicians by instrument'\n"
       ]
      }
     ],
     "prompt_number": 34
    },
    {
     "cell_type": "code",
     "collapsed": false,
     "input": [
      "# categories, classes = zip(*read_ground_truth_topic_labels().items())\n",
      "# print(topics.evaluate_classifier(music_clf, categories, classes, util.accuracy_score))\n",
      "# print(topics.evaluate_classifier(music_clf, categories, classes, util.f1_pos_class))\n",
      "# print(topics.evaluate_classifier(music_clf, categories, classes, util.f1_neg_class))\n",
      "# print(topics.evaluate_classifier(music_clf, categories, classes, util.weighted_f1))"
     ],
     "language": "python",
     "metadata": {},
     "outputs": [
      {
       "output_type": "stream",
       "stream": "stdout",
       "text": [
        "0.858378378378\n",
        "0.896278701504\n",
        "0.776831345826\n",
        "0.860767325492\n"
       ]
      }
     ],
     "prompt_number": 60
    },
    {
     "cell_type": "code",
     "collapsed": false,
     "input": [
      "def depth_based_selection(full_selection, depth):\n",
      "    selection = topics.CategorySelection(\n",
      "        full_selection._root,\n",
      "        None,\n",
      "        depth,\n",
      "        full_selection._relations)\n",
      "    selection.run()\n",
      "    return selection\n",
      "\n",
      "# for depth in range(1, 10):\n",
      "#     clf = depth_based_selection(precompute_full_selection(), depth)\n",
      "#     print(\"Depth:\", depth)\n",
      "#     print(\"Accuracy:\", topics.evaluate_classifier(clf, categories, classes, util.accuracy_score))\n",
      "#     print(\"Positive F1:\", topics.evaluate_classifier(clf, categories, classes, util.f1_pos_class))\n",
      "#     print(\"Negative F1:\", topics.evaluate_classifier(clf, categories, classes, util.f1_neg_class))\n",
      "#     print(\"Weighted F1:\", topics.evaluate_classifier(clf, categories, classes, util.weighted_f1))"
     ],
     "language": "python",
     "metadata": {},
     "outputs": [
      {
       "output_type": "stream",
       "stream": "stdout",
       "text": [
        "Depth: 1\n",
        "Accuracy: 0.297297297297\n",
        "Positive F1: 0.0\n",
        "Negative F1: 0.458333333333\n",
        "Weighted F1: 0.136261261261\n",
        "Depth:"
       ]
      },
      {
       "output_type": "stream",
       "stream": "stdout",
       "text": [
        " 2\n",
        "Accuracy: 0.353513513514\n",
        "Positive F1: 0.148148148148\n",
        "Negative F1: 0.479094076655\n",
        "Weighted F1: 0.246537478245\n",
        "Depth:"
       ]
      },
      {
       "output_type": "stream",
       "stream": "stderr",
       "text": [
        "WARNING:root:Loop 'Israeli music'<->'Middle Eastern music'\n"
       ]
      },
      {
       "output_type": "stream",
       "stream": "stderr",
       "text": [
        "WARNING:root:Loop 'Distributed data storage'<->'Distributed data storage systems'\n"
       ]
      },
      {
       "output_type": "stream",
       "stream": "stdout",
       "text": [
        " 3\n",
        "Accuracy: 0.48\n",
        "Positive F1: 0.419782870929\n",
        "Negative F1: 0.52889324192\n",
        "Weighted F1: 0.452221089332\n",
        "Depth:"
       ]
      },
      {
       "output_type": "stream",
       "stream": "stderr",
       "text": [
        "WARNING:root:Loop 'Israeli music'<->'Middle Eastern music'\n"
       ]
      },
      {
       "output_type": "stream",
       "stream": "stderr",
       "text": [
        "WARNING:root:Loop 'Distributed data storage'<->'Distributed data storage systems'\n"
       ]
      },
      {
       "output_type": "stream",
       "stream": "stderr",
       "text": [
        "WARNING:root:Loop 'Cloud storage'<->'File hosting'\n"
       ]
      },
      {
       "output_type": "stream",
       "stream": "stderr",
       "text": [
        "WARNING:root:Loop 'Cash-Carter family'<->'Johnny Cash'\n"
       ]
      },
      {
       "output_type": "stream",
       "stream": "stderr",
       "text": [
        "WARNING:root:Loop 'Lennon family'<->'John Lennon'\n"
       ]
      },
      {
       "output_type": "stream",
       "stream": "stderr",
       "text": [
        "WARNING:root:Loop 'Lennon family'<->'Yoko Ono'\n"
       ]
      },
      {
       "output_type": "stream",
       "stream": "stderr",
       "text": [
        "WARNING:root:Loop 'McCartney family'<->'Linda McCartney'\n"
       ]
      },
      {
       "output_type": "stream",
       "stream": "stdout",
       "text": [
        " 4\n",
        "Accuracy: 0.648648648649\n",
        "Positive F1: 0.6772591857\n",
        "Negative F1: 0.614472123369\n",
        "Weighted F1: 0.658592761764\n",
        "Depth:"
       ]
      },
      {
       "output_type": "stream",
       "stream": "stderr",
       "text": [
        "WARNING:root:Loop 'Israeli music'<->'Middle Eastern music'\n"
       ]
      },
      {
       "output_type": "stream",
       "stream": "stderr",
       "text": [
        "WARNING:root:Loop 'Distributed data storage'<->'Distributed data storage systems'\n"
       ]
      },
      {
       "output_type": "stream",
       "stream": "stderr",
       "text": [
        "WARNING:root:Loop 'Cloud storage'<->'File hosting'\n"
       ]
      },
      {
       "output_type": "stream",
       "stream": "stderr",
       "text": [
        "WARNING:root:Loop 'Cash-Carter family'<->'Johnny Cash'\n"
       ]
      },
      {
       "output_type": "stream",
       "stream": "stderr",
       "text": [
        "WARNING:root:Loop 'Lennon family'<->'John Lennon'\n"
       ]
      },
      {
       "output_type": "stream",
       "stream": "stderr",
       "text": [
        "WARNING:root:Loop 'Lennon family'<->'Yoko Ono'\n"
       ]
      },
      {
       "output_type": "stream",
       "stream": "stderr",
       "text": [
        "WARNING:root:Loop 'McCartney family'<->'Linda McCartney'\n"
       ]
      },
      {
       "output_type": "stream",
       "stream": "stderr",
       "text": [
        "WARNING:root:Loop 'Igbo language'<->'Igboid languages'\n"
       ]
      },
      {
       "output_type": "stream",
       "stream": "stderr",
       "text": [
        "WARNING:root:Loop 'Sound'<->'Hearing'\n"
       ]
      },
      {
       "output_type": "stream",
       "stream": "stderr",
       "text": [
        "WARNING:root:Loop 'Sound'<->'Music'\n"
       ]
      },
      {
       "output_type": "stream",
       "stream": "stderr",
       "text": [
        "WARNING:root:Loop 'Victoria Beckham'<->'David Beckham'\n"
       ]
      },
      {
       "output_type": "stream",
       "stream": "stdout",
       "text": [
        " 5\n",
        "Accuracy: 0.810810810811\n",
        "Positive F1: 0.854288093256\n",
        "Negative F1: 0.730354391371\n",
        "Weighted F1: 0.817442938641\n",
        "Depth:"
       ]
      },
      {
       "output_type": "stream",
       "stream": "stderr",
       "text": [
        "WARNING:root:Loop 'Israeli music'<->'Middle Eastern music'\n"
       ]
      },
      {
       "output_type": "stream",
       "stream": "stderr",
       "text": [
        "WARNING:root:Loop 'Distributed data storage'<->'Distributed data storage systems'\n"
       ]
      },
      {
       "output_type": "stream",
       "stream": "stderr",
       "text": [
        "WARNING:root:Loop 'Cloud storage'<->'File hosting'\n"
       ]
      },
      {
       "output_type": "stream",
       "stream": "stderr",
       "text": [
        "WARNING:root:Loop 'Cash-Carter family'<->'Johnny Cash'\n"
       ]
      },
      {
       "output_type": "stream",
       "stream": "stderr",
       "text": [
        "WARNING:root:Loop 'Lennon family'<->'John Lennon'\n"
       ]
      },
      {
       "output_type": "stream",
       "stream": "stderr",
       "text": [
        "WARNING:root:Loop 'Lennon family'<->'Yoko Ono'\n"
       ]
      },
      {
       "output_type": "stream",
       "stream": "stderr",
       "text": [
        "WARNING:root:Loop 'McCartney family'<->'Linda McCartney'\n"
       ]
      },
      {
       "output_type": "stream",
       "stream": "stderr",
       "text": [
        "WARNING:root:Loop 'Igbo language'<->'Igboid languages'\n"
       ]
      },
      {
       "output_type": "stream",
       "stream": "stderr",
       "text": [
        "WARNING:root:Loop 'Sound'<->'Hearing'\n"
       ]
      },
      {
       "output_type": "stream",
       "stream": "stderr",
       "text": [
        "WARNING:root:Loop 'Sound'<->'Music'\n"
       ]
      },
      {
       "output_type": "stream",
       "stream": "stderr",
       "text": [
        "WARNING:root:Loop 'Victoria Beckham'<->'David Beckham'\n"
       ]
      },
      {
       "output_type": "stream",
       "stream": "stderr",
       "text": [
        "WARNING:root:Loop 'Chinese language by country'<->'Chinese languages in Singapore'\n"
       ]
      },
      {
       "output_type": "stream",
       "stream": "stderr",
       "text": [
        "WARNING:root:Loop 'Magazines'<->'Magazine publishing'\n"
       ]
      },
      {
       "output_type": "stream",
       "stream": "stderr",
       "text": [
        "WARNING:root:Loop 'Basketball venues in the United States'<->'American Basketball Association (2000\u2013present) venues'\n"
       ]
      },
      {
       "output_type": "stream",
       "stream": "stderr",
       "text": [
        "WARNING:root:Loop 'Islamic Republic of Iran Broadcasting'<->'Television stations in Iran'\n"
       ]
      },
      {
       "output_type": "stream",
       "stream": "stdout",
       "text": [
        " 6\n",
        "Accuracy: 0.885405405405\n",
        "Positive F1: 0.921013412817\n",
        "Negative F1: 0.791338582677\n",
        "Weighted F1: 0.882461436289\n",
        "Depth:"
       ]
      },
      {
       "output_type": "stream",
       "stream": "stderr",
       "text": [
        "WARNING:root:Loop 'Israeli music'<->'Middle Eastern music'\n"
       ]
      },
      {
       "output_type": "stream",
       "stream": "stderr",
       "text": [
        "WARNING:root:Loop 'Distributed data storage'<->'Distributed data storage systems'\n"
       ]
      },
      {
       "output_type": "stream",
       "stream": "stderr",
       "text": [
        "WARNING:root:Loop 'Cloud storage'<->'File hosting'\n"
       ]
      },
      {
       "output_type": "stream",
       "stream": "stderr",
       "text": [
        "WARNING:root:Loop 'Cash-Carter family'<->'Johnny Cash'\n"
       ]
      },
      {
       "output_type": "stream",
       "stream": "stderr",
       "text": [
        "WARNING:root:Loop 'Lennon family'<->'John Lennon'\n"
       ]
      },
      {
       "output_type": "stream",
       "stream": "stderr",
       "text": [
        "WARNING:root:Loop 'Lennon family'<->'Yoko Ono'\n"
       ]
      },
      {
       "output_type": "stream",
       "stream": "stderr",
       "text": [
        "WARNING:root:Loop 'McCartney family'<->'Linda McCartney'\n"
       ]
      },
      {
       "output_type": "stream",
       "stream": "stderr",
       "text": [
        "WARNING:root:Loop 'Igbo language'<->'Igboid languages'\n"
       ]
      },
      {
       "output_type": "stream",
       "stream": "stderr",
       "text": [
        "WARNING:root:Loop 'Sound'<->'Hearing'\n"
       ]
      },
      {
       "output_type": "stream",
       "stream": "stderr",
       "text": [
        "WARNING:root:Loop 'Sound'<->'Music'\n"
       ]
      },
      {
       "output_type": "stream",
       "stream": "stderr",
       "text": [
        "WARNING:root:Loop 'Victoria Beckham'<->'David Beckham'\n"
       ]
      },
      {
       "output_type": "stream",
       "stream": "stderr",
       "text": [
        "WARNING:root:Loop 'Chinese language by country'<->'Chinese languages in Singapore'\n"
       ]
      },
      {
       "output_type": "stream",
       "stream": "stderr",
       "text": [
        "WARNING:root:Loop 'Magazines'<->'Magazine publishing'\n"
       ]
      },
      {
       "output_type": "stream",
       "stream": "stderr",
       "text": [
        "WARNING:root:Loop 'Basketball venues in the United States'<->'American Basketball Association (2000\u2013present) venues'\n"
       ]
      },
      {
       "output_type": "stream",
       "stream": "stderr",
       "text": [
        "WARNING:root:Loop 'Islamic Republic of Iran Broadcasting'<->'Television stations in Iran'\n"
       ]
      },
      {
       "output_type": "stream",
       "stream": "stderr",
       "text": [
        "WARNING:root:Loop 'Punjab'<->'Punjabi culture'\n"
       ]
      },
      {
       "output_type": "stream",
       "stream": "stderr",
       "text": [
        "WARNING:root:Loop 'Punjab, Pakistan'<->'Punjabi culture'\n"
       ]
      },
      {
       "output_type": "stream",
       "stream": "stderr",
       "text": [
        "WARNING:root:Loop 'Rosh Hashanah'<->'Ten Days of Repentance'\n"
       ]
      },
      {
       "output_type": "stream",
       "stream": "stderr",
       "text": [
        "WARNING:root:Loop 'Yom Kippur'<->'Ten Days of Repentance'\n"
       ]
      },
      {
       "output_type": "stream",
       "stream": "stderr",
       "text": [
        "WARNING:root:Loop 'Computer vision'<->'Image processing'\n"
       ]
      },
      {
       "output_type": "stream",
       "stream": "stdout",
       "text": [
        " 7\n",
        "Accuracy: 0.84\n",
        "Positive F1: 0.896503496503\n",
        "Negative F1: 0.647619047619\n",
        "Weighted F1: 0.822510822511\n",
        "Depth:"
       ]
      },
      {
       "output_type": "stream",
       "stream": "stderr",
       "text": [
        "WARNING:root:Loop 'Israeli music'<->'Middle Eastern music'\n"
       ]
      },
      {
       "output_type": "stream",
       "stream": "stderr",
       "text": [
        "WARNING:root:Loop 'Distributed data storage'<->'Distributed data storage systems'\n"
       ]
      },
      {
       "output_type": "stream",
       "stream": "stderr",
       "text": [
        "WARNING:root:Loop 'Cloud storage'<->'File hosting'\n"
       ]
      },
      {
       "output_type": "stream",
       "stream": "stderr",
       "text": [
        "WARNING:root:Loop 'Cash-Carter family'<->'Johnny Cash'\n"
       ]
      },
      {
       "output_type": "stream",
       "stream": "stderr",
       "text": [
        "WARNING:root:Loop 'Lennon family'<->'John Lennon'\n"
       ]
      },
      {
       "output_type": "stream",
       "stream": "stderr",
       "text": [
        "WARNING:root:Loop 'Lennon family'<->'Yoko Ono'\n"
       ]
      },
      {
       "output_type": "stream",
       "stream": "stderr",
       "text": [
        "WARNING:root:Loop 'McCartney family'<->'Linda McCartney'\n"
       ]
      },
      {
       "output_type": "stream",
       "stream": "stderr",
       "text": [
        "WARNING:root:Loop 'Igbo language'<->'Igboid languages'\n"
       ]
      },
      {
       "output_type": "stream",
       "stream": "stderr",
       "text": [
        "WARNING:root:Loop 'Sound'<->'Hearing'\n"
       ]
      },
      {
       "output_type": "stream",
       "stream": "stderr",
       "text": [
        "WARNING:root:Loop 'Sound'<->'Music'\n"
       ]
      },
      {
       "output_type": "stream",
       "stream": "stderr",
       "text": [
        "WARNING:root:Loop 'Victoria Beckham'<->'David Beckham'\n"
       ]
      },
      {
       "output_type": "stream",
       "stream": "stderr",
       "text": [
        "WARNING:root:Loop 'Chinese language by country'<->'Chinese languages in Singapore'\n"
       ]
      },
      {
       "output_type": "stream",
       "stream": "stderr",
       "text": [
        "WARNING:root:Loop 'Magazines'<->'Magazine publishing'\n"
       ]
      },
      {
       "output_type": "stream",
       "stream": "stderr",
       "text": [
        "WARNING:root:Loop 'Basketball venues in the United States'<->'American Basketball Association (2000\u2013present) venues'\n"
       ]
      },
      {
       "output_type": "stream",
       "stream": "stderr",
       "text": [
        "WARNING:root:Loop 'Islamic Republic of Iran Broadcasting'<->'Television stations in Iran'\n"
       ]
      },
      {
       "output_type": "stream",
       "stream": "stderr",
       "text": [
        "WARNING:root:Loop 'Punjab'<->'Punjabi culture'\n"
       ]
      },
      {
       "output_type": "stream",
       "stream": "stderr",
       "text": [
        "WARNING:root:Loop 'Punjab, Pakistan'<->'Punjabi culture'\n"
       ]
      },
      {
       "output_type": "stream",
       "stream": "stderr",
       "text": [
        "WARNING:root:Loop 'Rosh Hashanah'<->'Ten Days of Repentance'\n"
       ]
      },
      {
       "output_type": "stream",
       "stream": "stderr",
       "text": [
        "WARNING:root:Loop 'Yom Kippur'<->'Ten Days of Repentance'\n"
       ]
      },
      {
       "output_type": "stream",
       "stream": "stderr",
       "text": [
        "WARNING:root:Loop 'Computer vision'<->'Image processing'\n"
       ]
      },
      {
       "output_type": "stream",
       "stream": "stderr",
       "text": [
        "WARNING:root:Loop 'Chinese society'<->'Chinese culture'\n"
       ]
      },
      {
       "output_type": "stream",
       "stream": "stderr",
       "text": [
        "WARNING:root:Loop 'Singaporean society'<->'Languages of Singapore'\n"
       ]
      },
      {
       "output_type": "stream",
       "stream": "stderr",
       "text": [
        "WARNING:root:Loop 'Singaporean society'<->'Singaporean culture'\n"
       ]
      },
      {
       "output_type": "stream",
       "stream": "stderr",
       "text": [
        "WARNING:root:Loop 'Punjab, India'<->'Punjabi culture'\n"
       ]
      },
      {
       "output_type": "stream",
       "stream": "stderr",
       "text": [
        "WARNING:root:Loop 'Maccabees'<->'Cultural depictions of the Maccabees'\n"
       ]
      },
      {
       "output_type": "stream",
       "stream": "stderr",
       "text": [
        "WARNING:root:Loop 'Optical materials'<->'Transparent materials'\n"
       ]
      },
      {
       "output_type": "stream",
       "stream": "stdout",
       "text": [
        " 8\n",
        "Accuracy: 0.76972972973\n",
        "Positive F1: 0.859033752482\n",
        "Negative F1: 0.371681415929\n",
        "Weighted F1: 0.714145219993\n",
        "Depth:"
       ]
      },
      {
       "output_type": "stream",
       "stream": "stdout",
       "text": [
        " 9\n",
        "Accuracy: 0.702702702703\n",
        "Positive F1: 0.825396825397\n",
        "Negative F1: 0.0\n",
        "Weighted F1: 0.580008580009\n"
       ]
      }
     ],
     "prompt_number": 66
    },
    {
     "cell_type": "code",
     "collapsed": false,
     "input": [
      "from sklearn import cross_validation\n",
      "\n",
      "def default_classifier_evaluation_params():\n",
      "    categories_and_classes = list(read_ground_truth_topic_labels().items())\n",
      "    np.random.shuffle(categories_and_classes)\n",
      "    categories, classes = list(zip(*categories_and_classes))\n",
      "    classes = np.array(classes, dtype=bool)\n",
      "    categories = np.array(categories)\n",
      "    inner_cross_validation = None  # No inner cross-validation.\n",
      "    outer_cross_validation = topics.default_cross_validation\n",
      "    def model_selection_measure(*args, **params):\n",
      "        return util.weighted_f1(*args, **params)\n",
      "    evaluation_measures = [util.accuracy_score, util.f1_pos_class, util.f1_neg_class, util.weighted_f1]\n",
      "    return categories, classes, inner_cross_validation,\\\n",
      "           outer_cross_validation, model_selection_measure,\\\n",
      "           evaluation_measures\n",
      "\n",
      "def evaluate_learning_based_classifier_cross_validated(training_size=None):\n",
      "    np.random.seed(0)\n",
      "    categories, classes, inner_cross_validation,\\\n",
      "        outer_cross_validation, model_selection_measure,\\\n",
      "        evaluation_measures = default_classifier_evaluation_params()\n",
      "    def smaller_cross_validation(outputs):\n",
      "        return cross_validation.StratifiedKFold(outputs, n_folds=2)\n",
      "    inner_cross_validation = lambda outputs: cross_validation.StratifiedKFold(outputs, n_folds=3)\n",
      "    param_grid = topics.new_training_params_cv()['param_grid']\n",
      "    param_grid[0]['C'] = [0.25, 0.5, 1, 3, 7, 15]\n",
      "    full_selection = precompute_full_selection()\n",
      "    features = topics.default_features.copy()\n",
      "    classifier_params = topics.default_classifier_params.copy()\n",
      "    classifier_params['C'] = 0.25\n",
      "    tuned_clf = topics.CategorySelectionClassifier(\n",
      "        full_selection=full_selection,\n",
      "        features=features,\n",
      "        classifier_fn=topics.default_classifier,\n",
      "        max_depth=full_selection._max_depth,\n",
      "        instance_weight=lambda x: 1,\n",
      "        **classifier_params)\n",
      "    print(classes.dtype)\n",
      "    return topics.train_evaluate_topic_classifier_cv(\n",
      "        tuned_clf, categories, classes,\n",
      "        inner_cross_validation,\n",
      "        outer_cross_validation,\n",
      "#         smaller_cross_validation,                                              \n",
      "        model_selection_measure,\n",
      "        evaluation_measures,\n",
      "        param_grid=param_grid,\n",
      "        learning=True,\n",
      "        training_size=training_size)"
     ],
     "language": "python",
     "metadata": {},
     "outputs": [],
     "prompt_number": 111
    },
    {
     "cell_type": "code",
     "collapsed": false,
     "input": [
      "# metrics = evaluate_learning_based_classifier_cross_validated()"
     ],
     "language": "python",
     "metadata": {},
     "outputs": [
      {
       "output_type": "stream",
       "stream": "stderr",
       "text": [
        "WARNING:root:Loop 'Musicology'<->'Philosophy of music'\n"
       ]
      },
      {
       "output_type": "stream",
       "stream": "stderr",
       "text": [
        "WARNING:root:Loop 'Philosophy of music'<->'Musicology'\n"
       ]
      },
      {
       "output_type": "stream",
       "stream": "stderr",
       "text": [
        "WARNING:root:Loop 'Contemporary classical musicians'<->'Contemporary classical composers'\n"
       ]
      },
      {
       "output_type": "stream",
       "stream": "stderr",
       "text": [
        "WARNING:root:Loop 'Israeli music'<->'Middle Eastern music'\n"
       ]
      },
      {
       "output_type": "stream",
       "stream": "stderr",
       "text": [
        "WARNING:root:Loop 'Freak folk'<->'New Weird America'\n"
       ]
      },
      {
       "output_type": "stream",
       "stream": "stderr",
       "text": [
        "WARNING:root:Loop 'Distributed data storage'<->'Distributed data storage systems'\n"
       ]
      },
      {
       "output_type": "stream",
       "stream": "stderr",
       "text": [
        "WARNING:root:Loop 'Distributed data storage'<->'File sharing networks'\n"
       ]
      },
      {
       "output_type": "stream",
       "stream": "stderr",
       "text": [
        "WARNING:root:Loop 'File sharing networks'<->'Distributed data storage'\n"
       ]
      },
      {
       "output_type": "stream",
       "stream": "stderr",
       "text": [
        "WARNING:root:Loop 'Electronic musical instruments'<->'Quintephones'\n"
       ]
      },
      {
       "output_type": "stream",
       "stream": "stderr",
       "text": [
        "WARNING:root:Loop 'Contemporary classical composers'<->'Contemporary classical musicians'\n"
       ]
      },
      {
       "output_type": "stream",
       "stream": "stderr",
       "text": [
        "WARNING:root:Loop 'Band-centric video games'<->'Musician video games'\n"
       ]
      },
      {
       "output_type": "stream",
       "stream": "stderr",
       "text": [
        "WARNING:root:Loop 'Musician video games'<->'Band-centric video games'\n"
       ]
      },
      {
       "output_type": "stream",
       "stream": "stderr",
       "text": [
        "WARNING:root:Loop 'New Weird America'<->'Freak folk'\n"
       ]
      },
      {
       "output_type": "stream",
       "stream": "stderr",
       "text": [
        "WARNING:root:Loop 'Cloud storage'<->'File hosting'\n"
       ]
      },
      {
       "output_type": "stream",
       "stream": "stderr",
       "text": [
        "WARNING:root:Loop 'Cash-Carter family'<->'Johnny Cash'\n"
       ]
      },
      {
       "output_type": "stream",
       "stream": "stderr",
       "text": [
        "WARNING:root:Loop 'Lennon family'<->'John Lennon'\n"
       ]
      },
      {
       "output_type": "stream",
       "stream": "stderr",
       "text": [
        "WARNING:root:Loop 'Lennon family'<->'Yoko Ono'\n"
       ]
      },
      {
       "output_type": "stream",
       "stream": "stderr",
       "text": [
        "WARNING:root:Loop 'McCartney family'<->'Linda McCartney'\n"
       ]
      },
      {
       "output_type": "stream",
       "stream": "stderr",
       "text": [
        "WARNING:root:Loop 'Quintephones'<->'Electronic musical instruments'\n"
       ]
      },
      {
       "output_type": "stream",
       "stream": "stderr",
       "text": [
        "WARNING:root:Loop 'Igbo language'<->'Igboid languages'\n"
       ]
      },
      {
       "output_type": "stream",
       "stream": "stderr",
       "text": [
        "WARNING:root:Loop 'Sound'<->'Hearing'\n"
       ]
      },
      {
       "output_type": "stream",
       "stream": "stderr",
       "text": [
        "WARNING:root:Loop 'Sound'<->'Music'\n"
       ]
      },
      {
       "output_type": "stream",
       "stream": "stderr",
       "text": [
        "WARNING:root:Loop 'Marathi music'<->'Marathi film music composers'\n"
       ]
      },
      {
       "output_type": "stream",
       "stream": "stderr",
       "text": [
        "WARNING:root:Loop 'Middle Eastern music'<->'Israeli music'\n"
       ]
      },
      {
       "output_type": "stream",
       "stream": "stderr",
       "text": [
        "WARNING:root:Loop 'Central American music'<->'Latin American music'\n"
       ]
      },
      {
       "output_type": "stream",
       "stream": "stderr",
       "text": [
        "WARNING:root:Loop 'Latin American music'<->'Central American music'\n"
       ]
      },
      {
       "output_type": "stream",
       "stream": "stderr",
       "text": [
        "WARNING:root:Loop 'Marathi film music composers'<->'Marathi music'\n"
       ]
      },
      {
       "output_type": "stream",
       "stream": "stderr",
       "text": [
        "WARNING:root:Loop 'Johnny Cash'<->'Cash-Carter family'\n"
       ]
      },
      {
       "output_type": "stream",
       "stream": "stderr",
       "text": [
        "WARNING:root:Loop 'Linda McCartney'<->'McCartney family'\n"
       ]
      },
      {
       "output_type": "stream",
       "stream": "stderr",
       "text": [
        "WARNING:root:Loop 'Wynonna Judd'<->'The Judds'\n"
       ]
      },
      {
       "output_type": "stream",
       "stream": "stderr",
       "text": [
        "WARNING:root:Loop 'Yoko Ono'<->'Lennon family'\n"
       ]
      },
      {
       "output_type": "stream",
       "stream": "stderr",
       "text": [
        "WARNING:root:Loop 'John Lennon'<->'Lennon family'\n"
       ]
      },
      {
       "output_type": "stream",
       "stream": "stderr",
       "text": [
        "WARNING:root:Loop 'Victoria Beckham'<->'David Beckham'\n"
       ]
      },
      {
       "output_type": "stream",
       "stream": "stderr",
       "text": [
        "WARNING:root:Loop 'Latvian classical musicians by instrument'<->'Latvian classical organists'\n"
       ]
      },
      {
       "output_type": "stream",
       "stream": "stderr",
       "text": [
        "WARNING:root:Loop 'Chinese language by country'<->'Chinese languages in Singapore'\n"
       ]
      },
      {
       "output_type": "stream",
       "stream": "stderr",
       "text": [
        "WARNING:root:Loop 'Magazines'<->'Magazine publishing'\n"
       ]
      },
      {
       "output_type": "stream",
       "stream": "stderr",
       "text": [
        "WARNING:root:Loop 'Australian electronic music groups'<->'Australian electronic dance music groups'\n"
       ]
      },
      {
       "output_type": "stream",
       "stream": "stderr",
       "text": [
        "WARNING:root:Loop 'Basketball venues in the United States'<->'American Basketball Association (2000\u2013present) venues'\n"
       ]
      },
      {
       "output_type": "stream",
       "stream": "stderr",
       "text": [
        "WARNING:root:Loop 'Islamic Republic of Iran Broadcasting'<->'Television stations in Iran'\n"
       ]
      },
      {
       "output_type": "stream",
       "stream": "stderr",
       "text": [
        "WARNING:root:Loop 'The Judds'<->'Wynonna Judd'\n"
       ]
      },
      {
       "output_type": "stream",
       "stream": "stderr",
       "text": [
        "WARNING:root:Loop 'Latvian classical organists'<->'Latvian classical musicians'\n"
       ]
      },
      {
       "output_type": "stream",
       "stream": "stderr",
       "text": [
        "WARNING:root:Loop 'Latvian classical organists'<->'Latvian classical musicians by instrument'\n"
       ]
      },
      {
       "output_type": "stream",
       "stream": "stderr",
       "text": [
        "WARNING:root:Loop 'Igboid languages'<->'Igbo language'\n"
       ]
      },
      {
       "output_type": "stream",
       "stream": "stderr",
       "text": [
        "WARNING:root:Loop 'Australian electronic dance music groups'<->'Australian electronic music groups'\n"
       ]
      },
      {
       "output_type": "stream",
       "stream": "stdout",
       "text": [
        "bool\n",
        "Fold 1\n",
        "Fold"
       ]
      },
      {
       "output_type": "stream",
       "stream": "stderr",
       "text": [
        "WARNING:root:Loop 'Musicology'<->'Philosophy of music'\n"
       ]
      },
      {
       "output_type": "stream",
       "stream": "stderr",
       "text": [
        "WARNING:root:Loop 'Philosophy of music'<->'Musicology'\n"
       ]
      },
      {
       "output_type": "stream",
       "stream": "stderr",
       "text": [
        "WARNING:root:Loop 'Contemporary classical musicians'<->'Contemporary classical composers'\n"
       ]
      },
      {
       "output_type": "stream",
       "stream": "stderr",
       "text": [
        "WARNING:root:Loop 'Israeli music'<->'Middle Eastern music'\n"
       ]
      },
      {
       "output_type": "stream",
       "stream": "stderr",
       "text": [
        "WARNING:root:Loop 'Freak folk'<->'New Weird America'\n"
       ]
      },
      {
       "output_type": "stream",
       "stream": "stderr",
       "text": [
        "WARNING:root:Loop 'Distributed data storage'<->'Distributed data storage systems'\n"
       ]
      },
      {
       "output_type": "stream",
       "stream": "stderr",
       "text": [
        "WARNING:root:Loop 'Distributed data storage'<->'File sharing networks'\n"
       ]
      },
      {
       "output_type": "stream",
       "stream": "stderr",
       "text": [
        "WARNING:root:Loop 'File sharing networks'<->'Distributed data storage'\n"
       ]
      },
      {
       "output_type": "stream",
       "stream": "stderr",
       "text": [
        "WARNING:root:Loop 'Electronic musical instruments'<->'Quintephones'\n"
       ]
      },
      {
       "output_type": "stream",
       "stream": "stderr",
       "text": [
        "WARNING:root:Loop 'Contemporary classical composers'<->'Contemporary classical musicians'\n"
       ]
      },
      {
       "output_type": "stream",
       "stream": "stderr",
       "text": [
        "WARNING:root:Loop 'Band-centric video games'<->'Musician video games'\n"
       ]
      },
      {
       "output_type": "stream",
       "stream": "stderr",
       "text": [
        "WARNING:root:Loop 'Musician video games'<->'Band-centric video games'\n"
       ]
      },
      {
       "output_type": "stream",
       "stream": "stderr",
       "text": [
        "WARNING:root:Loop 'New Weird America'<->'Freak folk'\n"
       ]
      },
      {
       "output_type": "stream",
       "stream": "stderr",
       "text": [
        "WARNING:root:Loop 'Cloud storage'<->'File hosting'\n"
       ]
      },
      {
       "output_type": "stream",
       "stream": "stderr",
       "text": [
        "WARNING:root:Loop 'Cash-Carter family'<->'Johnny Cash'\n"
       ]
      },
      {
       "output_type": "stream",
       "stream": "stderr",
       "text": [
        "WARNING:root:Loop 'Lennon family'<->'John Lennon'\n"
       ]
      },
      {
       "output_type": "stream",
       "stream": "stderr",
       "text": [
        "WARNING:root:Loop 'Lennon family'<->'Yoko Ono'\n"
       ]
      },
      {
       "output_type": "stream",
       "stream": "stderr",
       "text": [
        "WARNING:root:Loop 'McCartney family'<->'Linda McCartney'\n"
       ]
      },
      {
       "output_type": "stream",
       "stream": "stderr",
       "text": [
        "WARNING:root:Loop 'Quintephones'<->'Electronic musical instruments'\n"
       ]
      },
      {
       "output_type": "stream",
       "stream": "stderr",
       "text": [
        "WARNING:root:Loop 'Igbo language'<->'Igboid languages'\n"
       ]
      },
      {
       "output_type": "stream",
       "stream": "stderr",
       "text": [
        "WARNING:root:Loop 'Sound'<->'Hearing'\n"
       ]
      },
      {
       "output_type": "stream",
       "stream": "stderr",
       "text": [
        "WARNING:root:Loop 'Sound'<->'Music'\n"
       ]
      },
      {
       "output_type": "stream",
       "stream": "stderr",
       "text": [
        "WARNING:root:Loop 'Marathi music'<->'Marathi film music composers'\n"
       ]
      },
      {
       "output_type": "stream",
       "stream": "stderr",
       "text": [
        "WARNING:root:Loop 'Middle Eastern music'<->'Israeli music'\n"
       ]
      },
      {
       "output_type": "stream",
       "stream": "stderr",
       "text": [
        "WARNING:root:Loop 'Central American music'<->'Latin American music'\n"
       ]
      },
      {
       "output_type": "stream",
       "stream": "stderr",
       "text": [
        "WARNING:root:Loop 'Latin American music'<->'Central American music'\n"
       ]
      },
      {
       "output_type": "stream",
       "stream": "stderr",
       "text": [
        "WARNING:root:Loop 'Marathi film music composers'<->'Marathi music'\n"
       ]
      },
      {
       "output_type": "stream",
       "stream": "stderr",
       "text": [
        "WARNING:root:Loop 'Johnny Cash'<->'Cash-Carter family'\n"
       ]
      },
      {
       "output_type": "stream",
       "stream": "stderr",
       "text": [
        "WARNING:root:Loop 'Linda McCartney'<->'McCartney family'\n"
       ]
      },
      {
       "output_type": "stream",
       "stream": "stderr",
       "text": [
        "WARNING:root:Loop 'Wynonna Judd'<->'The Judds'\n"
       ]
      },
      {
       "output_type": "stream",
       "stream": "stderr",
       "text": [
        "WARNING:root:Loop 'Yoko Ono'<->'Lennon family'\n"
       ]
      },
      {
       "output_type": "stream",
       "stream": "stderr",
       "text": [
        "WARNING:root:Loop 'John Lennon'<->'Lennon family'\n"
       ]
      },
      {
       "output_type": "stream",
       "stream": "stderr",
       "text": [
        "WARNING:root:Loop 'Victoria Beckham'<->'David Beckham'\n"
       ]
      },
      {
       "output_type": "stream",
       "stream": "stderr",
       "text": [
        "WARNING:root:Loop 'Latvian classical musicians by instrument'<->'Latvian classical organists'\n"
       ]
      },
      {
       "output_type": "stream",
       "stream": "stderr",
       "text": [
        "WARNING:root:Loop 'Magazines'<->'Magazine publishing'\n"
       ]
      },
      {
       "output_type": "stream",
       "stream": "stderr",
       "text": [
        "WARNING:root:Loop 'Australian electronic music groups'<->'Australian electronic dance music groups'\n"
       ]
      },
      {
       "output_type": "stream",
       "stream": "stderr",
       "text": [
        "WARNING:root:Loop 'Basketball venues in the United States'<->'American Basketball Association (2000\u2013present) venues'\n"
       ]
      },
      {
       "output_type": "stream",
       "stream": "stderr",
       "text": [
        "WARNING:root:Loop 'The Judds'<->'Wynonna Judd'\n"
       ]
      },
      {
       "output_type": "stream",
       "stream": "stderr",
       "text": [
        "WARNING:root:Loop 'Latvian classical organists'<->'Latvian classical musicians'\n"
       ]
      },
      {
       "output_type": "stream",
       "stream": "stderr",
       "text": [
        "WARNING:root:Loop 'Latvian classical organists'<->'Latvian classical musicians by instrument'\n"
       ]
      },
      {
       "output_type": "stream",
       "stream": "stderr",
       "text": [
        "WARNING:root:Loop 'Igboid languages'<->'Igbo language'\n"
       ]
      },
      {
       "output_type": "stream",
       "stream": "stderr",
       "text": [
        "WARNING:root:Loop 'Australian electronic dance music groups'<->'Australian electronic music groups'\n"
       ]
      },
      {
       "output_type": "stream",
       "stream": "stdout",
       "text": [
        " 2\n"
       ]
      }
     ],
     "prompt_number": 112
    },
    {
     "cell_type": "code",
     "collapsed": false,
     "input": [
      "# metric_names = ['accuracy', 'f1_pos', 'f1_neg', 'weighted_f1']\n",
      "# for metric_name, metric in zip(metric_names, metrics):\n",
      "#     print(\"{:<11s} : {:.3f} +- {:.3f}\".format(metric_name, metric.mean(), metric.std()))"
     ],
     "language": "python",
     "metadata": {},
     "outputs": [
      {
       "output_type": "stream",
       "stream": "stdout",
       "text": [
        "accuracy    : 0.883 +- 0.004\n",
        "f1_pos      : 0.920 +- 0.004\n",
        "f1_neg      : 0.782 +- 0.003\n",
        "weighted_f1 : 0.879 +- 0.003\n"
       ]
      }
     ],
     "prompt_number": 115
    },
    {
     "cell_type": "code",
     "collapsed": false,
     "input": [
      "def evaluate_depth_based_classifier_cross_validated(depth):\n",
      "    np.random.seed(0)\n",
      "    categories, classes, inner_cross_validation,\\\n",
      "        outer_cross_validation, model_selection_measure,\\\n",
      "        evaluation_measures = default_classifier_evaluation_params()\n",
      "    def smaller_cross_validation(outputs):\n",
      "        return cross_validation.StratifiedKFold(outputs, n_folds=2)\n",
      "    tuned_clf = depth_based_selection(precompute_full_selection(), 6)\n",
      "    return topics.train_evaluate_topic_classifier_cv(\n",
      "        tuned_clf, categories, classes,\n",
      "        inner_cross_validation,\n",
      "#       smaller_cross_validation,\n",
      "        outer_cross_validation,\n",
      "        model_selection_measure,\n",
      "        evaluation_measures,\n",
      "        param_grid=None,\n",
      "        learning=False)\n",
      "\n",
      "# metrics = evaluate_depth_based_classifier_cross_validated(6)\n",
      "# metric_names = ['accuracy', 'f1_pos', 'f1_neg', 'weighted_f1']\n",
      "# for metric_name, metric in zip(metric_names, metrics):\n",
      "#     print(\"{:<11s} : {:.3f} +- {:.3f}\".format(metric_name, metric.mean(), metric.std()))"
     ],
     "language": "python",
     "metadata": {},
     "outputs": [
      {
       "output_type": "stream",
       "stream": "stderr",
       "text": [
        "WARNING:root:Loop 'Israeli music'<->'Middle Eastern music'\n"
       ]
      },
      {
       "output_type": "stream",
       "stream": "stderr",
       "text": [
        "WARNING:root:Loop 'Distributed data storage'<->'Distributed data storage systems'\n"
       ]
      },
      {
       "output_type": "stream",
       "stream": "stderr",
       "text": [
        "WARNING:root:Loop 'Cloud storage'<->'File hosting'\n"
       ]
      },
      {
       "output_type": "stream",
       "stream": "stderr",
       "text": [
        "WARNING:root:Loop 'Cash-Carter family'<->'Johnny Cash'\n"
       ]
      },
      {
       "output_type": "stream",
       "stream": "stderr",
       "text": [
        "WARNING:root:Loop 'Lennon family'<->'John Lennon'\n"
       ]
      },
      {
       "output_type": "stream",
       "stream": "stderr",
       "text": [
        "WARNING:root:Loop 'Lennon family'<->'Yoko Ono'\n"
       ]
      },
      {
       "output_type": "stream",
       "stream": "stderr",
       "text": [
        "WARNING:root:Loop 'McCartney family'<->'Linda McCartney'\n"
       ]
      },
      {
       "output_type": "stream",
       "stream": "stderr",
       "text": [
        "WARNING:root:Loop 'Igbo language'<->'Igboid languages'\n"
       ]
      },
      {
       "output_type": "stream",
       "stream": "stderr",
       "text": [
        "WARNING:root:Loop 'Sound'<->'Hearing'\n"
       ]
      },
      {
       "output_type": "stream",
       "stream": "stderr",
       "text": [
        "WARNING:root:Loop 'Sound'<->'Music'\n"
       ]
      },
      {
       "output_type": "stream",
       "stream": "stderr",
       "text": [
        "WARNING:root:Loop 'Victoria Beckham'<->'David Beckham'\n"
       ]
      },
      {
       "output_type": "stream",
       "stream": "stdout",
       "text": [
        "Fold 1\n",
        "Fold 2\n",
        "Fold 3\n",
        "Fold 4\n",
        "Fold 5\n",
        "Fold 6\n",
        "Fold 7\n",
        "Fold 8\n",
        "Fold 9\n",
        "Fold 10\n",
        "accuracy    : 0.885 +- 0.029\n",
        "f1_pos      : 0.921 +- 0.020\n",
        "f1_neg      : 0.790 +- 0.058\n",
        "weighted_f1 : 0.882 +- 0.031\n"
       ]
      }
     ],
     "prompt_number": 107
    },
    {
     "cell_type": "code",
     "collapsed": false,
     "input": [
      "def default_trained_topic_selection_classifier(precomputed_data={}):\n",
      "    if 'music_clf' not in precomputed_data:\n",
      "        full_selection = precompute_full_selection()\n",
      "        training_data = read_ground_truth_topic_labels()\n",
      "        training_params = topics.new_training_params()\n",
      "        training_params['classifier_params']['C'] = 0.5\n",
      "        training_params['instance_weight_fn'] = lambda x : 1\n",
      "        clf = topics.train_topic_classifier(\n",
      "                training_data.keys(), training_data.values(),\n",
      "                full_selection,\n",
      "                **training_params)\n",
      "        precomputed_data['music_clf'] = clf\n",
      "    return precomputed_data['music_clf']"
     ],
     "language": "python",
     "metadata": {},
     "outputs": [],
     "prompt_number": 1
    }
   ],
   "metadata": {}
  }
 ]
}