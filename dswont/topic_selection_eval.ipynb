{
 "metadata": {
  "name": "",
  "signature": "sha256:63f09cab4633c2586c0c12dfdeaf199faadcfdd6b753521f4f6cd32b91fca5f0"
 },
 "nbformat": 3,
 "nbformat_minor": 0,
 "worksheets": [
  {
   "cells": [
    {
     "cell_type": "code",
     "collapsed": false,
     "input": [
      "import os\n",
      "# This hack makes ipython notebook import the modules correctly.\n",
      "if (os.path.basename(os.getcwd()) == 'dswont'):\n",
      "    os.chdir(os.path.dirname(os.getcwd()))"
     ],
     "language": "python",
     "metadata": {},
     "outputs": [],
     "prompt_number": 1
    },
    {
     "cell_type": "code",
     "collapsed": false,
     "input": [
      "import logging\n",
      "logging.basicConfig(level=logging.ERROR)\n",
      "\n",
      "import collections\n",
      "from contextlib import closing\n",
      "import copy\n",
      "import itertools\n",
      "from matplotlib import pyplot as plt\n",
      "import nltk\n",
      "import numpy as np\n",
      "import pandas as pd\n",
      "import random\n",
      "import semidbm\n",
      "\n",
      "from sklearn.svm import SVC\n",
      "from sklearn.base import BaseEstimator\n",
      "from sklearn.grid_search import GridSearchCV\n",
      "from sklearn.linear_model.base import LinearModel\n",
      "from sklearn.linear_model.logistic import LogisticRegression\n",
      "from sklearn.tree import DecisionTreeClassifier\n",
      "from sklearn.neighbors import KNeighborsClassifier\n",
      "from sklearn import metrics\n",
      "from sklearn import cross_validation\n",
      "\n",
      "from dswont import dbpedia\n",
      "from dswont.dbpedia import uri_to_title, title_to_uri, to_title, to_category_uri\n",
      "from dswont import util\n",
      "from dswont import wikiapi\n",
      "\n",
      "from dswont.topics import CategorySelectionClassifier\n",
      "from dswont.topics import default_classifier\n",
      "from dswont.topics import default_classifier_params\n",
      "from dswont.topics import default_cross_validation\n",
      "from dswont.topics import default_data\n",
      "from dswont.topics import default_instance_weight_fn\n",
      "from dswont.topics import default_features\n",
      "from dswont.topics import depth_based_selection\n",
      "from dswont.topics import evaluate_classifier\n",
      "from dswont.topics import new_training_params\n",
      "from dswont.topics import precompute_full_selection\n",
      "from dswont.topics import read_ground_truth_data\n",
      "from dswont.topics import train_topic_classifier\n",
      "from dswont.topics import TrainingDataSelection"
     ],
     "language": "python",
     "metadata": {},
     "outputs": [],
     "prompt_number": 74
    },
    {
     "cell_type": "markdown",
     "metadata": {},
     "source": [
      "## Analyzing the performance of the classifiers"
     ]
    },
    {
     "cell_type": "markdown",
     "metadata": {},
     "source": [
      "### Building the DataFrame of topics"
     ]
    },
    {
     "cell_type": "code",
     "collapsed": false,
     "input": [
      "def make_topic_df(full_selection):\n",
      "    full_selection_df = pd.DataFrame({'topic':list(full_selection)})\n",
      "    full_selection_df['depth'] = full_selection_df['topic'].apply(full_selection.get_depth)\n",
      "    \n",
      "    ground_truth_topic_relevance_data = read_ground_truth_data().items()\n",
      "    ground_truth_topic_relevance_topics, ground_truth_topic_relevance_relevance =\\\n",
      "        zip(*read_ground_truth_data().items())\n",
      "    ground_truth_topic_relevance_df = pd.DataFrame(\n",
      "        {'topic':ground_truth_topic_relevance_topics,\n",
      "         'is_relevant':ground_truth_topic_relevance_relevance})\n",
      "    full_selection_df = full_selection_df.merge(ground_truth_topic_relevance_df, how='outer')\n",
      "    \n",
      "    full_selection_df['title'] = full_selection_df['topic'].apply(to_title)\n",
      "    full_selection_df =\\\n",
      "        full_selection_df.reindex(columns=['topic', 'title', 'depth', 'is_relevant'])\n",
      "    return full_selection_df"
     ],
     "language": "python",
     "metadata": {},
     "outputs": [],
     "prompt_number": 11
    },
    {
     "cell_type": "code",
     "collapsed": false,
     "input": [
      "def make_feature_df(selection, features, topics):\n",
      "    feature_maps = features.compute(selection, topics)\n",
      "    for topic, feature_map in zip(topics, feature_maps):\n",
      "        feature_map['topic'] = topic\n",
      "    return pd.DataFrame(feature_maps)"
     ],
     "language": "python",
     "metadata": {},
     "outputs": [],
     "prompt_number": 12
    },
    {
     "cell_type": "markdown",
     "metadata": {},
     "source": [
      "### Analyzing the classifier mistakes"
     ]
    },
    {
     "cell_type": "code",
     "collapsed": false,
     "input": [
      "def make_mistake_df(clf, feature_df):\n",
      "    df = feature_df.copy()\n",
      "    df['prediction'] = clf.predict(df['topic'])\n",
      "    mistake_indices = (df['prediction'] != df['is_relevant'])\n",
      "    return df[mistake_indices].dropna()"
     ],
     "language": "python",
     "metadata": {},
     "outputs": [],
     "prompt_number": 13
    },
    {
     "cell_type": "markdown",
     "metadata": {},
     "source": [
      "## Experiments"
     ]
    },
    {
     "cell_type": "markdown",
     "metadata": {},
     "source": [
      "### Pre-computed data for faster execution"
     ]
    },
    {
     "cell_type": "code",
     "collapsed": false,
     "input": [
      "def precompute_topic_data_frame(precomputed_data={}):\n",
      "    if not 'topic_df' in precomputed_data:\n",
      "        full_selection = precompute_full_selection()\n",
      "        topics = [topic for topic in full_selection][1:]\n",
      "        feature_df = make_feature_df(full_selection, default_features, topics)\n",
      "        topic_only_df = make_topic_df(full_selection)\n",
      "        topic_df = topic_only_df.merge(feature_df)\n",
      "        precomputed_data['full_selection'] = full_selection\n",
      "        precomputed_data['topics'] = topics\n",
      "        precomputed_data['topic_df'] = topic_df\n",
      "    return precomputed_data['topic_df']"
     ],
     "language": "python",
     "metadata": {},
     "outputs": [],
     "prompt_number": 14
    },
    {
     "cell_type": "markdown",
     "metadata": {},
     "source": [
      "### The distribution of relevant and irrelevant topics in the ground truth, depending on the depth"
     ]
    },
    {
     "cell_type": "code",
     "collapsed": false,
     "input": [
      "def stats_on_relevant_topics_in_ground_truth_vs_depth():\n",
      "    feature_columns = default_features.feature_names()\n",
      "    topic_df = precompute_topic_data_frame()\n",
      "    feature_and_prediction_columns = feature_columns + ['is_relevant']\n",
      "    stats_df = topic_df.dropna().groupby(['depth', 'is_relevant'])\\\n",
      "        ['title']\\\n",
      "        .count()\\\n",
      "        .unstack(['is_relevant'])\\\n",
      "        .fillna(0)\\\n",
      "        .sort(ascending=False)\n",
      "    stats_df = stats_df.rename(columns={False: 'irrelevant', True: 'relevant'})\n",
      "    stats_df.plot(kind='barh', stacked=True)\n",
      "    plt.xlabel('The number of topics')\n",
      "    stats_df['total'] = stats_df['relevant'] + stats_df['irrelevant']\n",
      "    stats_df['percent_relevant'] = (stats_df['relevant'] / stats_df['total']).round(3)\n",
      "    return stats_df.sort(ascending=True)\n",
      "\n",
      "stats_on_relevant_topics_in_ground_truth_vs_depth()"
     ],
     "language": "python",
     "metadata": {},
     "outputs": [
      {
       "html": [
        "<div style=\"max-height:1000px;max-width:1500px;overflow:auto;\">\n",
        "<table border=\"1\" class=\"dataframe\">\n",
        "  <thead>\n",
        "    <tr style=\"text-align: right;\">\n",
        "      <th>is_relevant</th>\n",
        "      <th>relevant</th>\n",
        "      <th>irrelevant</th>\n",
        "      <th>total</th>\n",
        "      <th>percent_relevant</th>\n",
        "    </tr>\n",
        "    <tr>\n",
        "      <th>depth</th>\n",
        "      <th></th>\n",
        "      <th></th>\n",
        "      <th></th>\n",
        "      <th></th>\n",
        "    </tr>\n",
        "  </thead>\n",
        "  <tbody>\n",
        "    <tr>\n",
        "      <th>1</th>\n",
        "      <td> 20</td>\n",
        "      <td>   0</td>\n",
        "      <td>  20</td>\n",
        "      <td> 1.000</td>\n",
        "    </tr>\n",
        "    <tr>\n",
        "      <th>2</th>\n",
        "      <td> 69</td>\n",
        "      <td>   1</td>\n",
        "      <td>  70</td>\n",
        "      <td> 0.986</td>\n",
        "    </tr>\n",
        "    <tr>\n",
        "      <th>3</th>\n",
        "      <td> 92</td>\n",
        "      <td>   5</td>\n",
        "      <td>  97</td>\n",
        "      <td> 0.948</td>\n",
        "    </tr>\n",
        "    <tr>\n",
        "      <th>4</th>\n",
        "      <td> 55</td>\n",
        "      <td>  25</td>\n",
        "      <td>  80</td>\n",
        "      <td> 0.688</td>\n",
        "    </tr>\n",
        "    <tr>\n",
        "      <th>5</th>\n",
        "      <td> 25</td>\n",
        "      <td>  85</td>\n",
        "      <td> 110</td>\n",
        "      <td> 0.227</td>\n",
        "    </tr>\n",
        "    <tr>\n",
        "      <th>6</th>\n",
        "      <td>  3</td>\n",
        "      <td> 163</td>\n",
        "      <td> 166</td>\n",
        "      <td> 0.018</td>\n",
        "    </tr>\n",
        "    <tr>\n",
        "      <th>7</th>\n",
        "      <td>  0</td>\n",
        "      <td>  99</td>\n",
        "      <td>  99</td>\n",
        "      <td> 0.000</td>\n",
        "    </tr>\n",
        "  </tbody>\n",
        "</table>\n",
        "</div>"
       ],
       "metadata": {},
       "output_type": "pyout",
       "prompt_number": 15,
       "text": [
        "is_relevant  relevant  irrelevant  total  percent_relevant\n",
        "depth                                                     \n",
        "1                  20           0     20             1.000\n",
        "2                  69           1     70             0.986\n",
        "3                  92           5     97             0.948\n",
        "4                  55          25     80             0.688\n",
        "5                  25          85    110             0.227\n",
        "6                   3         163    166             0.018\n",
        "7                   0          99     99             0.000"
       ]
      }
     ],
     "prompt_number": 15
    },
    {
     "cell_type": "markdown",
     "metadata": {},
     "source": [
      "### Training the topic selection classifier"
     ]
    },
    {
     "cell_type": "code",
     "collapsed": false,
     "input": [
      "def default_trained_topic_selection_classifier(precomputed_data={}):\n",
      "    if 'clf' not in precomputed_data:\n",
      "        full_selection = precompute_full_selection()\n",
      "        training_data = default_data()\n",
      "        training_params = new_training_params()\n",
      "        clf = train_topic_classifier(training_data.keys(), training_data.values(),\n",
      "                                     full_selection,\n",
      "                                     **training_params)\n",
      "        precomputed_data['clf'] = clf\n",
      "    return precomputed_data['clf']"
     ],
     "language": "python",
     "metadata": {},
     "outputs": [],
     "prompt_number": 16
    },
    {
     "cell_type": "code",
     "collapsed": false,
     "input": [
      "topics, classes = list(zip(*default_data().items()))\n",
      "clf = default_trained_topic_selection_classifier()\n",
      "print(evaluate_classifier(clf, topics, classes, util.accuracy_score))\n",
      "print(evaluate_classifier(clf, topics, classes, util.f1_pos_class))\n",
      "print(evaluate_classifier(clf, topics, classes, util.f1_neg_class))\n",
      "print(evaluate_classifier(clf, topics, classes, util.weighted_f1))"
     ],
     "language": "python",
     "metadata": {},
     "outputs": [
      {
       "output_type": "stream",
       "stream": "stdout",
       "text": [
        "0.920560747664\n",
        "0.902857142857\n",
        "0.932806324111\n",
        "0.920490772941\n"
       ]
      }
     ],
     "prompt_number": 25
    },
    {
     "cell_type": "markdown",
     "metadata": {},
     "source": [
      "### Examining the test performance of the learning-based classifier on the whole data"
     ]
    },
    {
     "cell_type": "code",
     "collapsed": false,
     "input": [
      "def report_test_performance_of_the_learning_based_classifier():\n",
      "    # Preparing the data.\n",
      "    topic_df = precompute_topic_data_frame().dropna()\n",
      "    topic_df['is_relevant'] = topic_df['is_relevant'].astype(bool)\n",
      "    topics_and_classes = topic_df[['topic', 'is_relevant']].values\n",
      "    topics = topics_and_classes[:,0]\n",
      "    classes = topics_and_classes[:,1]\n",
      "    # Preparing the params.\n",
      "    classifier_params = default_classifier_params.copy()\n",
      "    classifier_params['C'] = 3\n",
      "    classifier_params['class_weight'] = {1:2, 0:1}\n",
      "    classifier_params['kernel'] = 'linear'\n",
      "    classifier_params['kernel'] = 'rbf'\n",
      "    classifier_fn = default_classifier\n",
      "    full_selection = precompute_full_selection()\n",
      "    clf = train_topic_classifier(topics, classes,\n",
      "                                 full_selection, full_selection._max_depth, \n",
      "                                 default_features, classifier_fn,\n",
      "                                 (lambda x : 1),\n",
      "                                 classifier_params)\n",
      "    print(clf)\n",
      "    for measure in [util.accuracy_score, util.f1_pos_class, util.f1_neg_class, util.weighted_f1]:\n",
      "        print(evaluate_classifier(clf, topics, classes, measure))\n",
      "\n",
      "report_test_performance_of_the_learning_based_classifier()"
     ],
     "language": "python",
     "metadata": {},
     "outputs": [
      {
       "output_type": "stream",
       "stream": "stderr",
       "text": [
        "WARNING:root:Loop 'Computer data'<->'Data processing'\n"
       ]
      },
      {
       "output_type": "stream",
       "stream": "stderr",
       "text": [
        "WARNING:root:Loop 'Data'<->'Computer data'\n"
       ]
      },
      {
       "output_type": "stream",
       "stream": "stderr",
       "text": [
        "WARNING:root:Loop 'Internet search'<->'Real-time web'\n"
       ]
      },
      {
       "output_type": "stream",
       "stream": "stderr",
       "text": [
        "WARNING:root:Loop 'Web 2.0'<->'Web services'\n"
       ]
      },
      {
       "output_type": "stream",
       "stream": "stderr",
       "text": [
        "WARNING:root:Loop 'Collation'<->'Alphabets'\n"
       ]
      },
      {
       "output_type": "stream",
       "stream": "stderr",
       "text": [
        "WARNING:root:Loop 'Cloud storage'<->'File hosting'\n"
       ]
      },
      {
       "output_type": "stream",
       "stream": "stderr",
       "text": [
        "WARNING:root:Loop 'Data-centric programming languages'<->'Persistent programming languages'\n"
       ]
      },
      {
       "output_type": "stream",
       "stream": "stderr",
       "text": [
        "WARNING:root:Loop 'File hosting'<->'Cloud storage'\n"
       ]
      },
      {
       "output_type": "stream",
       "stream": "stderr",
       "text": [
        "WARNING:root:Loop 'Distributed data storage'<->'Distributed data storage systems'\n"
       ]
      },
      {
       "output_type": "stream",
       "stream": "stderr",
       "text": [
        "WARNING:root:Loop 'Distributed data storage'<->'File sharing networks'\n"
       ]
      },
      {
       "output_type": "stream",
       "stream": "stderr",
       "text": [
        "WARNING:root:Loop 'Web services'<->'Internet search'\n"
       ]
      },
      {
       "output_type": "stream",
       "stream": "stderr",
       "text": [
        "WARNING:root:Loop 'Computing in fiction'<->'Artificial intelligence in fiction'\n"
       ]
      },
      {
       "output_type": "stream",
       "stream": "stderr",
       "text": [
        "WARNING:root:Loop 'Social information processing'<->'Collective intelligence'\n"
       ]
      },
      {
       "output_type": "stream",
       "stream": "stderr",
       "text": [
        "WARNING:root:Loop 'Internet activism'<->'Internet-based activism'\n"
       ]
      },
      {
       "output_type": "stream",
       "stream": "stderr",
       "text": [
        "WARNING:root:Loop 'Music software'<->'Audio software'\n"
       ]
      },
      {
       "output_type": "stream",
       "stream": "stderr",
       "text": [
        "WARNING:root:Loop 'Persistent programming languages'<->'Data-centric programming languages'\n"
       ]
      },
      {
       "output_type": "stream",
       "stream": "stderr",
       "text": [
        "WARNING:root:Loop 'Video game clones'<->'Unauthorized video games'\n"
       ]
      },
      {
       "output_type": "stream",
       "stream": "stderr",
       "text": [
        "WARNING:root:Loop 'Collective intelligence'<->'Social information processing'\n"
       ]
      },
      {
       "output_type": "stream",
       "stream": "stderr",
       "text": [
        "WARNING:root:Loop 'Distributed data storage systems'<->'File sharing networks'\n"
       ]
      },
      {
       "output_type": "stream",
       "stream": "stderr",
       "text": [
        "WARNING:root:Loop 'Government services web portals in the United States'<->'Website article topics with .gov domain names'\n"
       ]
      },
      {
       "output_type": "stream",
       "stream": "stderr",
       "text": [
        "WARNING:root:Loop 'Website article topics with .gov domain names'<->'Government services web portals in the United States'\n"
       ]
      },
      {
       "output_type": "stream",
       "stream": "stderr",
       "text": [
        "WARNING:root:Loop 'Trees (set theory)'<->'Trees (graph theory)'\n"
       ]
      },
      {
       "output_type": "stream",
       "stream": "stderr",
       "text": [
        "WARNING:root:Loop 'File sharing networks'<->'Distributed data storage'\n"
       ]
      },
      {
       "output_type": "stream",
       "stream": "stderr",
       "text": [
        "WARNING:root:Loop 'Image processing'<->'Computer vision'\n"
       ]
      },
      {
       "output_type": "stream",
       "stream": "stderr",
       "text": [
        "WARNING:root:Loop 'Artificial intelligence in fiction'<->'Computing in fiction'\n"
       ]
      },
      {
       "output_type": "stream",
       "stream": "stderr",
       "text": [
        "WARNING:root:Loop 'Computer vision'<->'Image processing'\n"
       ]
      },
      {
       "output_type": "stream",
       "stream": "stderr",
       "text": [
        "WARNING:root:Loop 'Mobile phones'<->'Videotelephony'\n"
       ]
      },
      {
       "output_type": "stream",
       "stream": "stderr",
       "text": [
        "WARNING:root:Loop 'Real-time web'<->'Web 2.0'\n"
       ]
      },
      {
       "output_type": "stream",
       "stream": "stderr",
       "text": [
        "WARNING:root:Loop 'Videotelephony'<->'Mobile phones'\n"
       ]
      },
      {
       "output_type": "stream",
       "stream": "stderr",
       "text": [
        "WARNING:root:Loop 'Cyberpunk themes'<->'Cyberspace'\n"
       ]
      },
      {
       "output_type": "stream",
       "stream": "stderr",
       "text": [
        "WARNING:root:Loop 'Free healthcare software'<->'Free medical software'\n"
       ]
      },
      {
       "output_type": "stream",
       "stream": "stderr",
       "text": [
        "WARNING:root:Loop 'Audio software'<->'Music software'\n"
       ]
      },
      {
       "output_type": "stream",
       "stream": "stderr",
       "text": [
        "WARNING:root:Loop 'Free medical software'<->'Free healthcare software'\n"
       ]
      },
      {
       "output_type": "stream",
       "stream": "stderr",
       "text": [
        "WARNING:root:Loop 'Unauthorized video games'<->'Video game clones'\n"
       ]
      },
      {
       "output_type": "stream",
       "stream": "stderr",
       "text": [
        "WARNING:root:Loop 'Unreal Engine games'<->'Unreal'\n"
       ]
      },
      {
       "output_type": "stream",
       "stream": "stderr",
       "text": [
        "WARNING:root:Loop 'Musician video games'<->'Band-centric video games'\n"
       ]
      },
      {
       "output_type": "stream",
       "stream": "stdout",
       "text": [
        "CategorySelectionClassifier(C=3, class_weight={0: 1, 1: 2},\n",
        "              classifier_fn=<function default_classifier at 0x10ba5a840>,\n",
        "              classifier_params={'C': 3, 'class_weight': {0: 1, 1: 2}, 'kernel': 'rbf'},\n",
        "              features=<dswont.topics.TopicFeatures object at 0x10ba547b8>,\n",
        "              full_selection=<dswont.topics.CategorySelection object at 0x10bbea588>,\n",
        "              instance_weight=<function report_test_performance_of_the_learning_based_classifier.<locals>.<lambda> at 0x1125e1bf8>,\n",
        "              kernel='rbf', max_depth=7)\n",
        "0.915887850467\n",
        "0.900735294118\n",
        "0.927027027027\n",
        "0.916215473307\n"
       ]
      }
     ],
     "prompt_number": 30
    },
    {
     "cell_type": "markdown",
     "metadata": {},
     "source": [
      "### Reporting the cross-validated performance of the learning-based classifier"
     ]
    },
    {
     "cell_type": "code",
     "collapsed": false,
     "input": [
      "def default_classifier_evaluation_params():\n",
      "    topic_df = precompute_topic_data_frame().dropna()\n",
      "    topic_df['is_relevant'] = topic_df['is_relevant'].astype(bool)\n",
      "    topics_and_classes = topic_df[['topic', 'is_relevant']].values\n",
      "    topics = topics_and_classes[:,0]\n",
      "    classes = topics_and_classes[:,1]\n",
      "    np.random.shuffle(topics_and_classes)\n",
      "    inner_cross_validation = None  # No inner cross-validation.\n",
      "    outer_cross_validation = default_cross_validation\n",
      "#     outer_cross_validation = lambda outputs : cross_validation.KFold(len(outputs), n_folds=2)\n",
      "    def model_selection_measure(*args, **params):\n",
      "        return util.weighted_f1(*args, **params)\n",
      "    evaluation_measures = [util.accuracy_score, util.f1_pos_class, util.f1_neg_class, util.weighted_f1]\n",
      "    return topics, classes, inner_cross_validation,\\\n",
      "           outer_cross_validation, model_selection_measure,\\\n",
      "           evaluation_measures\n",
      "\n",
      "        \n",
      "def evaluate_learning_based_classifier_cross_validated(training_size=None):\n",
      "    np.random.seed(0)\n",
      "    topics, classes, inner_cross_validation,\\\n",
      "        outer_cross_validation, model_selection_measure,\\\n",
      "        evaluation_measures = default_classifier_evaluation_params()\n",
      "#     def smaller_cross_validation(outputs):\n",
      "#         return cross_validation.StratifiedKFold(outputs, n_folds=2)\n",
      "#     inner_cross_validation = lambda outputs: cross_validation.StratifiedKFold(outputs, n_folds=3)\n",
      "#     param_grid = new_training_params_cv()['param_grid']\n",
      "#     param_grid[0]['C'] = [0.25, 0.5, 1, 3, 7, 15]\n",
      "#     param_grid = None\n",
      "    full_selection = precompute_full_selection()\n",
      "    features = default_features.copy()\n",
      "    classifier_params = default_classifier_params.copy()\n",
      "    classifier_params['C'] = 1\n",
      "    classifier_params['kernel'] = 'linear'\n",
      "#     classifier_params['kernel'] = 'rbf'\n",
      "#     classifier_params['gamma'] = 1\n",
      "    tuned_clf = CategorySelectionClassifier(full_selection=full_selection,\n",
      "                                            features=features,\n",
      "                                            classifier_fn=default_classifier,\n",
      "                                            max_depth=full_selection._max_depth,\n",
      "                                            instance_weight=default_instance_weight_fn,\n",
      "                                            **classifier_params)\n",
      "    return train_evaluate_topic_classifier_cv(tuned_clf, topics, classes,\n",
      "                                              inner_cross_validation,\n",
      "                                              outer_cross_validation,\n",
      "#                                               smaller_cross_validation,                                              \n",
      "                                              model_selection_measure,\n",
      "                                              evaluation_measures,\n",
      "                                              param_grid=None,\n",
      "                                              learning=True,\n",
      "                                              training_size=training_size)\n",
      "\n",
      "\n",
      "def evaluate_depth_based_classifier_cross_validated(depth):\n",
      "    np.random.seed(0)\n",
      "    topics, classes, inner_cross_validation,\\\n",
      "        outer_cross_validation, model_selection_measure,\\\n",
      "        evaluation_measures = default_classifier_evaluation_params()\n",
      "    def smaller_cross_validation(outputs):\n",
      "        return cross_validation.StratifiedKFold(outputs, n_folds=2)\n",
      "    full_selection = precompute_full_selection()\n",
      "    tuned_clf = depth_based_selection(full_selection._root, depth)\n",
      "    return train_evaluate_topic_classifier_cv(tuned_clf, topics, classes,\n",
      "                                              inner_cross_validation,\n",
      "#                                               smaller_cross_validation,\n",
      "                                              outer_cross_validation,\n",
      "                                              model_selection_measure,\n",
      "                                              evaluation_measures,\n",
      "                                              param_grid=False,\n",
      "                                              learning=False)\n",
      "\n",
      "\n",
      "def plot_performance_depth_based_classifier():\n",
      "    metric_names = ['accuracy', 'f1_pos', 'f1_neg', 'weighted_f1']\n",
      "    performance = []\n",
      "    depth_range = range (1, 8)\n",
      "    for depth in depth_range:\n",
      "        performance.append([])\n",
      "        metrics = evaluate_depth_based_classifier_cross_validated(depth)\n",
      "        for metric_name, metric in zip(metric_names, metrics):\n",
      "            performance[-1].append((metric.mean(), metric.std()))\n",
      "    performance = np.array(performance).T\n",
      "    for idx in range(len(metric_names)):\n",
      "        plt.figure()\n",
      "        plt.errorbar(depth_range, performance[0,idx,:], yerr=performance[1,idx,:])\n",
      "        plt.xlabel('depth')\n",
      "        plt.ylabel(metric_names[idx])\n",
      "    return performance\n",
      "\n",
      "        \n",
      "def evaluate_majority_classifier_cross_validated(training_size=None):\n",
      "    np.random.seed(0)\n",
      "    topics, classes, inner_cross_validation,\\\n",
      "        outer_cross_validation, model_selection_measure,\\\n",
      "        evaluation_measures = default_classifier_evaluation_params()\n",
      "    tuned_clf = MajorityClassClassifier()\n",
      "    return train_evaluate_topic_classifier_cv(tuned_clf, topics, classes,\n",
      "                                              inner_cross_validation,\n",
      "                                              outer_cross_validation,\n",
      "                                              model_selection_measure,\n",
      "                                              evaluation_measures,\n",
      "                                              param_grid=None,\n",
      "                                              learning=True,\n",
      "                                              training_size=training_size)\n",
      "\n",
      "\n",
      "def evaluate_random_classifier_cross_validated(training_size=None):\n",
      "    np.random.seed(0)\n",
      "    topics, classes, inner_cross_validation,\\\n",
      "        outer_cross_validation, model_selection_measure,\\\n",
      "        evaluation_measures = default_classifier_evaluation_params()\n",
      "    tuned_clf = StratifiedRandomClassifier()\n",
      "    return train_evaluate_topic_classifier_cv(tuned_clf, topics, classes,\n",
      "                                              inner_cross_validation,\n",
      "                                              outer_cross_validation,\n",
      "                                              model_selection_measure,\n",
      "                                              evaluation_measures,\n",
      "                                              param_grid=None,\n",
      "                                              learning=True,\n",
      "                                              training_size=training_size)\n",
      "\n",
      "\n",
      "def produce_learning_curve(evaluation_fn_of_training_size, training_sizes):\n",
      "    result = []\n",
      "    for training_size in training_sizes:\n",
      "        result.append(evaluation_fn_of_training_size(training_size=training_size))\n",
      "    return np.array(result)\n",
      "    "
     ],
     "language": "python",
     "metadata": {},
     "outputs": [],
     "prompt_number": 51
    },
    {
     "cell_type": "code",
     "collapsed": false,
     "input": [
      "depth_based_perf = plot_performance_depth_based_classifier()"
     ],
     "language": "python",
     "metadata": {},
     "outputs": [
      {
       "output_type": "stream",
       "stream": "stderr",
       "text": [
        "WARNING:root:Loop 'Computer data'<->'Data processing'\n"
       ]
      },
      {
       "output_type": "stream",
       "stream": "stdout",
       "text": [
        "Fold 1\n",
        "Fold 2\n",
        "Fold 3\n",
        "Fold 4\n",
        "Fold 5\n",
        "Fold 1"
       ]
      },
      {
       "output_type": "stream",
       "stream": "stderr",
       "text": [
        "WARNING:root:Loop 'Computer data'<->'Data processing'\n"
       ]
      },
      {
       "output_type": "stream",
       "stream": "stderr",
       "text": [
        "WARNING:root:Loop 'Internet search'<->'Real-time web'\n"
       ]
      },
      {
       "output_type": "stream",
       "stream": "stdout",
       "text": [
        "\n",
        "Fold 2\n",
        "Fold 3\n",
        "Fold 4\n",
        "Fold 5\n",
        "Fold 1"
       ]
      },
      {
       "output_type": "stream",
       "stream": "stderr",
       "text": [
        "WARNING:root:Loop 'Computer data'<->'Data processing'\n"
       ]
      },
      {
       "output_type": "stream",
       "stream": "stderr",
       "text": [
        "WARNING:root:Loop 'Internet search'<->'Real-time web'\n"
       ]
      },
      {
       "output_type": "stream",
       "stream": "stderr",
       "text": [
        "WARNING:root:Loop 'Collation'<->'Alphabets'\n"
       ]
      },
      {
       "output_type": "stream",
       "stream": "stderr",
       "text": [
        "WARNING:root:Loop 'Internet activism'<->'Internet-based activism'\n"
       ]
      },
      {
       "output_type": "stream",
       "stream": "stdout",
       "text": [
        "\n",
        "Fold 2\n",
        "Fold 3\n",
        "Fold 4\n",
        "Fold 5\n",
        "Fold 1"
       ]
      },
      {
       "output_type": "stream",
       "stream": "stderr",
       "text": [
        "WARNING:root:Loop 'Computer data'<->'Data processing'\n"
       ]
      },
      {
       "output_type": "stream",
       "stream": "stderr",
       "text": [
        "WARNING:root:Loop 'Internet search'<->'Real-time web'\n"
       ]
      },
      {
       "output_type": "stream",
       "stream": "stderr",
       "text": [
        "WARNING:root:Loop 'Collation'<->'Alphabets'\n"
       ]
      },
      {
       "output_type": "stream",
       "stream": "stderr",
       "text": [
        "WARNING:root:Loop 'Internet activism'<->'Internet-based activism'\n"
       ]
      },
      {
       "output_type": "stream",
       "stream": "stderr",
       "text": [
        "WARNING:root:Loop 'Trees (set theory)'<->'Trees (graph theory)'\n"
       ]
      },
      {
       "output_type": "stream",
       "stream": "stderr",
       "text": [
        "WARNING:root:Loop 'Cyberpunk themes'<->'Cyberspace'\n"
       ]
      },
      {
       "output_type": "stream",
       "stream": "stdout",
       "text": [
        "\n",
        "Fold 2\n",
        "Fold 3\n",
        "Fold 4\n",
        "Fold 5\n",
        "Fold 1"
       ]
      },
      {
       "output_type": "stream",
       "stream": "stderr",
       "text": [
        "WARNING:root:Loop 'Computer data'<->'Data processing'\n"
       ]
      },
      {
       "output_type": "stream",
       "stream": "stderr",
       "text": [
        "WARNING:root:Loop 'Internet search'<->'Real-time web'\n"
       ]
      },
      {
       "output_type": "stream",
       "stream": "stderr",
       "text": [
        "WARNING:root:Loop 'Collation'<->'Alphabets'\n"
       ]
      },
      {
       "output_type": "stream",
       "stream": "stderr",
       "text": [
        "WARNING:root:Loop 'Internet activism'<->'Internet-based activism'\n"
       ]
      },
      {
       "output_type": "stream",
       "stream": "stderr",
       "text": [
        "WARNING:root:Loop 'Trees (set theory)'<->'Trees (graph theory)'\n"
       ]
      },
      {
       "output_type": "stream",
       "stream": "stderr",
       "text": [
        "WARNING:root:Loop 'Cyberpunk themes'<->'Cyberspace'\n"
       ]
      },
      {
       "output_type": "stream",
       "stream": "stderr",
       "text": [
        "WARNING:root:Loop 'Espionage'<->'Information sensitivity'\n"
       ]
      },
      {
       "output_type": "stream",
       "stream": "stderr",
       "text": [
        "WARNING:root:Loop 'Audio engineering'<->'Audio electronics'\n"
       ]
      },
      {
       "output_type": "stream",
       "stream": "stderr",
       "text": [
        "WARNING:root:Loop 'NBCUniversal'<->'National Broadcasting Company'\n"
       ]
      },
      {
       "output_type": "stream",
       "stream": "stderr",
       "text": [
        "WARNING:root:Loop 'Massively multiplayer online role-playing games'<->'MMORPGs by topic'\n"
       ]
      },
      {
       "output_type": "stream",
       "stream": "stderr",
       "text": [
        "WARNING:root:Loop 'Musician video games'<->'Band-centric video games'\n"
       ]
      },
      {
       "output_type": "stream",
       "stream": "stderr",
       "text": [
        "WARNING:root:Loop 'Latin alphabets'<->'Latin alphabet'\n"
       ]
      },
      {
       "output_type": "stream",
       "stream": "stdout",
       "text": [
        "\n",
        "Fold 2\n",
        "Fold 3\n",
        "Fold 4\n",
        "Fold 5\n",
        "Fold 1"
       ]
      },
      {
       "output_type": "stream",
       "stream": "stderr",
       "text": [
        "WARNING:root:Loop 'Computer data'<->'Data processing'\n"
       ]
      },
      {
       "output_type": "stream",
       "stream": "stderr",
       "text": [
        "WARNING:root:Loop 'Internet search'<->'Real-time web'\n"
       ]
      },
      {
       "output_type": "stream",
       "stream": "stderr",
       "text": [
        "WARNING:root:Loop 'Collation'<->'Alphabets'\n"
       ]
      },
      {
       "output_type": "stream",
       "stream": "stderr",
       "text": [
        "WARNING:root:Loop 'Internet activism'<->'Internet-based activism'\n"
       ]
      },
      {
       "output_type": "stream",
       "stream": "stderr",
       "text": [
        "WARNING:root:Loop 'Trees (set theory)'<->'Trees (graph theory)'\n"
       ]
      },
      {
       "output_type": "stream",
       "stream": "stderr",
       "text": [
        "WARNING:root:Loop 'Cyberpunk themes'<->'Cyberspace'\n"
       ]
      },
      {
       "output_type": "stream",
       "stream": "stderr",
       "text": [
        "WARNING:root:Loop 'Espionage'<->'Information sensitivity'\n"
       ]
      },
      {
       "output_type": "stream",
       "stream": "stderr",
       "text": [
        "WARNING:root:Loop 'Audio engineering'<->'Audio electronics'\n"
       ]
      },
      {
       "output_type": "stream",
       "stream": "stderr",
       "text": [
        "WARNING:root:Loop 'NBCUniversal'<->'National Broadcasting Company'\n"
       ]
      },
      {
       "output_type": "stream",
       "stream": "stderr",
       "text": [
        "WARNING:root:Loop 'Massively multiplayer online role-playing games'<->'MMORPGs by topic'\n"
       ]
      },
      {
       "output_type": "stream",
       "stream": "stderr",
       "text": [
        "WARNING:root:Loop 'Musician video games'<->'Band-centric video games'\n"
       ]
      },
      {
       "output_type": "stream",
       "stream": "stderr",
       "text": [
        "WARNING:root:Loop 'Probability and statistics'<->'Statistics'\n"
       ]
      },
      {
       "output_type": "stream",
       "stream": "stderr",
       "text": [
        "WARNING:root:Loop 'Film and video technology'<->'Multimedia'\n"
       ]
      },
      {
       "output_type": "stream",
       "stream": "stderr",
       "text": [
        "WARNING:root:Loop 'Euthenics'<->'Critical thinking'\n"
       ]
      },
      {
       "output_type": "stream",
       "stream": "stderr",
       "text": [
        "WARNING:root:Loop 'Euthenics'<->'Life skills'\n"
       ]
      },
      {
       "output_type": "stream",
       "stream": "stderr",
       "text": [
        "WARNING:root:Loop 'Euthenics'<->'Personal life'\n"
       ]
      },
      {
       "output_type": "stream",
       "stream": "stderr",
       "text": [
        "WARNING:root:Loop 'Euthenics'<->'Socioeconomics'\n"
       ]
      },
      {
       "output_type": "stream",
       "stream": "stderr",
       "text": [
        "WARNING:root:Loop 'NBCUniversal networks'<->'National Broadcasting Company'\n"
       ]
      },
      {
       "output_type": "stream",
       "stream": "stderr",
       "text": [
        "WARNING:root:Loop 'Logic'<->'Mathematical logic'\n"
       ]
      },
      {
       "output_type": "stream",
       "stream": "stderr",
       "text": [
        "WARNING:root:Loop 'Logic'<->'Philosophical logic'\n"
       ]
      },
      {
       "output_type": "stream",
       "stream": "stderr",
       "text": [
        "WARNING:root:Loop 'Logic'<->'Philosophy of logic'\n"
       ]
      },
      {
       "output_type": "stream",
       "stream": "stderr",
       "text": [
        "WARNING:root:Loop 'Mathematical objects'<->'Mathematical structures'\n"
       ]
      },
      {
       "output_type": "stream",
       "stream": "stderr",
       "text": [
        "WARNING:root:Loop 'Mathematics'<->'Fields of mathematics'\n"
       ]
      },
      {
       "output_type": "stream",
       "stream": "stderr",
       "text": [
        "WARNING:root:Loop 'Mathematics'<->'Mathematical concepts'\n"
       ]
      },
      {
       "output_type": "stream",
       "stream": "stderr",
       "text": [
        "WARNING:root:Loop 'Mathematics'<->'Philosophy of mathematics'\n"
       ]
      },
      {
       "output_type": "stream",
       "stream": "stderr",
       "text": [
        "WARNING:root:Loop 'Philosophy'<->'Branches of philosophy'\n"
       ]
      },
      {
       "output_type": "stream",
       "stream": "stderr",
       "text": [
        "WARNING:root:Loop 'Philosophy'<->'Philosophy by field'\n"
       ]
      },
      {
       "output_type": "stream",
       "stream": "stderr",
       "text": [
        "WARNING:root:Loop 'Applied mathematics'<->'Cybernetics'\n"
       ]
      },
      {
       "output_type": "stream",
       "stream": "stderr",
       "text": [
        "WARNING:root:Loop 'Social sciences methodology'<->'Evaluation methods'\n"
       ]
      },
      {
       "output_type": "stream",
       "stream": "stderr",
       "text": [
        "WARNING:root:Loop 'Social sciences methodology'<->'Methods in sociology'\n"
       ]
      },
      {
       "output_type": "stream",
       "stream": "stderr",
       "text": [
        "WARNING:root:Loop 'Economic planning'<->'Socialism'\n"
       ]
      },
      {
       "output_type": "stream",
       "stream": "stderr",
       "text": [
        "WARNING:root:Loop 'Quantitative research'<->'Mathematical and quantitative methods (economics)'\n"
       ]
      },
      {
       "output_type": "stream",
       "stream": "stderr",
       "text": [
        "WARNING:root:Loop 'Interactive art'<->'New media art'\n"
       ]
      },
      {
       "output_type": "stream",
       "stream": "stderr",
       "text": [
        "WARNING:root:Loop 'Hellenistic philosophy and religion'<->'Hellenistic religion'\n"
       ]
      },
      {
       "output_type": "stream",
       "stream": "stderr",
       "text": [
        "WARNING:root:Loop 'Social programs'<->'Health, education, and welfare economics'\n"
       ]
      },
      {
       "output_type": "stream",
       "stream": "stderr",
       "text": [
        "WARNING:root:Loop 'Free will'<->'Personhood'\n"
       ]
      },
      {
       "output_type": "stream",
       "stream": "stderr",
       "text": [
        "WARNING:root:Loop 'Product management'<->'Product development'\n"
       ]
      },
      {
       "output_type": "stream",
       "stream": "stderr",
       "text": [
        "WARNING:root:Loop 'Latin alphabets'<->'Latin alphabet'\n"
       ]
      },
      {
       "output_type": "stream",
       "stream": "stdout",
       "text": [
        "\n",
        "Fold 2\n",
        "Fold 3\n",
        "Fold 4\n",
        "Fold 5\n",
        "Fold 1"
       ]
      },
      {
       "output_type": "stream",
       "stream": "stdout",
       "text": [
        "\n",
        "Fold 2\n",
        "Fold 3\n",
        "Fold 4"
       ]
      },
      {
       "output_type": "stream",
       "stream": "stdout",
       "text": [
        "\n",
        "Fold 5\n"
       ]
      },
      {
       "output_type": "stream",
       "stream": "stderr",
       "text": [
        "/usr/local/lib/python3.4/site-packages/sklearn/metrics/metrics.py:1771: UndefinedMetricWarning: F-score is ill-defined and being set to 0.0 due to no predicted samples.\n",
        "  'precision', 'predicted', average, warn_for)\n"
       ]
      }
     ],
     "prompt_number": 41
    },
    {
     "cell_type": "code",
     "collapsed": false,
     "input": [
      "%matplotlib inline\n",
      "plt.errorbar(range(1,8), depth_based_perf.T[:,0,0], yerr=depth_based_perf.T[:,0,1], linewidth=2, elinewidth=1)\n",
      "plt.plot(range(1, 8), [0.922] * 7, linewidth=2)\n",
      "plt.xlabel('Depth of selection')\n",
      "plt.ylabel('Accuracy')\n",
      "plt.fill_between(range(1, 8), [0.922-0.011] * 7, [0.922+0.011] * 7, alpha=0.25, color='green')\n",
      "plt.legend(['depth-based selection', 'our method'], loc='lower left')\n",
      "plt.tight_layout()\n",
      "plt.savefig(util.resource('accuracy-depth-based.pdf'))"
     ],
     "language": "python",
     "metadata": {},
     "outputs": [
      {
       "metadata": {},
       "output_type": "display_data",
       "png": "[encoded data removed]",
       "text": [
        "<matplotlib.figure.Figure at 0x113883128>"
       ]
      }
     ],
     "prompt_number": 43
    },
    {
     "cell_type": "markdown",
     "metadata": {},
     "source": [
      "#### Cross-validated performance of the classifiers in terms of 4 metrics with error bars"
     ]
    },
    {
     "cell_type": "code",
     "collapsed": false,
     "input": [
      "metrics = evaluate_random_classifier_cross_validated()\n",
      "metric_names = ['accuracy', 'f1_pos', 'f1_neg', 'weighted_f1']\n",
      "for metric_name, metric in zip(metric_names, metrics):\n",
      "    print(\"{:<11s} : {:.2f} +- {:.3f}\".format(metric_name, metric.mean(), metric.std()))"
     ],
     "language": "python",
     "metadata": {},
     "outputs": [
      {
       "output_type": "stream",
       "stream": "stdout",
       "text": [
        "Fold 1\n",
        "Fold 2\n",
        "Fold 3\n",
        "Fold 4\n",
        "Fold 5\n",
        "accuracy    : 0.54 +- 0.054\n",
        "f1_pos      : 0.38 +- 0.082\n",
        "f1_neg      : 0.58 +- 0.030\n",
        "weighted_f1 : 0.50 +- 0.052\n"
       ]
      }
     ],
     "prompt_number": 46
    },
    {
     "cell_type": "markdown",
     "metadata": {},
     "source": [
      "#### Plotting the learning curve of a classifier, cross-validated with error bars"
     ]
    },
    {
     "cell_type": "code",
     "collapsed": false,
     "input": [
      "# training_sizes = [10, 15, 20, 25, 30, 35]\n",
      "# metrics_ours_lc = produce_learning_curve(evaluate_learning_based_classifier_cross_validated, training_sizes)"
     ],
     "language": "python",
     "metadata": {},
     "outputs": [
      {
       "output_type": "stream",
       "stream": "stdout",
       "text": [
        "Fold 1\n",
        "Fold 2"
       ]
      },
      {
       "output_type": "stream",
       "stream": "stderr",
       "text": [
        "WARNING:root:Loop 'Computer data'<->'Data processing'\n"
       ]
      },
      {
       "output_type": "stream",
       "stream": "stderr",
       "text": [
        "WARNING:root:Loop 'Data'<->'Computer data'\n"
       ]
      },
      {
       "output_type": "stream",
       "stream": "stdout",
       "text": [
        "\n",
        "Fold 3"
       ]
      },
      {
       "output_type": "stream",
       "stream": "stderr",
       "text": [
        "WARNING:root:Loop 'Computer data'<->'Data processing'\n"
       ]
      },
      {
       "output_type": "stream",
       "stream": "stderr",
       "text": [
        "WARNING:root:Loop 'Data'<->'Computer data'\n"
       ]
      },
      {
       "output_type": "stream",
       "stream": "stderr",
       "text": [
        "WARNING:root:Loop 'Internet search'<->'Real-time web'\n"
       ]
      },
      {
       "output_type": "stream",
       "stream": "stderr",
       "text": [
        "WARNING:root:Loop 'Web 2.0'<->'Web services'\n"
       ]
      },
      {
       "output_type": "stream",
       "stream": "stderr",
       "text": [
        "WARNING:root:Loop 'Collation'<->'Alphabets'\n"
       ]
      },
      {
       "output_type": "stream",
       "stream": "stderr",
       "text": [
        "WARNING:root:Loop 'Cloud storage'<->'File hosting'\n"
       ]
      },
      {
       "output_type": "stream",
       "stream": "stderr",
       "text": [
        "WARNING:root:Loop 'Data-centric programming languages'<->'Persistent programming languages'\n"
       ]
      },
      {
       "output_type": "stream",
       "stream": "stderr",
       "text": [
        "WARNING:root:Loop 'File hosting'<->'Cloud storage'\n"
       ]
      },
      {
       "output_type": "stream",
       "stream": "stderr",
       "text": [
        "WARNING:root:Loop 'Distributed data storage'<->'Distributed data storage systems'\n"
       ]
      },
      {
       "output_type": "stream",
       "stream": "stderr",
       "text": [
        "WARNING:root:Loop 'Distributed data storage'<->'File sharing networks'\n"
       ]
      },
      {
       "output_type": "stream",
       "stream": "stderr",
       "text": [
        "WARNING:root:Loop 'Web services'<->'Internet search'\n"
       ]
      },
      {
       "output_type": "stream",
       "stream": "stderr",
       "text": [
        "WARNING:root:Loop 'Computing in fiction'<->'Artificial intelligence in fiction'\n"
       ]
      },
      {
       "output_type": "stream",
       "stream": "stderr",
       "text": [
        "WARNING:root:Loop 'Social information processing'<->'Collective intelligence'\n"
       ]
      },
      {
       "output_type": "stream",
       "stream": "stderr",
       "text": [
        "WARNING:root:Loop 'Internet activism'<->'Internet-based activism'\n"
       ]
      },
      {
       "output_type": "stream",
       "stream": "stderr",
       "text": [
        "WARNING:root:Loop 'Music software'<->'Audio software'\n"
       ]
      },
      {
       "output_type": "stream",
       "stream": "stderr",
       "text": [
        "WARNING:root:Loop 'Persistent programming languages'<->'Data-centric programming languages'\n"
       ]
      },
      {
       "output_type": "stream",
       "stream": "stderr",
       "text": [
        "WARNING:root:Loop 'Video game clones'<->'Unauthorized video games'\n"
       ]
      },
      {
       "output_type": "stream",
       "stream": "stderr",
       "text": [
        "WARNING:root:Loop 'Collective intelligence'<->'Social information processing'\n"
       ]
      },
      {
       "output_type": "stream",
       "stream": "stderr",
       "text": [
        "WARNING:root:Loop 'Distributed data storage systems'<->'File sharing networks'\n"
       ]
      },
      {
       "output_type": "stream",
       "stream": "stderr",
       "text": [
        "WARNING:root:Loop 'Government services web portals in the United States'<->'Website article topics with .gov domain names'\n"
       ]
      },
      {
       "output_type": "stream",
       "stream": "stderr",
       "text": [
        "WARNING:root:Loop 'Website article topics with .gov domain names'<->'Government services web portals in the United States'\n"
       ]
      },
      {
       "output_type": "stream",
       "stream": "stderr",
       "text": [
        "WARNING:root:Loop 'Trees (set theory)'<->'Trees (graph theory)'\n"
       ]
      },
      {
       "output_type": "stream",
       "stream": "stderr",
       "text": [
        "WARNING:root:Loop 'File sharing networks'<->'Distributed data storage'\n"
       ]
      },
      {
       "output_type": "stream",
       "stream": "stderr",
       "text": [
        "WARNING:root:Loop 'Image processing'<->'Computer vision'\n"
       ]
      },
      {
       "output_type": "stream",
       "stream": "stderr",
       "text": [
        "WARNING:root:Loop 'Artificial intelligence in fiction'<->'Computing in fiction'\n"
       ]
      },
      {
       "output_type": "stream",
       "stream": "stderr",
       "text": [
        "WARNING:root:Loop 'Computer vision'<->'Image processing'\n"
       ]
      },
      {
       "output_type": "stream",
       "stream": "stderr",
       "text": [
        "WARNING:root:Loop 'Mobile phones'<->'Videotelephony'\n"
       ]
      },
      {
       "output_type": "stream",
       "stream": "stderr",
       "text": [
        "WARNING:root:Loop 'Real-time web'<->'Web 2.0'\n"
       ]
      },
      {
       "output_type": "stream",
       "stream": "stderr",
       "text": [
        "WARNING:root:Loop 'Videotelephony'<->'Mobile phones'\n"
       ]
      },
      {
       "output_type": "stream",
       "stream": "stderr",
       "text": [
        "WARNING:root:Loop 'Cyberpunk themes'<->'Cyberspace'\n"
       ]
      },
      {
       "output_type": "stream",
       "stream": "stderr",
       "text": [
        "WARNING:root:Loop 'Free healthcare software'<->'Free medical software'\n"
       ]
      },
      {
       "output_type": "stream",
       "stream": "stderr",
       "text": [
        "WARNING:root:Loop 'Audio software'<->'Music software'\n"
       ]
      },
      {
       "output_type": "stream",
       "stream": "stderr",
       "text": [
        "WARNING:root:Loop 'Free medical software'<->'Free healthcare software'\n"
       ]
      },
      {
       "output_type": "stream",
       "stream": "stderr",
       "text": [
        "WARNING:root:Loop 'Unauthorized video games'<->'Video game clones'\n"
       ]
      },
      {
       "output_type": "stream",
       "stream": "stderr",
       "text": [
        "WARNING:root:Loop 'Espionage'<->'Information sensitivity'\n"
       ]
      },
      {
       "output_type": "stream",
       "stream": "stderr",
       "text": [
        "WARNING:root:Loop 'Audio engineering'<->'Audio electronics'\n"
       ]
      },
      {
       "output_type": "stream",
       "stream": "stderr",
       "text": [
        "WARNING:root:Loop 'NBCUniversal'<->'National Broadcasting Company'\n"
       ]
      },
      {
       "output_type": "stream",
       "stream": "stderr",
       "text": [
        "WARNING:root:Loop 'Real Robots'<->'Super Robot Wars'\n"
       ]
      },
      {
       "output_type": "stream",
       "stream": "stderr",
       "text": [
        "WARNING:root:Loop 'Real Robots'<->'Super Robots'\n"
       ]
      },
      {
       "output_type": "stream",
       "stream": "stderr",
       "text": [
        "WARNING:root:Loop 'Super Robots'<->'Real Robots'\n"
       ]
      },
      {
       "output_type": "stream",
       "stream": "stderr",
       "text": [
        "WARNING:root:Loop 'Super Robots'<->'Super Robot Wars'\n"
       ]
      },
      {
       "output_type": "stream",
       "stream": "stderr",
       "text": [
        "WARNING:root:Loop 'Massively multiplayer online role-playing games'<->'MMORPGs by topic'\n"
       ]
      },
      {
       "output_type": "stream",
       "stream": "stderr",
       "text": [
        "WARNING:root:Loop 'Super Robot Wars'<->'Real Robots'\n"
       ]
      },
      {
       "output_type": "stream",
       "stream": "stderr",
       "text": [
        "WARNING:root:Loop 'Super Robot Wars'<->'Super Robots'\n"
       ]
      },
      {
       "output_type": "stream",
       "stream": "stderr",
       "text": [
        "WARNING:root:Loop 'Unreal'<->'Unreal Engine'\n"
       ]
      },
      {
       "output_type": "stream",
       "stream": "stderr",
       "text": [
        "WARNING:root:Loop 'Alphabets'<->'Collation'\n"
       ]
      },
      {
       "output_type": "stream",
       "stream": "stderr",
       "text": [
        "WARNING:root:Loop 'Latin alphabets'<->'Latin alphabet'\n"
       ]
      },
      {
       "output_type": "stream",
       "stream": "stderr",
       "text": [
        "WARNING:root:Loop 'Latin script'<->'Latin alphabets'\n"
       ]
      },
      {
       "output_type": "stream",
       "stream": "stdout",
       "text": [
        "\n",
        "Fold 4"
       ]
      },
      {
       "output_type": "stream",
       "stream": "stderr",
       "text": [
        "WARNING:root:Loop 'Computer data'<->'Data processing'\n"
       ]
      },
      {
       "output_type": "stream",
       "stream": "stderr",
       "text": [
        "WARNING:root:Loop 'Data'<->'Computer data'\n"
       ]
      },
      {
       "output_type": "stream",
       "stream": "stderr",
       "text": [
        "WARNING:root:Loop 'Computing in fiction'<->'Artificial intelligence in fiction'\n"
       ]
      },
      {
       "output_type": "stream",
       "stream": "stderr",
       "text": [
        "WARNING:root:Loop 'Persistent programming languages'<->'Data-centric programming languages'\n"
       ]
      },
      {
       "output_type": "stream",
       "stream": "stdout",
       "text": [
        "\n",
        "Fold 5"
       ]
      },
      {
       "output_type": "stream",
       "stream": "stderr",
       "text": [
        "WARNING:root:Loop 'Computer data'<->'Data processing'\n"
       ]
      },
      {
       "output_type": "stream",
       "stream": "stderr",
       "text": [
        "WARNING:root:Loop 'Data'<->'Computer data'\n"
       ]
      },
      {
       "output_type": "stream",
       "stream": "stdout",
       "text": [
        "\n",
        "Fold 1"
       ]
      },
      {
       "output_type": "stream",
       "stream": "stderr",
       "text": [
        "WARNING:root:Loop 'Computer data'<->'Data processing'\n"
       ]
      },
      {
       "output_type": "stream",
       "stream": "stderr",
       "text": [
        "WARNING:root:Loop 'Data'<->'Computer data'\n"
       ]
      },
      {
       "output_type": "stream",
       "stream": "stderr",
       "text": [
        "WARNING:root:Loop 'Internet search'<->'Real-time web'\n"
       ]
      },
      {
       "output_type": "stream",
       "stream": "stderr",
       "text": [
        "WARNING:root:Loop 'Web 2.0'<->'Web services'\n"
       ]
      },
      {
       "output_type": "stream",
       "stream": "stderr",
       "text": [
        "WARNING:root:Loop 'Collation'<->'Alphabets'\n"
       ]
      },
      {
       "output_type": "stream",
       "stream": "stderr",
       "text": [
        "WARNING:root:Loop 'Cloud storage'<->'File hosting'\n"
       ]
      },
      {
       "output_type": "stream",
       "stream": "stderr",
       "text": [
        "WARNING:root:Loop 'Data-centric programming languages'<->'Persistent programming languages'\n"
       ]
      },
      {
       "output_type": "stream",
       "stream": "stderr",
       "text": [
        "WARNING:root:Loop 'File hosting'<->'Cloud storage'\n"
       ]
      },
      {
       "output_type": "stream",
       "stream": "stderr",
       "text": [
        "WARNING:root:Loop 'Computing in fiction'<->'Artificial intelligence in fiction'\n"
       ]
      },
      {
       "output_type": "stream",
       "stream": "stderr",
       "text": [
        "WARNING:root:Loop 'Social information processing'<->'Collective intelligence'\n"
       ]
      },
      {
       "output_type": "stream",
       "stream": "stderr",
       "text": [
        "WARNING:root:Loop 'Music software'<->'Audio software'\n"
       ]
      },
      {
       "output_type": "stream",
       "stream": "stderr",
       "text": [
        "WARNING:root:Loop 'Persistent programming languages'<->'Data-centric programming languages'\n"
       ]
      },
      {
       "output_type": "stream",
       "stream": "stderr",
       "text": [
        "WARNING:root:Loop 'Video game clones'<->'Unauthorized video games'\n"
       ]
      },
      {
       "output_type": "stream",
       "stream": "stderr",
       "text": [
        "WARNING:root:Loop 'Distributed data storage systems'<->'File sharing networks'\n"
       ]
      },
      {
       "output_type": "stream",
       "stream": "stderr",
       "text": [
        "WARNING:root:Loop 'Government services web portals in the United States'<->'Website article topics with .gov domain names'\n"
       ]
      },
      {
       "output_type": "stream",
       "stream": "stderr",
       "text": [
        "WARNING:root:Loop 'Trees (set theory)'<->'Trees (graph theory)'\n"
       ]
      },
      {
       "output_type": "stream",
       "stream": "stderr",
       "text": [
        "WARNING:root:Loop 'Real-time web'<->'Web 2.0'\n"
       ]
      },
      {
       "output_type": "stream",
       "stream": "stderr",
       "text": [
        "WARNING:root:Loop 'Videotelephony'<->'Mobile phones'\n"
       ]
      },
      {
       "output_type": "stream",
       "stream": "stderr",
       "text": [
        "WARNING:root:Loop 'Free healthcare software'<->'Free medical software'\n"
       ]
      },
      {
       "output_type": "stream",
       "stream": "stderr",
       "text": [
        "WARNING:root:Loop 'Audio software'<->'Music software'\n"
       ]
      },
      {
       "output_type": "stream",
       "stream": "stderr",
       "text": [
        "WARNING:root:Loop 'Free medical software'<->'Free healthcare software'\n"
       ]
      },
      {
       "output_type": "stream",
       "stream": "stderr",
       "text": [
        "WARNING:root:Loop 'Unreal Engine'<->'Unreal Engine games'\n"
       ]
      },
      {
       "output_type": "stream",
       "stream": "stderr",
       "text": [
        "WARNING:root:Loop 'Unreal Engine games'<->'Unreal'\n"
       ]
      },
      {
       "output_type": "stream",
       "stream": "stdout",
       "text": [
        "\n",
        "Fold 2"
       ]
      },
      {
       "output_type": "stream",
       "stream": "stderr",
       "text": [
        "WARNING:root:Loop 'Computer data'<->'Data processing'\n"
       ]
      },
      {
       "output_type": "stream",
       "stream": "stderr",
       "text": [
        "WARNING:root:Loop 'Data'<->'Computer data'\n"
       ]
      },
      {
       "output_type": "stream",
       "stream": "stderr",
       "text": [
        "WARNING:root:Loop 'Internet search'<->'Real-time web'\n"
       ]
      },
      {
       "output_type": "stream",
       "stream": "stderr",
       "text": [
        "WARNING:root:Loop 'Web 2.0'<->'Web services'\n"
       ]
      },
      {
       "output_type": "stream",
       "stream": "stdout",
       "text": [
        "\n",
        "Fold 3"
       ]
      },
      {
       "output_type": "stream",
       "stream": "stderr",
       "text": [
        "WARNING:root:Loop 'Computer data'<->'Data processing'\n"
       ]
      },
      {
       "output_type": "stream",
       "stream": "stderr",
       "text": [
        "WARNING:root:Loop 'Data'<->'Computer data'\n"
       ]
      },
      {
       "output_type": "stream",
       "stream": "stderr",
       "text": [
        "WARNING:root:Loop 'Internet search'<->'Real-time web'\n"
       ]
      },
      {
       "output_type": "stream",
       "stream": "stderr",
       "text": [
        "WARNING:root:Loop 'Web 2.0'<->'Web services'\n"
       ]
      },
      {
       "output_type": "stream",
       "stream": "stderr",
       "text": [
        "WARNING:root:Loop 'Collation'<->'Alphabets'\n"
       ]
      },
      {
       "output_type": "stream",
       "stream": "stderr",
       "text": [
        "WARNING:root:Loop 'Cloud storage'<->'File hosting'\n"
       ]
      },
      {
       "output_type": "stream",
       "stream": "stderr",
       "text": [
        "WARNING:root:Loop 'Data-centric programming languages'<->'Persistent programming languages'\n"
       ]
      },
      {
       "output_type": "stream",
       "stream": "stderr",
       "text": [
        "WARNING:root:Loop 'File hosting'<->'Cloud storage'\n"
       ]
      },
      {
       "output_type": "stream",
       "stream": "stderr",
       "text": [
        "WARNING:root:Loop 'Distributed data storage'<->'Distributed data storage systems'\n"
       ]
      },
      {
       "output_type": "stream",
       "stream": "stderr",
       "text": [
        "WARNING:root:Loop 'Distributed data storage'<->'File sharing networks'\n"
       ]
      },
      {
       "output_type": "stream",
       "stream": "stderr",
       "text": [
        "WARNING:root:Loop 'Web services'<->'Internet search'\n"
       ]
      },
      {
       "output_type": "stream",
       "stream": "stderr",
       "text": [
        "WARNING:root:Loop 'Computing in fiction'<->'Artificial intelligence in fiction'\n"
       ]
      },
      {
       "output_type": "stream",
       "stream": "stderr",
       "text": [
        "WARNING:root:Loop 'Social information processing'<->'Collective intelligence'\n"
       ]
      },
      {
       "output_type": "stream",
       "stream": "stderr",
       "text": [
        "WARNING:root:Loop 'Internet activism'<->'Internet-based activism'\n"
       ]
      },
      {
       "output_type": "stream",
       "stream": "stderr",
       "text": [
        "WARNING:root:Loop 'Music software'<->'Audio software'\n"
       ]
      },
      {
       "output_type": "stream",
       "stream": "stderr",
       "text": [
        "WARNING:root:Loop 'Persistent programming languages'<->'Data-centric programming languages'\n"
       ]
      },
      {
       "output_type": "stream",
       "stream": "stderr",
       "text": [
        "WARNING:root:Loop 'Video game clones'<->'Unauthorized video games'\n"
       ]
      },
      {
       "output_type": "stream",
       "stream": "stderr",
       "text": [
        "WARNING:root:Loop 'Collective intelligence'<->'Social information processing'\n"
       ]
      },
      {
       "output_type": "stream",
       "stream": "stderr",
       "text": [
        "WARNING:root:Loop 'Distributed data storage systems'<->'File sharing networks'\n"
       ]
      },
      {
       "output_type": "stream",
       "stream": "stderr",
       "text": [
        "WARNING:root:Loop 'Government services web portals in the United States'<->'Website article topics with .gov domain names'\n"
       ]
      },
      {
       "output_type": "stream",
       "stream": "stderr",
       "text": [
        "WARNING:root:Loop 'Website article topics with .gov domain names'<->'Government services web portals in the United States'\n"
       ]
      },
      {
       "output_type": "stream",
       "stream": "stderr",
       "text": [
        "WARNING:root:Loop 'Trees (set theory)'<->'Trees (graph theory)'\n"
       ]
      },
      {
       "output_type": "stream",
       "stream": "stderr",
       "text": [
        "WARNING:root:Loop 'Image processing'<->'Computer vision'\n"
       ]
      },
      {
       "output_type": "stream",
       "stream": "stderr",
       "text": [
        "WARNING:root:Loop 'Artificial intelligence in fiction'<->'Computing in fiction'\n"
       ]
      },
      {
       "output_type": "stream",
       "stream": "stderr",
       "text": [
        "WARNING:root:Loop 'Computer vision'<->'Image processing'\n"
       ]
      },
      {
       "output_type": "stream",
       "stream": "stderr",
       "text": [
        "WARNING:root:Loop 'Mobile phones'<->'Videotelephony'\n"
       ]
      },
      {
       "output_type": "stream",
       "stream": "stderr",
       "text": [
        "WARNING:root:Loop 'Real-time web'<->'Web 2.0'\n"
       ]
      },
      {
       "output_type": "stream",
       "stream": "stderr",
       "text": [
        "WARNING:root:Loop 'Videotelephony'<->'Mobile phones'\n"
       ]
      },
      {
       "output_type": "stream",
       "stream": "stderr",
       "text": [
        "WARNING:root:Loop 'Cyberpunk themes'<->'Cyberspace'\n"
       ]
      },
      {
       "output_type": "stream",
       "stream": "stderr",
       "text": [
        "WARNING:root:Loop 'Free healthcare software'<->'Free medical software'\n"
       ]
      },
      {
       "output_type": "stream",
       "stream": "stderr",
       "text": [
        "WARNING:root:Loop 'Audio software'<->'Music software'\n"
       ]
      },
      {
       "output_type": "stream",
       "stream": "stderr",
       "text": [
        "WARNING:root:Loop 'Free medical software'<->'Free healthcare software'\n"
       ]
      },
      {
       "output_type": "stream",
       "stream": "stderr",
       "text": [
        "WARNING:root:Loop 'Unauthorized video games'<->'Video game clones'\n"
       ]
      },
      {
       "output_type": "stream",
       "stream": "stderr",
       "text": [
        "WARNING:root:Loop 'Unreal Engine'<->'Unreal Engine games'\n"
       ]
      },
      {
       "output_type": "stream",
       "stream": "stderr",
       "text": [
        "WARNING:root:Loop 'Unreal Engine games'<->'Unreal'\n"
       ]
      },
      {
       "output_type": "stream",
       "stream": "stdout",
       "text": [
        "\n",
        "Fold 4"
       ]
      },
      {
       "output_type": "stream",
       "stream": "stderr",
       "text": [
        "WARNING:root:Loop 'Computer data'<->'Data processing'\n"
       ]
      },
      {
       "output_type": "stream",
       "stream": "stderr",
       "text": [
        "WARNING:root:Loop 'Data'<->'Computer data'\n"
       ]
      },
      {
       "output_type": "stream",
       "stream": "stderr",
       "text": [
        "WARNING:root:Loop 'Internet search'<->'Real-time web'\n"
       ]
      },
      {
       "output_type": "stream",
       "stream": "stderr",
       "text": [
        "WARNING:root:Loop 'Web 2.0'<->'Web services'\n"
       ]
      },
      {
       "output_type": "stream",
       "stream": "stderr",
       "text": [
        "WARNING:root:Loop 'Computing in fiction'<->'Artificial intelligence in fiction'\n"
       ]
      },
      {
       "output_type": "stream",
       "stream": "stderr",
       "text": [
        "WARNING:root:Loop 'Data-centric programming languages'<->'Persistent programming languages'\n"
       ]
      },
      {
       "output_type": "stream",
       "stream": "stderr",
       "text": [
        "WARNING:root:Loop 'Distributed data storage systems'<->'File sharing networks'\n"
       ]
      },
      {
       "output_type": "stream",
       "stream": "stderr",
       "text": [
        "WARNING:root:Loop 'Real-time web'<->'Web 2.0'\n"
       ]
      },
      {
       "output_type": "stream",
       "stream": "stderr",
       "text": [
        "WARNING:root:Loop 'Persistent programming languages'<->'Data-centric programming languages'\n"
       ]
      },
      {
       "output_type": "stream",
       "stream": "stdout",
       "text": [
        "\n",
        "Fold 5"
       ]
      },
      {
       "output_type": "stream",
       "stream": "stderr",
       "text": [
        "WARNING:root:Loop 'Computer data'<->'Data processing'\n"
       ]
      },
      {
       "output_type": "stream",
       "stream": "stderr",
       "text": [
        "WARNING:root:Loop 'Data'<->'Computer data'\n"
       ]
      },
      {
       "output_type": "stream",
       "stream": "stderr",
       "text": [
        "WARNING:root:Loop 'Internet search'<->'Real-time web'\n"
       ]
      },
      {
       "output_type": "stream",
       "stream": "stderr",
       "text": [
        "WARNING:root:Loop 'Web 2.0'<->'Web services'\n"
       ]
      },
      {
       "output_type": "stream",
       "stream": "stderr",
       "text": [
        "WARNING:root:Loop 'Collation'<->'Alphabets'\n"
       ]
      },
      {
       "output_type": "stream",
       "stream": "stderr",
       "text": [
        "WARNING:root:Loop 'Cloud storage'<->'File hosting'\n"
       ]
      },
      {
       "output_type": "stream",
       "stream": "stderr",
       "text": [
        "WARNING:root:Loop 'Data-centric programming languages'<->'Persistent programming languages'\n"
       ]
      },
      {
       "output_type": "stream",
       "stream": "stderr",
       "text": [
        "WARNING:root:Loop 'File hosting'<->'Cloud storage'\n"
       ]
      },
      {
       "output_type": "stream",
       "stream": "stderr",
       "text": [
        "WARNING:root:Loop 'Distributed data storage'<->'Distributed data storage systems'\n"
       ]
      },
      {
       "output_type": "stream",
       "stream": "stderr",
       "text": [
        "WARNING:root:Loop 'Distributed data storage'<->'File sharing networks'\n"
       ]
      },
      {
       "output_type": "stream",
       "stream": "stderr",
       "text": [
        "WARNING:root:Loop 'Web services'<->'Internet search'\n"
       ]
      },
      {
       "output_type": "stream",
       "stream": "stderr",
       "text": [
        "WARNING:root:Loop 'Computing in fiction'<->'Artificial intelligence in fiction'\n"
       ]
      },
      {
       "output_type": "stream",
       "stream": "stderr",
       "text": [
        "WARNING:root:Loop 'Social information processing'<->'Collective intelligence'\n"
       ]
      },
      {
       "output_type": "stream",
       "stream": "stderr",
       "text": [
        "WARNING:root:Loop 'Internet activism'<->'Internet-based activism'\n"
       ]
      },
      {
       "output_type": "stream",
       "stream": "stderr",
       "text": [
        "WARNING:root:Loop 'Music software'<->'Audio software'\n"
       ]
      },
      {
       "output_type": "stream",
       "stream": "stderr",
       "text": [
        "WARNING:root:Loop 'Persistent programming languages'<->'Data-centric programming languages'\n"
       ]
      },
      {
       "output_type": "stream",
       "stream": "stderr",
       "text": [
        "WARNING:root:Loop 'Video game clones'<->'Unauthorized video games'\n"
       ]
      },
      {
       "output_type": "stream",
       "stream": "stderr",
       "text": [
        "WARNING:root:Loop 'Collective intelligence'<->'Social information processing'\n"
       ]
      },
      {
       "output_type": "stream",
       "stream": "stderr",
       "text": [
        "WARNING:root:Loop 'Distributed data storage systems'<->'File sharing networks'\n"
       ]
      },
      {
       "output_type": "stream",
       "stream": "stderr",
       "text": [
        "WARNING:root:Loop 'Website article topics with .gov domain names'<->'Government services web portals in the United States'\n"
       ]
      },
      {
       "output_type": "stream",
       "stream": "stderr",
       "text": [
        "WARNING:root:Loop 'Trees (set theory)'<->'Trees (graph theory)'\n"
       ]
      },
      {
       "output_type": "stream",
       "stream": "stderr",
       "text": [
        "WARNING:root:Loop 'File sharing networks'<->'Distributed data storage'\n"
       ]
      },
      {
       "output_type": "stream",
       "stream": "stderr",
       "text": [
        "WARNING:root:Loop 'Image processing'<->'Computer vision'\n"
       ]
      },
      {
       "output_type": "stream",
       "stream": "stderr",
       "text": [
        "WARNING:root:Loop 'Artificial intelligence in fiction'<->'Computing in fiction'\n"
       ]
      },
      {
       "output_type": "stream",
       "stream": "stderr",
       "text": [
        "WARNING:root:Loop 'Mobile phones'<->'Videotelephony'\n"
       ]
      },
      {
       "output_type": "stream",
       "stream": "stderr",
       "text": [
        "WARNING:root:Loop 'Real-time web'<->'Web 2.0'\n"
       ]
      },
      {
       "output_type": "stream",
       "stream": "stderr",
       "text": [
        "WARNING:root:Loop 'Cyberpunk themes'<->'Cyberspace'\n"
       ]
      },
      {
       "output_type": "stream",
       "stream": "stderr",
       "text": [
        "WARNING:root:Loop 'Government services web portals in the United States'<->'Website article topics with .gov domain names'\n"
       ]
      },
      {
       "output_type": "stream",
       "stream": "stderr",
       "text": [
        "WARNING:root:Loop 'Free healthcare software'<->'Free medical software'\n"
       ]
      },
      {
       "output_type": "stream",
       "stream": "stderr",
       "text": [
        "WARNING:root:Loop 'Audio software'<->'Music software'\n"
       ]
      },
      {
       "output_type": "stream",
       "stream": "stderr",
       "text": [
        "WARNING:root:Loop 'Free medical software'<->'Free healthcare software'\n"
       ]
      },
      {
       "output_type": "stream",
       "stream": "stderr",
       "text": [
        "WARNING:root:Loop 'Unauthorized video games'<->'Video game clones'\n"
       ]
      },
      {
       "output_type": "stream",
       "stream": "stdout",
       "text": [
        "\n",
        "Fold 1"
       ]
      },
      {
       "output_type": "stream",
       "stream": "stderr",
       "text": [
        "WARNING:root:Loop 'Computer data'<->'Data processing'\n"
       ]
      },
      {
       "output_type": "stream",
       "stream": "stderr",
       "text": [
        "WARNING:root:Loop 'Data'<->'Computer data'\n"
       ]
      },
      {
       "output_type": "stream",
       "stream": "stderr",
       "text": [
        "WARNING:root:Loop 'Internet search'<->'Real-time web'\n"
       ]
      },
      {
       "output_type": "stream",
       "stream": "stderr",
       "text": [
        "WARNING:root:Loop 'Web 2.0'<->'Web services'\n"
       ]
      },
      {
       "output_type": "stream",
       "stream": "stderr",
       "text": [
        "WARNING:root:Loop 'Collation'<->'Alphabets'\n"
       ]
      },
      {
       "output_type": "stream",
       "stream": "stderr",
       "text": [
        "WARNING:root:Loop 'Cloud storage'<->'File hosting'\n"
       ]
      },
      {
       "output_type": "stream",
       "stream": "stderr",
       "text": [
        "WARNING:root:Loop 'Data-centric programming languages'<->'Persistent programming languages'\n"
       ]
      },
      {
       "output_type": "stream",
       "stream": "stderr",
       "text": [
        "WARNING:root:Loop 'File hosting'<->'Cloud storage'\n"
       ]
      },
      {
       "output_type": "stream",
       "stream": "stderr",
       "text": [
        "WARNING:root:Loop 'Distributed data storage'<->'Distributed data storage systems'\n"
       ]
      },
      {
       "output_type": "stream",
       "stream": "stderr",
       "text": [
        "WARNING:root:Loop 'Distributed data storage'<->'File sharing networks'\n"
       ]
      },
      {
       "output_type": "stream",
       "stream": "stderr",
       "text": [
        "WARNING:root:Loop 'Web services'<->'Internet search'\n"
       ]
      },
      {
       "output_type": "stream",
       "stream": "stderr",
       "text": [
        "WARNING:root:Loop 'Computing in fiction'<->'Artificial intelligence in fiction'\n"
       ]
      },
      {
       "output_type": "stream",
       "stream": "stderr",
       "text": [
        "WARNING:root:Loop 'Social information processing'<->'Collective intelligence'\n"
       ]
      },
      {
       "output_type": "stream",
       "stream": "stderr",
       "text": [
        "WARNING:root:Loop 'Internet activism'<->'Internet-based activism'\n"
       ]
      },
      {
       "output_type": "stream",
       "stream": "stderr",
       "text": [
        "WARNING:root:Loop 'Music software'<->'Audio software'\n"
       ]
      },
      {
       "output_type": "stream",
       "stream": "stderr",
       "text": [
        "WARNING:root:Loop 'Persistent programming languages'<->'Data-centric programming languages'\n"
       ]
      },
      {
       "output_type": "stream",
       "stream": "stderr",
       "text": [
        "WARNING:root:Loop 'Video game clones'<->'Unauthorized video games'\n"
       ]
      },
      {
       "output_type": "stream",
       "stream": "stderr",
       "text": [
        "WARNING:root:Loop 'Collective intelligence'<->'Social information processing'\n"
       ]
      },
      {
       "output_type": "stream",
       "stream": "stderr",
       "text": [
        "WARNING:root:Loop 'Distributed data storage systems'<->'File sharing networks'\n"
       ]
      },
      {
       "output_type": "stream",
       "stream": "stderr",
       "text": [
        "WARNING:root:Loop 'Government services web portals in the United States'<->'Website article topics with .gov domain names'\n"
       ]
      },
      {
       "output_type": "stream",
       "stream": "stderr",
       "text": [
        "WARNING:root:Loop 'Website article topics with .gov domain names'<->'Government services web portals in the United States'\n"
       ]
      },
      {
       "output_type": "stream",
       "stream": "stderr",
       "text": [
        "WARNING:root:Loop 'Trees (set theory)'<->'Trees (graph theory)'\n"
       ]
      },
      {
       "output_type": "stream",
       "stream": "stderr",
       "text": [
        "WARNING:root:Loop 'Computer vision'<->'Image processing'\n"
       ]
      },
      {
       "output_type": "stream",
       "stream": "stderr",
       "text": [
        "WARNING:root:Loop 'Mobile phones'<->'Videotelephony'\n"
       ]
      },
      {
       "output_type": "stream",
       "stream": "stderr",
       "text": [
        "WARNING:root:Loop 'Real-time web'<->'Web 2.0'\n"
       ]
      },
      {
       "output_type": "stream",
       "stream": "stderr",
       "text": [
        "WARNING:root:Loop 'Videotelephony'<->'Mobile phones'\n"
       ]
      },
      {
       "output_type": "stream",
       "stream": "stderr",
       "text": [
        "WARNING:root:Loop 'Cyberpunk themes'<->'Cyberspace'\n"
       ]
      },
      {
       "output_type": "stream",
       "stream": "stderr",
       "text": [
        "WARNING:root:Loop 'Free healthcare software'<->'Free medical software'\n"
       ]
      },
      {
       "output_type": "stream",
       "stream": "stderr",
       "text": [
        "WARNING:root:Loop 'Audio software'<->'Music software'\n"
       ]
      },
      {
       "output_type": "stream",
       "stream": "stderr",
       "text": [
        "WARNING:root:Loop 'Free medical software'<->'Free healthcare software'\n"
       ]
      },
      {
       "output_type": "stream",
       "stream": "stderr",
       "text": [
        "WARNING:root:Loop 'Unauthorized video games'<->'Video game clones'\n"
       ]
      },
      {
       "output_type": "stream",
       "stream": "stderr",
       "text": [
        "WARNING:root:Loop 'Unreal Engine'<->'Unreal Engine games'\n"
       ]
      },
      {
       "output_type": "stream",
       "stream": "stderr",
       "text": [
        "WARNING:root:Loop 'Audio engineering'<->'Audio electronics'\n"
       ]
      },
      {
       "output_type": "stream",
       "stream": "stdout",
       "text": [
        "\n",
        "Fold 2"
       ]
      },
      {
       "output_type": "stream",
       "stream": "stderr",
       "text": [
        "WARNING:root:Loop 'Computer data'<->'Data processing'\n"
       ]
      },
      {
       "output_type": "stream",
       "stream": "stderr",
       "text": [
        "WARNING:root:Loop 'Data'<->'Computer data'\n"
       ]
      },
      {
       "output_type": "stream",
       "stream": "stderr",
       "text": [
        "WARNING:root:Loop 'Internet search'<->'Real-time web'\n"
       ]
      },
      {
       "output_type": "stream",
       "stream": "stderr",
       "text": [
        "WARNING:root:Loop 'Web 2.0'<->'Web services'\n"
       ]
      },
      {
       "output_type": "stream",
       "stream": "stderr",
       "text": [
        "WARNING:root:Loop 'Collation'<->'Alphabets'\n"
       ]
      },
      {
       "output_type": "stream",
       "stream": "stderr",
       "text": [
        "WARNING:root:Loop 'Cloud storage'<->'File hosting'\n"
       ]
      },
      {
       "output_type": "stream",
       "stream": "stderr",
       "text": [
        "WARNING:root:Loop 'Data-centric programming languages'<->'Persistent programming languages'\n"
       ]
      },
      {
       "output_type": "stream",
       "stream": "stderr",
       "text": [
        "WARNING:root:Loop 'File hosting'<->'Cloud storage'\n"
       ]
      },
      {
       "output_type": "stream",
       "stream": "stderr",
       "text": [
        "WARNING:root:Loop 'Distributed data storage'<->'Distributed data storage systems'\n"
       ]
      },
      {
       "output_type": "stream",
       "stream": "stderr",
       "text": [
        "WARNING:root:Loop 'Distributed data storage'<->'File sharing networks'\n"
       ]
      },
      {
       "output_type": "stream",
       "stream": "stderr",
       "text": [
        "WARNING:root:Loop 'Web services'<->'Internet search'\n"
       ]
      },
      {
       "output_type": "stream",
       "stream": "stderr",
       "text": [
        "WARNING:root:Loop 'Computing in fiction'<->'Artificial intelligence in fiction'\n"
       ]
      },
      {
       "output_type": "stream",
       "stream": "stderr",
       "text": [
        "WARNING:root:Loop 'Social information processing'<->'Collective intelligence'\n"
       ]
      },
      {
       "output_type": "stream",
       "stream": "stderr",
       "text": [
        "WARNING:root:Loop 'Internet activism'<->'Internet-based activism'\n"
       ]
      },
      {
       "output_type": "stream",
       "stream": "stderr",
       "text": [
        "WARNING:root:Loop 'Music software'<->'Audio software'\n"
       ]
      },
      {
       "output_type": "stream",
       "stream": "stderr",
       "text": [
        "WARNING:root:Loop 'Persistent programming languages'<->'Data-centric programming languages'\n"
       ]
      },
      {
       "output_type": "stream",
       "stream": "stderr",
       "text": [
        "WARNING:root:Loop 'Video game clones'<->'Unauthorized video games'\n"
       ]
      },
      {
       "output_type": "stream",
       "stream": "stderr",
       "text": [
        "WARNING:root:Loop 'Collective intelligence'<->'Social information processing'\n"
       ]
      },
      {
       "output_type": "stream",
       "stream": "stderr",
       "text": [
        "WARNING:root:Loop 'Real-time web'<->'Web 2.0'\n"
       ]
      },
      {
       "output_type": "stream",
       "stream": "stdout",
       "text": [
        "\n",
        "Fold 3"
       ]
      },
      {
       "output_type": "stream",
       "stream": "stderr",
       "text": [
        "WARNING:root:Loop 'Computer data'<->'Data processing'\n"
       ]
      },
      {
       "output_type": "stream",
       "stream": "stderr",
       "text": [
        "WARNING:root:Loop 'Data'<->'Computer data'\n"
       ]
      },
      {
       "output_type": "stream",
       "stream": "stderr",
       "text": [
        "WARNING:root:Loop 'Internet search'<->'Real-time web'\n"
       ]
      },
      {
       "output_type": "stream",
       "stream": "stderr",
       "text": [
        "WARNING:root:Loop 'Web 2.0'<->'Web services'\n"
       ]
      },
      {
       "output_type": "stream",
       "stream": "stderr",
       "text": [
        "WARNING:root:Loop 'Collation'<->'Alphabets'\n"
       ]
      },
      {
       "output_type": "stream",
       "stream": "stderr",
       "text": [
        "WARNING:root:Loop 'Cloud storage'<->'File hosting'\n"
       ]
      },
      {
       "output_type": "stream",
       "stream": "stderr",
       "text": [
        "WARNING:root:Loop 'Data-centric programming languages'<->'Persistent programming languages'\n"
       ]
      },
      {
       "output_type": "stream",
       "stream": "stderr",
       "text": [
        "WARNING:root:Loop 'File hosting'<->'Cloud storage'\n"
       ]
      },
      {
       "output_type": "stream",
       "stream": "stderr",
       "text": [
        "WARNING:root:Loop 'Distributed data storage'<->'Distributed data storage systems'\n"
       ]
      },
      {
       "output_type": "stream",
       "stream": "stderr",
       "text": [
        "WARNING:root:Loop 'Distributed data storage'<->'File sharing networks'\n"
       ]
      },
      {
       "output_type": "stream",
       "stream": "stderr",
       "text": [
        "WARNING:root:Loop 'Web services'<->'Internet search'\n"
       ]
      },
      {
       "output_type": "stream",
       "stream": "stderr",
       "text": [
        "WARNING:root:Loop 'Computing in fiction'<->'Artificial intelligence in fiction'\n"
       ]
      },
      {
       "output_type": "stream",
       "stream": "stderr",
       "text": [
        "WARNING:root:Loop 'Social information processing'<->'Collective intelligence'\n"
       ]
      },
      {
       "output_type": "stream",
       "stream": "stderr",
       "text": [
        "WARNING:root:Loop 'Internet activism'<->'Internet-based activism'\n"
       ]
      },
      {
       "output_type": "stream",
       "stream": "stderr",
       "text": [
        "WARNING:root:Loop 'Music software'<->'Audio software'\n"
       ]
      },
      {
       "output_type": "stream",
       "stream": "stderr",
       "text": [
        "WARNING:root:Loop 'Persistent programming languages'<->'Data-centric programming languages'\n"
       ]
      },
      {
       "output_type": "stream",
       "stream": "stderr",
       "text": [
        "WARNING:root:Loop 'Video game clones'<->'Unauthorized video games'\n"
       ]
      },
      {
       "output_type": "stream",
       "stream": "stderr",
       "text": [
        "WARNING:root:Loop 'Collective intelligence'<->'Social information processing'\n"
       ]
      },
      {
       "output_type": "stream",
       "stream": "stderr",
       "text": [
        "WARNING:root:Loop 'Distributed data storage systems'<->'File sharing networks'\n"
       ]
      },
      {
       "output_type": "stream",
       "stream": "stderr",
       "text": [
        "WARNING:root:Loop 'Government services web portals in the United States'<->'Website article topics with .gov domain names'\n"
       ]
      },
      {
       "output_type": "stream",
       "stream": "stderr",
       "text": [
        "WARNING:root:Loop 'Website article topics with .gov domain names'<->'Government services web portals in the United States'\n"
       ]
      },
      {
       "output_type": "stream",
       "stream": "stderr",
       "text": [
        "WARNING:root:Loop 'Trees (set theory)'<->'Trees (graph theory)'\n"
       ]
      },
      {
       "output_type": "stream",
       "stream": "stderr",
       "text": [
        "WARNING:root:Loop 'File sharing networks'<->'Distributed data storage'\n"
       ]
      },
      {
       "output_type": "stream",
       "stream": "stderr",
       "text": [
        "WARNING:root:Loop 'Image processing'<->'Computer vision'\n"
       ]
      },
      {
       "output_type": "stream",
       "stream": "stderr",
       "text": [
        "WARNING:root:Loop 'Artificial intelligence in fiction'<->'Computing in fiction'\n"
       ]
      },
      {
       "output_type": "stream",
       "stream": "stderr",
       "text": [
        "WARNING:root:Loop 'Computer vision'<->'Image processing'\n"
       ]
      },
      {
       "output_type": "stream",
       "stream": "stderr",
       "text": [
        "WARNING:root:Loop 'Mobile phones'<->'Videotelephony'\n"
       ]
      },
      {
       "output_type": "stream",
       "stream": "stderr",
       "text": [
        "WARNING:root:Loop 'Real-time web'<->'Web 2.0'\n"
       ]
      },
      {
       "output_type": "stream",
       "stream": "stderr",
       "text": [
        "WARNING:root:Loop 'Videotelephony'<->'Mobile phones'\n"
       ]
      },
      {
       "output_type": "stream",
       "stream": "stderr",
       "text": [
        "WARNING:root:Loop 'Cyberpunk themes'<->'Cyberspace'\n"
       ]
      },
      {
       "output_type": "stream",
       "stream": "stderr",
       "text": [
        "WARNING:root:Loop 'Free healthcare software'<->'Free medical software'\n"
       ]
      },
      {
       "output_type": "stream",
       "stream": "stderr",
       "text": [
        "WARNING:root:Loop 'Audio software'<->'Music software'\n"
       ]
      },
      {
       "output_type": "stream",
       "stream": "stderr",
       "text": [
        "WARNING:root:Loop 'Free medical software'<->'Free healthcare software'\n"
       ]
      },
      {
       "output_type": "stream",
       "stream": "stderr",
       "text": [
        "WARNING:root:Loop 'Unauthorized video games'<->'Video game clones'\n"
       ]
      },
      {
       "output_type": "stream",
       "stream": "stdout",
       "text": [
        "\n",
        "Fold 4"
       ]
      },
      {
       "output_type": "stream",
       "stream": "stderr",
       "text": [
        "WARNING:root:Loop 'Computer data'<->'Data processing'\n"
       ]
      },
      {
       "output_type": "stream",
       "stream": "stderr",
       "text": [
        "WARNING:root:Loop 'Data'<->'Computer data'\n"
       ]
      },
      {
       "output_type": "stream",
       "stream": "stderr",
       "text": [
        "WARNING:root:Loop 'Internet search'<->'Real-time web'\n"
       ]
      },
      {
       "output_type": "stream",
       "stream": "stderr",
       "text": [
        "WARNING:root:Loop 'Web 2.0'<->'Web services'\n"
       ]
      },
      {
       "output_type": "stream",
       "stream": "stderr",
       "text": [
        "WARNING:root:Loop 'Data-centric programming languages'<->'Persistent programming languages'\n"
       ]
      },
      {
       "output_type": "stream",
       "stream": "stderr",
       "text": [
        "WARNING:root:Loop 'File hosting'<->'Cloud storage'\n"
       ]
      },
      {
       "output_type": "stream",
       "stream": "stderr",
       "text": [
        "WARNING:root:Loop 'Computing in fiction'<->'Artificial intelligence in fiction'\n"
       ]
      },
      {
       "output_type": "stream",
       "stream": "stderr",
       "text": [
        "WARNING:root:Loop 'Social information processing'<->'Collective intelligence'\n"
       ]
      },
      {
       "output_type": "stream",
       "stream": "stderr",
       "text": [
        "WARNING:root:Loop 'Persistent programming languages'<->'Data-centric programming languages'\n"
       ]
      },
      {
       "output_type": "stream",
       "stream": "stderr",
       "text": [
        "WARNING:root:Loop 'Distributed data storage systems'<->'File sharing networks'\n"
       ]
      },
      {
       "output_type": "stream",
       "stream": "stderr",
       "text": [
        "WARNING:root:Loop 'Trees (set theory)'<->'Trees (graph theory)'\n"
       ]
      },
      {
       "output_type": "stream",
       "stream": "stderr",
       "text": [
        "WARNING:root:Loop 'Real-time web'<->'Web 2.0'\n"
       ]
      },
      {
       "output_type": "stream",
       "stream": "stderr",
       "text": [
        "WARNING:root:Loop 'Free medical software'<->'Free healthcare software'\n"
       ]
      },
      {
       "output_type": "stream",
       "stream": "stdout",
       "text": [
        "\n",
        "Fold 5"
       ]
      },
      {
       "output_type": "stream",
       "stream": "stderr",
       "text": [
        "WARNING:root:Loop 'Computer data'<->'Data processing'\n"
       ]
      },
      {
       "output_type": "stream",
       "stream": "stderr",
       "text": [
        "WARNING:root:Loop 'Data'<->'Computer data'\n"
       ]
      },
      {
       "output_type": "stream",
       "stream": "stderr",
       "text": [
        "WARNING:root:Loop 'Internet search'<->'Real-time web'\n"
       ]
      },
      {
       "output_type": "stream",
       "stream": "stderr",
       "text": [
        "WARNING:root:Loop 'Web 2.0'<->'Web services'\n"
       ]
      },
      {
       "output_type": "stream",
       "stream": "stderr",
       "text": [
        "WARNING:root:Loop 'Collation'<->'Alphabets'\n"
       ]
      },
      {
       "output_type": "stream",
       "stream": "stderr",
       "text": [
        "WARNING:root:Loop 'Cloud storage'<->'File hosting'\n"
       ]
      },
      {
       "output_type": "stream",
       "stream": "stderr",
       "text": [
        "WARNING:root:Loop 'Data-centric programming languages'<->'Persistent programming languages'\n"
       ]
      },
      {
       "output_type": "stream",
       "stream": "stderr",
       "text": [
        "WARNING:root:Loop 'File hosting'<->'Cloud storage'\n"
       ]
      },
      {
       "output_type": "stream",
       "stream": "stderr",
       "text": [
        "WARNING:root:Loop 'Distributed data storage'<->'Distributed data storage systems'\n"
       ]
      },
      {
       "output_type": "stream",
       "stream": "stderr",
       "text": [
        "WARNING:root:Loop 'Distributed data storage'<->'File sharing networks'\n"
       ]
      },
      {
       "output_type": "stream",
       "stream": "stderr",
       "text": [
        "WARNING:root:Loop 'Web services'<->'Internet search'\n"
       ]
      },
      {
       "output_type": "stream",
       "stream": "stderr",
       "text": [
        "WARNING:root:Loop 'Computing in fiction'<->'Artificial intelligence in fiction'\n"
       ]
      },
      {
       "output_type": "stream",
       "stream": "stderr",
       "text": [
        "WARNING:root:Loop 'Social information processing'<->'Collective intelligence'\n"
       ]
      },
      {
       "output_type": "stream",
       "stream": "stderr",
       "text": [
        "WARNING:root:Loop 'Internet activism'<->'Internet-based activism'\n"
       ]
      },
      {
       "output_type": "stream",
       "stream": "stderr",
       "text": [
        "WARNING:root:Loop 'Music software'<->'Audio software'\n"
       ]
      },
      {
       "output_type": "stream",
       "stream": "stderr",
       "text": [
        "WARNING:root:Loop 'Persistent programming languages'<->'Data-centric programming languages'\n"
       ]
      },
      {
       "output_type": "stream",
       "stream": "stderr",
       "text": [
        "WARNING:root:Loop 'Video game clones'<->'Unauthorized video games'\n"
       ]
      },
      {
       "output_type": "stream",
       "stream": "stderr",
       "text": [
        "WARNING:root:Loop 'Collective intelligence'<->'Social information processing'\n"
       ]
      },
      {
       "output_type": "stream",
       "stream": "stderr",
       "text": [
        "WARNING:root:Loop 'Distributed data storage systems'<->'File sharing networks'\n"
       ]
      },
      {
       "output_type": "stream",
       "stream": "stderr",
       "text": [
        "WARNING:root:Loop 'Government services web portals in the United States'<->'Website article topics with .gov domain names'\n"
       ]
      },
      {
       "output_type": "stream",
       "stream": "stderr",
       "text": [
        "WARNING:root:Loop 'Website article topics with .gov domain names'<->'Government services web portals in the United States'\n"
       ]
      },
      {
       "output_type": "stream",
       "stream": "stderr",
       "text": [
        "WARNING:root:Loop 'Trees (set theory)'<->'Trees (graph theory)'\n"
       ]
      },
      {
       "output_type": "stream",
       "stream": "stderr",
       "text": [
        "WARNING:root:Loop 'File sharing networks'<->'Distributed data storage'\n"
       ]
      },
      {
       "output_type": "stream",
       "stream": "stderr",
       "text": [
        "WARNING:root:Loop 'Image processing'<->'Computer vision'\n"
       ]
      },
      {
       "output_type": "stream",
       "stream": "stderr",
       "text": [
        "WARNING:root:Loop 'Artificial intelligence in fiction'<->'Computing in fiction'\n"
       ]
      },
      {
       "output_type": "stream",
       "stream": "stderr",
       "text": [
        "WARNING:root:Loop 'Computer vision'<->'Image processing'\n"
       ]
      },
      {
       "output_type": "stream",
       "stream": "stderr",
       "text": [
        "WARNING:root:Loop 'Mobile phones'<->'Videotelephony'\n"
       ]
      },
      {
       "output_type": "stream",
       "stream": "stderr",
       "text": [
        "WARNING:root:Loop 'Real-time web'<->'Web 2.0'\n"
       ]
      },
      {
       "output_type": "stream",
       "stream": "stderr",
       "text": [
        "WARNING:root:Loop 'Videotelephony'<->'Mobile phones'\n"
       ]
      },
      {
       "output_type": "stream",
       "stream": "stderr",
       "text": [
        "WARNING:root:Loop 'Cyberpunk themes'<->'Cyberspace'\n"
       ]
      },
      {
       "output_type": "stream",
       "stream": "stderr",
       "text": [
        "WARNING:root:Loop 'Free healthcare software'<->'Free medical software'\n"
       ]
      },
      {
       "output_type": "stream",
       "stream": "stderr",
       "text": [
        "WARNING:root:Loop 'Audio software'<->'Music software'\n"
       ]
      },
      {
       "output_type": "stream",
       "stream": "stderr",
       "text": [
        "WARNING:root:Loop 'Free medical software'<->'Free healthcare software'\n"
       ]
      },
      {
       "output_type": "stream",
       "stream": "stderr",
       "text": [
        "WARNING:root:Loop 'Unauthorized video games'<->'Video game clones'\n"
       ]
      },
      {
       "output_type": "stream",
       "stream": "stdout",
       "text": [
        "\n",
        "Fold 1"
       ]
      },
      {
       "output_type": "stream",
       "stream": "stderr",
       "text": [
        "WARNING:root:Loop 'Computer data'<->'Data processing'\n"
       ]
      },
      {
       "output_type": "stream",
       "stream": "stderr",
       "text": [
        "WARNING:root:Loop 'Data'<->'Computer data'\n"
       ]
      },
      {
       "output_type": "stream",
       "stream": "stderr",
       "text": [
        "WARNING:root:Loop 'Internet search'<->'Real-time web'\n"
       ]
      },
      {
       "output_type": "stream",
       "stream": "stderr",
       "text": [
        "WARNING:root:Loop 'Web 2.0'<->'Web services'\n"
       ]
      },
      {
       "output_type": "stream",
       "stream": "stderr",
       "text": [
        "WARNING:root:Loop 'Collation'<->'Alphabets'\n"
       ]
      },
      {
       "output_type": "stream",
       "stream": "stderr",
       "text": [
        "WARNING:root:Loop 'Cloud storage'<->'File hosting'\n"
       ]
      },
      {
       "output_type": "stream",
       "stream": "stderr",
       "text": [
        "WARNING:root:Loop 'Data-centric programming languages'<->'Persistent programming languages'\n"
       ]
      },
      {
       "output_type": "stream",
       "stream": "stderr",
       "text": [
        "WARNING:root:Loop 'File hosting'<->'Cloud storage'\n"
       ]
      },
      {
       "output_type": "stream",
       "stream": "stderr",
       "text": [
        "WARNING:root:Loop 'Distributed data storage'<->'Distributed data storage systems'\n"
       ]
      },
      {
       "output_type": "stream",
       "stream": "stderr",
       "text": [
        "WARNING:root:Loop 'Distributed data storage'<->'File sharing networks'\n"
       ]
      },
      {
       "output_type": "stream",
       "stream": "stderr",
       "text": [
        "WARNING:root:Loop 'Web services'<->'Internet search'\n"
       ]
      },
      {
       "output_type": "stream",
       "stream": "stderr",
       "text": [
        "WARNING:root:Loop 'Computing in fiction'<->'Artificial intelligence in fiction'\n"
       ]
      },
      {
       "output_type": "stream",
       "stream": "stderr",
       "text": [
        "WARNING:root:Loop 'Social information processing'<->'Collective intelligence'\n"
       ]
      },
      {
       "output_type": "stream",
       "stream": "stderr",
       "text": [
        "WARNING:root:Loop 'Internet activism'<->'Internet-based activism'\n"
       ]
      },
      {
       "output_type": "stream",
       "stream": "stderr",
       "text": [
        "WARNING:root:Loop 'Music software'<->'Audio software'\n"
       ]
      },
      {
       "output_type": "stream",
       "stream": "stderr",
       "text": [
        "WARNING:root:Loop 'Persistent programming languages'<->'Data-centric programming languages'\n"
       ]
      },
      {
       "output_type": "stream",
       "stream": "stderr",
       "text": [
        "WARNING:root:Loop 'Video game clones'<->'Unauthorized video games'\n"
       ]
      },
      {
       "output_type": "stream",
       "stream": "stderr",
       "text": [
        "WARNING:root:Loop 'Collective intelligence'<->'Social information processing'\n"
       ]
      },
      {
       "output_type": "stream",
       "stream": "stderr",
       "text": [
        "WARNING:root:Loop 'Distributed data storage systems'<->'File sharing networks'\n"
       ]
      },
      {
       "output_type": "stream",
       "stream": "stderr",
       "text": [
        "WARNING:root:Loop 'Government services web portals in the United States'<->'Website article topics with .gov domain names'\n"
       ]
      },
      {
       "output_type": "stream",
       "stream": "stderr",
       "text": [
        "WARNING:root:Loop 'Trees (set theory)'<->'Trees (graph theory)'\n"
       ]
      },
      {
       "output_type": "stream",
       "stream": "stderr",
       "text": [
        "WARNING:root:Loop 'Computer vision'<->'Image processing'\n"
       ]
      },
      {
       "output_type": "stream",
       "stream": "stderr",
       "text": [
        "WARNING:root:Loop 'Real-time web'<->'Web 2.0'\n"
       ]
      },
      {
       "output_type": "stream",
       "stream": "stderr",
       "text": [
        "WARNING:root:Loop 'Videotelephony'<->'Mobile phones'\n"
       ]
      },
      {
       "output_type": "stream",
       "stream": "stderr",
       "text": [
        "WARNING:root:Loop 'Cyberpunk themes'<->'Cyberspace'\n"
       ]
      },
      {
       "output_type": "stream",
       "stream": "stderr",
       "text": [
        "WARNING:root:Loop 'Free healthcare software'<->'Free medical software'\n"
       ]
      },
      {
       "output_type": "stream",
       "stream": "stderr",
       "text": [
        "WARNING:root:Loop 'Audio software'<->'Music software'\n"
       ]
      },
      {
       "output_type": "stream",
       "stream": "stderr",
       "text": [
        "WARNING:root:Loop 'Free medical software'<->'Free healthcare software'\n"
       ]
      },
      {
       "output_type": "stream",
       "stream": "stderr",
       "text": [
        "WARNING:root:Loop 'Unauthorized video games'<->'Video game clones'\n"
       ]
      },
      {
       "output_type": "stream",
       "stream": "stderr",
       "text": [
        "WARNING:root:Loop 'Website article topics with .gov domain names'<->'Government services web portals in the United States'\n"
       ]
      },
      {
       "output_type": "stream",
       "stream": "stderr",
       "text": [
        "WARNING:root:Loop 'Unreal Engine'<->'Unreal Engine games'\n"
       ]
      },
      {
       "output_type": "stream",
       "stream": "stderr",
       "text": [
        "WARNING:root:Loop 'Audio engineering'<->'Audio electronics'\n"
       ]
      },
      {
       "output_type": "stream",
       "stream": "stderr",
       "text": [
        "WARNING:root:Loop 'Unreal Engine games'<->'Unreal'\n"
       ]
      },
      {
       "output_type": "stream",
       "stream": "stdout",
       "text": [
        "\n",
        "Fold 2"
       ]
      },
      {
       "output_type": "stream",
       "stream": "stderr",
       "text": [
        "WARNING:root:Loop 'Computer data'<->'Data processing'\n"
       ]
      },
      {
       "output_type": "stream",
       "stream": "stderr",
       "text": [
        "WARNING:root:Loop 'Data'<->'Computer data'\n"
       ]
      },
      {
       "output_type": "stream",
       "stream": "stderr",
       "text": [
        "WARNING:root:Loop 'Internet search'<->'Real-time web'\n"
       ]
      },
      {
       "output_type": "stream",
       "stream": "stderr",
       "text": [
        "WARNING:root:Loop 'Web 2.0'<->'Web services'\n"
       ]
      },
      {
       "output_type": "stream",
       "stream": "stderr",
       "text": [
        "WARNING:root:Loop 'Collation'<->'Alphabets'\n"
       ]
      },
      {
       "output_type": "stream",
       "stream": "stderr",
       "text": [
        "WARNING:root:Loop 'Cloud storage'<->'File hosting'\n"
       ]
      },
      {
       "output_type": "stream",
       "stream": "stderr",
       "text": [
        "WARNING:root:Loop 'Data-centric programming languages'<->'Persistent programming languages'\n"
       ]
      },
      {
       "output_type": "stream",
       "stream": "stderr",
       "text": [
        "WARNING:root:Loop 'File hosting'<->'Cloud storage'\n"
       ]
      },
      {
       "output_type": "stream",
       "stream": "stderr",
       "text": [
        "WARNING:root:Loop 'Distributed data storage'<->'Distributed data storage systems'\n"
       ]
      },
      {
       "output_type": "stream",
       "stream": "stderr",
       "text": [
        "WARNING:root:Loop 'Distributed data storage'<->'File sharing networks'\n"
       ]
      },
      {
       "output_type": "stream",
       "stream": "stderr",
       "text": [
        "WARNING:root:Loop 'Web services'<->'Internet search'\n"
       ]
      },
      {
       "output_type": "stream",
       "stream": "stderr",
       "text": [
        "WARNING:root:Loop 'Computing in fiction'<->'Artificial intelligence in fiction'\n"
       ]
      },
      {
       "output_type": "stream",
       "stream": "stderr",
       "text": [
        "WARNING:root:Loop 'Social information processing'<->'Collective intelligence'\n"
       ]
      },
      {
       "output_type": "stream",
       "stream": "stderr",
       "text": [
        "WARNING:root:Loop 'Internet activism'<->'Internet-based activism'\n"
       ]
      },
      {
       "output_type": "stream",
       "stream": "stderr",
       "text": [
        "WARNING:root:Loop 'Music software'<->'Audio software'\n"
       ]
      },
      {
       "output_type": "stream",
       "stream": "stderr",
       "text": [
        "WARNING:root:Loop 'Persistent programming languages'<->'Data-centric programming languages'\n"
       ]
      },
      {
       "output_type": "stream",
       "stream": "stderr",
       "text": [
        "WARNING:root:Loop 'Video game clones'<->'Unauthorized video games'\n"
       ]
      },
      {
       "output_type": "stream",
       "stream": "stderr",
       "text": [
        "WARNING:root:Loop 'Collective intelligence'<->'Social information processing'\n"
       ]
      },
      {
       "output_type": "stream",
       "stream": "stderr",
       "text": [
        "WARNING:root:Loop 'Real-time web'<->'Web 2.0'\n"
       ]
      },
      {
       "output_type": "stream",
       "stream": "stdout",
       "text": [
        "\n",
        "Fold 3"
       ]
      },
      {
       "output_type": "stream",
       "stream": "stderr",
       "text": [
        "WARNING:root:Loop 'Computer data'<->'Data processing'\n"
       ]
      },
      {
       "output_type": "stream",
       "stream": "stderr",
       "text": [
        "WARNING:root:Loop 'Data'<->'Computer data'\n"
       ]
      },
      {
       "output_type": "stream",
       "stream": "stderr",
       "text": [
        "WARNING:root:Loop 'Internet search'<->'Real-time web'\n"
       ]
      },
      {
       "output_type": "stream",
       "stream": "stderr",
       "text": [
        "WARNING:root:Loop 'Web 2.0'<->'Web services'\n"
       ]
      },
      {
       "output_type": "stream",
       "stream": "stderr",
       "text": [
        "WARNING:root:Loop 'Collation'<->'Alphabets'\n"
       ]
      },
      {
       "output_type": "stream",
       "stream": "stderr",
       "text": [
        "WARNING:root:Loop 'Cloud storage'<->'File hosting'\n"
       ]
      },
      {
       "output_type": "stream",
       "stream": "stderr",
       "text": [
        "WARNING:root:Loop 'Data-centric programming languages'<->'Persistent programming languages'\n"
       ]
      },
      {
       "output_type": "stream",
       "stream": "stderr",
       "text": [
        "WARNING:root:Loop 'File hosting'<->'Cloud storage'\n"
       ]
      },
      {
       "output_type": "stream",
       "stream": "stderr",
       "text": [
        "WARNING:root:Loop 'Distributed data storage'<->'Distributed data storage systems'\n"
       ]
      },
      {
       "output_type": "stream",
       "stream": "stderr",
       "text": [
        "WARNING:root:Loop 'Distributed data storage'<->'File sharing networks'\n"
       ]
      },
      {
       "output_type": "stream",
       "stream": "stderr",
       "text": [
        "WARNING:root:Loop 'Web services'<->'Internet search'\n"
       ]
      },
      {
       "output_type": "stream",
       "stream": "stderr",
       "text": [
        "WARNING:root:Loop 'Computing in fiction'<->'Artificial intelligence in fiction'\n"
       ]
      },
      {
       "output_type": "stream",
       "stream": "stderr",
       "text": [
        "WARNING:root:Loop 'Social information processing'<->'Collective intelligence'\n"
       ]
      },
      {
       "output_type": "stream",
       "stream": "stderr",
       "text": [
        "WARNING:root:Loop 'Internet activism'<->'Internet-based activism'\n"
       ]
      },
      {
       "output_type": "stream",
       "stream": "stderr",
       "text": [
        "WARNING:root:Loop 'Music software'<->'Audio software'\n"
       ]
      },
      {
       "output_type": "stream",
       "stream": "stderr",
       "text": [
        "WARNING:root:Loop 'Persistent programming languages'<->'Data-centric programming languages'\n"
       ]
      },
      {
       "output_type": "stream",
       "stream": "stderr",
       "text": [
        "WARNING:root:Loop 'Video game clones'<->'Unauthorized video games'\n"
       ]
      },
      {
       "output_type": "stream",
       "stream": "stderr",
       "text": [
        "WARNING:root:Loop 'Collective intelligence'<->'Social information processing'\n"
       ]
      },
      {
       "output_type": "stream",
       "stream": "stderr",
       "text": [
        "WARNING:root:Loop 'Distributed data storage systems'<->'File sharing networks'\n"
       ]
      },
      {
       "output_type": "stream",
       "stream": "stderr",
       "text": [
        "WARNING:root:Loop 'Government services web portals in the United States'<->'Website article topics with .gov domain names'\n"
       ]
      },
      {
       "output_type": "stream",
       "stream": "stderr",
       "text": [
        "WARNING:root:Loop 'Website article topics with .gov domain names'<->'Government services web portals in the United States'\n"
       ]
      },
      {
       "output_type": "stream",
       "stream": "stderr",
       "text": [
        "WARNING:root:Loop 'Trees (set theory)'<->'Trees (graph theory)'\n"
       ]
      },
      {
       "output_type": "stream",
       "stream": "stderr",
       "text": [
        "WARNING:root:Loop 'File sharing networks'<->'Distributed data storage'\n"
       ]
      },
      {
       "output_type": "stream",
       "stream": "stderr",
       "text": [
        "WARNING:root:Loop 'Image processing'<->'Computer vision'\n"
       ]
      },
      {
       "output_type": "stream",
       "stream": "stderr",
       "text": [
        "WARNING:root:Loop 'Artificial intelligence in fiction'<->'Computing in fiction'\n"
       ]
      },
      {
       "output_type": "stream",
       "stream": "stderr",
       "text": [
        "WARNING:root:Loop 'Computer vision'<->'Image processing'\n"
       ]
      },
      {
       "output_type": "stream",
       "stream": "stderr",
       "text": [
        "WARNING:root:Loop 'Mobile phones'<->'Videotelephony'\n"
       ]
      },
      {
       "output_type": "stream",
       "stream": "stderr",
       "text": [
        "WARNING:root:Loop 'Real-time web'<->'Web 2.0'\n"
       ]
      },
      {
       "output_type": "stream",
       "stream": "stderr",
       "text": [
        "WARNING:root:Loop 'Videotelephony'<->'Mobile phones'\n"
       ]
      },
      {
       "output_type": "stream",
       "stream": "stderr",
       "text": [
        "WARNING:root:Loop 'Cyberpunk themes'<->'Cyberspace'\n"
       ]
      },
      {
       "output_type": "stream",
       "stream": "stderr",
       "text": [
        "WARNING:root:Loop 'Free healthcare software'<->'Free medical software'\n"
       ]
      },
      {
       "output_type": "stream",
       "stream": "stderr",
       "text": [
        "WARNING:root:Loop 'Audio software'<->'Music software'\n"
       ]
      },
      {
       "output_type": "stream",
       "stream": "stderr",
       "text": [
        "WARNING:root:Loop 'Free medical software'<->'Free healthcare software'\n"
       ]
      },
      {
       "output_type": "stream",
       "stream": "stderr",
       "text": [
        "WARNING:root:Loop 'Unauthorized video games'<->'Video game clones'\n"
       ]
      },
      {
       "output_type": "stream",
       "stream": "stdout",
       "text": [
        "\n",
        "Fold 4"
       ]
      },
      {
       "output_type": "stream",
       "stream": "stderr",
       "text": [
        "WARNING:root:Loop 'Computer data'<->'Data processing'\n"
       ]
      },
      {
       "output_type": "stream",
       "stream": "stderr",
       "text": [
        "WARNING:root:Loop 'Data'<->'Computer data'\n"
       ]
      },
      {
       "output_type": "stream",
       "stream": "stderr",
       "text": [
        "WARNING:root:Loop 'Internet search'<->'Real-time web'\n"
       ]
      },
      {
       "output_type": "stream",
       "stream": "stderr",
       "text": [
        "WARNING:root:Loop 'Web 2.0'<->'Web services'\n"
       ]
      },
      {
       "output_type": "stream",
       "stream": "stderr",
       "text": [
        "WARNING:root:Loop 'Collation'<->'Alphabets'\n"
       ]
      },
      {
       "output_type": "stream",
       "stream": "stderr",
       "text": [
        "WARNING:root:Loop 'Cloud storage'<->'File hosting'\n"
       ]
      },
      {
       "output_type": "stream",
       "stream": "stderr",
       "text": [
        "WARNING:root:Loop 'Data-centric programming languages'<->'Persistent programming languages'\n"
       ]
      },
      {
       "output_type": "stream",
       "stream": "stderr",
       "text": [
        "WARNING:root:Loop 'File hosting'<->'Cloud storage'\n"
       ]
      },
      {
       "output_type": "stream",
       "stream": "stderr",
       "text": [
        "WARNING:root:Loop 'Distributed data storage'<->'Distributed data storage systems'\n"
       ]
      },
      {
       "output_type": "stream",
       "stream": "stderr",
       "text": [
        "WARNING:root:Loop 'Distributed data storage'<->'File sharing networks'\n"
       ]
      },
      {
       "output_type": "stream",
       "stream": "stderr",
       "text": [
        "WARNING:root:Loop 'Web services'<->'Internet search'\n"
       ]
      },
      {
       "output_type": "stream",
       "stream": "stderr",
       "text": [
        "WARNING:root:Loop 'Computing in fiction'<->'Artificial intelligence in fiction'\n"
       ]
      },
      {
       "output_type": "stream",
       "stream": "stderr",
       "text": [
        "WARNING:root:Loop 'Social information processing'<->'Collective intelligence'\n"
       ]
      },
      {
       "output_type": "stream",
       "stream": "stderr",
       "text": [
        "WARNING:root:Loop 'Internet activism'<->'Internet-based activism'\n"
       ]
      },
      {
       "output_type": "stream",
       "stream": "stderr",
       "text": [
        "WARNING:root:Loop 'Music software'<->'Audio software'\n"
       ]
      },
      {
       "output_type": "stream",
       "stream": "stderr",
       "text": [
        "WARNING:root:Loop 'Persistent programming languages'<->'Data-centric programming languages'\n"
       ]
      },
      {
       "output_type": "stream",
       "stream": "stderr",
       "text": [
        "WARNING:root:Loop 'Video game clones'<->'Unauthorized video games'\n"
       ]
      },
      {
       "output_type": "stream",
       "stream": "stderr",
       "text": [
        "WARNING:root:Loop 'Collective intelligence'<->'Social information processing'\n"
       ]
      },
      {
       "output_type": "stream",
       "stream": "stderr",
       "text": [
        "WARNING:root:Loop 'Distributed data storage systems'<->'File sharing networks'\n"
       ]
      },
      {
       "output_type": "stream",
       "stream": "stderr",
       "text": [
        "WARNING:root:Loop 'Government services web portals in the United States'<->'Website article topics with .gov domain names'\n"
       ]
      },
      {
       "output_type": "stream",
       "stream": "stderr",
       "text": [
        "WARNING:root:Loop 'Website article topics with .gov domain names'<->'Government services web portals in the United States'\n"
       ]
      },
      {
       "output_type": "stream",
       "stream": "stderr",
       "text": [
        "WARNING:root:Loop 'Trees (set theory)'<->'Trees (graph theory)'\n"
       ]
      },
      {
       "output_type": "stream",
       "stream": "stderr",
       "text": [
        "WARNING:root:Loop 'File sharing networks'<->'Distributed data storage'\n"
       ]
      },
      {
       "output_type": "stream",
       "stream": "stderr",
       "text": [
        "WARNING:root:Loop 'Image processing'<->'Computer vision'\n"
       ]
      },
      {
       "output_type": "stream",
       "stream": "stderr",
       "text": [
        "WARNING:root:Loop 'Artificial intelligence in fiction'<->'Computing in fiction'\n"
       ]
      },
      {
       "output_type": "stream",
       "stream": "stderr",
       "text": [
        "WARNING:root:Loop 'Computer vision'<->'Image processing'\n"
       ]
      },
      {
       "output_type": "stream",
       "stream": "stderr",
       "text": [
        "WARNING:root:Loop 'Mobile phones'<->'Videotelephony'\n"
       ]
      },
      {
       "output_type": "stream",
       "stream": "stderr",
       "text": [
        "WARNING:root:Loop 'Real-time web'<->'Web 2.0'\n"
       ]
      },
      {
       "output_type": "stream",
       "stream": "stderr",
       "text": [
        "WARNING:root:Loop 'Videotelephony'<->'Mobile phones'\n"
       ]
      },
      {
       "output_type": "stream",
       "stream": "stderr",
       "text": [
        "WARNING:root:Loop 'Cyberpunk themes'<->'Cyberspace'\n"
       ]
      },
      {
       "output_type": "stream",
       "stream": "stderr",
       "text": [
        "WARNING:root:Loop 'Free healthcare software'<->'Free medical software'\n"
       ]
      },
      {
       "output_type": "stream",
       "stream": "stderr",
       "text": [
        "WARNING:root:Loop 'Audio software'<->'Music software'\n"
       ]
      },
      {
       "output_type": "stream",
       "stream": "stderr",
       "text": [
        "WARNING:root:Loop 'Free medical software'<->'Free healthcare software'\n"
       ]
      },
      {
       "output_type": "stream",
       "stream": "stderr",
       "text": [
        "WARNING:root:Loop 'Unauthorized video games'<->'Video game clones'\n"
       ]
      },
      {
       "output_type": "stream",
       "stream": "stdout",
       "text": [
        "\n",
        "Fold 5"
       ]
      },
      {
       "output_type": "stream",
       "stream": "stderr",
       "text": [
        "WARNING:root:Loop 'Computer data'<->'Data processing'\n"
       ]
      },
      {
       "output_type": "stream",
       "stream": "stderr",
       "text": [
        "WARNING:root:Loop 'Data'<->'Computer data'\n"
       ]
      },
      {
       "output_type": "stream",
       "stream": "stderr",
       "text": [
        "WARNING:root:Loop 'Internet search'<->'Real-time web'\n"
       ]
      },
      {
       "output_type": "stream",
       "stream": "stderr",
       "text": [
        "WARNING:root:Loop 'Web 2.0'<->'Web services'\n"
       ]
      },
      {
       "output_type": "stream",
       "stream": "stderr",
       "text": [
        "WARNING:root:Loop 'Collation'<->'Alphabets'\n"
       ]
      },
      {
       "output_type": "stream",
       "stream": "stderr",
       "text": [
        "WARNING:root:Loop 'Cloud storage'<->'File hosting'\n"
       ]
      },
      {
       "output_type": "stream",
       "stream": "stderr",
       "text": [
        "WARNING:root:Loop 'Data-centric programming languages'<->'Persistent programming languages'\n"
       ]
      },
      {
       "output_type": "stream",
       "stream": "stderr",
       "text": [
        "WARNING:root:Loop 'File hosting'<->'Cloud storage'\n"
       ]
      },
      {
       "output_type": "stream",
       "stream": "stderr",
       "text": [
        "WARNING:root:Loop 'Distributed data storage'<->'Distributed data storage systems'\n"
       ]
      },
      {
       "output_type": "stream",
       "stream": "stderr",
       "text": [
        "WARNING:root:Loop 'Distributed data storage'<->'File sharing networks'\n"
       ]
      },
      {
       "output_type": "stream",
       "stream": "stderr",
       "text": [
        "WARNING:root:Loop 'Web services'<->'Internet search'\n"
       ]
      },
      {
       "output_type": "stream",
       "stream": "stderr",
       "text": [
        "WARNING:root:Loop 'Computing in fiction'<->'Artificial intelligence in fiction'\n"
       ]
      },
      {
       "output_type": "stream",
       "stream": "stderr",
       "text": [
        "WARNING:root:Loop 'Social information processing'<->'Collective intelligence'\n"
       ]
      },
      {
       "output_type": "stream",
       "stream": "stderr",
       "text": [
        "WARNING:root:Loop 'Internet activism'<->'Internet-based activism'\n"
       ]
      },
      {
       "output_type": "stream",
       "stream": "stderr",
       "text": [
        "WARNING:root:Loop 'Music software'<->'Audio software'\n"
       ]
      },
      {
       "output_type": "stream",
       "stream": "stderr",
       "text": [
        "WARNING:root:Loop 'Persistent programming languages'<->'Data-centric programming languages'\n"
       ]
      },
      {
       "output_type": "stream",
       "stream": "stderr",
       "text": [
        "WARNING:root:Loop 'Video game clones'<->'Unauthorized video games'\n"
       ]
      },
      {
       "output_type": "stream",
       "stream": "stderr",
       "text": [
        "WARNING:root:Loop 'Collective intelligence'<->'Social information processing'\n"
       ]
      },
      {
       "output_type": "stream",
       "stream": "stderr",
       "text": [
        "WARNING:root:Loop 'Distributed data storage systems'<->'File sharing networks'\n"
       ]
      },
      {
       "output_type": "stream",
       "stream": "stderr",
       "text": [
        "WARNING:root:Loop 'Government services web portals in the United States'<->'Website article topics with .gov domain names'\n"
       ]
      },
      {
       "output_type": "stream",
       "stream": "stderr",
       "text": [
        "WARNING:root:Loop 'Website article topics with .gov domain names'<->'Government services web portals in the United States'\n"
       ]
      },
      {
       "output_type": "stream",
       "stream": "stderr",
       "text": [
        "WARNING:root:Loop 'Trees (set theory)'<->'Trees (graph theory)'\n"
       ]
      },
      {
       "output_type": "stream",
       "stream": "stderr",
       "text": [
        "WARNING:root:Loop 'File sharing networks'<->'Distributed data storage'\n"
       ]
      },
      {
       "output_type": "stream",
       "stream": "stderr",
       "text": [
        "WARNING:root:Loop 'Image processing'<->'Computer vision'\n"
       ]
      },
      {
       "output_type": "stream",
       "stream": "stderr",
       "text": [
        "WARNING:root:Loop 'Artificial intelligence in fiction'<->'Computing in fiction'\n"
       ]
      },
      {
       "output_type": "stream",
       "stream": "stderr",
       "text": [
        "WARNING:root:Loop 'Computer vision'<->'Image processing'\n"
       ]
      },
      {
       "output_type": "stream",
       "stream": "stderr",
       "text": [
        "WARNING:root:Loop 'Mobile phones'<->'Videotelephony'\n"
       ]
      },
      {
       "output_type": "stream",
       "stream": "stderr",
       "text": [
        "WARNING:root:Loop 'Real-time web'<->'Web 2.0'\n"
       ]
      },
      {
       "output_type": "stream",
       "stream": "stderr",
       "text": [
        "WARNING:root:Loop 'Videotelephony'<->'Mobile phones'\n"
       ]
      },
      {
       "output_type": "stream",
       "stream": "stderr",
       "text": [
        "WARNING:root:Loop 'Cyberpunk themes'<->'Cyberspace'\n"
       ]
      },
      {
       "output_type": "stream",
       "stream": "stderr",
       "text": [
        "WARNING:root:Loop 'Free healthcare software'<->'Free medical software'\n"
       ]
      },
      {
       "output_type": "stream",
       "stream": "stderr",
       "text": [
        "WARNING:root:Loop 'Audio software'<->'Music software'\n"
       ]
      },
      {
       "output_type": "stream",
       "stream": "stderr",
       "text": [
        "WARNING:root:Loop 'Free medical software'<->'Free healthcare software'\n"
       ]
      },
      {
       "output_type": "stream",
       "stream": "stderr",
       "text": [
        "WARNING:root:Loop 'Unauthorized video games'<->'Video game clones'\n"
       ]
      },
      {
       "output_type": "stream",
       "stream": "stdout",
       "text": [
        "\n",
        "Fold 1"
       ]
      },
      {
       "output_type": "stream",
       "stream": "stderr",
       "text": [
        "WARNING:root:Loop 'Computer data'<->'Data processing'\n"
       ]
      },
      {
       "output_type": "stream",
       "stream": "stderr",
       "text": [
        "WARNING:root:Loop 'Data'<->'Computer data'\n"
       ]
      },
      {
       "output_type": "stream",
       "stream": "stderr",
       "text": [
        "WARNING:root:Loop 'Internet search'<->'Real-time web'\n"
       ]
      },
      {
       "output_type": "stream",
       "stream": "stderr",
       "text": [
        "WARNING:root:Loop 'Web 2.0'<->'Web services'\n"
       ]
      },
      {
       "output_type": "stream",
       "stream": "stderr",
       "text": [
        "WARNING:root:Loop 'Collation'<->'Alphabets'\n"
       ]
      },
      {
       "output_type": "stream",
       "stream": "stderr",
       "text": [
        "WARNING:root:Loop 'Cloud storage'<->'File hosting'\n"
       ]
      },
      {
       "output_type": "stream",
       "stream": "stderr",
       "text": [
        "WARNING:root:Loop 'Data-centric programming languages'<->'Persistent programming languages'\n"
       ]
      },
      {
       "output_type": "stream",
       "stream": "stderr",
       "text": [
        "WARNING:root:Loop 'File hosting'<->'Cloud storage'\n"
       ]
      },
      {
       "output_type": "stream",
       "stream": "stderr",
       "text": [
        "WARNING:root:Loop 'Distributed data storage'<->'Distributed data storage systems'\n"
       ]
      },
      {
       "output_type": "stream",
       "stream": "stderr",
       "text": [
        "WARNING:root:Loop 'Distributed data storage'<->'File sharing networks'\n"
       ]
      },
      {
       "output_type": "stream",
       "stream": "stderr",
       "text": [
        "WARNING:root:Loop 'Web services'<->'Internet search'\n"
       ]
      },
      {
       "output_type": "stream",
       "stream": "stderr",
       "text": [
        "WARNING:root:Loop 'Computing in fiction'<->'Artificial intelligence in fiction'\n"
       ]
      },
      {
       "output_type": "stream",
       "stream": "stderr",
       "text": [
        "WARNING:root:Loop 'Social information processing'<->'Collective intelligence'\n"
       ]
      },
      {
       "output_type": "stream",
       "stream": "stderr",
       "text": [
        "WARNING:root:Loop 'Music software'<->'Audio software'\n"
       ]
      },
      {
       "output_type": "stream",
       "stream": "stderr",
       "text": [
        "WARNING:root:Loop 'Persistent programming languages'<->'Data-centric programming languages'\n"
       ]
      },
      {
       "output_type": "stream",
       "stream": "stderr",
       "text": [
        "WARNING:root:Loop 'Video game clones'<->'Unauthorized video games'\n"
       ]
      },
      {
       "output_type": "stream",
       "stream": "stderr",
       "text": [
        "WARNING:root:Loop 'Collective intelligence'<->'Social information processing'\n"
       ]
      },
      {
       "output_type": "stream",
       "stream": "stderr",
       "text": [
        "WARNING:root:Loop 'Distributed data storage systems'<->'File sharing networks'\n"
       ]
      },
      {
       "output_type": "stream",
       "stream": "stderr",
       "text": [
        "WARNING:root:Loop 'Government services web portals in the United States'<->'Website article topics with .gov domain names'\n"
       ]
      },
      {
       "output_type": "stream",
       "stream": "stderr",
       "text": [
        "WARNING:root:Loop 'Trees (set theory)'<->'Trees (graph theory)'\n"
       ]
      },
      {
       "output_type": "stream",
       "stream": "stderr",
       "text": [
        "WARNING:root:Loop 'Computer vision'<->'Image processing'\n"
       ]
      },
      {
       "output_type": "stream",
       "stream": "stderr",
       "text": [
        "WARNING:root:Loop 'Real-time web'<->'Web 2.0'\n"
       ]
      },
      {
       "output_type": "stream",
       "stream": "stderr",
       "text": [
        "WARNING:root:Loop 'Videotelephony'<->'Mobile phones'\n"
       ]
      },
      {
       "output_type": "stream",
       "stream": "stderr",
       "text": [
        "WARNING:root:Loop 'Cyberpunk themes'<->'Cyberspace'\n"
       ]
      },
      {
       "output_type": "stream",
       "stream": "stderr",
       "text": [
        "WARNING:root:Loop 'Free healthcare software'<->'Free medical software'\n"
       ]
      },
      {
       "output_type": "stream",
       "stream": "stderr",
       "text": [
        "WARNING:root:Loop 'Audio software'<->'Music software'\n"
       ]
      },
      {
       "output_type": "stream",
       "stream": "stderr",
       "text": [
        "WARNING:root:Loop 'Free medical software'<->'Free healthcare software'\n"
       ]
      },
      {
       "output_type": "stream",
       "stream": "stderr",
       "text": [
        "WARNING:root:Loop 'Unreal Engine'<->'Unreal Engine games'\n"
       ]
      },
      {
       "output_type": "stream",
       "stream": "stdout",
       "text": [
        "\n",
        "Fold 2"
       ]
      },
      {
       "output_type": "stream",
       "stream": "stderr",
       "text": [
        "WARNING:root:Loop 'Computer data'<->'Data processing'\n"
       ]
      },
      {
       "output_type": "stream",
       "stream": "stderr",
       "text": [
        "WARNING:root:Loop 'Data'<->'Computer data'\n"
       ]
      },
      {
       "output_type": "stream",
       "stream": "stderr",
       "text": [
        "WARNING:root:Loop 'Internet search'<->'Real-time web'\n"
       ]
      },
      {
       "output_type": "stream",
       "stream": "stderr",
       "text": [
        "WARNING:root:Loop 'Web 2.0'<->'Web services'\n"
       ]
      },
      {
       "output_type": "stream",
       "stream": "stderr",
       "text": [
        "WARNING:root:Loop 'Collation'<->'Alphabets'\n"
       ]
      },
      {
       "output_type": "stream",
       "stream": "stderr",
       "text": [
        "WARNING:root:Loop 'Cloud storage'<->'File hosting'\n"
       ]
      },
      {
       "output_type": "stream",
       "stream": "stderr",
       "text": [
        "WARNING:root:Loop 'Data-centric programming languages'<->'Persistent programming languages'\n"
       ]
      },
      {
       "output_type": "stream",
       "stream": "stderr",
       "text": [
        "WARNING:root:Loop 'File hosting'<->'Cloud storage'\n"
       ]
      },
      {
       "output_type": "stream",
       "stream": "stderr",
       "text": [
        "WARNING:root:Loop 'Distributed data storage'<->'Distributed data storage systems'\n"
       ]
      },
      {
       "output_type": "stream",
       "stream": "stderr",
       "text": [
        "WARNING:root:Loop 'Distributed data storage'<->'File sharing networks'\n"
       ]
      },
      {
       "output_type": "stream",
       "stream": "stderr",
       "text": [
        "WARNING:root:Loop 'Web services'<->'Internet search'\n"
       ]
      },
      {
       "output_type": "stream",
       "stream": "stderr",
       "text": [
        "WARNING:root:Loop 'Computing in fiction'<->'Artificial intelligence in fiction'\n"
       ]
      },
      {
       "output_type": "stream",
       "stream": "stderr",
       "text": [
        "WARNING:root:Loop 'Social information processing'<->'Collective intelligence'\n"
       ]
      },
      {
       "output_type": "stream",
       "stream": "stderr",
       "text": [
        "WARNING:root:Loop 'Internet activism'<->'Internet-based activism'\n"
       ]
      },
      {
       "output_type": "stream",
       "stream": "stderr",
       "text": [
        "WARNING:root:Loop 'Music software'<->'Audio software'\n"
       ]
      },
      {
       "output_type": "stream",
       "stream": "stderr",
       "text": [
        "WARNING:root:Loop 'Persistent programming languages'<->'Data-centric programming languages'\n"
       ]
      },
      {
       "output_type": "stream",
       "stream": "stderr",
       "text": [
        "WARNING:root:Loop 'Video game clones'<->'Unauthorized video games'\n"
       ]
      },
      {
       "output_type": "stream",
       "stream": "stderr",
       "text": [
        "WARNING:root:Loop 'Collective intelligence'<->'Social information processing'\n"
       ]
      },
      {
       "output_type": "stream",
       "stream": "stderr",
       "text": [
        "WARNING:root:Loop 'File sharing networks'<->'Distributed data storage'\n"
       ]
      },
      {
       "output_type": "stream",
       "stream": "stderr",
       "text": [
        "WARNING:root:Loop 'Real-time web'<->'Web 2.0'\n"
       ]
      },
      {
       "output_type": "stream",
       "stream": "stderr",
       "text": [
        "WARNING:root:Loop 'Audio software'<->'Music software'\n"
       ]
      },
      {
       "output_type": "stream",
       "stream": "stderr",
       "text": [
        "WARNING:root:Loop 'Unauthorized video games'<->'Video game clones'\n"
       ]
      },
      {
       "output_type": "stream",
       "stream": "stdout",
       "text": [
        "\n",
        "Fold 3"
       ]
      },
      {
       "output_type": "stream",
       "stream": "stderr",
       "text": [
        "WARNING:root:Loop 'Computer data'<->'Data processing'\n"
       ]
      },
      {
       "output_type": "stream",
       "stream": "stderr",
       "text": [
        "WARNING:root:Loop 'Data'<->'Computer data'\n"
       ]
      },
      {
       "output_type": "stream",
       "stream": "stderr",
       "text": [
        "WARNING:root:Loop 'Internet search'<->'Real-time web'\n"
       ]
      },
      {
       "output_type": "stream",
       "stream": "stderr",
       "text": [
        "WARNING:root:Loop 'Web 2.0'<->'Web services'\n"
       ]
      },
      {
       "output_type": "stream",
       "stream": "stderr",
       "text": [
        "WARNING:root:Loop 'Collation'<->'Alphabets'\n"
       ]
      },
      {
       "output_type": "stream",
       "stream": "stderr",
       "text": [
        "WARNING:root:Loop 'Cloud storage'<->'File hosting'\n"
       ]
      },
      {
       "output_type": "stream",
       "stream": "stderr",
       "text": [
        "WARNING:root:Loop 'Data-centric programming languages'<->'Persistent programming languages'\n"
       ]
      },
      {
       "output_type": "stream",
       "stream": "stderr",
       "text": [
        "WARNING:root:Loop 'File hosting'<->'Cloud storage'\n"
       ]
      },
      {
       "output_type": "stream",
       "stream": "stderr",
       "text": [
        "WARNING:root:Loop 'Distributed data storage'<->'Distributed data storage systems'\n"
       ]
      },
      {
       "output_type": "stream",
       "stream": "stderr",
       "text": [
        "WARNING:root:Loop 'Distributed data storage'<->'File sharing networks'\n"
       ]
      },
      {
       "output_type": "stream",
       "stream": "stderr",
       "text": [
        "WARNING:root:Loop 'Web services'<->'Internet search'\n"
       ]
      },
      {
       "output_type": "stream",
       "stream": "stderr",
       "text": [
        "WARNING:root:Loop 'Computing in fiction'<->'Artificial intelligence in fiction'\n"
       ]
      },
      {
       "output_type": "stream",
       "stream": "stderr",
       "text": [
        "WARNING:root:Loop 'Social information processing'<->'Collective intelligence'\n"
       ]
      },
      {
       "output_type": "stream",
       "stream": "stderr",
       "text": [
        "WARNING:root:Loop 'Internet activism'<->'Internet-based activism'\n"
       ]
      },
      {
       "output_type": "stream",
       "stream": "stderr",
       "text": [
        "WARNING:root:Loop 'Music software'<->'Audio software'\n"
       ]
      },
      {
       "output_type": "stream",
       "stream": "stderr",
       "text": [
        "WARNING:root:Loop 'Persistent programming languages'<->'Data-centric programming languages'\n"
       ]
      },
      {
       "output_type": "stream",
       "stream": "stderr",
       "text": [
        "WARNING:root:Loop 'Video game clones'<->'Unauthorized video games'\n"
       ]
      },
      {
       "output_type": "stream",
       "stream": "stderr",
       "text": [
        "WARNING:root:Loop 'Collective intelligence'<->'Social information processing'\n"
       ]
      },
      {
       "output_type": "stream",
       "stream": "stderr",
       "text": [
        "WARNING:root:Loop 'Distributed data storage systems'<->'File sharing networks'\n"
       ]
      },
      {
       "output_type": "stream",
       "stream": "stderr",
       "text": [
        "WARNING:root:Loop 'Government services web portals in the United States'<->'Website article topics with .gov domain names'\n"
       ]
      },
      {
       "output_type": "stream",
       "stream": "stderr",
       "text": [
        "WARNING:root:Loop 'Website article topics with .gov domain names'<->'Government services web portals in the United States'\n"
       ]
      },
      {
       "output_type": "stream",
       "stream": "stderr",
       "text": [
        "WARNING:root:Loop 'Trees (set theory)'<->'Trees (graph theory)'\n"
       ]
      },
      {
       "output_type": "stream",
       "stream": "stderr",
       "text": [
        "WARNING:root:Loop 'File sharing networks'<->'Distributed data storage'\n"
       ]
      },
      {
       "output_type": "stream",
       "stream": "stderr",
       "text": [
        "WARNING:root:Loop 'Image processing'<->'Computer vision'\n"
       ]
      },
      {
       "output_type": "stream",
       "stream": "stderr",
       "text": [
        "WARNING:root:Loop 'Artificial intelligence in fiction'<->'Computing in fiction'\n"
       ]
      },
      {
       "output_type": "stream",
       "stream": "stderr",
       "text": [
        "WARNING:root:Loop 'Computer vision'<->'Image processing'\n"
       ]
      },
      {
       "output_type": "stream",
       "stream": "stderr",
       "text": [
        "WARNING:root:Loop 'Mobile phones'<->'Videotelephony'\n"
       ]
      },
      {
       "output_type": "stream",
       "stream": "stderr",
       "text": [
        "WARNING:root:Loop 'Real-time web'<->'Web 2.0'\n"
       ]
      },
      {
       "output_type": "stream",
       "stream": "stderr",
       "text": [
        "WARNING:root:Loop 'Videotelephony'<->'Mobile phones'\n"
       ]
      },
      {
       "output_type": "stream",
       "stream": "stderr",
       "text": [
        "WARNING:root:Loop 'Cyberpunk themes'<->'Cyberspace'\n"
       ]
      },
      {
       "output_type": "stream",
       "stream": "stderr",
       "text": [
        "WARNING:root:Loop 'Free healthcare software'<->'Free medical software'\n"
       ]
      },
      {
       "output_type": "stream",
       "stream": "stderr",
       "text": [
        "WARNING:root:Loop 'Audio software'<->'Music software'\n"
       ]
      },
      {
       "output_type": "stream",
       "stream": "stderr",
       "text": [
        "WARNING:root:Loop 'Free medical software'<->'Free healthcare software'\n"
       ]
      },
      {
       "output_type": "stream",
       "stream": "stderr",
       "text": [
        "WARNING:root:Loop 'Unauthorized video games'<->'Video game clones'\n"
       ]
      },
      {
       "output_type": "stream",
       "stream": "stdout",
       "text": [
        "\n",
        "Fold 4"
       ]
      },
      {
       "output_type": "stream",
       "stream": "stderr",
       "text": [
        "WARNING:root:Loop 'Computer data'<->'Data processing'\n"
       ]
      },
      {
       "output_type": "stream",
       "stream": "stderr",
       "text": [
        "WARNING:root:Loop 'Data'<->'Computer data'\n"
       ]
      },
      {
       "output_type": "stream",
       "stream": "stderr",
       "text": [
        "WARNING:root:Loop 'Internet search'<->'Real-time web'\n"
       ]
      },
      {
       "output_type": "stream",
       "stream": "stderr",
       "text": [
        "WARNING:root:Loop 'Web 2.0'<->'Web services'\n"
       ]
      },
      {
       "output_type": "stream",
       "stream": "stderr",
       "text": [
        "WARNING:root:Loop 'Collation'<->'Alphabets'\n"
       ]
      },
      {
       "output_type": "stream",
       "stream": "stderr",
       "text": [
        "WARNING:root:Loop 'Cloud storage'<->'File hosting'\n"
       ]
      },
      {
       "output_type": "stream",
       "stream": "stderr",
       "text": [
        "WARNING:root:Loop 'Data-centric programming languages'<->'Persistent programming languages'\n"
       ]
      },
      {
       "output_type": "stream",
       "stream": "stderr",
       "text": [
        "WARNING:root:Loop 'File hosting'<->'Cloud storage'\n"
       ]
      },
      {
       "output_type": "stream",
       "stream": "stderr",
       "text": [
        "WARNING:root:Loop 'Distributed data storage'<->'Distributed data storage systems'\n"
       ]
      },
      {
       "output_type": "stream",
       "stream": "stderr",
       "text": [
        "WARNING:root:Loop 'Distributed data storage'<->'File sharing networks'\n"
       ]
      },
      {
       "output_type": "stream",
       "stream": "stderr",
       "text": [
        "WARNING:root:Loop 'Web services'<->'Internet search'\n"
       ]
      },
      {
       "output_type": "stream",
       "stream": "stderr",
       "text": [
        "WARNING:root:Loop 'Computing in fiction'<->'Artificial intelligence in fiction'\n"
       ]
      },
      {
       "output_type": "stream",
       "stream": "stderr",
       "text": [
        "WARNING:root:Loop 'Social information processing'<->'Collective intelligence'\n"
       ]
      },
      {
       "output_type": "stream",
       "stream": "stderr",
       "text": [
        "WARNING:root:Loop 'Internet activism'<->'Internet-based activism'\n"
       ]
      },
      {
       "output_type": "stream",
       "stream": "stderr",
       "text": [
        "WARNING:root:Loop 'Music software'<->'Audio software'\n"
       ]
      },
      {
       "output_type": "stream",
       "stream": "stderr",
       "text": [
        "WARNING:root:Loop 'Persistent programming languages'<->'Data-centric programming languages'\n"
       ]
      },
      {
       "output_type": "stream",
       "stream": "stderr",
       "text": [
        "WARNING:root:Loop 'Video game clones'<->'Unauthorized video games'\n"
       ]
      },
      {
       "output_type": "stream",
       "stream": "stderr",
       "text": [
        "WARNING:root:Loop 'Collective intelligence'<->'Social information processing'\n"
       ]
      },
      {
       "output_type": "stream",
       "stream": "stderr",
       "text": [
        "WARNING:root:Loop 'Distributed data storage systems'<->'File sharing networks'\n"
       ]
      },
      {
       "output_type": "stream",
       "stream": "stderr",
       "text": [
        "WARNING:root:Loop 'Government services web portals in the United States'<->'Website article topics with .gov domain names'\n"
       ]
      },
      {
       "output_type": "stream",
       "stream": "stderr",
       "text": [
        "WARNING:root:Loop 'Website article topics with .gov domain names'<->'Government services web portals in the United States'\n"
       ]
      },
      {
       "output_type": "stream",
       "stream": "stderr",
       "text": [
        "WARNING:root:Loop 'Trees (set theory)'<->'Trees (graph theory)'\n"
       ]
      },
      {
       "output_type": "stream",
       "stream": "stderr",
       "text": [
        "WARNING:root:Loop 'File sharing networks'<->'Distributed data storage'\n"
       ]
      },
      {
       "output_type": "stream",
       "stream": "stderr",
       "text": [
        "WARNING:root:Loop 'Image processing'<->'Computer vision'\n"
       ]
      },
      {
       "output_type": "stream",
       "stream": "stderr",
       "text": [
        "WARNING:root:Loop 'Artificial intelligence in fiction'<->'Computing in fiction'\n"
       ]
      },
      {
       "output_type": "stream",
       "stream": "stderr",
       "text": [
        "WARNING:root:Loop 'Computer vision'<->'Image processing'\n"
       ]
      },
      {
       "output_type": "stream",
       "stream": "stderr",
       "text": [
        "WARNING:root:Loop 'Mobile phones'<->'Videotelephony'\n"
       ]
      },
      {
       "output_type": "stream",
       "stream": "stderr",
       "text": [
        "WARNING:root:Loop 'Real-time web'<->'Web 2.0'\n"
       ]
      },
      {
       "output_type": "stream",
       "stream": "stderr",
       "text": [
        "WARNING:root:Loop 'Videotelephony'<->'Mobile phones'\n"
       ]
      },
      {
       "output_type": "stream",
       "stream": "stderr",
       "text": [
        "WARNING:root:Loop 'Cyberpunk themes'<->'Cyberspace'\n"
       ]
      },
      {
       "output_type": "stream",
       "stream": "stderr",
       "text": [
        "WARNING:root:Loop 'Free healthcare software'<->'Free medical software'\n"
       ]
      },
      {
       "output_type": "stream",
       "stream": "stderr",
       "text": [
        "WARNING:root:Loop 'Audio software'<->'Music software'\n"
       ]
      },
      {
       "output_type": "stream",
       "stream": "stderr",
       "text": [
        "WARNING:root:Loop 'Free medical software'<->'Free healthcare software'\n"
       ]
      },
      {
       "output_type": "stream",
       "stream": "stderr",
       "text": [
        "WARNING:root:Loop 'Unauthorized video games'<->'Video game clones'\n"
       ]
      },
      {
       "output_type": "stream",
       "stream": "stdout",
       "text": [
        "\n",
        "Fold 5"
       ]
      },
      {
       "output_type": "stream",
       "stream": "stderr",
       "text": [
        "WARNING:root:Loop 'Computer data'<->'Data processing'\n"
       ]
      },
      {
       "output_type": "stream",
       "stream": "stderr",
       "text": [
        "WARNING:root:Loop 'Data'<->'Computer data'\n"
       ]
      },
      {
       "output_type": "stream",
       "stream": "stderr",
       "text": [
        "WARNING:root:Loop 'Internet search'<->'Real-time web'\n"
       ]
      },
      {
       "output_type": "stream",
       "stream": "stderr",
       "text": [
        "WARNING:root:Loop 'Web 2.0'<->'Web services'\n"
       ]
      },
      {
       "output_type": "stream",
       "stream": "stderr",
       "text": [
        "WARNING:root:Loop 'Collation'<->'Alphabets'\n"
       ]
      },
      {
       "output_type": "stream",
       "stream": "stderr",
       "text": [
        "WARNING:root:Loop 'Cloud storage'<->'File hosting'\n"
       ]
      },
      {
       "output_type": "stream",
       "stream": "stderr",
       "text": [
        "WARNING:root:Loop 'Data-centric programming languages'<->'Persistent programming languages'\n"
       ]
      },
      {
       "output_type": "stream",
       "stream": "stderr",
       "text": [
        "WARNING:root:Loop 'File hosting'<->'Cloud storage'\n"
       ]
      },
      {
       "output_type": "stream",
       "stream": "stderr",
       "text": [
        "WARNING:root:Loop 'Distributed data storage'<->'Distributed data storage systems'\n"
       ]
      },
      {
       "output_type": "stream",
       "stream": "stderr",
       "text": [
        "WARNING:root:Loop 'Distributed data storage'<->'File sharing networks'\n"
       ]
      },
      {
       "output_type": "stream",
       "stream": "stderr",
       "text": [
        "WARNING:root:Loop 'Web services'<->'Internet search'\n"
       ]
      },
      {
       "output_type": "stream",
       "stream": "stderr",
       "text": [
        "WARNING:root:Loop 'Computing in fiction'<->'Artificial intelligence in fiction'\n"
       ]
      },
      {
       "output_type": "stream",
       "stream": "stderr",
       "text": [
        "WARNING:root:Loop 'Social information processing'<->'Collective intelligence'\n"
       ]
      },
      {
       "output_type": "stream",
       "stream": "stderr",
       "text": [
        "WARNING:root:Loop 'Internet activism'<->'Internet-based activism'\n"
       ]
      },
      {
       "output_type": "stream",
       "stream": "stderr",
       "text": [
        "WARNING:root:Loop 'Music software'<->'Audio software'\n"
       ]
      },
      {
       "output_type": "stream",
       "stream": "stderr",
       "text": [
        "WARNING:root:Loop 'Persistent programming languages'<->'Data-centric programming languages'\n"
       ]
      },
      {
       "output_type": "stream",
       "stream": "stderr",
       "text": [
        "WARNING:root:Loop 'Video game clones'<->'Unauthorized video games'\n"
       ]
      },
      {
       "output_type": "stream",
       "stream": "stderr",
       "text": [
        "WARNING:root:Loop 'Collective intelligence'<->'Social information processing'\n"
       ]
      },
      {
       "output_type": "stream",
       "stream": "stderr",
       "text": [
        "WARNING:root:Loop 'Distributed data storage systems'<->'File sharing networks'\n"
       ]
      },
      {
       "output_type": "stream",
       "stream": "stderr",
       "text": [
        "WARNING:root:Loop 'Website article topics with .gov domain names'<->'Government services web portals in the United States'\n"
       ]
      },
      {
       "output_type": "stream",
       "stream": "stderr",
       "text": [
        "WARNING:root:Loop 'Trees (set theory)'<->'Trees (graph theory)'\n"
       ]
      },
      {
       "output_type": "stream",
       "stream": "stderr",
       "text": [
        "WARNING:root:Loop 'File sharing networks'<->'Distributed data storage'\n"
       ]
      },
      {
       "output_type": "stream",
       "stream": "stderr",
       "text": [
        "WARNING:root:Loop 'Image processing'<->'Computer vision'\n"
       ]
      },
      {
       "output_type": "stream",
       "stream": "stderr",
       "text": [
        "WARNING:root:Loop 'Artificial intelligence in fiction'<->'Computing in fiction'\n"
       ]
      },
      {
       "output_type": "stream",
       "stream": "stderr",
       "text": [
        "WARNING:root:Loop 'Mobile phones'<->'Videotelephony'\n"
       ]
      },
      {
       "output_type": "stream",
       "stream": "stderr",
       "text": [
        "WARNING:root:Loop 'Real-time web'<->'Web 2.0'\n"
       ]
      },
      {
       "output_type": "stream",
       "stream": "stderr",
       "text": [
        "WARNING:root:Loop 'Cyberpunk themes'<->'Cyberspace'\n"
       ]
      },
      {
       "output_type": "stream",
       "stream": "stderr",
       "text": [
        "WARNING:root:Loop 'Government services web portals in the United States'<->'Website article topics with .gov domain names'\n"
       ]
      },
      {
       "output_type": "stream",
       "stream": "stderr",
       "text": [
        "WARNING:root:Loop 'Free healthcare software'<->'Free medical software'\n"
       ]
      },
      {
       "output_type": "stream",
       "stream": "stderr",
       "text": [
        "WARNING:root:Loop 'Audio software'<->'Music software'\n"
       ]
      },
      {
       "output_type": "stream",
       "stream": "stderr",
       "text": [
        "WARNING:root:Loop 'Free medical software'<->'Free healthcare software'\n"
       ]
      },
      {
       "output_type": "stream",
       "stream": "stderr",
       "text": [
        "WARNING:root:Loop 'Unauthorized video games'<->'Video game clones'\n"
       ]
      },
      {
       "output_type": "stream",
       "stream": "stdout",
       "text": [
        "\n",
        "Fold 1"
       ]
      },
      {
       "output_type": "stream",
       "stream": "stderr",
       "text": [
        "WARNING:root:Loop 'Computer data'<->'Data processing'\n"
       ]
      },
      {
       "output_type": "stream",
       "stream": "stderr",
       "text": [
        "WARNING:root:Loop 'Data'<->'Computer data'\n"
       ]
      },
      {
       "output_type": "stream",
       "stream": "stderr",
       "text": [
        "WARNING:root:Loop 'Internet search'<->'Real-time web'\n"
       ]
      },
      {
       "output_type": "stream",
       "stream": "stderr",
       "text": [
        "WARNING:root:Loop 'Web 2.0'<->'Web services'\n"
       ]
      },
      {
       "output_type": "stream",
       "stream": "stderr",
       "text": [
        "WARNING:root:Loop 'Collation'<->'Alphabets'\n"
       ]
      },
      {
       "output_type": "stream",
       "stream": "stderr",
       "text": [
        "WARNING:root:Loop 'Cloud storage'<->'File hosting'\n"
       ]
      },
      {
       "output_type": "stream",
       "stream": "stderr",
       "text": [
        "WARNING:root:Loop 'Data-centric programming languages'<->'Persistent programming languages'\n"
       ]
      },
      {
       "output_type": "stream",
       "stream": "stderr",
       "text": [
        "WARNING:root:Loop 'File hosting'<->'Cloud storage'\n"
       ]
      },
      {
       "output_type": "stream",
       "stream": "stderr",
       "text": [
        "WARNING:root:Loop 'Distributed data storage'<->'Distributed data storage systems'\n"
       ]
      },
      {
       "output_type": "stream",
       "stream": "stderr",
       "text": [
        "WARNING:root:Loop 'Distributed data storage'<->'File sharing networks'\n"
       ]
      },
      {
       "output_type": "stream",
       "stream": "stderr",
       "text": [
        "WARNING:root:Loop 'Web services'<->'Internet search'\n"
       ]
      },
      {
       "output_type": "stream",
       "stream": "stderr",
       "text": [
        "WARNING:root:Loop 'Computing in fiction'<->'Artificial intelligence in fiction'\n"
       ]
      },
      {
       "output_type": "stream",
       "stream": "stderr",
       "text": [
        "WARNING:root:Loop 'Social information processing'<->'Collective intelligence'\n"
       ]
      },
      {
       "output_type": "stream",
       "stream": "stderr",
       "text": [
        "WARNING:root:Loop 'Music software'<->'Audio software'\n"
       ]
      },
      {
       "output_type": "stream",
       "stream": "stderr",
       "text": [
        "WARNING:root:Loop 'Persistent programming languages'<->'Data-centric programming languages'\n"
       ]
      },
      {
       "output_type": "stream",
       "stream": "stderr",
       "text": [
        "WARNING:root:Loop 'Video game clones'<->'Unauthorized video games'\n"
       ]
      },
      {
       "output_type": "stream",
       "stream": "stderr",
       "text": [
        "WARNING:root:Loop 'Collective intelligence'<->'Social information processing'\n"
       ]
      },
      {
       "output_type": "stream",
       "stream": "stderr",
       "text": [
        "WARNING:root:Loop 'Distributed data storage systems'<->'File sharing networks'\n"
       ]
      },
      {
       "output_type": "stream",
       "stream": "stderr",
       "text": [
        "WARNING:root:Loop 'Government services web portals in the United States'<->'Website article topics with .gov domain names'\n"
       ]
      },
      {
       "output_type": "stream",
       "stream": "stderr",
       "text": [
        "WARNING:root:Loop 'Trees (set theory)'<->'Trees (graph theory)'\n"
       ]
      },
      {
       "output_type": "stream",
       "stream": "stderr",
       "text": [
        "WARNING:root:Loop 'Computer vision'<->'Image processing'\n"
       ]
      },
      {
       "output_type": "stream",
       "stream": "stderr",
       "text": [
        "WARNING:root:Loop 'Real-time web'<->'Web 2.0'\n"
       ]
      },
      {
       "output_type": "stream",
       "stream": "stderr",
       "text": [
        "WARNING:root:Loop 'Videotelephony'<->'Mobile phones'\n"
       ]
      },
      {
       "output_type": "stream",
       "stream": "stderr",
       "text": [
        "WARNING:root:Loop 'Cyberpunk themes'<->'Cyberspace'\n"
       ]
      },
      {
       "output_type": "stream",
       "stream": "stderr",
       "text": [
        "WARNING:root:Loop 'Free healthcare software'<->'Free medical software'\n"
       ]
      },
      {
       "output_type": "stream",
       "stream": "stderr",
       "text": [
        "WARNING:root:Loop 'Audio software'<->'Music software'\n"
       ]
      },
      {
       "output_type": "stream",
       "stream": "stderr",
       "text": [
        "WARNING:root:Loop 'Free medical software'<->'Free healthcare software'\n"
       ]
      },
      {
       "output_type": "stream",
       "stream": "stderr",
       "text": [
        "WARNING:root:Loop 'Unreal Engine'<->'Unreal Engine games'\n"
       ]
      },
      {
       "output_type": "stream",
       "stream": "stdout",
       "text": [
        "\n",
        "Fold 2"
       ]
      },
      {
       "output_type": "stream",
       "stream": "stderr",
       "text": [
        "WARNING:root:Loop 'Computer data'<->'Data processing'\n"
       ]
      },
      {
       "output_type": "stream",
       "stream": "stderr",
       "text": [
        "WARNING:root:Loop 'Data'<->'Computer data'\n"
       ]
      },
      {
       "output_type": "stream",
       "stream": "stderr",
       "text": [
        "WARNING:root:Loop 'Internet search'<->'Real-time web'\n"
       ]
      },
      {
       "output_type": "stream",
       "stream": "stderr",
       "text": [
        "WARNING:root:Loop 'Web 2.0'<->'Web services'\n"
       ]
      },
      {
       "output_type": "stream",
       "stream": "stderr",
       "text": [
        "WARNING:root:Loop 'Collation'<->'Alphabets'\n"
       ]
      },
      {
       "output_type": "stream",
       "stream": "stderr",
       "text": [
        "WARNING:root:Loop 'Cloud storage'<->'File hosting'\n"
       ]
      },
      {
       "output_type": "stream",
       "stream": "stderr",
       "text": [
        "WARNING:root:Loop 'Data-centric programming languages'<->'Persistent programming languages'\n"
       ]
      },
      {
       "output_type": "stream",
       "stream": "stderr",
       "text": [
        "WARNING:root:Loop 'File hosting'<->'Cloud storage'\n"
       ]
      },
      {
       "output_type": "stream",
       "stream": "stderr",
       "text": [
        "WARNING:root:Loop 'Distributed data storage'<->'Distributed data storage systems'\n"
       ]
      },
      {
       "output_type": "stream",
       "stream": "stderr",
       "text": [
        "WARNING:root:Loop 'Distributed data storage'<->'File sharing networks'\n"
       ]
      },
      {
       "output_type": "stream",
       "stream": "stderr",
       "text": [
        "WARNING:root:Loop 'Web services'<->'Internet search'\n"
       ]
      },
      {
       "output_type": "stream",
       "stream": "stderr",
       "text": [
        "WARNING:root:Loop 'Computing in fiction'<->'Artificial intelligence in fiction'\n"
       ]
      },
      {
       "output_type": "stream",
       "stream": "stderr",
       "text": [
        "WARNING:root:Loop 'Social information processing'<->'Collective intelligence'\n"
       ]
      },
      {
       "output_type": "stream",
       "stream": "stderr",
       "text": [
        "WARNING:root:Loop 'Internet activism'<->'Internet-based activism'\n"
       ]
      },
      {
       "output_type": "stream",
       "stream": "stderr",
       "text": [
        "WARNING:root:Loop 'Music software'<->'Audio software'\n"
       ]
      },
      {
       "output_type": "stream",
       "stream": "stderr",
       "text": [
        "WARNING:root:Loop 'Persistent programming languages'<->'Data-centric programming languages'\n"
       ]
      },
      {
       "output_type": "stream",
       "stream": "stderr",
       "text": [
        "WARNING:root:Loop 'Video game clones'<->'Unauthorized video games'\n"
       ]
      },
      {
       "output_type": "stream",
       "stream": "stderr",
       "text": [
        "WARNING:root:Loop 'Collective intelligence'<->'Social information processing'\n"
       ]
      },
      {
       "output_type": "stream",
       "stream": "stderr",
       "text": [
        "WARNING:root:Loop 'File sharing networks'<->'Distributed data storage'\n"
       ]
      },
      {
       "output_type": "stream",
       "stream": "stderr",
       "text": [
        "WARNING:root:Loop 'Real-time web'<->'Web 2.0'\n"
       ]
      },
      {
       "output_type": "stream",
       "stream": "stderr",
       "text": [
        "WARNING:root:Loop 'Government services web portals in the United States'<->'Website article topics with .gov domain names'\n"
       ]
      },
      {
       "output_type": "stream",
       "stream": "stderr",
       "text": [
        "WARNING:root:Loop 'Audio software'<->'Music software'\n"
       ]
      },
      {
       "output_type": "stream",
       "stream": "stderr",
       "text": [
        "WARNING:root:Loop 'Unauthorized video games'<->'Video game clones'\n"
       ]
      },
      {
       "output_type": "stream",
       "stream": "stderr",
       "text": [
        "WARNING:root:Loop 'Free healthcare software'<->'Free medical software'\n"
       ]
      },
      {
       "output_type": "stream",
       "stream": "stdout",
       "text": [
        "\n",
        "Fold 3"
       ]
      },
      {
       "output_type": "stream",
       "stream": "stderr",
       "text": [
        "WARNING:root:Loop 'Computer data'<->'Data processing'\n"
       ]
      },
      {
       "output_type": "stream",
       "stream": "stderr",
       "text": [
        "WARNING:root:Loop 'Data'<->'Computer data'\n"
       ]
      },
      {
       "output_type": "stream",
       "stream": "stderr",
       "text": [
        "WARNING:root:Loop 'Internet search'<->'Real-time web'\n"
       ]
      },
      {
       "output_type": "stream",
       "stream": "stderr",
       "text": [
        "WARNING:root:Loop 'Web 2.0'<->'Web services'\n"
       ]
      },
      {
       "output_type": "stream",
       "stream": "stderr",
       "text": [
        "WARNING:root:Loop 'Collation'<->'Alphabets'\n"
       ]
      },
      {
       "output_type": "stream",
       "stream": "stderr",
       "text": [
        "WARNING:root:Loop 'Cloud storage'<->'File hosting'\n"
       ]
      },
      {
       "output_type": "stream",
       "stream": "stderr",
       "text": [
        "WARNING:root:Loop 'Data-centric programming languages'<->'Persistent programming languages'\n"
       ]
      },
      {
       "output_type": "stream",
       "stream": "stderr",
       "text": [
        "WARNING:root:Loop 'File hosting'<->'Cloud storage'\n"
       ]
      },
      {
       "output_type": "stream",
       "stream": "stderr",
       "text": [
        "WARNING:root:Loop 'Distributed data storage'<->'Distributed data storage systems'\n"
       ]
      },
      {
       "output_type": "stream",
       "stream": "stderr",
       "text": [
        "WARNING:root:Loop 'Distributed data storage'<->'File sharing networks'\n"
       ]
      },
      {
       "output_type": "stream",
       "stream": "stderr",
       "text": [
        "WARNING:root:Loop 'Web services'<->'Internet search'\n"
       ]
      },
      {
       "output_type": "stream",
       "stream": "stderr",
       "text": [
        "WARNING:root:Loop 'Computing in fiction'<->'Artificial intelligence in fiction'\n"
       ]
      },
      {
       "output_type": "stream",
       "stream": "stderr",
       "text": [
        "WARNING:root:Loop 'Social information processing'<->'Collective intelligence'\n"
       ]
      },
      {
       "output_type": "stream",
       "stream": "stderr",
       "text": [
        "WARNING:root:Loop 'Internet activism'<->'Internet-based activism'\n"
       ]
      },
      {
       "output_type": "stream",
       "stream": "stderr",
       "text": [
        "WARNING:root:Loop 'Music software'<->'Audio software'\n"
       ]
      },
      {
       "output_type": "stream",
       "stream": "stderr",
       "text": [
        "WARNING:root:Loop 'Persistent programming languages'<->'Data-centric programming languages'\n"
       ]
      },
      {
       "output_type": "stream",
       "stream": "stderr",
       "text": [
        "WARNING:root:Loop 'Video game clones'<->'Unauthorized video games'\n"
       ]
      },
      {
       "output_type": "stream",
       "stream": "stderr",
       "text": [
        "WARNING:root:Loop 'Collective intelligence'<->'Social information processing'\n"
       ]
      },
      {
       "output_type": "stream",
       "stream": "stderr",
       "text": [
        "WARNING:root:Loop 'Distributed data storage systems'<->'File sharing networks'\n"
       ]
      },
      {
       "output_type": "stream",
       "stream": "stderr",
       "text": [
        "WARNING:root:Loop 'Government services web portals in the United States'<->'Website article topics with .gov domain names'\n"
       ]
      },
      {
       "output_type": "stream",
       "stream": "stderr",
       "text": [
        "WARNING:root:Loop 'Website article topics with .gov domain names'<->'Government services web portals in the United States'\n"
       ]
      },
      {
       "output_type": "stream",
       "stream": "stderr",
       "text": [
        "WARNING:root:Loop 'Trees (set theory)'<->'Trees (graph theory)'\n"
       ]
      },
      {
       "output_type": "stream",
       "stream": "stderr",
       "text": [
        "WARNING:root:Loop 'File sharing networks'<->'Distributed data storage'\n"
       ]
      },
      {
       "output_type": "stream",
       "stream": "stderr",
       "text": [
        "WARNING:root:Loop 'Image processing'<->'Computer vision'\n"
       ]
      },
      {
       "output_type": "stream",
       "stream": "stderr",
       "text": [
        "WARNING:root:Loop 'Artificial intelligence in fiction'<->'Computing in fiction'\n"
       ]
      },
      {
       "output_type": "stream",
       "stream": "stderr",
       "text": [
        "WARNING:root:Loop 'Computer vision'<->'Image processing'\n"
       ]
      },
      {
       "output_type": "stream",
       "stream": "stderr",
       "text": [
        "WARNING:root:Loop 'Mobile phones'<->'Videotelephony'\n"
       ]
      },
      {
       "output_type": "stream",
       "stream": "stderr",
       "text": [
        "WARNING:root:Loop 'Real-time web'<->'Web 2.0'\n"
       ]
      },
      {
       "output_type": "stream",
       "stream": "stderr",
       "text": [
        "WARNING:root:Loop 'Videotelephony'<->'Mobile phones'\n"
       ]
      },
      {
       "output_type": "stream",
       "stream": "stderr",
       "text": [
        "WARNING:root:Loop 'Cyberpunk themes'<->'Cyberspace'\n"
       ]
      },
      {
       "output_type": "stream",
       "stream": "stderr",
       "text": [
        "WARNING:root:Loop 'Free healthcare software'<->'Free medical software'\n"
       ]
      },
      {
       "output_type": "stream",
       "stream": "stderr",
       "text": [
        "WARNING:root:Loop 'Audio software'<->'Music software'\n"
       ]
      },
      {
       "output_type": "stream",
       "stream": "stderr",
       "text": [
        "WARNING:root:Loop 'Free medical software'<->'Free healthcare software'\n"
       ]
      },
      {
       "output_type": "stream",
       "stream": "stderr",
       "text": [
        "WARNING:root:Loop 'Unauthorized video games'<->'Video game clones'\n"
       ]
      },
      {
       "output_type": "stream",
       "stream": "stdout",
       "text": [
        "\n",
        "Fold 4"
       ]
      },
      {
       "output_type": "stream",
       "stream": "stderr",
       "text": [
        "WARNING:root:Loop 'Computer data'<->'Data processing'\n"
       ]
      },
      {
       "output_type": "stream",
       "stream": "stderr",
       "text": [
        "WARNING:root:Loop 'Data'<->'Computer data'\n"
       ]
      },
      {
       "output_type": "stream",
       "stream": "stderr",
       "text": [
        "WARNING:root:Loop 'Internet search'<->'Real-time web'\n"
       ]
      },
      {
       "output_type": "stream",
       "stream": "stderr",
       "text": [
        "WARNING:root:Loop 'Web 2.0'<->'Web services'\n"
       ]
      },
      {
       "output_type": "stream",
       "stream": "stderr",
       "text": [
        "WARNING:root:Loop 'Collation'<->'Alphabets'\n"
       ]
      },
      {
       "output_type": "stream",
       "stream": "stderr",
       "text": [
        "WARNING:root:Loop 'Cloud storage'<->'File hosting'\n"
       ]
      },
      {
       "output_type": "stream",
       "stream": "stderr",
       "text": [
        "WARNING:root:Loop 'Data-centric programming languages'<->'Persistent programming languages'\n"
       ]
      },
      {
       "output_type": "stream",
       "stream": "stderr",
       "text": [
        "WARNING:root:Loop 'File hosting'<->'Cloud storage'\n"
       ]
      },
      {
       "output_type": "stream",
       "stream": "stderr",
       "text": [
        "WARNING:root:Loop 'Distributed data storage'<->'Distributed data storage systems'\n"
       ]
      },
      {
       "output_type": "stream",
       "stream": "stderr",
       "text": [
        "WARNING:root:Loop 'Distributed data storage'<->'File sharing networks'\n"
       ]
      },
      {
       "output_type": "stream",
       "stream": "stderr",
       "text": [
        "WARNING:root:Loop 'Web services'<->'Internet search'\n"
       ]
      },
      {
       "output_type": "stream",
       "stream": "stderr",
       "text": [
        "WARNING:root:Loop 'Computing in fiction'<->'Artificial intelligence in fiction'\n"
       ]
      },
      {
       "output_type": "stream",
       "stream": "stderr",
       "text": [
        "WARNING:root:Loop 'Social information processing'<->'Collective intelligence'\n"
       ]
      },
      {
       "output_type": "stream",
       "stream": "stderr",
       "text": [
        "WARNING:root:Loop 'Internet activism'<->'Internet-based activism'\n"
       ]
      },
      {
       "output_type": "stream",
       "stream": "stderr",
       "text": [
        "WARNING:root:Loop 'Music software'<->'Audio software'\n"
       ]
      },
      {
       "output_type": "stream",
       "stream": "stderr",
       "text": [
        "WARNING:root:Loop 'Persistent programming languages'<->'Data-centric programming languages'\n"
       ]
      },
      {
       "output_type": "stream",
       "stream": "stderr",
       "text": [
        "WARNING:root:Loop 'Video game clones'<->'Unauthorized video games'\n"
       ]
      },
      {
       "output_type": "stream",
       "stream": "stderr",
       "text": [
        "WARNING:root:Loop 'Collective intelligence'<->'Social information processing'\n"
       ]
      },
      {
       "output_type": "stream",
       "stream": "stderr",
       "text": [
        "WARNING:root:Loop 'Distributed data storage systems'<->'File sharing networks'\n"
       ]
      },
      {
       "output_type": "stream",
       "stream": "stderr",
       "text": [
        "WARNING:root:Loop 'Website article topics with .gov domain names'<->'Government services web portals in the United States'\n"
       ]
      },
      {
       "output_type": "stream",
       "stream": "stderr",
       "text": [
        "WARNING:root:Loop 'File sharing networks'<->'Distributed data storage'\n"
       ]
      },
      {
       "output_type": "stream",
       "stream": "stderr",
       "text": [
        "WARNING:root:Loop 'Image processing'<->'Computer vision'\n"
       ]
      },
      {
       "output_type": "stream",
       "stream": "stderr",
       "text": [
        "WARNING:root:Loop 'Artificial intelligence in fiction'<->'Computing in fiction'\n"
       ]
      },
      {
       "output_type": "stream",
       "stream": "stderr",
       "text": [
        "WARNING:root:Loop 'Mobile phones'<->'Videotelephony'\n"
       ]
      },
      {
       "output_type": "stream",
       "stream": "stderr",
       "text": [
        "WARNING:root:Loop 'Real-time web'<->'Web 2.0'\n"
       ]
      },
      {
       "output_type": "stream",
       "stream": "stderr",
       "text": [
        "WARNING:root:Loop 'Cyberpunk themes'<->'Cyberspace'\n"
       ]
      },
      {
       "output_type": "stream",
       "stream": "stderr",
       "text": [
        "WARNING:root:Loop 'Government services web portals in the United States'<->'Website article topics with .gov domain names'\n"
       ]
      },
      {
       "output_type": "stream",
       "stream": "stderr",
       "text": [
        "WARNING:root:Loop 'Free healthcare software'<->'Free medical software'\n"
       ]
      },
      {
       "output_type": "stream",
       "stream": "stderr",
       "text": [
        "WARNING:root:Loop 'Audio software'<->'Music software'\n"
       ]
      },
      {
       "output_type": "stream",
       "stream": "stderr",
       "text": [
        "WARNING:root:Loop 'Free medical software'<->'Free healthcare software'\n"
       ]
      },
      {
       "output_type": "stream",
       "stream": "stderr",
       "text": [
        "WARNING:root:Loop 'Unauthorized video games'<->'Video game clones'\n"
       ]
      },
      {
       "output_type": "stream",
       "stream": "stdout",
       "text": [
        "\n",
        "Fold 5"
       ]
      },
      {
       "output_type": "stream",
       "stream": "stderr",
       "text": [
        "WARNING:root:Loop 'Computer data'<->'Data processing'\n"
       ]
      },
      {
       "output_type": "stream",
       "stream": "stderr",
       "text": [
        "WARNING:root:Loop 'Data'<->'Computer data'\n"
       ]
      },
      {
       "output_type": "stream",
       "stream": "stderr",
       "text": [
        "WARNING:root:Loop 'Internet search'<->'Real-time web'\n"
       ]
      },
      {
       "output_type": "stream",
       "stream": "stderr",
       "text": [
        "WARNING:root:Loop 'Web 2.0'<->'Web services'\n"
       ]
      },
      {
       "output_type": "stream",
       "stream": "stderr",
       "text": [
        "WARNING:root:Loop 'Collation'<->'Alphabets'\n"
       ]
      },
      {
       "output_type": "stream",
       "stream": "stderr",
       "text": [
        "WARNING:root:Loop 'Cloud storage'<->'File hosting'\n"
       ]
      },
      {
       "output_type": "stream",
       "stream": "stderr",
       "text": [
        "WARNING:root:Loop 'Data-centric programming languages'<->'Persistent programming languages'\n"
       ]
      },
      {
       "output_type": "stream",
       "stream": "stderr",
       "text": [
        "WARNING:root:Loop 'File hosting'<->'Cloud storage'\n"
       ]
      },
      {
       "output_type": "stream",
       "stream": "stderr",
       "text": [
        "WARNING:root:Loop 'Distributed data storage'<->'Distributed data storage systems'\n"
       ]
      },
      {
       "output_type": "stream",
       "stream": "stderr",
       "text": [
        "WARNING:root:Loop 'Distributed data storage'<->'File sharing networks'\n"
       ]
      },
      {
       "output_type": "stream",
       "stream": "stderr",
       "text": [
        "WARNING:root:Loop 'Web services'<->'Internet search'\n"
       ]
      },
      {
       "output_type": "stream",
       "stream": "stderr",
       "text": [
        "WARNING:root:Loop 'Computing in fiction'<->'Artificial intelligence in fiction'\n"
       ]
      },
      {
       "output_type": "stream",
       "stream": "stderr",
       "text": [
        "WARNING:root:Loop 'Social information processing'<->'Collective intelligence'\n"
       ]
      },
      {
       "output_type": "stream",
       "stream": "stderr",
       "text": [
        "WARNING:root:Loop 'Internet activism'<->'Internet-based activism'\n"
       ]
      },
      {
       "output_type": "stream",
       "stream": "stderr",
       "text": [
        "WARNING:root:Loop 'Music software'<->'Audio software'\n"
       ]
      },
      {
       "output_type": "stream",
       "stream": "stderr",
       "text": [
        "WARNING:root:Loop 'Persistent programming languages'<->'Data-centric programming languages'\n"
       ]
      },
      {
       "output_type": "stream",
       "stream": "stderr",
       "text": [
        "WARNING:root:Loop 'Video game clones'<->'Unauthorized video games'\n"
       ]
      },
      {
       "output_type": "stream",
       "stream": "stderr",
       "text": [
        "WARNING:root:Loop 'Collective intelligence'<->'Social information processing'\n"
       ]
      },
      {
       "output_type": "stream",
       "stream": "stderr",
       "text": [
        "WARNING:root:Loop 'Distributed data storage systems'<->'File sharing networks'\n"
       ]
      },
      {
       "output_type": "stream",
       "stream": "stderr",
       "text": [
        "WARNING:root:Loop 'Trees (set theory)'<->'Trees (graph theory)'\n"
       ]
      },
      {
       "output_type": "stream",
       "stream": "stderr",
       "text": [
        "WARNING:root:Loop 'File sharing networks'<->'Distributed data storage'\n"
       ]
      },
      {
       "output_type": "stream",
       "stream": "stderr",
       "text": [
        "WARNING:root:Loop 'Artificial intelligence in fiction'<->'Computing in fiction'\n"
       ]
      },
      {
       "output_type": "stream",
       "stream": "stderr",
       "text": [
        "WARNING:root:Loop 'Real-time web'<->'Web 2.0'\n"
       ]
      },
      {
       "output_type": "stream",
       "stream": "stderr",
       "text": [
        "WARNING:root:Loop 'Cyberpunk themes'<->'Cyberspace'\n"
       ]
      },
      {
       "output_type": "stream",
       "stream": "stderr",
       "text": [
        "WARNING:root:Loop 'Government services web portals in the United States'<->'Website article topics with .gov domain names'\n"
       ]
      },
      {
       "output_type": "stream",
       "stream": "stderr",
       "text": [
        "WARNING:root:Loop 'Free healthcare software'<->'Free medical software'\n"
       ]
      },
      {
       "output_type": "stream",
       "stream": "stderr",
       "text": [
        "WARNING:root:Loop 'Audio software'<->'Music software'\n"
       ]
      },
      {
       "output_type": "stream",
       "stream": "stderr",
       "text": [
        "WARNING:root:Loop 'Free medical software'<->'Free healthcare software'\n"
       ]
      },
      {
       "output_type": "stream",
       "stream": "stderr",
       "text": [
        "WARNING:root:Loop 'Unauthorized video games'<->'Video game clones'\n"
       ]
      },
      {
       "output_type": "stream",
       "stream": "stderr",
       "text": [
        "WARNING:root:Loop 'Website article topics with .gov domain names'<->'Government services web portals in the United States'\n"
       ]
      },
      {
       "output_type": "stream",
       "stream": "stdout",
       "text": [
        "\n"
       ]
      }
     ],
     "prompt_number": 119
    },
    {
     "cell_type": "code",
     "collapsed": false,
     "input": [
      "# accuracies = metrics_ours_lc[:,0]\n",
      "# f1s = metrics_ours_lc[:,3]\n",
      "# plt.errorbar(training_sizes, accuracies.mean(axis=1), accuracies.std(axis=1))\n",
      "# plt.errorbar(training_sizes, f1s.mean(axis=1), f1s.std(axis=1))\n",
      "# plt.ylim(0.4, 1)\n",
      "# plt.xlim(9, 30.2)\n",
      "# plt.legend(['Accuracy', 'Weighted F1 score'], loc='lower right')\n",
      "# plt.xlabel('Training data size (# points)')\n",
      "# plt.tight_layout()\n",
      "# plt.savefig(util.resource('node-selection-learning-curve.pdf'))\n",
      "\n",
      "# plt.figure()\n",
      "# plt.errorbar(training_sizes, f1s.mean(axis=1), f1s.std(axis=1))\n",
      "# plt.plot(training_sizes, np.full_like(training_sizes, 0.908, dtype=float))\n",
      "# plt.ylim(0.7, 1)\n",
      "# (f1s[-1].mean(), f1s[-1].std())"
     ],
     "language": "python",
     "metadata": {},
     "outputs": [
      {
       "metadata": {},
       "output_type": "display_data",
       "png": "[encoded data removed]",
       "text": [
        "<matplotlib.figure.Figure at 0x11b812278>"
       ]
      }
     ],
     "prompt_number": 137
    },
    {
     "cell_type": "markdown",
     "metadata": {},
     "source": [
      "#### Performance of the learning-based classifier"
     ]
    },
    {
     "cell_type": "code",
     "collapsed": false,
     "input": [
      "metrics = evaluate_learning_based_classifier_cross_validated()\n",
      "metric_names = ['accuracy', 'f1_pos', 'f1_neg', 'weighted_f1']\n",
      "for metric_name, metric in zip(metric_names, metrics):\n",
      "    print(\"{:<11s} : {:.3f} +- {:.3f}\".format(metric_name, metric.mean(), metric.std()))"
     ],
     "language": "python",
     "metadata": {},
     "outputs": [
      {
       "output_type": "stream",
       "stream": "stderr",
       "text": [
        "WARNING:root:Loop 'Computer data'<->'Data processing'\n"
       ]
      },
      {
       "output_type": "stream",
       "stream": "stderr",
       "text": [
        "WARNING:root:Loop 'Data'<->'Computer data'\n"
       ]
      },
      {
       "output_type": "stream",
       "stream": "stderr",
       "text": [
        "WARNING:root:Loop 'Internet search'<->'Real-time web'\n"
       ]
      },
      {
       "output_type": "stream",
       "stream": "stderr",
       "text": [
        "WARNING:root:Loop 'Web 2.0'<->'Web services'\n"
       ]
      },
      {
       "output_type": "stream",
       "stream": "stderr",
       "text": [
        "WARNING:root:Loop 'Collation'<->'Alphabets'\n"
       ]
      },
      {
       "output_type": "stream",
       "stream": "stderr",
       "text": [
        "WARNING:root:Loop 'Cloud storage'<->'File hosting'\n"
       ]
      },
      {
       "output_type": "stream",
       "stream": "stderr",
       "text": [
        "WARNING:root:Loop 'Data-centric programming languages'<->'Persistent programming languages'\n"
       ]
      },
      {
       "output_type": "stream",
       "stream": "stderr",
       "text": [
        "WARNING:root:Loop 'File hosting'<->'Cloud storage'\n"
       ]
      },
      {
       "output_type": "stream",
       "stream": "stderr",
       "text": [
        "WARNING:root:Loop 'Distributed data storage'<->'Distributed data storage systems'\n"
       ]
      },
      {
       "output_type": "stream",
       "stream": "stderr",
       "text": [
        "WARNING:root:Loop 'Distributed data storage'<->'File sharing networks'\n"
       ]
      },
      {
       "output_type": "stream",
       "stream": "stderr",
       "text": [
        "WARNING:root:Loop 'Web services'<->'Internet search'\n"
       ]
      },
      {
       "output_type": "stream",
       "stream": "stderr",
       "text": [
        "WARNING:root:Loop 'Computing in fiction'<->'Artificial intelligence in fiction'\n"
       ]
      },
      {
       "output_type": "stream",
       "stream": "stderr",
       "text": [
        "WARNING:root:Loop 'Social information processing'<->'Collective intelligence'\n"
       ]
      },
      {
       "output_type": "stream",
       "stream": "stderr",
       "text": [
        "WARNING:root:Loop 'Internet activism'<->'Internet-based activism'\n"
       ]
      },
      {
       "output_type": "stream",
       "stream": "stderr",
       "text": [
        "WARNING:root:Loop 'Music software'<->'Audio software'\n"
       ]
      },
      {
       "output_type": "stream",
       "stream": "stderr",
       "text": [
        "WARNING:root:Loop 'Persistent programming languages'<->'Data-centric programming languages'\n"
       ]
      },
      {
       "output_type": "stream",
       "stream": "stderr",
       "text": [
        "WARNING:root:Loop 'Video game clones'<->'Unauthorized video games'\n"
       ]
      },
      {
       "output_type": "stream",
       "stream": "stderr",
       "text": [
        "WARNING:root:Loop 'Collective intelligence'<->'Social information processing'\n"
       ]
      },
      {
       "output_type": "stream",
       "stream": "stderr",
       "text": [
        "WARNING:root:Loop 'Distributed data storage systems'<->'File sharing networks'\n"
       ]
      },
      {
       "output_type": "stream",
       "stream": "stderr",
       "text": [
        "WARNING:root:Loop 'Government services web portals in the United States'<->'Website article topics with .gov domain names'\n"
       ]
      },
      {
       "output_type": "stream",
       "stream": "stderr",
       "text": [
        "WARNING:root:Loop 'Trees (set theory)'<->'Trees (graph theory)'\n"
       ]
      },
      {
       "output_type": "stream",
       "stream": "stderr",
       "text": [
        "WARNING:root:Loop 'File sharing networks'<->'Distributed data storage'\n"
       ]
      },
      {
       "output_type": "stream",
       "stream": "stderr",
       "text": [
        "WARNING:root:Loop 'Artificial intelligence in fiction'<->'Computing in fiction'\n"
       ]
      },
      {
       "output_type": "stream",
       "stream": "stderr",
       "text": [
        "WARNING:root:Loop 'Computer vision'<->'Image processing'\n"
       ]
      },
      {
       "output_type": "stream",
       "stream": "stderr",
       "text": [
        "WARNING:root:Loop 'Mobile phones'<->'Videotelephony'\n"
       ]
      },
      {
       "output_type": "stream",
       "stream": "stderr",
       "text": [
        "WARNING:root:Loop 'Real-time web'<->'Web 2.0'\n"
       ]
      },
      {
       "output_type": "stream",
       "stream": "stderr",
       "text": [
        "WARNING:root:Loop 'Videotelephony'<->'Mobile phones'\n"
       ]
      },
      {
       "output_type": "stream",
       "stream": "stderr",
       "text": [
        "WARNING:root:Loop 'Cyberpunk themes'<->'Cyberspace'\n"
       ]
      },
      {
       "output_type": "stream",
       "stream": "stderr",
       "text": [
        "WARNING:root:Loop 'Free healthcare software'<->'Free medical software'\n"
       ]
      },
      {
       "output_type": "stream",
       "stream": "stderr",
       "text": [
        "WARNING:root:Loop 'Audio software'<->'Music software'\n"
       ]
      },
      {
       "output_type": "stream",
       "stream": "stderr",
       "text": [
        "WARNING:root:Loop 'Free medical software'<->'Free healthcare software'\n"
       ]
      },
      {
       "output_type": "stream",
       "stream": "stderr",
       "text": [
        "WARNING:root:Loop 'Unauthorized video games'<->'Video game clones'\n"
       ]
      },
      {
       "output_type": "stream",
       "stream": "stderr",
       "text": [
        "WARNING:root:Loop 'Website article topics with .gov domain names'<->'Government services web portals in the United States'\n"
       ]
      },
      {
       "output_type": "stream",
       "stream": "stderr",
       "text": [
        "WARNING:root:Loop 'Real Robots'<->'Super Robot Wars'\n"
       ]
      },
      {
       "output_type": "stream",
       "stream": "stderr",
       "text": [
        "WARNING:root:Loop 'Real Robots'<->'Super Robots'\n"
       ]
      },
      {
       "output_type": "stream",
       "stream": "stderr",
       "text": [
        "WARNING:root:Loop 'Super Robots'<->'Real Robots'\n"
       ]
      },
      {
       "output_type": "stream",
       "stream": "stderr",
       "text": [
        "WARNING:root:Loop 'Super Robots'<->'Super Robot Wars'\n"
       ]
      },
      {
       "output_type": "stream",
       "stream": "stderr",
       "text": [
        "WARNING:root:Loop 'Unreal Engine games'<->'Unreal'\n"
       ]
      },
      {
       "output_type": "stream",
       "stream": "stderr",
       "text": [
        "WARNING:root:Loop 'Musician video games'<->'Band-centric video games'\n"
       ]
      },
      {
       "output_type": "stream",
       "stream": "stdout",
       "text": [
        "Fold 1\n",
        "Fold 2"
       ]
      },
      {
       "output_type": "stream",
       "stream": "stderr",
       "text": [
        "WARNING:root:Loop 'Computer data'<->'Data processing'\n"
       ]
      },
      {
       "output_type": "stream",
       "stream": "stderr",
       "text": [
        "WARNING:root:Loop 'Data'<->'Computer data'\n"
       ]
      },
      {
       "output_type": "stream",
       "stream": "stderr",
       "text": [
        "WARNING:root:Loop 'Internet search'<->'Real-time web'\n"
       ]
      },
      {
       "output_type": "stream",
       "stream": "stderr",
       "text": [
        "WARNING:root:Loop 'Web 2.0'<->'Web services'\n"
       ]
      },
      {
       "output_type": "stream",
       "stream": "stderr",
       "text": [
        "WARNING:root:Loop 'Collation'<->'Alphabets'\n"
       ]
      },
      {
       "output_type": "stream",
       "stream": "stderr",
       "text": [
        "WARNING:root:Loop 'Cloud storage'<->'File hosting'\n"
       ]
      },
      {
       "output_type": "stream",
       "stream": "stderr",
       "text": [
        "WARNING:root:Loop 'Data-centric programming languages'<->'Persistent programming languages'\n"
       ]
      },
      {
       "output_type": "stream",
       "stream": "stderr",
       "text": [
        "WARNING:root:Loop 'File hosting'<->'Cloud storage'\n"
       ]
      },
      {
       "output_type": "stream",
       "stream": "stderr",
       "text": [
        "WARNING:root:Loop 'Distributed data storage'<->'Distributed data storage systems'\n"
       ]
      },
      {
       "output_type": "stream",
       "stream": "stderr",
       "text": [
        "WARNING:root:Loop 'Distributed data storage'<->'File sharing networks'\n"
       ]
      },
      {
       "output_type": "stream",
       "stream": "stderr",
       "text": [
        "WARNING:root:Loop 'Web services'<->'Internet search'\n"
       ]
      },
      {
       "output_type": "stream",
       "stream": "stderr",
       "text": [
        "WARNING:root:Loop 'Computing in fiction'<->'Artificial intelligence in fiction'\n"
       ]
      },
      {
       "output_type": "stream",
       "stream": "stderr",
       "text": [
        "WARNING:root:Loop 'Social information processing'<->'Collective intelligence'\n"
       ]
      },
      {
       "output_type": "stream",
       "stream": "stderr",
       "text": [
        "WARNING:root:Loop 'Internet activism'<->'Internet-based activism'\n"
       ]
      },
      {
       "output_type": "stream",
       "stream": "stderr",
       "text": [
        "WARNING:root:Loop 'Music software'<->'Audio software'\n"
       ]
      },
      {
       "output_type": "stream",
       "stream": "stderr",
       "text": [
        "WARNING:root:Loop 'Persistent programming languages'<->'Data-centric programming languages'\n"
       ]
      },
      {
       "output_type": "stream",
       "stream": "stderr",
       "text": [
        "WARNING:root:Loop 'Video game clones'<->'Unauthorized video games'\n"
       ]
      },
      {
       "output_type": "stream",
       "stream": "stderr",
       "text": [
        "WARNING:root:Loop 'Collective intelligence'<->'Social information processing'\n"
       ]
      },
      {
       "output_type": "stream",
       "stream": "stderr",
       "text": [
        "WARNING:root:Loop 'Distributed data storage systems'<->'File sharing networks'\n"
       ]
      },
      {
       "output_type": "stream",
       "stream": "stderr",
       "text": [
        "WARNING:root:Loop 'Government services web portals in the United States'<->'Website article topics with .gov domain names'\n"
       ]
      },
      {
       "output_type": "stream",
       "stream": "stderr",
       "text": [
        "WARNING:root:Loop 'Trees (set theory)'<->'Trees (graph theory)'\n"
       ]
      },
      {
       "output_type": "stream",
       "stream": "stderr",
       "text": [
        "WARNING:root:Loop 'File sharing networks'<->'Distributed data storage'\n"
       ]
      },
      {
       "output_type": "stream",
       "stream": "stderr",
       "text": [
        "WARNING:root:Loop 'Computer vision'<->'Image processing'\n"
       ]
      },
      {
       "output_type": "stream",
       "stream": "stderr",
       "text": [
        "WARNING:root:Loop 'Real-time web'<->'Web 2.0'\n"
       ]
      },
      {
       "output_type": "stream",
       "stream": "stderr",
       "text": [
        "WARNING:root:Loop 'Videotelephony'<->'Mobile phones'\n"
       ]
      },
      {
       "output_type": "stream",
       "stream": "stderr",
       "text": [
        "WARNING:root:Loop 'Cyberpunk themes'<->'Cyberspace'\n"
       ]
      },
      {
       "output_type": "stream",
       "stream": "stderr",
       "text": [
        "WARNING:root:Loop 'Free healthcare software'<->'Free medical software'\n"
       ]
      },
      {
       "output_type": "stream",
       "stream": "stderr",
       "text": [
        "WARNING:root:Loop 'Audio software'<->'Music software'\n"
       ]
      },
      {
       "output_type": "stream",
       "stream": "stderr",
       "text": [
        "WARNING:root:Loop 'Free medical software'<->'Free healthcare software'\n"
       ]
      },
      {
       "output_type": "stream",
       "stream": "stderr",
       "text": [
        "WARNING:root:Loop 'Unauthorized video games'<->'Video game clones'\n"
       ]
      },
      {
       "output_type": "stream",
       "stream": "stderr",
       "text": [
        "WARNING:root:Loop 'Website article topics with .gov domain names'<->'Government services web portals in the United States'\n"
       ]
      },
      {
       "output_type": "stream",
       "stream": "stderr",
       "text": [
        "WARNING:root:Loop 'Unreal Engine games'<->'Unreal'\n"
       ]
      },
      {
       "output_type": "stream",
       "stream": "stderr",
       "text": [
        "WARNING:root:Loop 'Musician video games'<->'Band-centric video games'\n"
       ]
      },
      {
       "output_type": "stream",
       "stream": "stderr",
       "text": [
        "WARNING:root:Loop 'Massively multiplayer online role-playing games'<->'MMORPGs by topic'\n"
       ]
      },
      {
       "output_type": "stream",
       "stream": "stdout",
       "text": [
        "\n",
        "Fold 3"
       ]
      },
      {
       "output_type": "stream",
       "stream": "stderr",
       "text": [
        "WARNING:root:Loop 'Computer data'<->'Data processing'\n"
       ]
      },
      {
       "output_type": "stream",
       "stream": "stderr",
       "text": [
        "WARNING:root:Loop 'Data'<->'Computer data'\n"
       ]
      },
      {
       "output_type": "stream",
       "stream": "stderr",
       "text": [
        "WARNING:root:Loop 'Internet search'<->'Real-time web'\n"
       ]
      },
      {
       "output_type": "stream",
       "stream": "stderr",
       "text": [
        "WARNING:root:Loop 'Web 2.0'<->'Web services'\n"
       ]
      },
      {
       "output_type": "stream",
       "stream": "stderr",
       "text": [
        "WARNING:root:Loop 'Collation'<->'Alphabets'\n"
       ]
      },
      {
       "output_type": "stream",
       "stream": "stderr",
       "text": [
        "WARNING:root:Loop 'Cloud storage'<->'File hosting'\n"
       ]
      },
      {
       "output_type": "stream",
       "stream": "stderr",
       "text": [
        "WARNING:root:Loop 'Data-centric programming languages'<->'Persistent programming languages'\n"
       ]
      },
      {
       "output_type": "stream",
       "stream": "stderr",
       "text": [
        "WARNING:root:Loop 'File hosting'<->'Cloud storage'\n"
       ]
      },
      {
       "output_type": "stream",
       "stream": "stderr",
       "text": [
        "WARNING:root:Loop 'Distributed data storage'<->'Distributed data storage systems'\n"
       ]
      },
      {
       "output_type": "stream",
       "stream": "stderr",
       "text": [
        "WARNING:root:Loop 'Distributed data storage'<->'File sharing networks'\n"
       ]
      },
      {
       "output_type": "stream",
       "stream": "stderr",
       "text": [
        "WARNING:root:Loop 'Web services'<->'Internet search'\n"
       ]
      },
      {
       "output_type": "stream",
       "stream": "stderr",
       "text": [
        "WARNING:root:Loop 'Computing in fiction'<->'Artificial intelligence in fiction'\n"
       ]
      },
      {
       "output_type": "stream",
       "stream": "stderr",
       "text": [
        "WARNING:root:Loop 'Social information processing'<->'Collective intelligence'\n"
       ]
      },
      {
       "output_type": "stream",
       "stream": "stderr",
       "text": [
        "WARNING:root:Loop 'Internet activism'<->'Internet-based activism'\n"
       ]
      },
      {
       "output_type": "stream",
       "stream": "stderr",
       "text": [
        "WARNING:root:Loop 'Music software'<->'Audio software'\n"
       ]
      },
      {
       "output_type": "stream",
       "stream": "stderr",
       "text": [
        "WARNING:root:Loop 'Persistent programming languages'<->'Data-centric programming languages'\n"
       ]
      },
      {
       "output_type": "stream",
       "stream": "stderr",
       "text": [
        "WARNING:root:Loop 'Video game clones'<->'Unauthorized video games'\n"
       ]
      },
      {
       "output_type": "stream",
       "stream": "stderr",
       "text": [
        "WARNING:root:Loop 'Collective intelligence'<->'Social information processing'\n"
       ]
      },
      {
       "output_type": "stream",
       "stream": "stderr",
       "text": [
        "WARNING:root:Loop 'Distributed data storage systems'<->'File sharing networks'\n"
       ]
      },
      {
       "output_type": "stream",
       "stream": "stderr",
       "text": [
        "WARNING:root:Loop 'Government services web portals in the United States'<->'Website article topics with .gov domain names'\n"
       ]
      },
      {
       "output_type": "stream",
       "stream": "stderr",
       "text": [
        "WARNING:root:Loop 'Trees (set theory)'<->'Trees (graph theory)'\n"
       ]
      },
      {
       "output_type": "stream",
       "stream": "stderr",
       "text": [
        "WARNING:root:Loop 'File sharing networks'<->'Distributed data storage'\n"
       ]
      },
      {
       "output_type": "stream",
       "stream": "stderr",
       "text": [
        "WARNING:root:Loop 'Artificial intelligence in fiction'<->'Computing in fiction'\n"
       ]
      },
      {
       "output_type": "stream",
       "stream": "stderr",
       "text": [
        "WARNING:root:Loop 'Computer vision'<->'Image processing'\n"
       ]
      },
      {
       "output_type": "stream",
       "stream": "stderr",
       "text": [
        "WARNING:root:Loop 'Mobile phones'<->'Videotelephony'\n"
       ]
      },
      {
       "output_type": "stream",
       "stream": "stderr",
       "text": [
        "WARNING:root:Loop 'Real-time web'<->'Web 2.0'\n"
       ]
      },
      {
       "output_type": "stream",
       "stream": "stderr",
       "text": [
        "WARNING:root:Loop 'Videotelephony'<->'Mobile phones'\n"
       ]
      },
      {
       "output_type": "stream",
       "stream": "stderr",
       "text": [
        "WARNING:root:Loop 'Cyberpunk themes'<->'Cyberspace'\n"
       ]
      },
      {
       "output_type": "stream",
       "stream": "stderr",
       "text": [
        "WARNING:root:Loop 'Free healthcare software'<->'Free medical software'\n"
       ]
      },
      {
       "output_type": "stream",
       "stream": "stderr",
       "text": [
        "WARNING:root:Loop 'Audio software'<->'Music software'\n"
       ]
      },
      {
       "output_type": "stream",
       "stream": "stderr",
       "text": [
        "WARNING:root:Loop 'Free medical software'<->'Free healthcare software'\n"
       ]
      },
      {
       "output_type": "stream",
       "stream": "stderr",
       "text": [
        "WARNING:root:Loop 'Unauthorized video games'<->'Video game clones'\n"
       ]
      },
      {
       "output_type": "stream",
       "stream": "stderr",
       "text": [
        "WARNING:root:Loop 'Website article topics with .gov domain names'<->'Government services web portals in the United States'\n"
       ]
      },
      {
       "output_type": "stream",
       "stream": "stderr",
       "text": [
        "WARNING:root:Loop 'Unreal Engine games'<->'Unreal'\n"
       ]
      },
      {
       "output_type": "stream",
       "stream": "stderr",
       "text": [
        "WARNING:root:Loop 'Musician video games'<->'Band-centric video games'\n"
       ]
      },
      {
       "output_type": "stream",
       "stream": "stderr",
       "text": [
        "WARNING:root:Loop 'Massively multiplayer online role-playing games'<->'MMORPGs by topic'\n"
       ]
      },
      {
       "output_type": "stream",
       "stream": "stdout",
       "text": [
        "\n",
        "Fold 4"
       ]
      },
      {
       "output_type": "stream",
       "stream": "stderr",
       "text": [
        "WARNING:root:Loop 'Computer data'<->'Data processing'\n"
       ]
      },
      {
       "output_type": "stream",
       "stream": "stderr",
       "text": [
        "WARNING:root:Loop 'Data'<->'Computer data'\n"
       ]
      },
      {
       "output_type": "stream",
       "stream": "stderr",
       "text": [
        "WARNING:root:Loop 'Internet search'<->'Real-time web'\n"
       ]
      },
      {
       "output_type": "stream",
       "stream": "stderr",
       "text": [
        "WARNING:root:Loop 'Web 2.0'<->'Web services'\n"
       ]
      },
      {
       "output_type": "stream",
       "stream": "stderr",
       "text": [
        "WARNING:root:Loop 'Collation'<->'Alphabets'\n"
       ]
      },
      {
       "output_type": "stream",
       "stream": "stderr",
       "text": [
        "WARNING:root:Loop 'Cloud storage'<->'File hosting'\n"
       ]
      },
      {
       "output_type": "stream",
       "stream": "stderr",
       "text": [
        "WARNING:root:Loop 'Data-centric programming languages'<->'Persistent programming languages'\n"
       ]
      },
      {
       "output_type": "stream",
       "stream": "stderr",
       "text": [
        "WARNING:root:Loop 'File hosting'<->'Cloud storage'\n"
       ]
      },
      {
       "output_type": "stream",
       "stream": "stderr",
       "text": [
        "WARNING:root:Loop 'Distributed data storage'<->'Distributed data storage systems'\n"
       ]
      },
      {
       "output_type": "stream",
       "stream": "stderr",
       "text": [
        "WARNING:root:Loop 'Distributed data storage'<->'File sharing networks'\n"
       ]
      },
      {
       "output_type": "stream",
       "stream": "stderr",
       "text": [
        "WARNING:root:Loop 'Web services'<->'Internet search'\n"
       ]
      },
      {
       "output_type": "stream",
       "stream": "stderr",
       "text": [
        "WARNING:root:Loop 'Computing in fiction'<->'Artificial intelligence in fiction'\n"
       ]
      },
      {
       "output_type": "stream",
       "stream": "stderr",
       "text": [
        "WARNING:root:Loop 'Social information processing'<->'Collective intelligence'\n"
       ]
      },
      {
       "output_type": "stream",
       "stream": "stderr",
       "text": [
        "WARNING:root:Loop 'Internet activism'<->'Internet-based activism'\n"
       ]
      },
      {
       "output_type": "stream",
       "stream": "stderr",
       "text": [
        "WARNING:root:Loop 'Music software'<->'Audio software'\n"
       ]
      },
      {
       "output_type": "stream",
       "stream": "stderr",
       "text": [
        "WARNING:root:Loop 'Persistent programming languages'<->'Data-centric programming languages'\n"
       ]
      },
      {
       "output_type": "stream",
       "stream": "stderr",
       "text": [
        "WARNING:root:Loop 'Video game clones'<->'Unauthorized video games'\n"
       ]
      },
      {
       "output_type": "stream",
       "stream": "stderr",
       "text": [
        "WARNING:root:Loop 'Collective intelligence'<->'Social information processing'\n"
       ]
      },
      {
       "output_type": "stream",
       "stream": "stderr",
       "text": [
        "WARNING:root:Loop 'Distributed data storage systems'<->'File sharing networks'\n"
       ]
      },
      {
       "output_type": "stream",
       "stream": "stderr",
       "text": [
        "WARNING:root:Loop 'Trees (set theory)'<->'Trees (graph theory)'\n"
       ]
      },
      {
       "output_type": "stream",
       "stream": "stderr",
       "text": [
        "WARNING:root:Loop 'File sharing networks'<->'Distributed data storage'\n"
       ]
      },
      {
       "output_type": "stream",
       "stream": "stderr",
       "text": [
        "WARNING:root:Loop 'Artificial intelligence in fiction'<->'Computing in fiction'\n"
       ]
      },
      {
       "output_type": "stream",
       "stream": "stderr",
       "text": [
        "WARNING:root:Loop 'Mobile phones'<->'Videotelephony'\n"
       ]
      },
      {
       "output_type": "stream",
       "stream": "stderr",
       "text": [
        "WARNING:root:Loop 'Real-time web'<->'Web 2.0'\n"
       ]
      },
      {
       "output_type": "stream",
       "stream": "stderr",
       "text": [
        "WARNING:root:Loop 'Videotelephony'<->'Mobile phones'\n"
       ]
      },
      {
       "output_type": "stream",
       "stream": "stderr",
       "text": [
        "WARNING:root:Loop 'Cyberpunk themes'<->'Cyberspace'\n"
       ]
      },
      {
       "output_type": "stream",
       "stream": "stderr",
       "text": [
        "WARNING:root:Loop 'Government services web portals in the United States'<->'Website article topics with .gov domain names'\n"
       ]
      },
      {
       "output_type": "stream",
       "stream": "stderr",
       "text": [
        "WARNING:root:Loop 'Free healthcare software'<->'Free medical software'\n"
       ]
      },
      {
       "output_type": "stream",
       "stream": "stderr",
       "text": [
        "WARNING:root:Loop 'Audio software'<->'Music software'\n"
       ]
      },
      {
       "output_type": "stream",
       "stream": "stderr",
       "text": [
        "WARNING:root:Loop 'Free medical software'<->'Free healthcare software'\n"
       ]
      },
      {
       "output_type": "stream",
       "stream": "stderr",
       "text": [
        "WARNING:root:Loop 'Unauthorized video games'<->'Video game clones'\n"
       ]
      },
      {
       "output_type": "stream",
       "stream": "stderr",
       "text": [
        "WARNING:root:Loop 'Website article topics with .gov domain names'<->'Government services web portals in the United States'\n"
       ]
      },
      {
       "output_type": "stream",
       "stream": "stderr",
       "text": [
        "WARNING:root:Loop 'Unreal Engine games'<->'Unreal'\n"
       ]
      },
      {
       "output_type": "stream",
       "stream": "stderr",
       "text": [
        "WARNING:root:Loop 'Musician video games'<->'Band-centric video games'\n"
       ]
      },
      {
       "output_type": "stream",
       "stream": "stderr",
       "text": [
        "WARNING:root:Loop 'Massively multiplayer online role-playing games'<->'MMORPGs by topic'\n"
       ]
      },
      {
       "output_type": "stream",
       "stream": "stdout",
       "text": [
        "\n",
        "Fold 5"
       ]
      },
      {
       "output_type": "stream",
       "stream": "stderr",
       "text": [
        "WARNING:root:Loop 'Computer data'<->'Data processing'\n"
       ]
      },
      {
       "output_type": "stream",
       "stream": "stderr",
       "text": [
        "WARNING:root:Loop 'Data'<->'Computer data'\n"
       ]
      },
      {
       "output_type": "stream",
       "stream": "stderr",
       "text": [
        "WARNING:root:Loop 'Internet search'<->'Real-time web'\n"
       ]
      },
      {
       "output_type": "stream",
       "stream": "stderr",
       "text": [
        "WARNING:root:Loop 'Web 2.0'<->'Web services'\n"
       ]
      },
      {
       "output_type": "stream",
       "stream": "stderr",
       "text": [
        "WARNING:root:Loop 'Collation'<->'Alphabets'\n"
       ]
      },
      {
       "output_type": "stream",
       "stream": "stderr",
       "text": [
        "WARNING:root:Loop 'Cloud storage'<->'File hosting'\n"
       ]
      },
      {
       "output_type": "stream",
       "stream": "stderr",
       "text": [
        "WARNING:root:Loop 'Data-centric programming languages'<->'Persistent programming languages'\n"
       ]
      },
      {
       "output_type": "stream",
       "stream": "stderr",
       "text": [
        "WARNING:root:Loop 'File hosting'<->'Cloud storage'\n"
       ]
      },
      {
       "output_type": "stream",
       "stream": "stderr",
       "text": [
        "WARNING:root:Loop 'Distributed data storage'<->'Distributed data storage systems'\n"
       ]
      },
      {
       "output_type": "stream",
       "stream": "stderr",
       "text": [
        "WARNING:root:Loop 'Distributed data storage'<->'File sharing networks'\n"
       ]
      },
      {
       "output_type": "stream",
       "stream": "stderr",
       "text": [
        "WARNING:root:Loop 'Web services'<->'Internet search'\n"
       ]
      },
      {
       "output_type": "stream",
       "stream": "stderr",
       "text": [
        "WARNING:root:Loop 'Computing in fiction'<->'Artificial intelligence in fiction'\n"
       ]
      },
      {
       "output_type": "stream",
       "stream": "stderr",
       "text": [
        "WARNING:root:Loop 'Social information processing'<->'Collective intelligence'\n"
       ]
      },
      {
       "output_type": "stream",
       "stream": "stderr",
       "text": [
        "WARNING:root:Loop 'Internet activism'<->'Internet-based activism'\n"
       ]
      },
      {
       "output_type": "stream",
       "stream": "stderr",
       "text": [
        "WARNING:root:Loop 'Music software'<->'Audio software'\n"
       ]
      },
      {
       "output_type": "stream",
       "stream": "stderr",
       "text": [
        "WARNING:root:Loop 'Persistent programming languages'<->'Data-centric programming languages'\n"
       ]
      },
      {
       "output_type": "stream",
       "stream": "stderr",
       "text": [
        "WARNING:root:Loop 'Video game clones'<->'Unauthorized video games'\n"
       ]
      },
      {
       "output_type": "stream",
       "stream": "stderr",
       "text": [
        "WARNING:root:Loop 'Collective intelligence'<->'Social information processing'\n"
       ]
      },
      {
       "output_type": "stream",
       "stream": "stderr",
       "text": [
        "WARNING:root:Loop 'Distributed data storage systems'<->'File sharing networks'\n"
       ]
      },
      {
       "output_type": "stream",
       "stream": "stderr",
       "text": [
        "WARNING:root:Loop 'Government services web portals in the United States'<->'Website article topics with .gov domain names'\n"
       ]
      },
      {
       "output_type": "stream",
       "stream": "stderr",
       "text": [
        "WARNING:root:Loop 'Trees (set theory)'<->'Trees (graph theory)'\n"
       ]
      },
      {
       "output_type": "stream",
       "stream": "stderr",
       "text": [
        "WARNING:root:Loop 'File sharing networks'<->'Distributed data storage'\n"
       ]
      },
      {
       "output_type": "stream",
       "stream": "stderr",
       "text": [
        "WARNING:root:Loop 'Artificial intelligence in fiction'<->'Computing in fiction'\n"
       ]
      },
      {
       "output_type": "stream",
       "stream": "stderr",
       "text": [
        "WARNING:root:Loop 'Computer vision'<->'Image processing'\n"
       ]
      },
      {
       "output_type": "stream",
       "stream": "stderr",
       "text": [
        "WARNING:root:Loop 'Mobile phones'<->'Videotelephony'\n"
       ]
      },
      {
       "output_type": "stream",
       "stream": "stderr",
       "text": [
        "WARNING:root:Loop 'Real-time web'<->'Web 2.0'\n"
       ]
      },
      {
       "output_type": "stream",
       "stream": "stderr",
       "text": [
        "WARNING:root:Loop 'Videotelephony'<->'Mobile phones'\n"
       ]
      },
      {
       "output_type": "stream",
       "stream": "stderr",
       "text": [
        "WARNING:root:Loop 'Cyberpunk themes'<->'Cyberspace'\n"
       ]
      },
      {
       "output_type": "stream",
       "stream": "stderr",
       "text": [
        "WARNING:root:Loop 'Free healthcare software'<->'Free medical software'\n"
       ]
      },
      {
       "output_type": "stream",
       "stream": "stderr",
       "text": [
        "WARNING:root:Loop 'Audio software'<->'Music software'\n"
       ]
      },
      {
       "output_type": "stream",
       "stream": "stderr",
       "text": [
        "WARNING:root:Loop 'Free medical software'<->'Free healthcare software'\n"
       ]
      },
      {
       "output_type": "stream",
       "stream": "stderr",
       "text": [
        "WARNING:root:Loop 'Unauthorized video games'<->'Video game clones'\n"
       ]
      },
      {
       "output_type": "stream",
       "stream": "stderr",
       "text": [
        "WARNING:root:Loop 'Website article topics with .gov domain names'<->'Government services web portals in the United States'\n"
       ]
      },
      {
       "output_type": "stream",
       "stream": "stderr",
       "text": [
        "WARNING:root:Loop 'Unreal Engine games'<->'Unreal'\n"
       ]
      },
      {
       "output_type": "stream",
       "stream": "stderr",
       "text": [
        "WARNING:root:Loop 'Musician video games'<->'Band-centric video games'\n"
       ]
      },
      {
       "output_type": "stream",
       "stream": "stdout",
       "text": [
        "\n",
        "accuracy    : 0.924 +- 0.006"
       ]
      },
      {
       "output_type": "stream",
       "stream": "stdout",
       "text": [
        "\n",
        "f1_pos      : 0.907 +- 0.008\n",
        "f1_neg      : 0.935 +- 0.005\n",
        "weighted_f1 : 0.924 +- 0.006\n"
       ]
      }
     ],
     "prompt_number": 59
    },
    {
     "cell_type": "markdown",
     "metadata": {},
     "source": [
      "#### Performance of the depth-based baseline"
     ]
    },
    {
     "cell_type": "code",
     "collapsed": false,
     "input": [
      "metrics = evaluate_depth_based_classifier_cross_validated(depth=4)\n",
      "metric_names = ['accuracy', 'f1_pos', 'f1_neg', 'weighted_f1']\n",
      "for metric_name, metric in zip(metric_names, metrics):\n",
      "    print(\"{:<11s} : {:.3f} +- {:.3f}\".format(metric_name, metric.mean(), metric.std()))"
     ],
     "language": "python",
     "metadata": {},
     "outputs": [
      {
       "output_type": "stream",
       "stream": "stderr",
       "text": [
        "WARNING:root:Loop 'Computer data'<->'Data processing'\n"
       ]
      },
      {
       "output_type": "stream",
       "stream": "stderr",
       "text": [
        "WARNING:root:Loop 'Internet search'<->'Real-time web'\n"
       ]
      },
      {
       "output_type": "stream",
       "stream": "stderr",
       "text": [
        "WARNING:root:Loop 'Collation'<->'Alphabets'\n"
       ]
      },
      {
       "output_type": "stream",
       "stream": "stderr",
       "text": [
        "WARNING:root:Loop 'Internet activism'<->'Internet-based activism'\n"
       ]
      },
      {
       "output_type": "stream",
       "stream": "stdout",
       "text": [
        "Fold 1\n",
        "Fold 2\n",
        "Fold 3\n",
        "Fold 4\n",
        "Fold 5\n",
        "accuracy    : 0.908 +- 0.009\n",
        "f1_pos      : 0.889 +- 0.013\n",
        "f1_neg      : 0.922 +- 0.007\n",
        "weighted_f1 : 0.908 +- 0.009\n"
       ]
      }
     ],
     "prompt_number": 61
    },
    {
     "cell_type": "markdown",
     "metadata": {},
     "source": [
      "#### Performance of the majority rule baseline"
     ]
    },
    {
     "cell_type": "code",
     "collapsed": false,
     "input": [
      "metrics = evaluate_majority_classifier_cross_validated()\n",
      "metric_names = ['accuracy', 'f1_pos', 'f1_neg', 'weighted_f1']\n",
      "for metric_name, metric in zip(metric_names, metrics):\n",
      "    print(\"{:<11s} : {:.3f} +- {:.3f}\".format(metric_name, metric.mean(), metric.std()))"
     ],
     "language": "python",
     "metadata": {},
     "outputs": [
      {
       "output_type": "stream",
       "stream": "stdout",
       "text": [
        "Fold 1\n",
        "Fold 2\n",
        "Fold 3\n",
        "Fold 4\n",
        "Fold 5\n",
        "accuracy    : 0.589 +- 0.002\n",
        "f1_pos      : 0.000 +- 0.000\n",
        "f1_neg      : 0.741 +- 0.001\n",
        "weighted_f1 : 0.436 +- 0.002\n"
       ]
      }
     ],
     "prompt_number": 63
    },
    {
     "cell_type": "markdown",
     "metadata": {},
     "source": [
      "#### Performance of the stratified random baseline"
     ]
    },
    {
     "cell_type": "code",
     "collapsed": false,
     "input": [
      "metrics = evaluate_random_classifier_cross_validated()\n",
      "metric_names = ['accuracy', 'f1_pos', 'f1_neg', 'weighted_f1']\n",
      "for metric_name, metric in zip(metric_names, metrics):\n",
      "    print(\"{:<11s} : {:.3f} +- {:.3f}\".format(metric_name, metric.mean(), metric.std()))"
     ],
     "language": "python",
     "metadata": {},
     "outputs": [
      {
       "output_type": "stream",
       "stream": "stdout",
       "text": [
        "Fold 1\n",
        "Fold 2\n",
        "Fold 3\n",
        "Fold 4\n",
        "Fold 5\n",
        "accuracy    : 0.539 +- 0.054\n",
        "f1_pos      : 0.381 +- 0.082\n",
        "f1_neg      : 0.582 +- 0.030\n",
        "weighted_f1 : 0.503 +- 0.052\n"
       ]
      }
     ],
     "prompt_number": 64
    },
    {
     "cell_type": "markdown",
     "metadata": {},
     "source": [
      "### Plot the distribution of relevant and irrelevant topics in the whole selection according to the learning-based classifier, and depending on the depth"
     ]
    },
    {
     "cell_type": "code",
     "collapsed": false,
     "input": [
      "def stats_on_relevant_topics_according_to_classifier(clf, topic_df):\n",
      "    feature_columns = default_features.feature_names()\n",
      "    topic_df = topic_df.copy()\n",
      "    topic_df['prediction'] = clf.predict(topic_df['topic'])\n",
      "    topic_df = topic_df.drop('is_relevant', axis=1)\n",
      "    feature_and_prediction_columns = feature_columns + ['prediction']\n",
      "    stats_df = topic_df.dropna().groupby(['depth', 'prediction'])\\\n",
      "        ['topic']\\\n",
      "        .count()\\\n",
      "        .unstack('prediction')\\\n",
      "        .fillna(0)\\\n",
      "        .sort(ascending=False)\n",
      "    stats_df = stats_df.rename(columns={False: 'irrelevant', True: 'relevant'})\n",
      "    stats_df.plot(kind='barh', stacked=True)\n",
      "    plt.xlabel('The number of topics')\n",
      "    stats_df['total'] = stats_df['relevant'] + stats_df['irrelevant']\n",
      "    stats_df['percent_relevant'] = (stats_df['relevant'] / stats_df['total']).round(3)\n",
      "    return stats_df.sort(ascending=True)\n",
      "\n",
      "stats_on_relevant_topics_according_to_classifier(\n",
      "    default_trained_topic_selection_classifier(),\n",
      "    precompute_topic_data_frame())"
     ],
     "language": "python",
     "metadata": {},
     "outputs": [
      {
       "html": [
        "<div style=\"max-height:1000px;max-width:1500px;overflow:auto;\">\n",
        "<table border=\"1\" class=\"dataframe\">\n",
        "  <thead>\n",
        "    <tr style=\"text-align: right;\">\n",
        "      <th>prediction</th>\n",
        "      <th>irrelevant</th>\n",
        "      <th>relevant</th>\n",
        "      <th>total</th>\n",
        "      <th>percent_relevant</th>\n",
        "    </tr>\n",
        "    <tr>\n",
        "      <th>depth</th>\n",
        "      <th></th>\n",
        "      <th></th>\n",
        "      <th></th>\n",
        "      <th></th>\n",
        "    </tr>\n",
        "  </thead>\n",
        "  <tbody>\n",
        "    <tr>\n",
        "      <th>1</th>\n",
        "      <td>     0</td>\n",
        "      <td>   38</td>\n",
        "      <td>    38</td>\n",
        "      <td> 1.000</td>\n",
        "    </tr>\n",
        "    <tr>\n",
        "      <th>2</th>\n",
        "      <td>     1</td>\n",
        "      <td>  421</td>\n",
        "      <td>   422</td>\n",
        "      <td> 0.998</td>\n",
        "    </tr>\n",
        "    <tr>\n",
        "      <th>3</th>\n",
        "      <td>     0</td>\n",
        "      <td> 1938</td>\n",
        "      <td>  1938</td>\n",
        "      <td> 1.000</td>\n",
        "    </tr>\n",
        "    <tr>\n",
        "      <th>4</th>\n",
        "      <td>   122</td>\n",
        "      <td> 3630</td>\n",
        "      <td>  3752</td>\n",
        "      <td> 0.967</td>\n",
        "    </tr>\n",
        "    <tr>\n",
        "      <th>5</th>\n",
        "      <td>  3154</td>\n",
        "      <td> 1131</td>\n",
        "      <td>  4285</td>\n",
        "      <td> 0.264</td>\n",
        "    </tr>\n",
        "    <tr>\n",
        "      <th>6</th>\n",
        "      <td>  5453</td>\n",
        "      <td>    0</td>\n",
        "      <td>  5453</td>\n",
        "      <td> 0.000</td>\n",
        "    </tr>\n",
        "    <tr>\n",
        "      <th>7</th>\n",
        "      <td> 12396</td>\n",
        "      <td>    0</td>\n",
        "      <td> 12396</td>\n",
        "      <td> 0.000</td>\n",
        "    </tr>\n",
        "  </tbody>\n",
        "</table>\n",
        "</div>"
       ],
       "metadata": {},
       "output_type": "pyout",
       "prompt_number": 65,
       "text": [
        "prediction  irrelevant  relevant  total  percent_relevant\n",
        "depth                                                    \n",
        "1                    0        38     38             1.000\n",
        "2                    1       421    422             0.998\n",
        "3                    0      1938   1938             1.000\n",
        "4                  122      3630   3752             0.967\n",
        "5                 3154      1131   4285             0.264\n",
        "6                 5453         0   5453             0.000\n",
        "7                12396         0  12396             0.000"
       ]
      },
      {
       "metadata": {},
       "output_type": "display_data",
       "png": "[encoded data removed]",
       "text": [
        "<matplotlib.figure.Figure at 0x11ebce6d8>"
       ]
      }
     ],
     "prompt_number": 65
    },
    {
     "cell_type": "markdown",
     "metadata": {},
     "source": [
      "### Checking the performance of the depth4-based selection, SVM and decision tree"
     ]
    },
    {
     "cell_type": "code",
     "collapsed": false,
     "input": [
      "def compare_and_plot_the_performances_of_3_classifiers(topic_df):\n",
      "    \n",
      "    topics = topic_df.dropna()['topic']\n",
      "    classes = topic_df.dropna()['is_relevant']    \n",
      "\n",
      "    def eval_clf(clf, topic_df):\n",
      "        topics = topic_df.dropna()['topic']\n",
      "        classes = topic_df.dropna()['is_relevant']\n",
      "        return [evaluate_classifier(clf, topics, classes, util.f1_pos_class),\n",
      "                evaluate_classifier(clf, topics, classes, util.f1_neg_class)]\n",
      "\n",
      "    def overfitting_svm_clf(topic_df):\n",
      "        training_params = new_training_params()\n",
      "        training_params['classifier_params']['C'] = 1000\n",
      "        full_selection = precompute_full_selection()\n",
      "        return train_topic_classifier(topics, classes, full_selection, **training_params)\n",
      "\n",
      "    def default_tree_clf(topic_df):\n",
      "        training_params = new_training_params()\n",
      "        training_params['classifier_fn'] = DecisionTreeClassifier\n",
      "        training_params['classifier_params'] = {}\n",
      "        full_selection = precompute_full_selection()\n",
      "        return train_topic_classifier(topics, classes, full_selection, **training_params)\n",
      "\n",
      "    def default_k1n_clf(topic_df):\n",
      "        training_params = new_training_params()\n",
      "        training_params['classifier_fn'] = KNeighborsClassifier\n",
      "        training_params['classifier_params'] = {'n_neighbors' : 1}\n",
      "        full_selection = precompute_full_selection()\n",
      "        return train_topic_classifier(topics, classes, full_selection, **training_params)\n",
      "    \n",
      "    print(\"F1 measures, classes 'relevant' and 'irrelevant' for different classifiers:\")\n",
      "    \n",
      "    print(\"Depth-4 classifier:\", eval_clf(depth_based_selection(max_depth=4), topic_df))\n",
      "    print(\"SVM, with C=1000:\", eval_clf(overfitting_svm_clf(topic_df), topic_df))\n",
      "    print(\"Decision tree:\", eval_clf(default_tree_clf(topic_df), topic_df))\n",
      "    print(\"1-nearest neighbor:\", eval_clf(default_k1n_clf(topic_df), topic_df))\n",
      "    \n",
      "compare_and_plot_the_performances_of_3_classifiers(precompute_topic_data_frame())"
     ],
     "language": "python",
     "metadata": {},
     "outputs": [
      {
       "output_type": "stream",
       "stream": "stderr",
       "text": [
        "WARNING:root:Loop 'Computer data'<->'Data processing'\n"
       ]
      },
      {
       "output_type": "stream",
       "stream": "stderr",
       "text": [
        "WARNING:root:Loop 'Internet search'<->'Real-time web'\n"
       ]
      },
      {
       "output_type": "stream",
       "stream": "stderr",
       "text": [
        "WARNING:root:Loop 'Collation'<->'Alphabets'\n"
       ]
      },
      {
       "output_type": "stream",
       "stream": "stderr",
       "text": [
        "WARNING:root:Loop 'Internet activism'<->'Internet-based activism'\n"
       ]
      },
      {
       "output_type": "stream",
       "stream": "stdout",
       "text": [
        "F1 measures, classes 'relevant' and 'irrelevant' for different classifiers:\n",
        "Depth-4 classifier:"
       ]
      },
      {
       "output_type": "stream",
       "stream": "stderr",
       "text": [
        "WARNING:root:Loop 'Computer data'<->'Data processing'\n"
       ]
      },
      {
       "output_type": "stream",
       "stream": "stderr",
       "text": [
        "WARNING:root:Loop 'Data'<->'Computer data'\n"
       ]
      },
      {
       "output_type": "stream",
       "stream": "stderr",
       "text": [
        "WARNING:root:Loop 'Internet search'<->'Real-time web'\n"
       ]
      },
      {
       "output_type": "stream",
       "stream": "stderr",
       "text": [
        "WARNING:root:Loop 'Web 2.0'<->'Web services'\n"
       ]
      },
      {
       "output_type": "stream",
       "stream": "stderr",
       "text": [
        "WARNING:root:Loop 'Collation'<->'Alphabets'\n"
       ]
      },
      {
       "output_type": "stream",
       "stream": "stderr",
       "text": [
        "WARNING:root:Loop 'Cloud storage'<->'File hosting'\n"
       ]
      },
      {
       "output_type": "stream",
       "stream": "stderr",
       "text": [
        "WARNING:root:Loop 'Data-centric programming languages'<->'Persistent programming languages'\n"
       ]
      },
      {
       "output_type": "stream",
       "stream": "stderr",
       "text": [
        "WARNING:root:Loop 'File hosting'<->'Cloud storage'\n"
       ]
      },
      {
       "output_type": "stream",
       "stream": "stderr",
       "text": [
        "WARNING:root:Loop 'Distributed data storage'<->'Distributed data storage systems'\n"
       ]
      },
      {
       "output_type": "stream",
       "stream": "stderr",
       "text": [
        "WARNING:root:Loop 'Distributed data storage'<->'File sharing networks'\n"
       ]
      },
      {
       "output_type": "stream",
       "stream": "stderr",
       "text": [
        "WARNING:root:Loop 'Web services'<->'Internet search'\n"
       ]
      },
      {
       "output_type": "stream",
       "stream": "stderr",
       "text": [
        "WARNING:root:Loop 'Computing in fiction'<->'Artificial intelligence in fiction'\n"
       ]
      },
      {
       "output_type": "stream",
       "stream": "stderr",
       "text": [
        "WARNING:root:Loop 'Social information processing'<->'Collective intelligence'\n"
       ]
      },
      {
       "output_type": "stream",
       "stream": "stderr",
       "text": [
        "WARNING:root:Loop 'Internet activism'<->'Internet-based activism'\n"
       ]
      },
      {
       "output_type": "stream",
       "stream": "stderr",
       "text": [
        "WARNING:root:Loop 'Music software'<->'Audio software'\n"
       ]
      },
      {
       "output_type": "stream",
       "stream": "stderr",
       "text": [
        "WARNING:root:Loop 'Persistent programming languages'<->'Data-centric programming languages'\n"
       ]
      },
      {
       "output_type": "stream",
       "stream": "stderr",
       "text": [
        "WARNING:root:Loop 'Video game clones'<->'Unauthorized video games'\n"
       ]
      },
      {
       "output_type": "stream",
       "stream": "stderr",
       "text": [
        "WARNING:root:Loop 'Collective intelligence'<->'Social information processing'\n"
       ]
      },
      {
       "output_type": "stream",
       "stream": "stderr",
       "text": [
        "WARNING:root:Loop 'Distributed data storage systems'<->'File sharing networks'\n"
       ]
      },
      {
       "output_type": "stream",
       "stream": "stderr",
       "text": [
        "WARNING:root:Loop 'Government services web portals in the United States'<->'Website article topics with .gov domain names'\n"
       ]
      },
      {
       "output_type": "stream",
       "stream": "stderr",
       "text": [
        "WARNING:root:Loop 'Trees (set theory)'<->'Trees (graph theory)'\n"
       ]
      },
      {
       "output_type": "stream",
       "stream": "stderr",
       "text": [
        "WARNING:root:Loop 'File sharing networks'<->'Distributed data storage'\n"
       ]
      },
      {
       "output_type": "stream",
       "stream": "stderr",
       "text": [
        "WARNING:root:Loop 'Artificial intelligence in fiction'<->'Computing in fiction'\n"
       ]
      },
      {
       "output_type": "stream",
       "stream": "stderr",
       "text": [
        "WARNING:root:Loop 'Computer vision'<->'Image processing'\n"
       ]
      },
      {
       "output_type": "stream",
       "stream": "stderr",
       "text": [
        "WARNING:root:Loop 'Mobile phones'<->'Videotelephony'\n"
       ]
      },
      {
       "output_type": "stream",
       "stream": "stderr",
       "text": [
        "WARNING:root:Loop 'Real-time web'<->'Web 2.0'\n"
       ]
      },
      {
       "output_type": "stream",
       "stream": "stderr",
       "text": [
        "WARNING:root:Loop 'Videotelephony'<->'Mobile phones'\n"
       ]
      },
      {
       "output_type": "stream",
       "stream": "stderr",
       "text": [
        "WARNING:root:Loop 'Cyberpunk themes'<->'Cyberspace'\n"
       ]
      },
      {
       "output_type": "stream",
       "stream": "stderr",
       "text": [
        "WARNING:root:Loop 'Free healthcare software'<->'Free medical software'\n"
       ]
      },
      {
       "output_type": "stream",
       "stream": "stderr",
       "text": [
        "WARNING:root:Loop 'Audio software'<->'Music software'\n"
       ]
      },
      {
       "output_type": "stream",
       "stream": "stderr",
       "text": [
        "WARNING:root:Loop 'Free medical software'<->'Free healthcare software'\n"
       ]
      },
      {
       "output_type": "stream",
       "stream": "stderr",
       "text": [
        "WARNING:root:Loop 'Unauthorized video games'<->'Video game clones'\n"
       ]
      },
      {
       "output_type": "stream",
       "stream": "stderr",
       "text": [
        "WARNING:root:Loop 'Website article topics with .gov domain names'<->'Government services web portals in the United States'\n"
       ]
      },
      {
       "output_type": "stream",
       "stream": "stderr",
       "text": [
        "WARNING:root:Loop 'Real Robots'<->'Super Robot Wars'\n"
       ]
      },
      {
       "output_type": "stream",
       "stream": "stderr",
       "text": [
        "WARNING:root:Loop 'Real Robots'<->'Super Robots'\n"
       ]
      },
      {
       "output_type": "stream",
       "stream": "stderr",
       "text": [
        "WARNING:root:Loop 'Super Robots'<->'Real Robots'\n"
       ]
      },
      {
       "output_type": "stream",
       "stream": "stderr",
       "text": [
        "WARNING:root:Loop 'Super Robots'<->'Super Robot Wars'\n"
       ]
      },
      {
       "output_type": "stream",
       "stream": "stderr",
       "text": [
        "WARNING:root:Loop 'Unreal Engine games'<->'Unreal'\n"
       ]
      },
      {
       "output_type": "stream",
       "stream": "stderr",
       "text": [
        "WARNING:root:Loop 'Musician video games'<->'Band-centric video games'\n"
       ]
      },
      {
       "output_type": "stream",
       "stream": "stderr",
       "text": [
        "WARNING:root:Loop 'Massively multiplayer online role-playing games'<->'MMORPGs by topic'\n"
       ]
      },
      {
       "output_type": "stream",
       "stream": "stdout",
       "text": [
        " [0.88888888888888884, 0.92164674634794164]\n",
        "SVM, with C=1000:"
       ]
      },
      {
       "output_type": "stream",
       "stream": "stderr",
       "text": [
        "WARNING:root:Loop 'Computer data'<->'Data processing'\n"
       ]
      },
      {
       "output_type": "stream",
       "stream": "stderr",
       "text": [
        "WARNING:root:Loop 'Data'<->'Computer data'\n"
       ]
      },
      {
       "output_type": "stream",
       "stream": "stderr",
       "text": [
        "WARNING:root:Loop 'Internet search'<->'Real-time web'\n"
       ]
      },
      {
       "output_type": "stream",
       "stream": "stderr",
       "text": [
        "WARNING:root:Loop 'Web 2.0'<->'Web services'\n"
       ]
      },
      {
       "output_type": "stream",
       "stream": "stderr",
       "text": [
        "WARNING:root:Loop 'Collation'<->'Alphabets'\n"
       ]
      },
      {
       "output_type": "stream",
       "stream": "stderr",
       "text": [
        "WARNING:root:Loop 'Data-centric programming languages'<->'Persistent programming languages'\n"
       ]
      },
      {
       "output_type": "stream",
       "stream": "stderr",
       "text": [
        "WARNING:root:Loop 'File hosting'<->'Cloud storage'\n"
       ]
      },
      {
       "output_type": "stream",
       "stream": "stderr",
       "text": [
        "WARNING:root:Loop 'Distributed data storage'<->'Distributed data storage systems'\n"
       ]
      },
      {
       "output_type": "stream",
       "stream": "stderr",
       "text": [
        "WARNING:root:Loop 'Distributed data storage'<->'File sharing networks'\n"
       ]
      },
      {
       "output_type": "stream",
       "stream": "stderr",
       "text": [
        "WARNING:root:Loop 'Web services'<->'Internet search'\n"
       ]
      },
      {
       "output_type": "stream",
       "stream": "stderr",
       "text": [
        "WARNING:root:Loop 'Computing in fiction'<->'Artificial intelligence in fiction'\n"
       ]
      },
      {
       "output_type": "stream",
       "stream": "stderr",
       "text": [
        "WARNING:root:Loop 'Internet activism'<->'Internet-based activism'\n"
       ]
      },
      {
       "output_type": "stream",
       "stream": "stderr",
       "text": [
        "WARNING:root:Loop 'Music software'<->'Audio software'\n"
       ]
      },
      {
       "output_type": "stream",
       "stream": "stderr",
       "text": [
        "WARNING:root:Loop 'Persistent programming languages'<->'Data-centric programming languages'\n"
       ]
      },
      {
       "output_type": "stream",
       "stream": "stderr",
       "text": [
        "WARNING:root:Loop 'Collective intelligence'<->'Social information processing'\n"
       ]
      },
      {
       "output_type": "stream",
       "stream": "stderr",
       "text": [
        "WARNING:root:Loop 'Trees (set theory)'<->'Trees (graph theory)'\n"
       ]
      },
      {
       "output_type": "stream",
       "stream": "stderr",
       "text": [
        "WARNING:root:Loop 'Cloud storage'<->'File hosting'\n"
       ]
      },
      {
       "output_type": "stream",
       "stream": "stderr",
       "text": [
        "WARNING:root:Loop 'Image processing'<->'Computer vision'\n"
       ]
      },
      {
       "output_type": "stream",
       "stream": "stderr",
       "text": [
        "WARNING:root:Loop 'Mobile phones'<->'Videotelephony'\n"
       ]
      },
      {
       "output_type": "stream",
       "stream": "stderr",
       "text": [
        "WARNING:root:Loop 'Real-time web'<->'Web 2.0'\n"
       ]
      },
      {
       "output_type": "stream",
       "stream": "stderr",
       "text": [
        "WARNING:root:Loop 'Videotelephony'<->'Mobile phones'\n"
       ]
      },
      {
       "output_type": "stream",
       "stream": "stderr",
       "text": [
        "WARNING:root:Loop 'Cyberpunk themes'<->'Cyberspace'\n"
       ]
      },
      {
       "output_type": "stream",
       "stream": "stderr",
       "text": [
        "WARNING:root:Loop 'Free healthcare software'<->'Free medical software'\n"
       ]
      },
      {
       "output_type": "stream",
       "stream": "stderr",
       "text": [
        "WARNING:root:Loop 'Audio software'<->'Music software'\n"
       ]
      },
      {
       "output_type": "stream",
       "stream": "stderr",
       "text": [
        "WARNING:root:Loop 'Free medical software'<->'Free healthcare software'\n"
       ]
      },
      {
       "output_type": "stream",
       "stream": "stderr",
       "text": [
        "WARNING:root:Loop 'Unauthorized video games'<->'Video game clones'\n"
       ]
      },
      {
       "output_type": "stream",
       "stream": "stdout",
       "text": [
        " [0.90737240075614378, 0.93509933774834442]\n",
        "Decision tree:"
       ]
      },
      {
       "output_type": "stream",
       "stream": "stderr",
       "text": [
        "WARNING:root:Loop 'Computer data'<->'Data processing'\n"
       ]
      },
      {
       "output_type": "stream",
       "stream": "stderr",
       "text": [
        "WARNING:root:Loop 'Data'<->'Computer data'\n"
       ]
      },
      {
       "output_type": "stream",
       "stream": "stderr",
       "text": [
        "WARNING:root:Loop 'Internet search'<->'Real-time web'\n"
       ]
      },
      {
       "output_type": "stream",
       "stream": "stderr",
       "text": [
        "WARNING:root:Loop 'Web 2.0'<->'Web services'\n"
       ]
      },
      {
       "output_type": "stream",
       "stream": "stderr",
       "text": [
        "WARNING:root:Loop 'Collation'<->'Alphabets'\n"
       ]
      },
      {
       "output_type": "stream",
       "stream": "stderr",
       "text": [
        "WARNING:root:Loop 'Data-centric programming languages'<->'Persistent programming languages'\n"
       ]
      },
      {
       "output_type": "stream",
       "stream": "stderr",
       "text": [
        "WARNING:root:Loop 'Distributed data storage'<->'Distributed data storage systems'\n"
       ]
      },
      {
       "output_type": "stream",
       "stream": "stderr",
       "text": [
        "WARNING:root:Loop 'Distributed data storage'<->'File sharing networks'\n"
       ]
      },
      {
       "output_type": "stream",
       "stream": "stderr",
       "text": [
        "WARNING:root:Loop 'Web services'<->'Internet search'\n"
       ]
      },
      {
       "output_type": "stream",
       "stream": "stderr",
       "text": [
        "WARNING:root:Loop 'Computing in fiction'<->'Artificial intelligence in fiction'\n"
       ]
      },
      {
       "output_type": "stream",
       "stream": "stderr",
       "text": [
        "WARNING:root:Loop 'Internet activism'<->'Internet-based activism'\n"
       ]
      },
      {
       "output_type": "stream",
       "stream": "stderr",
       "text": [
        "WARNING:root:Loop 'Music software'<->'Audio software'\n"
       ]
      },
      {
       "output_type": "stream",
       "stream": "stderr",
       "text": [
        "WARNING:root:Loop 'Persistent programming languages'<->'Data-centric programming languages'\n"
       ]
      },
      {
       "output_type": "stream",
       "stream": "stderr",
       "text": [
        "WARNING:root:Loop 'Video game clones'<->'Unauthorized video games'\n"
       ]
      },
      {
       "output_type": "stream",
       "stream": "stderr",
       "text": [
        "WARNING:root:Loop 'Collective intelligence'<->'Social information processing'\n"
       ]
      },
      {
       "output_type": "stream",
       "stream": "stderr",
       "text": [
        "WARNING:root:Loop 'Government services web portals in the United States'<->'Website article topics with .gov domain names'\n"
       ]
      },
      {
       "output_type": "stream",
       "stream": "stderr",
       "text": [
        "WARNING:root:Loop 'Image processing'<->'Computer vision'\n"
       ]
      },
      {
       "output_type": "stream",
       "stream": "stderr",
       "text": [
        "WARNING:root:Loop 'Computer vision'<->'Image processing'\n"
       ]
      },
      {
       "output_type": "stream",
       "stream": "stderr",
       "text": [
        "WARNING:root:Loop 'Mobile phones'<->'Videotelephony'\n"
       ]
      },
      {
       "output_type": "stream",
       "stream": "stderr",
       "text": [
        "WARNING:root:Loop 'Real-time web'<->'Web 2.0'\n"
       ]
      },
      {
       "output_type": "stream",
       "stream": "stderr",
       "text": [
        "WARNING:root:Loop 'Videotelephony'<->'Mobile phones'\n"
       ]
      },
      {
       "output_type": "stream",
       "stream": "stderr",
       "text": [
        "WARNING:root:Loop 'Free healthcare software'<->'Free medical software'\n"
       ]
      },
      {
       "output_type": "stream",
       "stream": "stderr",
       "text": [
        "WARNING:root:Loop 'Audio software'<->'Music software'\n"
       ]
      },
      {
       "output_type": "stream",
       "stream": "stderr",
       "text": [
        "WARNING:root:Loop 'File hosting'<->'Cloud storage'\n"
       ]
      },
      {
       "output_type": "stream",
       "stream": "stderr",
       "text": [
        "WARNING:root:Loop 'Free medical software'<->'Free healthcare software'\n"
       ]
      },
      {
       "output_type": "stream",
       "stream": "stderr",
       "text": [
        "WARNING:root:Loop 'Website article topics with .gov domain names'<->'Government services web portals in the United States'\n"
       ]
      },
      {
       "output_type": "stream",
       "stream": "stderr",
       "text": [
        "WARNING:root:Loop 'Unreal Engine games'<->'Unreal'\n"
       ]
      },
      {
       "output_type": "stream",
       "stream": "stderr",
       "text": [
        "WARNING:root:Loop 'Massively multiplayer online role-playing games'<->'MMORPGs by topic'\n"
       ]
      },
      {
       "output_type": "stream",
       "stream": "stderr",
       "text": [
        "WARNING:root:Loop 'Unreal'<->'Unreal Engine'\n"
       ]
      },
      {
       "output_type": "stream",
       "stream": "stdout",
       "text": [
        " [0.92307692307692302, 0.9498069498069498]\n",
        "1-nearest neighbor:"
       ]
      },
      {
       "output_type": "stream",
       "stream": "stdout",
       "text": [
        " [0.92366412213740445, 0.94736842105263164]\n"
       ]
      }
     ],
     "prompt_number": 66
    },
    {
     "cell_type": "markdown",
     "metadata": {},
     "source": [
      "### Plotting the data (with some noise) agains a pair of dimensions"
     ]
    },
    {
     "cell_type": "code",
     "collapsed": false,
     "input": [
      "def plot_points_2d(topic_df, var1, var2, response):\n",
      "    from matplotlib.pylab import figure, subplot\n",
      "    from matplotlib.colors import ListedColormap\n",
      "    h = .02\n",
      "    cm_bright = ListedColormap(['#FF0000', '#00FF00'])\n",
      "    X1 = topic_df.dropna()[var1].values\n",
      "    X2 = topic_df.dropna()[var2].values\n",
      "    y = topic_df.dropna()[response]\n",
      "    \n",
      "    x1_min, x1_max = X1.min() - .1, X1.max() + .1\n",
      "    x2_min, x2_max = X2.min() - .1, X2.max() + .1\n",
      "    xx1, xx2 = np.meshgrid(np.arange(x1_min, x1_max, h),\n",
      "                           np.arange(x2_min, x2_max, h))\n",
      "    \n",
      "    figure(figsize=(10, 8))\n",
      "    ax = subplot(111)\n",
      "    # Plot the testing points\n",
      "    plt.scatter(X1 + np.random.normal(0, 0.02, len(X1)),\n",
      "                X2 + np.random.normal(0, 0.02, len(X2)),\n",
      "                c=y.astype(int), cmap=cm_bright,\n",
      "                marker='+', alpha=1)\n",
      "\n",
      "    ax.set_xlim(xx1.min(), xx1.max())\n",
      "    ax.set_ylim(xx2.min(), xx2.max())\n",
      "    ax.set_xlabel(var1)\n",
      "    ax.set_ylabel(var2)\n",
      "    ax.set_xticks(())\n",
      "    ax.set_yticks(())\n",
      "    \n",
      "def plot_topics_against_couple_of_dimensions(topic_df):\n",
      "    plot_points_2d(topic_df, 'frac_parents_in_graph', 'avg_normalized_parent_depth', 'is_relevant')\n",
      "    plot_points_2d(topic_df, 'normalized_depth', 'avg_normalized_parent_depth', 'is_relevant')\n",
      "    plot_points_2d(topic_df, 'normalized_depth', 'frac_parents_in_graph', 'is_relevant')\n",
      "    plot_points_2d(topic_df, 'median_normalized_parent_depth', 'avg_normalized_parent_depth', 'is_relevant')\n",
      "    \n",
      "plot_topics_against_couple_of_dimensions(precompute_topic_data_frame())"
     ],
     "language": "python",
     "metadata": {},
     "outputs": [
      {
       "metadata": {},
       "output_type": "display_data",
       "png": "[encoded data removed]",
       "text": [
        "<matplotlib.figure.Figure at 0x11ec05fd0>"
       ]
      },
      {
       "metadata": {},
       "output_type": "display_data",
       "png": "[encoded data removed]",
       "text": [
        "<matplotlib.figure.Figure at 0x113723630>"
       ]
      },
      {
       "metadata": {},
       "output_type": "display_data",
       "png": "[encoded data removed]",
       "text": [
        "<matplotlib.figure.Figure at 0x113871f98>"
       ]
      },
      {
       "metadata": {},
       "output_type": "display_data",
       "png": "[encoded data removed]",
       "text": [
        "<matplotlib.figure.Figure at 0x11ebb7cc0>"
       ]
      }
     ],
     "prompt_number": 69
    },
    {
     "cell_type": "markdown",
     "metadata": {},
     "source": [
      "### Displaying the cases when both relevant and irrelevant topics map to the same point in the feature space"
     ]
    },
    {
     "cell_type": "code",
     "collapsed": false,
     "input": [
      "def list_topics_that_map_to_same_points(topic_df):\n",
      "    feature_cols = default_features.feature_names()\n",
      "    grouped = topic_df.dropna().groupby(feature_cols)\n",
      "    def group_has_both_relevant_and_irrelevant_topis(group):\n",
      "        return group['is_relevant'].nunique() > 1\n",
      "    grouped = grouped.filter(group_has_both_relevant_and_irrelevant_topis)\n",
      "    grouped = grouped.groupby(feature_cols)\n",
      "    for group_idx in grouped.groups.values():\n",
      "        print(topic_df.ix[group_idx]\n",
      "              [['depth', 'title', 'is_relevant']]\n",
      "              .sort('is_relevant'))\n",
      "\n",
      "list_topics_that_map_to_same_points(precompute_topic_data_frame())"
     ],
     "language": "python",
     "metadata": {},
     "outputs": [
      {
       "output_type": "stream",
       "stream": "stdout",
       "text": [
        "      depth                                title is_relevant\n",
        "8250      5              Abstract strategy games       False\n",
        "7609      5                       Anime industry       False\n",
        "7610      5                      Comics industry       False\n",
        "8234      5  Hertzsprung\u2013Russell classifications       False\n",
        "8237      5              Language classification       False\n",
        "6914      5                        Mixed reality        True\n",
        "6944      5                       Graph coloring        True\n",
        "7081      5                        Linux viruses        True\n",
        "6833      5          Learning in computer vision        True\n",
        "      depth                            title is_relevant\n",
        "2538      4                  Sound recording       False\n",
        "2713      4  Free software operating systems        True\n",
        "3503      4                    Linux malware        True\n",
        "3739      4           Robotics organizations        True\n",
        "      depth                   title is_relevant\n",
        "4344      4               Reference       False\n",
        "3987      4          Media industry       False\n",
        "4301      4             Cartography       False\n",
        "4308      4                Notation       False\n",
        "2517      4  Scientific observation       False\n",
        "4314      4    Electronic documents        True\n",
        "3029      4                Spamming        True\n",
        "3305      4         Computer vision        True\n",
        "3365      4            Graph theory        True\n",
        "4326      4  Classification systems        True\n",
        "       depth                     title is_relevant\n",
        "14393      6            Encyclopedists       False\n",
        "10570      6       Physical quantities       False\n",
        "11094      6                  Lawsuits       False\n",
        "11146      6       Science experiments       False\n",
        "11986      6  Dennis the Menace (U.S.)       False\n",
        "13092      6                   Amulets       False\n",
        "13182      6       Radio-related lists       False\n",
        "14261      6  Organizational structure       False\n",
        "14339      6                  Case law       False\n",
        "11034      6            Remote sensing        True\n",
        "      depth                                     title is_relevant\n",
        "2512      4                            Interrogations       False\n",
        "4336      4                                Catalogues       False\n",
        "4740      4                               Whole Earth       False\n",
        "2879      4                              Type systems        True\n",
        "3310      4                          Machine learning        True\n",
        "3664      4  Dedicated application electronic devices        True\n",
        "      depth                 title is_relevant\n",
        "7619      5            Publishing       False\n",
        "8273      5               Sources       False\n",
        "6810      5  Notepad replacements        True\n",
        "8864      5      SVGAlib programs        True\n",
        "     depth                     title is_relevant\n",
        "428      2      Internet-based works       False\n",
        "87       2                Data types        True\n",
        "148      2  Software design patterns        True\n",
        "212      2              Data centers        True\n",
        "377      2                 Microsoft        True\n",
        "405      2           User interfaces        True\n",
        "      depth                title is_relevant\n",
        "1359      3  Information economy       False\n",
        "1141      3   Internet protocols        True\n",
        "      depth            title is_relevant\n",
        "4321      4          Museums       False\n",
        "4345      4  Reference works       False\n",
        "3311      4  Problem solving        True\n",
        "      depth              title is_relevant\n",
        "9851      5  Capcom characters       False\n",
        "6395      5       SFTP clients        True\n",
        "      depth                             title is_relevant\n",
        "4335      4                      Bibliography       False\n",
        "3247      4  Theorem proving software systems        True\n",
        "3657      4                       ZX Spectrum        True\n",
        "2523      4           Visualization (graphic)        True\n",
        "4794      4                         Typefaces        True\n",
        "4803      4           Vector graphics editors        True\n",
        "5182      4                       PLATO games        True\n",
        "      depth                            title is_relevant\n",
        "8104      5           Perspective projection       False\n",
        "6827      5  Applications of computer vision        True\n",
        "      depth                 title is_relevant\n",
        "6254      5            Psephology       False\n",
        "6577      5  Stock market indices       False\n",
        "6855      5    Dispute resolution       False\n",
        "8133      5              Heraldry       False\n",
        "8573      5              Currency       False\n",
        "7171      5           LibreOffice        True\n",
        "       depth               title is_relevant\n",
        "11920      6      Manga industry       False\n",
        "11250      6  4-chromatic graphs        True\n",
        "      depth               title is_relevant\n",
        "6858      5         Imagination       False\n",
        "7351      5              Gundam       False\n",
        "8173      5               Radio       False\n",
        "8291      5  Travel guide books       False\n",
        "6856      5         Game theory        True"
       ]
      },
      {
       "output_type": "stream",
       "stream": "stdout",
       "text": [
        "\n",
        "      depth                                     title is_relevant\n",
        "8245      5           Systems of taxonomy by organism       False\n",
        "9340      5                              Konami media       False\n",
        "6941      5  Extensions and generalizations of graphs        True\n",
        "      depth                  title is_relevant\n",
        "1628      3        Library science       False\n",
        "1441      3       Windows software        True\n",
        "1585      3  Mathematical software        True\n",
        "      depth            title is_relevant\n",
        "4280      4    Sign language       False\n",
        "3349      4  Virtual reality        True\n",
        "      depth                        title is_relevant\n",
        "2297      3  Online publishing companies       False\n",
        "689       3       Statistical data types        True\n",
        "      depth               title is_relevant\n",
        "9160      5      No More Heroes       False\n",
        "8724      5    Wired (magazine)       False\n",
        "6282      5    Music production       False\n",
        "7359      5       Radio control       False\n",
        "7712      5  Total Annihilation       False\n",
        "8082      5   Geographic images       False\n",
        "8085      5         Hydrography       False\n",
        "8145      5   Military insignia       False\n",
        "8178      5          Archivists       False\n",
        "8274      5           Standards       False\n",
        "8281      5        Dictionaries       False\n",
        "8494      5         Svyazinvest       False\n",
        "6870      5      Bioinformatics        True\n",
        "8540      5  Oracle Corporation        True\n",
        "      depth                      title is_relevant\n",
        "1614      3        Academic literature       False\n",
        "1009      3    Artificial intelligence        True\n",
        "1232      3                   Robotics        True\n",
        "1233      3                     Robots        True\n",
        "1620      3  Human\u2013machine interaction        True\n",
        "      depth                 title is_relevant\n",
        "8140      5         Lucky symbols       False\n",
        "8209      5         Museum people       False\n",
        "8219      5       Types of museum       False\n",
        "8252      5     Military strategy       False\n",
        "8771      5  Government typefaces        True\n",
        "      depth                                             title is_relevant\n",
        "2840      4                                      Epidemiology       False\n",
        "4260      4  Nomenclature of Territorial Units for Statistics       False\n",
        "4312      4                                           Symbols       False\n",
        "5871      4                                             Linux        True\n"
       ]
      }
     ],
     "prompt_number": 70
    },
    {
     "cell_type": "markdown",
     "metadata": {},
     "source": [
      "### Examine the topics with level <= 4 that our classifier predicted as irrelevant"
     ]
    },
    {
     "cell_type": "code",
     "collapsed": false,
     "input": [
      "def report_topics_level_up_to_4_predicted_as_irrelevant(clf, topic_df):\n",
      "    topic_df = topic_df.copy()\n",
      "    topic_df['predicted_relevant'] = clf.predict(topic_df['topic'])\n",
      "    return topic_df[topic_df['depth'] <= 4][topic_df['predicted_relevant'] == False][['title', 'depth']]\n",
      "\n",
      "report_topics_level_up_to_4_predicted_as_irrelevant(\n",
      "    default_trained_topic_selection_classifier(),\n",
      "    precompute_topic_data_frame())"
     ],
     "language": "python",
     "metadata": {},
     "outputs": [
      {
       "output_type": "stream",
       "stream": "stderr",
       "text": [
        "/usr/local/lib/python3.4/site-packages/pandas/core/frame.py:1808: UserWarning: Boolean Series key will be reindexed to match DataFrame index.\n",
        "  \"DataFrame index.\", UserWarning)\n"
       ]
      },
      {
       "html": [
        "<div style=\"max-height:1000px;max-width:1500px;overflow:auto;\">\n",
        "<table border=\"1\" class=\"dataframe\">\n",
        "  <thead>\n",
        "    <tr style=\"text-align: right;\">\n",
        "      <th></th>\n",
        "      <th>title</th>\n",
        "      <th>depth</th>\n",
        "    </tr>\n",
        "  </thead>\n",
        "  <tbody>\n",
        "    <tr>\n",
        "      <th>65  </th>\n",
        "      <td>                       Data processing</td>\n",
        "      <td> 2</td>\n",
        "    </tr>\n",
        "    <tr>\n",
        "      <th>2419</th>\n",
        "      <td>                            Morse code</td>\n",
        "      <td> 4</td>\n",
        "    </tr>\n",
        "    <tr>\n",
        "      <th>2420</th>\n",
        "      <td>                             Alphabets</td>\n",
        "      <td> 4</td>\n",
        "    </tr>\n",
        "    <tr>\n",
        "      <th>2438</th>\n",
        "      <td>                           Spintronics</td>\n",
        "      <td> 4</td>\n",
        "    </tr>\n",
        "    <tr>\n",
        "      <th>2464</th>\n",
        "      <td>                          Compact disc</td>\n",
        "      <td> 4</td>\n",
        "    </tr>\n",
        "    <tr>\n",
        "      <th>2467</th>\n",
        "      <td>                    Holographic memory</td>\n",
        "      <td> 4</td>\n",
        "    </tr>\n",
        "    <tr>\n",
        "      <th>2508</th>\n",
        "      <td>                  Time series analysis</td>\n",
        "      <td> 4</td>\n",
        "    </tr>\n",
        "    <tr>\n",
        "      <th>2509</th>\n",
        "      <td>                              Censuses</td>\n",
        "      <td> 4</td>\n",
        "    </tr>\n",
        "    <tr>\n",
        "      <th>2510</th>\n",
        "      <td>                 Design of experiments</td>\n",
        "      <td> 4</td>\n",
        "    </tr>\n",
        "    <tr>\n",
        "      <th>2514</th>\n",
        "      <td>                   Observational study</td>\n",
        "      <td> 4</td>\n",
        "    </tr>\n",
        "    <tr>\n",
        "      <th>2516</th>\n",
        "      <td>            Questionnaire construction</td>\n",
        "      <td> 4</td>\n",
        "    </tr>\n",
        "    <tr>\n",
        "      <th>2518</th>\n",
        "      <td>                    Survey methodology</td>\n",
        "      <td> 4</td>\n",
        "    </tr>\n",
        "    <tr>\n",
        "      <th>2527</th>\n",
        "      <td>                           E-democracy</td>\n",
        "      <td> 4</td>\n",
        "    </tr>\n",
        "    <tr>\n",
        "      <th>2558</th>\n",
        "      <td>                     Substring indices</td>\n",
        "      <td> 4</td>\n",
        "    </tr>\n",
        "    <tr>\n",
        "      <th>2568</th>\n",
        "      <td>                          Demodulation</td>\n",
        "      <td> 4</td>\n",
        "    </tr>\n",
        "    <tr>\n",
        "      <th>2570</th>\n",
        "      <td>                Software-defined radio</td>\n",
        "      <td> 4</td>\n",
        "    </tr>\n",
        "    <tr>\n",
        "      <th>2697</th>\n",
        "      <td>                        Novell NetWare</td>\n",
        "      <td> 4</td>\n",
        "    </tr>\n",
        "    <tr>\n",
        "      <th>2769</th>\n",
        "      <td>               Soviet computer systems</td>\n",
        "      <td> 4</td>\n",
        "    </tr>\n",
        "    <tr>\n",
        "      <th>2837</th>\n",
        "      <td>                  Cohort study methods</td>\n",
        "      <td> 4</td>\n",
        "    </tr>\n",
        "    <tr>\n",
        "      <th>2838</th>\n",
        "      <td>              Cross-sectional analysis</td>\n",
        "      <td> 4</td>\n",
        "    </tr>\n",
        "    <tr>\n",
        "      <th>2840</th>\n",
        "      <td>                          Epidemiology</td>\n",
        "      <td> 4</td>\n",
        "    </tr>\n",
        "    <tr>\n",
        "      <th>2843</th>\n",
        "      <td>                         Index numbers</td>\n",
        "      <td> 4</td>\n",
        "    </tr>\n",
        "    <tr>\n",
        "      <th>2867</th>\n",
        "      <td>                     Abstract machines</td>\n",
        "      <td> 4</td>\n",
        "    </tr>\n",
        "    <tr>\n",
        "      <th>2870</th>\n",
        "      <td>                     Combinatory logic</td>\n",
        "      <td> 4</td>\n",
        "    </tr>\n",
        "    <tr>\n",
        "      <th>2872</th>\n",
        "      <td>                       Lambda calculus</td>\n",
        "      <td> 4</td>\n",
        "    </tr>\n",
        "    <tr>\n",
        "      <th>2890</th>\n",
        "      <td>                  Substitution (logic)</td>\n",
        "      <td> 4</td>\n",
        "    </tr>\n",
        "    <tr>\n",
        "      <th>2964</th>\n",
        "      <td>                        Temporal logic</td>\n",
        "      <td> 4</td>\n",
        "    </tr>\n",
        "    <tr>\n",
        "      <th>2993</th>\n",
        "      <td>                      Cryptocurrencies</td>\n",
        "      <td> 4</td>\n",
        "    </tr>\n",
        "    <tr>\n",
        "      <th>3049</th>\n",
        "      <td>                   Comcast Corporation</td>\n",
        "      <td> 4</td>\n",
        "    </tr>\n",
        "    <tr>\n",
        "      <th>3073</th>\n",
        "      <td>       Submarine communications cables</td>\n",
        "      <td> 4</td>\n",
        "    </tr>\n",
        "    <tr>\n",
        "      <th>...</th>\n",
        "      <td>...</td>\n",
        "      <td>...</td>\n",
        "    </tr>\n",
        "    <tr>\n",
        "      <th>4345</th>\n",
        "      <td>                       Reference works</td>\n",
        "      <td> 4</td>\n",
        "    </tr>\n",
        "    <tr>\n",
        "      <th>4427</th>\n",
        "      <td>                        VimpelCom Ltd.</td>\n",
        "      <td> 4</td>\n",
        "    </tr>\n",
        "    <tr>\n",
        "      <th>4437</th>\n",
        "      <td>                        LG Electronics</td>\n",
        "      <td> 4</td>\n",
        "    </tr>\n",
        "    <tr>\n",
        "      <th>4440</th>\n",
        "      <td>                   Samsung Electronics</td>\n",
        "      <td> 4</td>\n",
        "    </tr>\n",
        "    <tr>\n",
        "      <th>4453</th>\n",
        "      <td>               Digital gold currencies</td>\n",
        "      <td> 4</td>\n",
        "    </tr>\n",
        "    <tr>\n",
        "      <th>4463</th>\n",
        "      <td>                       Payment systems</td>\n",
        "      <td> 4</td>\n",
        "    </tr>\n",
        "    <tr>\n",
        "      <th>4485</th>\n",
        "      <td> Visitor attractions in Silicon Valley</td>\n",
        "      <td> 4</td>\n",
        "    </tr>\n",
        "    <tr>\n",
        "      <th>4524</th>\n",
        "      <td>                        Telecom Italia</td>\n",
        "      <td> 4</td>\n",
        "    </tr>\n",
        "    <tr>\n",
        "      <th>4714</th>\n",
        "      <td>               Internet-based activism</td>\n",
        "      <td> 4</td>\n",
        "    </tr>\n",
        "    <tr>\n",
        "      <th>4751</th>\n",
        "      <td>                         CJK typefaces</td>\n",
        "      <td> 4</td>\n",
        "    </tr>\n",
        "    <tr>\n",
        "      <th>4793</th>\n",
        "      <td>                        Type foundries</td>\n",
        "      <td> 4</td>\n",
        "    </tr>\n",
        "    <tr>\n",
        "      <th>4805</th>\n",
        "      <td>                 Anatomical simulation</td>\n",
        "      <td> 4</td>\n",
        "    </tr>\n",
        "    <tr>\n",
        "      <th>4894</th>\n",
        "      <td>   Synthesizer manufacturing companies</td>\n",
        "      <td> 4</td>\n",
        "    </tr>\n",
        "    <tr>\n",
        "      <th>5015</th>\n",
        "      <td>                            Code Lyoko</td>\n",
        "      <td> 4</td>\n",
        "    </tr>\n",
        "    <tr>\n",
        "      <th>5016</th>\n",
        "      <td>                               Digimon</td>\n",
        "      <td> 4</td>\n",
        "    </tr>\n",
        "    <tr>\n",
        "      <th>5059</th>\n",
        "      <td>                                 MSNBC</td>\n",
        "      <td> 4</td>\n",
        "    </tr>\n",
        "    <tr>\n",
        "      <th>5193</th>\n",
        "      <td>                                 MeeGo</td>\n",
        "      <td> 4</td>\n",
        "    </tr>\n",
        "    <tr>\n",
        "      <th>5651</th>\n",
        "      <td>                               Firefox</td>\n",
        "      <td> 4</td>\n",
        "    </tr>\n",
        "    <tr>\n",
        "      <th>5656</th>\n",
        "      <td>                              Copyleft</td>\n",
        "      <td> 4</td>\n",
        "    </tr>\n",
        "    <tr>\n",
        "      <th>5664</th>\n",
        "      <td>              Open access (publishing)</td>\n",
        "      <td> 4</td>\n",
        "    </tr>\n",
        "    <tr>\n",
        "      <th>5753</th>\n",
        "      <td>                              Fangames</td>\n",
        "      <td> 4</td>\n",
        "    </tr>\n",
        "    <tr>\n",
        "      <th>5764</th>\n",
        "      <td>        Ren'Py games and visual novels</td>\n",
        "      <td> 4</td>\n",
        "    </tr>\n",
        "    <tr>\n",
        "      <th>5818</th>\n",
        "      <td>                      Speech synthesis</td>\n",
        "      <td> 4</td>\n",
        "    </tr>\n",
        "    <tr>\n",
        "      <th>5871</th>\n",
        "      <td>                                 Linux</td>\n",
        "      <td> 4</td>\n",
        "    </tr>\n",
        "    <tr>\n",
        "      <th>5875</th>\n",
        "      <td>        Unification (computer science)</td>\n",
        "      <td> 4</td>\n",
        "    </tr>\n",
        "    <tr>\n",
        "      <th>5947</th>\n",
        "      <td>                Stack Exchange network</td>\n",
        "      <td> 4</td>\n",
        "    </tr>\n",
        "    <tr>\n",
        "      <th>5988</th>\n",
        "      <td>                   Alumni associations</td>\n",
        "      <td> 4</td>\n",
        "    </tr>\n",
        "    <tr>\n",
        "      <th>6019</th>\n",
        "      <td>                 DARPA Grand Challenge</td>\n",
        "      <td> 4</td>\n",
        "    </tr>\n",
        "    <tr>\n",
        "      <th>6025</th>\n",
        "      <td>                          Red vs. Blue</td>\n",
        "      <td> 4</td>\n",
        "    </tr>\n",
        "    <tr>\n",
        "      <th>6139</th>\n",
        "      <td>                     Web documentaries</td>\n",
        "      <td> 4</td>\n",
        "    </tr>\n",
        "  </tbody>\n",
        "</table>\n",
        "<p>123 rows \u00d7 2 columns</p>\n",
        "</div>"
       ],
       "metadata": {},
       "output_type": "pyout",
       "prompt_number": 71,
       "text": [
        "                                      title  depth\n",
        "65                          Data processing      2\n",
        "2419                             Morse code      4\n",
        "2420                              Alphabets      4\n",
        "2438                            Spintronics      4\n",
        "2464                           Compact disc      4\n",
        "2467                     Holographic memory      4\n",
        "2508                   Time series analysis      4\n",
        "2509                               Censuses      4\n",
        "2510                  Design of experiments      4\n",
        "2514                    Observational study      4\n",
        "2516             Questionnaire construction      4\n",
        "2518                     Survey methodology      4\n",
        "2527                            E-democracy      4\n",
        "2558                      Substring indices      4\n",
        "2568                           Demodulation      4\n",
        "2570                 Software-defined radio      4\n",
        "2697                         Novell NetWare      4\n",
        "2769                Soviet computer systems      4\n",
        "2837                   Cohort study methods      4\n",
        "2838               Cross-sectional analysis      4\n",
        "2840                           Epidemiology      4\n",
        "2843                          Index numbers      4\n",
        "2867                      Abstract machines      4\n",
        "2870                      Combinatory logic      4\n",
        "2872                        Lambda calculus      4\n",
        "2890                   Substitution (logic)      4\n",
        "2964                         Temporal logic      4\n",
        "2993                       Cryptocurrencies      4\n",
        "3049                    Comcast Corporation      4\n",
        "3073        Submarine communications cables      4\n",
        "...                                     ...    ...\n",
        "4345                        Reference works      4\n",
        "4427                         VimpelCom Ltd.      4\n",
        "4437                         LG Electronics      4\n",
        "4440                    Samsung Electronics      4\n",
        "4453                Digital gold currencies      4\n",
        "4463                        Payment systems      4\n",
        "4485  Visitor attractions in Silicon Valley      4\n",
        "4524                         Telecom Italia      4\n",
        "4714                Internet-based activism      4\n",
        "4751                          CJK typefaces      4\n",
        "4793                         Type foundries      4\n",
        "4805                  Anatomical simulation      4\n",
        "4894    Synthesizer manufacturing companies      4\n",
        "5015                             Code Lyoko      4\n",
        "5016                                Digimon      4\n",
        "5059                                  MSNBC      4\n",
        "5193                                  MeeGo      4\n",
        "5651                                Firefox      4\n",
        "5656                               Copyleft      4\n",
        "5664               Open access (publishing)      4\n",
        "5753                               Fangames      4\n",
        "5764         Ren'Py games and visual novels      4\n",
        "5818                       Speech synthesis      4\n",
        "5871                                  Linux      4\n",
        "5875         Unification (computer science)      4\n",
        "5947                 Stack Exchange network      4\n",
        "5988                    Alumni associations      4\n",
        "6019                  DARPA Grand Challenge      4\n",
        "6025                           Red vs. Blue      4\n",
        "6139                      Web documentaries      4\n",
        "\n",
        "[123 rows x 2 columns]"
       ]
      }
     ],
     "prompt_number": 71
    },
    {
     "cell_type": "code",
     "collapsed": false,
     "input": [
      "def report_shortest_path(selection, topic):\n",
      "    return TrainingDataSelection(selection)._shortest_path_from_root(to_category_uri(topic));"
     ],
     "language": "python",
     "metadata": {},
     "outputs": [],
     "prompt_number": 72
    },
    {
     "cell_type": "code",
     "collapsed": false,
     "input": [
      "report_shortest_path(precompute_full_selection(), \"Library science\")"
     ],
     "language": "python",
     "metadata": {},
     "outputs": [
      {
       "metadata": {},
       "output_type": "pyout",
       "prompt_number": 75,
       "text": [
        "['http://dbpedia.org/resource/Category:Computing',\n",
        " 'http://dbpedia.org/resource/Category:Information_technology',\n",
        " 'http://dbpedia.org/resource/Category:Information_science',\n",
        " 'http://dbpedia.org/resource/Category:Library_science']"
       ]
      }
     ],
     "prompt_number": 75
    },
    {
     "cell_type": "code",
     "collapsed": false,
     "input": [
      "def get_subcats(topic):\n",
      "    with WikipediaGraphIndex() as wiki:\n",
      "        return wiki.get_subcats(topic)\n",
      "    \n",
      "def get_supercats(topic):\n",
      "    with WikipediaGraphIndex() as wiki:\n",
      "        return wiki.get_supercats(topic)\n",
      "    \n",
      "def childrens_parents_with_duplicates(topic):\n",
      "    return [parent for child in get_subcats(topic)\n",
      "                   for parent in get_supercats(child)\n",
      "                   if parent != topic]\n",
      "    "
     ],
     "language": "python",
     "metadata": {},
     "outputs": [],
     "prompt_number": 76
    },
    {
     "cell_type": "code",
     "collapsed": false,
     "input": [
      "def default_trained_topic_selection_classifier(precomputed_data={}):\n",
      "    if 'default_clf' not in precomputed_data:\n",
      "        full_selection = precompute_full_selection()\n",
      "        training_data = read_ground_truth_data()\n",
      "        training_params = new_training_params()\n",
      "        training_params['classifier_params']['C'] = 1\n",
      "        training_params['instance_weight_fn'] = lambda x : 1\n",
      "        clf = train_topic_classifier(\n",
      "                training_data.keys(), training_data.values(),\n",
      "                full_selection,\n",
      "                **training_params)\n",
      "        precomputed_data['default_clf'] = clf\n",
      "    return precomputed_data['default_clf']"
     ],
     "language": "python",
     "metadata": {},
     "outputs": [],
     "prompt_number": 78
    }
   ],
   "metadata": {}
  }
 ]
}