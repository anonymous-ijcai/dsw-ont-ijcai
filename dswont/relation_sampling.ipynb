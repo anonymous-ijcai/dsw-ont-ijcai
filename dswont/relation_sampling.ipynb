{
 "metadata": {
  "name": "",
  "signature": "sha256:9abd1c765bb6a1e59a8bc2a369dc756d6c08c93c103d302fbf166d4b6a02c8d4"
 },
 "nbformat": 3,
 "nbformat_minor": 0,
 "worksheets": [
  {
   "cells": [
    {
     "cell_type": "code",
     "collapsed": false,
     "input": [
      "import os\n",
      "# This hack makes ipython notebook import the modules correctly.\n",
      "if (os.path.basename(os.getcwd()) == 'dswont'):\n",
      "    os.chdir(os.path.dirname(os.getcwd()))\n",
      "    \n",
      "%load_ext autoreload\n",
      "%autoreload 2"
     ],
     "language": "python",
     "metadata": {},
     "outputs": [],
     "prompt_number": 1
    },
    {
     "cell_type": "code",
     "collapsed": false,
     "input": [
      "import re\n",
      "import numpy\n",
      "import logging\n",
      "import pandas as pd\n",
      "\n",
      "from itertools import groupby\n",
      "from contextlib import closing\n",
      "from collections import OrderedDict, Counter\n",
      "\n",
      "from sklearn.svm.classes import SVC\n",
      "from sklearn import cross_validation\n",
      "from sklearn.grid_search import GridSearchCV\n",
      "from sklearn.metrics.metrics import classification_report\n",
      "\n",
      "from dswont import topics, util\n",
      "from dswont.dbpedia import uri_to_title, title_to_uri\n",
      "from dswont.wikitaxonomy import WikiTaxonomy\n",
      "from dswont.topics import TopicFeatures\n",
      "from dswont.topics import CategorySelection\n",
      "from dswont.topics import CategorySelectionClassifier\n",
      "# from dswont.topic_selection_training import read_ground_truth_data\n",
      "# from dswont.topic_type_prediction import generate_topic_classifier\n",
      "# from dswont.topic_selection_training import train_category_selection\n",
      "\n",
      "logging.basicConfig(level=logging.WARN)"
     ],
     "language": "python",
     "metadata": {},
     "outputs": [],
     "prompt_number": 22
    },
    {
     "cell_type": "code",
     "collapsed": false,
     "input": [
      "root = 'http://dbpedia.org/resource/Category:Computing'\n",
      "max_depth = 7\n",
      "\n",
      "full_selection = CategorySelection(root, max_depth=max_depth)\n",
      "\n",
      "with closing(full_selection):\n",
      "    full_selection.run()"
     ],
     "language": "python",
     "metadata": {
      "slideshow": {
       "slide_type": "fragment"
      }
     },
     "outputs": [
      {
       "output_type": "stream",
       "stream": "stderr",
       "text": [
        "WARNING:root:Loop 'Computer data'<->'Data processing'\n"
       ]
      },
      {
       "output_type": "stream",
       "stream": "stderr",
       "text": [
        "WARNING:root:Loop 'Data'<->'Computer data'\n"
       ]
      },
      {
       "output_type": "stream",
       "stream": "stderr",
       "text": [
        "WARNING:root:Loop 'Internet search'<->'Real-time web'\n"
       ]
      },
      {
       "output_type": "stream",
       "stream": "stderr",
       "text": [
        "WARNING:root:Loop 'Web 2.0'<->'Web services'\n"
       ]
      },
      {
       "output_type": "stream",
       "stream": "stderr",
       "text": [
        "WARNING:root:Loop 'Collation'<->'Alphabets'\n"
       ]
      },
      {
       "output_type": "stream",
       "stream": "stderr",
       "text": [
        "WARNING:root:Loop 'Cloud storage'<->'File hosting'\n"
       ]
      },
      {
       "output_type": "stream",
       "stream": "stderr",
       "text": [
        "WARNING:root:Loop 'Data-centric programming languages'<->'Persistent programming languages'\n"
       ]
      },
      {
       "output_type": "stream",
       "stream": "stderr",
       "text": [
        "WARNING:root:Loop 'File hosting'<->'Cloud storage'\n"
       ]
      },
      {
       "output_type": "stream",
       "stream": "stderr",
       "text": [
        "WARNING:root:Loop 'Distributed data storage'<->'Distributed data storage systems'\n"
       ]
      },
      {
       "output_type": "stream",
       "stream": "stderr",
       "text": [
        "WARNING:root:Loop 'Distributed data storage'<->'File sharing networks'\n"
       ]
      },
      {
       "output_type": "stream",
       "stream": "stderr",
       "text": [
        "WARNING:root:Loop 'Web services'<->'Internet search'\n"
       ]
      },
      {
       "output_type": "stream",
       "stream": "stderr",
       "text": [
        "WARNING:root:Loop 'Computing in fiction'<->'Artificial intelligence in fiction'\n"
       ]
      },
      {
       "output_type": "stream",
       "stream": "stderr",
       "text": [
        "WARNING:root:Loop 'Social information processing'<->'Collective intelligence'\n"
       ]
      },
      {
       "output_type": "stream",
       "stream": "stderr",
       "text": [
        "WARNING:root:Loop 'Internet activism'<->'Internet-based activism'\n"
       ]
      },
      {
       "output_type": "stream",
       "stream": "stderr",
       "text": [
        "WARNING:root:Loop 'Music software'<->'Audio software'\n"
       ]
      },
      {
       "output_type": "stream",
       "stream": "stderr",
       "text": [
        "WARNING:root:Loop 'Persistent programming languages'<->'Data-centric programming languages'\n"
       ]
      },
      {
       "output_type": "stream",
       "stream": "stderr",
       "text": [
        "WARNING:root:Loop 'Video game clones'<->'Unauthorized video games'\n"
       ]
      },
      {
       "output_type": "stream",
       "stream": "stderr",
       "text": [
        "WARNING:root:Loop 'Collective intelligence'<->'Social information processing'\n"
       ]
      },
      {
       "output_type": "stream",
       "stream": "stderr",
       "text": [
        "WARNING:root:Loop 'Distributed data storage systems'<->'File sharing networks'\n"
       ]
      },
      {
       "output_type": "stream",
       "stream": "stderr",
       "text": [
        "WARNING:root:Loop 'Government services web portals in the United States'<->'Website article topics with .gov domain names'\n"
       ]
      },
      {
       "output_type": "stream",
       "stream": "stderr",
       "text": [
        "WARNING:root:Loop 'Website article topics with .gov domain names'<->'Government services web portals in the United States'\n"
       ]
      },
      {
       "output_type": "stream",
       "stream": "stderr",
       "text": [
        "WARNING:root:Loop 'Trees (set theory)'<->'Trees (graph theory)'\n"
       ]
      },
      {
       "output_type": "stream",
       "stream": "stderr",
       "text": [
        "WARNING:root:Loop 'File sharing networks'<->'Distributed data storage'\n"
       ]
      },
      {
       "output_type": "stream",
       "stream": "stderr",
       "text": [
        "WARNING:root:Loop 'Image processing'<->'Computer vision'\n"
       ]
      },
      {
       "output_type": "stream",
       "stream": "stderr",
       "text": [
        "WARNING:root:Loop 'Artificial intelligence in fiction'<->'Computing in fiction'\n"
       ]
      },
      {
       "output_type": "stream",
       "stream": "stderr",
       "text": [
        "WARNING:root:Loop 'Computer vision'<->'Image processing'\n"
       ]
      },
      {
       "output_type": "stream",
       "stream": "stderr",
       "text": [
        "WARNING:root:Loop 'Mobile phones'<->'Videotelephony'\n"
       ]
      },
      {
       "output_type": "stream",
       "stream": "stderr",
       "text": [
        "WARNING:root:Loop 'Real-time web'<->'Web 2.0'\n"
       ]
      },
      {
       "output_type": "stream",
       "stream": "stderr",
       "text": [
        "WARNING:root:Loop 'Videotelephony'<->'Mobile phones'\n"
       ]
      },
      {
       "output_type": "stream",
       "stream": "stderr",
       "text": [
        "WARNING:root:Loop 'Cyberpunk themes'<->'Cyberspace'\n"
       ]
      },
      {
       "output_type": "stream",
       "stream": "stderr",
       "text": [
        "WARNING:root:Loop 'Free healthcare software'<->'Free medical software'\n"
       ]
      },
      {
       "output_type": "stream",
       "stream": "stderr",
       "text": [
        "WARNING:root:Loop 'Audio software'<->'Music software'\n"
       ]
      },
      {
       "output_type": "stream",
       "stream": "stderr",
       "text": [
        "WARNING:root:Loop 'Free medical software'<->'Free healthcare software'\n"
       ]
      },
      {
       "output_type": "stream",
       "stream": "stderr",
       "text": [
        "WARNING:root:Loop 'Unauthorized video games'<->'Video game clones'\n"
       ]
      },
      {
       "output_type": "stream",
       "stream": "stderr",
       "text": [
        "WARNING:root:Loop 'Espionage'<->'Information sensitivity'\n"
       ]
      },
      {
       "output_type": "stream",
       "stream": "stderr",
       "text": [
        "WARNING:root:Loop 'Audio engineering'<->'Audio electronics'\n"
       ]
      },
      {
       "output_type": "stream",
       "stream": "stderr",
       "text": [
        "WARNING:root:Loop 'NBCUniversal'<->'National Broadcasting Company'\n"
       ]
      },
      {
       "output_type": "stream",
       "stream": "stderr",
       "text": [
        "WARNING:root:Loop 'Unreal Engine'<->'Unreal Engine games'\n"
       ]
      },
      {
       "output_type": "stream",
       "stream": "stderr",
       "text": [
        "WARNING:root:Loop 'Real Robots'<->'Super Robot Wars'\n"
       ]
      },
      {
       "output_type": "stream",
       "stream": "stderr",
       "text": [
        "WARNING:root:Loop 'Real Robots'<->'Super Robots'\n"
       ]
      },
      {
       "output_type": "stream",
       "stream": "stderr",
       "text": [
        "WARNING:root:Loop 'Super Robots'<->'Real Robots'\n"
       ]
      },
      {
       "output_type": "stream",
       "stream": "stderr",
       "text": [
        "WARNING:root:Loop 'Super Robots'<->'Super Robot Wars'\n"
       ]
      },
      {
       "output_type": "stream",
       "stream": "stderr",
       "text": [
        "WARNING:root:Loop 'Massively multiplayer online role-playing games'<->'MMORPGs by topic'\n"
       ]
      },
      {
       "output_type": "stream",
       "stream": "stderr",
       "text": [
        "WARNING:root:Loop 'Super Robot Wars'<->'Real Robots'\n"
       ]
      },
      {
       "output_type": "stream",
       "stream": "stderr",
       "text": [
        "WARNING:root:Loop 'Super Robot Wars'<->'Super Robots'\n"
       ]
      },
      {
       "output_type": "stream",
       "stream": "stderr",
       "text": [
        "WARNING:root:Loop 'Unreal'<->'Unreal Engine'\n"
       ]
      },
      {
       "output_type": "stream",
       "stream": "stderr",
       "text": [
        "WARNING:root:Loop 'Unreal Engine games'<->'Unreal'\n"
       ]
      },
      {
       "output_type": "stream",
       "stream": "stderr",
       "text": [
        "WARNING:root:Loop 'Musician video games'<->'Band-centric video games'\n"
       ]
      },
      {
       "output_type": "stream",
       "stream": "stderr",
       "text": [
        "WARNING:root:Loop 'Probability and statistics'<->'Statistics'\n"
       ]
      },
      {
       "output_type": "stream",
       "stream": "stderr",
       "text": [
        "WARNING:root:Loop 'Film and video technology'<->'Multimedia'\n"
       ]
      },
      {
       "output_type": "stream",
       "stream": "stderr",
       "text": [
        "WARNING:root:Loop 'Euthenics'<->'Critical thinking'\n"
       ]
      },
      {
       "output_type": "stream",
       "stream": "stderr",
       "text": [
        "WARNING:root:Loop 'Euthenics'<->'Life skills'\n"
       ]
      },
      {
       "output_type": "stream",
       "stream": "stderr",
       "text": [
        "WARNING:root:Loop 'Euthenics'<->'Personal life'\n"
       ]
      },
      {
       "output_type": "stream",
       "stream": "stderr",
       "text": [
        "WARNING:root:Loop 'Euthenics'<->'Socioeconomics'\n"
       ]
      },
      {
       "output_type": "stream",
       "stream": "stderr",
       "text": [
        "WARNING:root:Loop 'Economic indicators'<->'Index numbers'\n"
       ]
      },
      {
       "output_type": "stream",
       "stream": "stderr",
       "text": [
        "WARNING:root:Loop 'NBCUniversal networks'<->'National Broadcasting Company'\n"
       ]
      },
      {
       "output_type": "stream",
       "stream": "stderr",
       "text": [
        "WARNING:root:Loop 'Conceptual systems'<->'Notation'\n"
       ]
      },
      {
       "output_type": "stream",
       "stream": "stderr",
       "text": [
        "WARNING:root:Loop 'Conceptual systems'<->'Scientific modeling'\n"
       ]
      },
      {
       "output_type": "stream",
       "stream": "stderr",
       "text": [
        "WARNING:root:Loop 'Inductive reasoning'<->'Probability and statistics'\n"
       ]
      },
      {
       "output_type": "stream",
       "stream": "stderr",
       "text": [
        "WARNING:root:Loop 'Logic'<->'Mathematical logic'\n"
       ]
      },
      {
       "output_type": "stream",
       "stream": "stderr",
       "text": [
        "WARNING:root:Loop 'Logic'<->'Philosophical logic'\n"
       ]
      },
      {
       "output_type": "stream",
       "stream": "stderr",
       "text": [
        "WARNING:root:Loop 'Logic'<->'Philosophy of logic'\n"
       ]
      },
      {
       "output_type": "stream",
       "stream": "stderr",
       "text": [
        "WARNING:root:Loop 'Logic'<->'Reasoning'\n"
       ]
      },
      {
       "output_type": "stream",
       "stream": "stderr",
       "text": [
        "WARNING:root:Loop 'Mathematical objects'<->'Mathematical structures'\n"
       ]
      },
      {
       "output_type": "stream",
       "stream": "stderr",
       "text": [
        "WARNING:root:Loop 'Mathematics'<->'Applied mathematics'\n"
       ]
      },
      {
       "output_type": "stream",
       "stream": "stderr",
       "text": [
        "WARNING:root:Loop 'Mathematics'<->'Fields of mathematics'\n"
       ]
      },
      {
       "output_type": "stream",
       "stream": "stderr",
       "text": [
        "WARNING:root:Loop 'Mathematics'<->'Mathematical concepts'\n"
       ]
      },
      {
       "output_type": "stream",
       "stream": "stderr",
       "text": [
        "WARNING:root:Loop 'Mathematics'<->'Mathematical problem solving'\n"
       ]
      },
      {
       "output_type": "stream",
       "stream": "stderr",
       "text": [
        "WARNING:root:Loop 'Mathematics'<->'Philosophy of mathematics'\n"
       ]
      },
      {
       "output_type": "stream",
       "stream": "stderr",
       "text": [
        "WARNING:root:Loop 'Philosophy'<->'Branches of philosophy'\n"
       ]
      },
      {
       "output_type": "stream",
       "stream": "stderr",
       "text": [
        "WARNING:root:Loop 'Philosophy'<->'Philosophy by field'\n"
       ]
      },
      {
       "output_type": "stream",
       "stream": "stderr",
       "text": [
        "WARNING:root:Loop 'Scientific modeling'<->'Inductive reasoning'\n"
       ]
      },
      {
       "output_type": "stream",
       "stream": "stderr",
       "text": [
        "WARNING:root:Loop 'Scientific modeling'<->'Infographics'\n"
       ]
      },
      {
       "output_type": "stream",
       "stream": "stderr",
       "text": [
        "WARNING:root:Loop 'Scientific modeling'<->'Notation'\n"
       ]
      },
      {
       "output_type": "stream",
       "stream": "stderr",
       "text": [
        "WARNING:root:Loop 'Reasoning'<->'Inductive reasoning'\n"
       ]
      },
      {
       "output_type": "stream",
       "stream": "stderr",
       "text": [
        "WARNING:root:Loop 'Applied mathematics'<->'Cybernetics'\n"
       ]
      },
      {
       "output_type": "stream",
       "stream": "stderr",
       "text": [
        "WARNING:root:Loop 'Applied mathematics'<->'Theoretical computer science'\n"
       ]
      },
      {
       "output_type": "stream",
       "stream": "stderr",
       "text": [
        "WARNING:root:Loop 'Philosophical methodology'<->'Analysis'\n"
       ]
      },
      {
       "output_type": "stream",
       "stream": "stderr",
       "text": [
        "WARNING:root:Loop 'Philosophical methodology'<->'Inductive reasoning'\n"
       ]
      },
      {
       "output_type": "stream",
       "stream": "stderr",
       "text": [
        "WARNING:root:Loop 'Social sciences methodology'<->'Evaluation methods'\n"
       ]
      },
      {
       "output_type": "stream",
       "stream": "stderr",
       "text": [
        "WARNING:root:Loop 'Social sciences methodology'<->'Methods in sociology'\n"
       ]
      },
      {
       "output_type": "stream",
       "stream": "stderr",
       "text": [
        "WARNING:root:Loop 'Social sciences methodology'<->'Quantitative research'\n"
       ]
      },
      {
       "output_type": "stream",
       "stream": "stderr",
       "text": [
        "WARNING:root:Loop 'Social sciences methodology'<->'Survey methodology'\n"
       ]
      },
      {
       "output_type": "stream",
       "stream": "stderr",
       "text": [
        "WARNING:root:Loop 'Economic planning'<->'Socialism'\n"
       ]
      },
      {
       "output_type": "stream",
       "stream": "stderr",
       "text": [
        "WARNING:root:Loop 'Quantitative research'<->'Mathematical and quantitative methods (economics)'\n"
       ]
      },
      {
       "output_type": "stream",
       "stream": "stderr",
       "text": [
        "WARNING:root:Loop 'Quantitative research'<->'Survey methodology'\n"
       ]
      },
      {
       "output_type": "stream",
       "stream": "stderr",
       "text": [
        "WARNING:root:Loop 'Research methods'<->'Analysis'\n"
       ]
      },
      {
       "output_type": "stream",
       "stream": "stderr",
       "text": [
        "WARNING:root:Loop 'Research methods'<->'Quantitative research'\n"
       ]
      },
      {
       "output_type": "stream",
       "stream": "stderr",
       "text": [
        "WARNING:root:Loop 'Research methods'<->'Social sciences methodology'\n"
       ]
      },
      {
       "output_type": "stream",
       "stream": "stderr",
       "text": [
        "WARNING:root:Loop 'Research methods'<->'Survey methodology'\n"
       ]
      },
      {
       "output_type": "stream",
       "stream": "stderr",
       "text": [
        "WARNING:root:Loop 'Systems biology'<->'Mathematical and theoretical biology'\n"
       ]
      },
      {
       "output_type": "stream",
       "stream": "stderr",
       "text": [
        "WARNING:root:Loop 'Interactive art'<->'New media art'\n"
       ]
      },
      {
       "output_type": "stream",
       "stream": "stderr",
       "text": [
        "WARNING:root:Loop 'Getter Robo'<->'Mazinger'\n"
       ]
      },
      {
       "output_type": "stream",
       "stream": "stderr",
       "text": [
        "WARNING:root:Loop 'Mazinger'<->'Getter Robo'\n"
       ]
      },
      {
       "output_type": "stream",
       "stream": "stderr",
       "text": [
        "WARNING:root:Loop 'Hellenistic philosophy and religion'<->'Hellenistic religion'\n"
       ]
      },
      {
       "output_type": "stream",
       "stream": "stderr",
       "text": [
        "WARNING:root:Loop 'Social programs'<->'Health, education, and welfare economics'\n"
       ]
      },
      {
       "output_type": "stream",
       "stream": "stderr",
       "text": [
        "WARNING:root:Loop 'Alphabets'<->'Collation'\n"
       ]
      },
      {
       "output_type": "stream",
       "stream": "stderr",
       "text": [
        "WARNING:root:Loop 'Folk art museums and galleries'<->'Ethnographic museums'\n"
       ]
      },
      {
       "output_type": "stream",
       "stream": "stderr",
       "text": [
        "WARNING:root:Loop 'Ethnographic museums'<->'Folk museums'\n"
       ]
      },
      {
       "output_type": "stream",
       "stream": "stderr",
       "text": [
        "WARNING:root:Loop 'Folk museums'<->'Folk art museums and galleries'\n"
       ]
      },
      {
       "output_type": "stream",
       "stream": "stderr",
       "text": [
        "WARNING:root:Loop 'Digital art'<->'Computer art'\n"
       ]
      },
      {
       "output_type": "stream",
       "stream": "stderr",
       "text": [
        "WARNING:root:Loop 'Digital art'<->'Interactive art'\n"
       ]
      },
      {
       "output_type": "stream",
       "stream": "stderr",
       "text": [
        "WARNING:root:Loop 'Interactive media'<->'Websites'\n"
       ]
      },
      {
       "output_type": "stream",
       "stream": "stderr",
       "text": [
        "WARNING:root:Loop 'Free will'<->'Personhood'\n"
       ]
      },
      {
       "output_type": "stream",
       "stream": "stderr",
       "text": [
        "WARNING:root:Loop 'Product management'<->'Product development'\n"
       ]
      },
      {
       "output_type": "stream",
       "stream": "stderr",
       "text": [
        "WARNING:root:Loop 'Band-centric video games'<->'Musician video games'\n"
       ]
      },
      {
       "output_type": "stream",
       "stream": "stderr",
       "text": [
        "WARNING:root:Loop 'Trees (graph theory)'<->'Trees (data structures)'\n"
       ]
      },
      {
       "output_type": "stream",
       "stream": "stderr",
       "text": [
        "WARNING:root:Loop 'Latin alphabets'<->'Latin alphabet'\n"
       ]
      },
      {
       "output_type": "stream",
       "stream": "stderr",
       "text": [
        "WARNING:root:Loop 'Latin script'<->'Latin alphabets'\n"
       ]
      },
      {
       "output_type": "stream",
       "stream": "stderr",
       "text": [
        "WARNING:root:Loop 'Letters by alphabet'<->'Phoenician alphabet'\n"
       ]
      },
      {
       "output_type": "stream",
       "stream": "stderr",
       "text": [
        "WARNING:root:Loop 'Phoenician alphabet'<->'Greek alphabet'\n"
       ]
      }
     ],
     "prompt_number": 3
    },
    {
     "cell_type": "code",
     "collapsed": false,
     "input": [
      "data = read_ground_truth_data(full_selection)\n",
      "selection = train_category_selection(full_selection, data)"
     ],
     "language": "python",
     "metadata": {},
     "outputs": [
      {
       "output_type": "stream",
       "stream": "stderr",
       "text": [
        "WARNING:root:Loop 'Computer data'<->'Data processing'\n"
       ]
      },
      {
       "output_type": "stream",
       "stream": "stderr",
       "text": [
        "WARNING:root:Loop 'Data'<->'Computer data'\n"
       ]
      },
      {
       "output_type": "stream",
       "stream": "stderr",
       "text": [
        "WARNING:root:Loop 'Internet search'<->'Real-time web'\n"
       ]
      },
      {
       "output_type": "stream",
       "stream": "stderr",
       "text": [
        "WARNING:root:Loop 'Web 2.0'<->'Web services'\n"
       ]
      },
      {
       "output_type": "stream",
       "stream": "stderr",
       "text": [
        "WARNING:root:Loop 'Collation'<->'Alphabets'\n"
       ]
      },
      {
       "output_type": "stream",
       "stream": "stderr",
       "text": [
        "WARNING:root:Loop 'Cloud storage'<->'File hosting'\n"
       ]
      },
      {
       "output_type": "stream",
       "stream": "stderr",
       "text": [
        "WARNING:root:Loop 'Data-centric programming languages'<->'Persistent programming languages'\n"
       ]
      },
      {
       "output_type": "stream",
       "stream": "stderr",
       "text": [
        "WARNING:root:Loop 'File hosting'<->'Cloud storage'\n"
       ]
      },
      {
       "output_type": "stream",
       "stream": "stderr",
       "text": [
        "WARNING:root:Loop 'Distributed data storage'<->'Distributed data storage systems'\n"
       ]
      },
      {
       "output_type": "stream",
       "stream": "stderr",
       "text": [
        "WARNING:root:Loop 'Distributed data storage'<->'File sharing networks'\n"
       ]
      },
      {
       "output_type": "stream",
       "stream": "stderr",
       "text": [
        "WARNING:root:Loop 'Web services'<->'Internet search'\n"
       ]
      },
      {
       "output_type": "stream",
       "stream": "stderr",
       "text": [
        "WARNING:root:Loop 'Computing in fiction'<->'Artificial intelligence in fiction'\n"
       ]
      },
      {
       "output_type": "stream",
       "stream": "stderr",
       "text": [
        "WARNING:root:Loop 'Social information processing'<->'Collective intelligence'\n"
       ]
      },
      {
       "output_type": "stream",
       "stream": "stderr",
       "text": [
        "WARNING:root:Loop 'Internet activism'<->'Internet-based activism'\n"
       ]
      },
      {
       "output_type": "stream",
       "stream": "stderr",
       "text": [
        "WARNING:root:Loop 'Music software'<->'Audio software'\n"
       ]
      },
      {
       "output_type": "stream",
       "stream": "stderr",
       "text": [
        "WARNING:root:Loop 'Persistent programming languages'<->'Data-centric programming languages'\n"
       ]
      },
      {
       "output_type": "stream",
       "stream": "stderr",
       "text": [
        "WARNING:root:Loop 'Video game clones'<->'Unauthorized video games'\n"
       ]
      },
      {
       "output_type": "stream",
       "stream": "stderr",
       "text": [
        "WARNING:root:Loop 'Collective intelligence'<->'Social information processing'\n"
       ]
      },
      {
       "output_type": "stream",
       "stream": "stderr",
       "text": [
        "WARNING:root:Loop 'Distributed data storage systems'<->'File sharing networks'\n"
       ]
      },
      {
       "output_type": "stream",
       "stream": "stderr",
       "text": [
        "WARNING:root:Loop 'Website article topics with .gov domain names'<->'Government services web portals in the United States'\n"
       ]
      },
      {
       "output_type": "stream",
       "stream": "stderr",
       "text": [
        "WARNING:root:Loop 'Trees (set theory)'<->'Trees (graph theory)'\n"
       ]
      },
      {
       "output_type": "stream",
       "stream": "stderr",
       "text": [
        "WARNING:root:Loop 'Image processing'<->'Computer vision'\n"
       ]
      },
      {
       "output_type": "stream",
       "stream": "stderr",
       "text": [
        "WARNING:root:Loop 'File sharing networks'<->'Distributed data storage'\n"
       ]
      },
      {
       "output_type": "stream",
       "stream": "stderr",
       "text": [
        "WARNING:root:Loop 'Real-time web'<->'Web 2.0'\n"
       ]
      },
      {
       "output_type": "stream",
       "stream": "stderr",
       "text": [
        "WARNING:root:Loop 'Videotelephony'<->'Mobile phones'\n"
       ]
      },
      {
       "output_type": "stream",
       "stream": "stderr",
       "text": [
        "WARNING:root:Loop 'Cyberpunk themes'<->'Cyberspace'\n"
       ]
      },
      {
       "output_type": "stream",
       "stream": "stderr",
       "text": [
        "WARNING:root:Loop 'Government services web portals in the United States'<->'Website article topics with .gov domain names'\n"
       ]
      },
      {
       "output_type": "stream",
       "stream": "stderr",
       "text": [
        "WARNING:root:Loop 'Free healthcare software'<->'Free medical software'\n"
       ]
      },
      {
       "output_type": "stream",
       "stream": "stderr",
       "text": [
        "WARNING:root:Loop 'Audio software'<->'Music software'\n"
       ]
      },
      {
       "output_type": "stream",
       "stream": "stderr",
       "text": [
        "WARNING:root:Loop 'Free medical software'<->'Free healthcare software'\n"
       ]
      },
      {
       "output_type": "stream",
       "stream": "stderr",
       "text": [
        "WARNING:root:Loop 'Computer vision'<->'Image processing'\n"
       ]
      },
      {
       "output_type": "stream",
       "stream": "stderr",
       "text": [
        "WARNING:root:Loop 'Unauthorized video games'<->'Video game clones'\n"
       ]
      },
      {
       "output_type": "stream",
       "stream": "stdout",
       "text": [
        "Invalid label, ignoring the line: Computing_and_society -> Computing_culture -> Computing_in_fiction -> Cyberpunk -> Cyberpunk_themes -> Cyberspace -> Cyberwarfare -bugbugbug\n",
        "\n",
        "Invalid label, ignoring the line: History_of_computing -> History_of_computer_science -> 20th_century_in_computer_science -> 1950s_in_computer_science -> 1950s_software -> 1958_software ?\n",
        "\n",
        "Invalid label, ignoring the line: Computer_programming -> Programming_languages -> Programming_languages_by_creation_date -> Programming_languages_created_in_the_20th_century -> Programming_languages_created_in_the_1950s -> Programming_languages_created_in_1958 ?\n",
        "\n",
        "Invalid label, ignoring the line: Information_technology -> Information_technology_companies -> Information_technology_companies_by_country ?\n",
        "\n",
        "Invalid label, ignoring the line: Information_technology -> Information_technology_companies -> Information_technology_companies_by_country -> Information_technology_companies_of_Poland ?\n",
        "\n",
        "Invalid label, ignoring the line: Information_technology -> Information_technology_companies -> Information_technology_companies_by_country -> Telecommunications_companies_by_country -> Telecommunications_companies_of_Poland ?\n",
        "\n",
        "Invalid label, ignoring the line: Information_technology -> Information_technology_companies -> Information_technology_companies_by_country -> Telecommunications_companies_by_country -> Telecommunications_companies_of_Poland -> Mobile_phone_companies_of_Poland ?\n",
        "\n",
        "Invalid label, ignoring the line: Computer_systems -> Classes_of_computers -> Mobile_computers -> Mobile_phones ?\n",
        "\n",
        "Invalid label, ignoring the line: Computing_and_society -> Computing_culture -> Video_game_culture -> Video_gaming_by_country ?\n",
        "\n",
        "Invalid label, ignoring the line: Software -> Application_software -> Video_games -> Video_games_by_country ?\n",
        "\n",
        "Invalid label, ignoring the line: Software -> Application_software -> Video_games -> Video_games_by_country -> Video_games_developed_in_Japan ?\n",
        "\n",
        "Invalid label, ignoring the line: Computer_science -> Areas_of_computer_science -> Artificial_intelligence -> Problem_solving -> Abstraction ?\n",
        "\n",
        "Invalid label, ignoring the line: Computer_science -> Areas_of_computer_science -> Artificial_intelligence -> Problem_solving -> Abstraction -> Conceptual_systems ?\n",
        "\n",
        "Invalid label, ignoring the line: Computing_and_society -> Computing_culture -> Cyberpunk -> Cyberpunk_themes -> Cyberspace -> Cyberwarfare ?\n",
        "\n",
        "Invalid label, ignoring the line: Software -> Custom_software_projects -> Electronic_trading_platforms -> Stock_exchanges ?\n",
        "\n",
        "Invalid label, ignoring the line: Data -> Data_management -> Data_collection -> Intelligence_(information_gathering) -> Espionage ?\n",
        "\n",
        "Invalid label, ignoring the line: Data -> Data_management -> Data_collection -> Intelligence_(information_gathering) -> Intelligence_gathering_disciplines ?\n",
        "\n",
        "Invalid label, ignoring the line: Software -> Application_software -> Video_games -> Video_game_gameplay ?\n",
        "\n",
        "Invalid label, ignoring the line: Software -> Application_software -> Video_games -> Video_game_gameplay -> Emergent_gameplay ?\n",
        "\n",
        "Invalid label, ignoring the line: Computing_and_society -> Computing_culture -> Video_game_culture -> Video_gaming_by_country -> Video_gaming_in_Japan ?\n",
        "\n",
        "Invalid label, ignoring the line: Natural_language_and_computing -> Computational_linguistics -> Natural_language_processing -> Corpus_linguistics ?\n",
        "\n",
        "Invalid label, ignoring the line: Computing_and_society -> Digital_libraries -> Corpora ?\n",
        "\n",
        "Invalid label, ignoring the line: Computer_science -> Areas_of_computer_science -> Artificial_intelligence -> Problem_solving -> Decision_theory ?\n",
        "\n",
        "Invalid label, ignoring the line: Information_technology -> Information_science -> Knowledge_representation -> Strategy ?\n",
        "\n",
        "Invalid label, ignoring the line: Computer_science -> Areas_of_computer_science -> Artificial_intelligence -> Problem_solving -> Scientific_method ?\n",
        "\n",
        "Invalid label, ignoring the line: Computer_science -> Areas_of_computer_science -> Artificial_intelligence -> Problem_solving -> Planning ?\n",
        "\n",
        "Invalid label, ignoring the line: Information_technology -> Information_technology_companies -> Information_technology_companies_by_country -> Information_technology_companies_of_Canada ?\n",
        "\n",
        "Invalid label, ignoring the line: Information_technology -> Information_technology_companies -> Information_technology_companies_by_country -> Telecommunications_companies_by_country -> Telecommunications_companies_of_Canada ?\n",
        "\n",
        "Invalid label, ignoring the line: Information_technology -> Information_technology_companies -> Telecommunications_companies -> Wikipedia_categories_named_after_telecommunications_companies -> Nortel ?\n",
        "\n",
        "Invalid label, ignoring the line: Software -> Software_by_company -> Nortel_products ?\n",
        "\n",
        "Invalid label, ignoring the line: Computer_science -> Computer_scientists ?\n",
        "\n",
        "Invalid label, ignoring the line: Computer_science -> Computer_scientists -> Computer_scientists_by_nationality ?\n",
        "\n",
        "Invalid label, ignoring the line: Computer_science -> Computer_scientists -> Computer_scientists_by_nationality -> Chilean_computer_scientists ?\n",
        "\n",
        "Invalid label, ignoring the line: Information_technology -> Information_science -> Knowledge_representation -> Mereology ?\n",
        "\n",
        "Invalid label, ignoring the line: Information_technology -> Information_science -> Knowledge_representation -> Mereology -> Holism ?\n",
        "\n",
        "Invalid label, ignoring the line: Computer_science -> Areas_of_computer_science -> Artificial_intelligence -> Problem_solving -> Systems_thinking ?\n",
        "\n",
        "Invalid label, ignoring the line: Computer_science -> Areas_of_computer_science -> Artificial_intelligence -> Problem_solving -> Mathematical_problem_solving ?\n",
        "\n",
        "Invalid label, ignoring the line: Computer_science -> Areas_of_computer_science -> Artificial_intelligence -> Problem_solving -> Mathematical_problem_solving -> Applied_mathematics ?\n",
        "\n",
        "Invalid label, ignoring the line: Computer_science -> Areas_of_computer_science -> Computer_graphics -> Stereoscopy ?\n",
        "\n",
        "Invalid label, ignoring the line: Computer_science -> Areas_of_computer_science -> Computer_graphics -> Stereoscopy -> 3D_films ?\n",
        "\n",
        "Invalid label, ignoring the line: Computer_science -> Areas_of_computer_science -> Computer_graphics -> Stereoscopy -> 3D_films -> 3D_films_by_decade ?\n",
        "\n",
        "Invalid label, ignoring the line: Computer_science -> Areas_of_computer_science -> Computer_graphics -> Stereoscopy -> 3D_films -> 3D_films_by_decade -> 1960s_3D_films ?\n",
        "\n",
        "Invalid label, ignoring the line: Data -> Data_management -> Recording ?\n",
        "\n",
        "Invalid label, ignoring the line: Data -> Data_management -> Recording -> Imaging ? \n",
        "\n",
        "Invalid label, ignoring the line: Data -> Data_management -> Recording -> Imaging -> 3D_imaging ?\n",
        "\n",
        "Invalid label, ignoring the line: Information_technology -> Information_science -> Infographics ?\n",
        "\n",
        "Invalid label, ignoring the line: Computer_languages -> Data_types -> Statistical_data_types -> Index_numbers ?\n",
        "\n",
        "Invalid label, ignoring the line: Computer_systems -> Embedded_systems -> Robotics -> Works_about_robotics ?\n",
        "\n",
        "Invalid label, ignoring the line: Computer_systems -> Embedded_systems -> Robotics -> Works_about_robotics -> Documentary_films_about_robotics ?\n",
        "\n",
        "Invalid label, ignoring the line: Software -> Software_by_company -> Video_games_by_company ?\n",
        "\n",
        "Invalid label, ignoring the line: Computing_stubs ?\n",
        "\n",
        "Invalid label, ignoring the line: Computer_networking -> Computer_network_stubs ?\n",
        "\n",
        "Invalid label, ignoring the line: Internet -> Internet_stubs ?\n",
        "\n",
        "Invalid label, ignoring the line: Internet -> Internet_stubs -> Internet_Relay_Chat_stubs ?\n",
        "\n",
        "Invalid label, ignoring the line: Computer_industry -> Software_industry -> Software_companies -> Software_companies_by_country ?\n",
        "\n",
        "Invalid label, ignoring the line: Computer_industry -> Software_industry -> Software_companies -> Software_companies_by_country -> Software_companies_of_Scotland ?\n",
        "\n",
        "Invalid label, ignoring the line: Software -> Application_software -> Video_games -> Video_games_by_platform ?\n",
        "\n",
        "Invalid label, ignoring the line: Software -> Application_software -> Video_games -> Video_games_by_platform -> Arcade_games ?\n",
        "\n",
        "Invalid label, ignoring the line: Software -> Application_software -> Video_games -> Video_game_media -> Arcade_flyer_images ?\n",
        "\n",
        "Invalid label, ignoring the line: Software_engineering -> Software_quality -> Reliability_engineering -> Failure ?\n",
        "\n",
        "Invalid label, ignoring the line: Software_engineering -> Software_quality -> Reliability_engineering -> Failure -> Engine_problems ?\n",
        "\n",
        "Invalid label, ignoring the line: Information_technology -> Information_science -> Knowledge_representation -> Classification_systems -> Taxonomy ?\n",
        "\n",
        "Invalid label, ignoring the line: Information_technology -> Information_science -> Knowledge_representation -> Classification_systems -> Geographic_taxonomies ?\n",
        "\n",
        "Invalid label, ignoring the line: Computer_science -> Areas_of_computer_science -> Artificial_intelligence -> Problem_solving -> Abstraction -> Ordering ?\n",
        "\n",
        "Invalid label, ignoring the line: Computer_science -> Areas_of_computer_science -> Artificial_intelligence -> Problem_solving -> Abstraction -> Ordering -> Order_theory ?\n",
        "\n",
        "Invalid label, ignoring the line: Computer_systems -> Embedded_systems -> Robotics -> Robotics_projects ?\n",
        "\n",
        "Invalid label, ignoring the line: Software -> WikiProject_Software ?\n",
        "\n",
        "Invalid label, ignoring the line: Software -> WikiProject_Software -> WikiProject_Free_Software ?\n",
        "\n",
        "Invalid label, ignoring the line: Software -> WikiProject_Software -> WikiProject_Free_Software -> WikiProject_Free_Software_articles ?\n",
        "\n",
        "Invalid label, ignoring the line: Software -> WikiProject_Software -> WikiProject_Free_Software -> WikiProject_Free_Software_articles -> Free_software_articles_by_importance ?\n",
        "\n",
        "Invalid label, ignoring the line: Software -> WikiProject_Software -> WikiProject_Free_Software -> WikiProject_Free_Software_articles -> Free_software_articles_by_importance -> High-importance_Free_software_articles ?\n",
        "\n",
        "Invalid label, ignoring the line: Information_technology -> Information_technology_companies -> Information_technology_companies_by_country -> Telecommunications_companies_by_country ?\n",
        "\n",
        "Invalid label, ignoring the line: Information_technology -> Information_technology_companies -> Information_technology_companies_by_country -> Telecommunications_companies_by_country -> Telecommunications_companies_of_the_United_Arab_Emirates ?\n",
        "\n",
        "Invalid label, ignoring the line: Internet -> Internet_by_country -> Internet_in_the_United_Arab_Emirates -> Internet_service_providers_of_the_United_Arab_Emirates ?\n",
        "\n",
        "Invalid label, ignoring the line: Information_technology -> Information_technology_companies -> Wikipedia_categories_named_after_information_technology_companies ?\n",
        "\n",
        "Invalid label, ignoring the line: Information_technology -> Information_technology_companies -> Wikipedia_categories_named_after_information_technology_companies -> Wikipedia_categories_named_after_video_game_companies -> Wikipedia_categories_named_after_video_game_companies_of_Japan ?\n",
        "\n",
        "Invalid label, ignoring the line: Software -> Software_development -> Video_game_development -> Video_game_development_companies -> Capcom ?\n",
        "\n",
        "Invalid label, ignoring the line: Information_technology -> Information_technology_companies -> Information_technology_companies_by_country -> Information_technology_companies_of_Lithuania ?\n",
        "\n",
        "Invalid label, ignoring the line: Information_technology -> Information_technology_companies -> Information_technology_companies_by_country -> Information_technology_companies_of_Lithuania -> Telecommunications_companies_of_Lithuania ?\n",
        "\n",
        "Invalid label, ignoring the line: Data -> Data_management -> Data_collection -> Polling ?\n",
        "\n",
        "Invalid label, ignoring the line: Computer_systems -> Embedded_systems -> Robots -> Unmanned_vehicles -> Unmanned_aerial_vehicles -> Unmanned_aerial_vehicles_by_country ?\n",
        "\n",
        "Invalid label, ignoring the line: Software -> WikiProject_Software -> WikiProject_Software_articles ?\n",
        "\n",
        "Invalid label, ignoring the line: Software -> WikiProject_Software -> WikiProject_Software_articles -> Software_articles_by_importance ?\n",
        "\n",
        "Invalid label, ignoring the line: Software -> WikiProject_Software -> WikiProject_Software_articles -> Software_articles_by_importance -> Mid-importance_software_articles ?\n",
        "\n",
        "Invalid label, ignoring the line: Software -> WikiProject_Software -> WikiProject_Software_articles -> Software_articles_by_quality_and_importance -> Start-Class_software_articles_of_Mid-importance ?\n",
        "\n",
        "Invalid label, ignoring the line: Computer_systems -> Embedded_systems -> Robotics -> Entertainment_robotics ?\n",
        "\n",
        "Invalid label, ignoring the line: Computer_systems -> Embedded_systems -> Robotics -> Entertainment_robotics -> Animatronics ?\n",
        "\n",
        "Invalid label, ignoring the line: Computer_systems -> Embedded_systems -> Robots -> Entertainment_robots -> Animatronic_robots ?\n",
        "\n",
        "Invalid label, ignoring the line: Software -> Software_development -> Video_game_development -> Video_game_development_companies ?\n",
        "\n",
        "Invalid label, ignoring the line: Software -> Software_development -> Video_game_development -> Video_game_development_companies -> International_Game_Developers_Association_members ?\n",
        "\n",
        "Invalid label, ignoring the line: Information_technology -> Information_technology_companies -> Information_technology_companies_by_country -> Telecommunications_companies_by_country -> Telecommunications_companies_of_Canada -> Cable_and_DBS_companies_of_Canada ?\n",
        "\n",
        "Invalid label, ignoring the line: Information_technology -> Information_technology_companies -> Information_technology_companies_by_country -> Telecommunications_companies_by_country -> Telecommunications_companies_of_Canada -> Cable_and_DBS_companies_of_Canada -> Defunct_cable_and_DBS_companies_of_Canada ?\n",
        "\n",
        "Invalid label, ignoring the line: Computer_science -> Areas_of_computer_science -> Artificial_intelligence -> Problem_solving -> Abstraction -> Mathematics ?\n",
        "\n",
        "Invalid label, ignoring the line: Software -> Application_software -> Video_games -> Fictional_content_in_video_games ?\n",
        "\n",
        "Invalid label, ignoring the line: Software -> Application_software -> Video_games -> Fictional_content_in_video_games -> Video_game_characters ?\n",
        "\n",
        "Invalid label, ignoring the line: Software -> Application_software -> Video_games -> Fictional_content_in_video_games -> Video_game_characters -> Video_game_characters_by_genre ?\n",
        "\n",
        "Invalid label, ignoring the line: Information_technology -> Information_science -> Accessible_information ?\n",
        "\n",
        "Invalid label, ignoring the line: Data -> Data_management -> Data_collection -> Intelligence_(information_gathering) -> Military_intelligence ?\n",
        "\n",
        "Invalid label, ignoring the line: Computer_systems -> Embedded_systems -> Avionics ?\n",
        "\n",
        "Invalid label, ignoring the line: Computer_systems -> Embedded_systems -> Avionics -> Avionics_companies ?\n",
        "\n",
        "Invalid label, ignoring the line: Software -> Software_by_year -> Video_games_by_year -> 1983_video_games ?\n",
        "\n",
        "Invalid label, ignoring the line: Software -> History_of_software ?\n",
        "\n",
        "Invalid label, ignoring the line: Software -> History_of_software -> Discontinued_software ?\n",
        "\n",
        "Invalid label, ignoring the line: Software -> Custom_software_projects -> Aborted_custom_software_projects ?\n",
        "\n",
        "Invalid label, ignoring the line: Computer_networking -> Networking_hardware -> Fiber_optics ?\n",
        "\n",
        "Invalid label, ignoring the line: Computer_networking -> Networking_hardware -> Fiber_optics -> Optical_fiber ?\n",
        "\n",
        "Invalid label, ignoring the line: Computer_networking -> Networking_hardware -> Fiber_optics -> Optical_fiber -> Optical_telecommunications_cables ?\n",
        "\n",
        "Invalid label, ignoring the line: Information_technology -> Information_technology_organisations -> Information_technology_charities ?\n",
        "\n",
        "Invalid label, ignoring the line: Information_technology -> Information_technology_organisations -> Information_technology_charities -> One_Laptop_per_Child ?\n",
        "\n",
        "Invalid label, ignoring the line: Software -> Application_software -> Video_games -> Video_game_franchises ?\n",
        "\n",
        "Invalid label, ignoring the line: Software -> Software_by_company -> Video_games_by_company -> Video_game_franchises_by_company ?\n",
        "\n",
        "Invalid label, ignoring the line: Computer_systems -> Embedded_systems -> Robotics -> Robotics_by_country ?\n",
        "\n",
        "Invalid label, ignoring the line: Computer_systems -> Embedded_systems -> Robotics -> Robotics_by_country -> Japanese_robotics ?\n",
        "\n",
        "Invalid label, ignoring the line: Internet -> Internet_by_country -> Internet_in_Syria -> Syrian_bloggers ?\n",
        "\n",
        "Invalid label, ignoring the line: Software -> Software_by_company -> Video_games_by_company -> New_World_Computing_games ?\n",
        "\n",
        "Invalid label, ignoring the line: Software -> Application_software -> Video_games -> Video_games_by_theme ?\n",
        "\n",
        "Invalid label, ignoring the line: Computer_systems -> Embedded_systems -> Robotics -> Robotics_by_company ?\n",
        "\n",
        "Invalid label, ignoring the line: Information_technology -> Information_science -> Information_storage -> Storage_media -> Digital_media -> Interactive_media ?\n",
        "\n",
        "Invalid label, ignoring the line: Computing_and_society -> Computing_culture -> Computer-related_events ?\n",
        "\n",
        "Invalid label, ignoring the line: Computing_and_society -> Computing_culture -> Computer-related_events -> Computer_conferences ?\n",
        "\n",
        "Invalid label, ignoring the line: Computing_and_society -> Computing_culture -> Computer-related_events -> Computer_conferences -> Data_storage_conferences ?\n",
        "\n",
        "Invalid label, ignoring the line: Computer_science -> Areas_of_computer_science -> Artificial_intelligence -> Problem_solving -> Abstraction -> Inductive_reasoning ?\n",
        "\n",
        "Invalid label, ignoring the line: Computer_science -> Areas_of_computer_science -> Artificial_intelligence -> Problem_solving -> Mathematical_problem_solving -> Probability_and_statistics ?\n",
        "\n",
        "Invalid label, ignoring the line: Information_technology -> Information_science -> Information_retrieval -> Sound_production_technology ?\n",
        "\n",
        "Invalid label, ignoring the line: Natural_language_and_computing -> Computing_by_natural_language -> Video_games_by_language ?\n",
        "\n",
        "Invalid label, ignoring the line: Computer_systems -> Embedded_systems -> Robots -> Robots_by_country ?\n",
        "\n",
        "Invalid label, ignoring the line: Computer_systems -> Embedded_systems -> Robots -> Robots_by_country -> Robots_of_Pakistan ?\n",
        "\n",
        "Invalid label, ignoring the line: Computer_systems -> Embedded_systems -> Robotics -> History_of_robotics ?\n",
        "\n",
        "Invalid label, ignoring the line: Computer_systems -> Embedded_systems -> Robotics -> History_of_robotics -> Years_in_robotics ?\n",
        "\n",
        "Invalid label, ignoring the line: Software -> Application_software -> Video_games -> Video_games_by_genre ?\n",
        "\n",
        "Invalid label, ignoring the line: Software -> Application_software -> Video_games -> Video_games_by_genre -> Shooter_video_games ?\n",
        "\n",
        "Invalid label, ignoring the line: Software -> Application_software -> Video_games -> Video_games_by_genre -> Shooter_video_games -> Third-person_shooters ?\n",
        "\n",
        "Invalid label, ignoring the line: Software -> Software_stubs -> Video_game_stubs -> Action_game_stubs -> Shooter_game_stubs -> Third-person_shooter_stubs ?\n",
        "\n",
        "Invalid label, ignoring the line: Software -> Wikipedia_categories_named_after_software ?\n",
        "\n",
        "Invalid label, ignoring the line: Software -> Wikipedia_categories_named_after_software -> Ableton_Live ?\n",
        "\n",
        "Invalid label, ignoring the line: Software -> Wikipedia_categories_named_after_software -> Ableton_Live -> Ableton_Live_users ?\n",
        "\n",
        "Invalid label, ignoring the line: World_Wide_Web -> Websites -> Government-owned_websites ?\n",
        "\n",
        "Invalid label, ignoring the line: Computing_and_society -> Computer_law ?\n",
        "\n",
        "Invalid label, ignoring the line: Computing_and_society -> Computer_law -> Computing-related_controversies_and_disputes ?\n",
        "\n",
        "Invalid label, ignoring the line: Computing_and_society -> Computer_law -> Computer_case_law ?\n",
        "\n",
        "Invalid label, ignoring the line: Computing_and_society -> Computer_law -> Computer_case_law -> United_States_computer_case_law ?\n",
        "\n",
        "Invalid label, ignoring the line: Internet -> Internet_by_country -> Internet_in_the_United_States -> United_States_Internet_case_law ?\n",
        "\n",
        "Invalid label, ignoring the line: Computer_data -> Files -> File_sharing -> United_States_file_sharing_case_law ?\n",
        "\n",
        "Invalid label, ignoring the line: Data -> Data_management -> Data_collection -> Intelligence_(information_gathering) -> Intelligence_agencies ?\n",
        "\n",
        "Invalid label, ignoring the line: Data -> Data_management -> Data_collection -> Intelligence_(information_gathering) -> Military_intelligence -> Military_intelligence_collection ?\n",
        "\n",
        "Invalid label, ignoring the line: Computing_and_society -> Information_society -> Social_information_processing ?\n",
        "\n",
        "Invalid label, ignoring the line: Computing_and_society -> Information_society -> Social_information_processing -> Collaborative_projects ?\n",
        "\n",
        "Invalid label, ignoring the line: Computing_and_society -> Information_society -> Social_information_processing -> Collaborative_projects -> Engineering_projects ?\n",
        "\n",
        "Invalid label, ignoring the line: Information_technology -> Non-profit_technology ?\n",
        "\n",
        "Invalid label, ignoring the line: Information_technology -> Non-profit_technology -> Online_politics ?\n",
        "\n",
        "Invalid label, ignoring the line: Internet -> Internet_culture -> Internet_activism ?\n",
        "\n",
        "Invalid label, ignoring the line: Internet -> Internet_culture -> Internet_activism -> Digital_rights ?\n",
        "\n",
        "Invalid label, ignoring the line: Internet -> Internet_culture -> Internet_activism -> Digital_rights -> Digital_rights_organizations ?\n",
        "\n",
        "Invalid label, ignoring the line: Computing_and_society -> Computer_law -> Electronic_Frontier_Foundation ?\n",
        "\n",
        "Invalid label, ignoring the line: World_Wide_Web -> Online_organizations ?\n",
        "\n",
        "Invalid label, ignoring the line: World_Wide_Web -> Online_organizations -> Social_networks -> Professional_networks ?\n",
        "\n",
        "Invalid label, ignoring the line: World_Wide_Web -> Online_organizations -> Social_networks -> Professional_networks -> Career_advice_services ?\n",
        "\n",
        "Invalid label, ignoring the line: History_of_computing -> History_of_computer_science -> 21st_century_in_computer_science ?\n",
        "\n",
        "Invalid label, ignoring the line: Software -> Software_by_year -> 21st-century_software ?\n",
        "\n",
        "Invalid label, ignoring the line: Software -> Software_by_year -> 21st-century_software -> 21st-century_video_games ?\n",
        "\n",
        "Invalid label, ignoring the line: History_of_computing -> History_of_video_games -> Years_in_video_gaming -> 2000s_in_video_gaming ?\n",
        "\n",
        "Invalid label, ignoring the line: Information_technology -> Information_technology_by_country -> Information_technology_in_the_United_Kingdom ?\n",
        "\n",
        "Invalid label, ignoring the line: Computer_magazines -> Computer_magazines_by_country -> British_computer_magazines ?\n",
        "\n",
        "Invalid label, ignoring the line: Computer_magazines -> Computer_magazines_by_country -> British_computer_magazines -> British_video_game_magazines ?\n",
        "\n",
        "Invalid label, ignoring the line: Data -> Data_management -> Recording -> Sound_recording -> Audio_engineering ?\n",
        "\n",
        "Invalid label, ignoring the line: Data -> Data_management -> Recording -> Sound_recording -> Audio_engineering -> Stereophonic_sound ?\n",
        "\n",
        "Invalid label, ignoring the line: Computer_science -> Areas_of_computer_science -> Artificial_intelligence -> Problem_solving -> Planning -> Cancelled_projects_and_events ?\n",
        "\n",
        "Invalid label, ignoring the line: Software -> Application_software -> Video_games -> Video_games_by_development_status -> Cancelled_video_games ?\n",
        "\n",
        "Invalid label, ignoring the line: Computer_science -> Areas_of_computer_science -> Artificial_intelligence -> Problem_solving -> Game_theory -> Chess_theory ?\n",
        "\n",
        "Invalid label, ignoring the line: Information_technology -> Information_technology_by_country -> Information_technology_in_Hungary ?\n",
        "\n",
        "Invalid label, ignoring the line: Information_technology -> People_in_information_technology -> Computer_specialists_by_nationality -> Hungarian_computer_specialists ?\n",
        "\n",
        "Invalid label, ignoring the line: Computer_science -> Computer_scientists -> Computer_scientists_by_nationality -> Hungarian_computer_scientists ?\n",
        "\n",
        "Invalid label, ignoring the line: Computing_and_society -> Computing_culture -> Video_game_culture -> Video_gaming_by_country -> Video_gaming_in_Finland ?\n",
        "\n",
        "Invalid label, ignoring the line: Computer_industry -> Software_industry -> Software_companies -> Software_companies_by_country -> Software_companies_of_Finland -> Video_game_companies_of_Finland ?\n",
        "\n",
        "Invalid label, ignoring the line: Computing_and_society -> Computer-mediated_communication ?\n",
        "\n",
        "Invalid label, ignoring the line: Internet -> Internet_culture -> Internet_ethics -> Spamming -> Wikipedia_spam ?\n",
        "\n",
        "Invalid label, ignoring the line: Software -> Software_by_company -> Video_games_by_company -> Video_games_developed_by_country_sorted_by_company ?\n",
        "\n",
        "Invalid label, ignoring the line: Software -> Application_software -> Music_software -> Music_video_games ?\n",
        "\n",
        "Invalid label, ignoring the line: Software -> Application_software -> Music_software -> Music_video_games -> Music_generated_games ?\n",
        "\n",
        "Invalid label, ignoring the line: Information_technology -> People_in_information_technology -> Computer_specialists_by_nationality ?\n",
        "\n",
        "Invalid label, ignoring the line: Information_technology -> People_in_information_technology -> Computer_specialists_by_nationality -> Brazilian_computer_specialists ?\n",
        "\n",
        "Invalid label, ignoring the line: Computer_science -> Computer_scientists -> Computer_scientists_by_nationality -> Brazilian_computer_scientists ?\n",
        "\n",
        "Invalid label, ignoring the line: Computer_systems -> Embedded_systems -> Robots -> Fictional_robots -> Robot_superheroes ?\n",
        "\n",
        "Invalid label, ignoring the line: History_of_computing -> History_of_computer_science -> 20th_century_in_computer_science -> 1960s_in_computer_science ?\n",
        "\n",
        "Invalid label, ignoring the line: History_of_computing -> History_of_computer_science -> 20th_century_in_computer_science -> 1960s_in_computer_science -> 1966_in_computer_science ?\n",
        "\n",
        "Invalid label, ignoring the line: History_of_computing -> History_of_computer_science -> 20th_century_in_computer_science -> 1950s_in_computer_science -> 1960s_software -> 1966_software ?\n",
        "\n",
        "Invalid label, ignoring the line: Computer_systems -> Classes_of_computers -> Mobile_computers -> Mobile_phones -> Mobile_phone_industry_by_country ?\n",
        "\n",
        "Invalid label, ignoring the line: Information_technology -> Information_technology_companies -> Information_technology_companies_by_country -> Telecommunications_companies_by_country -> Mobile_phone_companies_by_country ?\n",
        "\n",
        "Invalid label, ignoring the line: Information_technology -> Information_science -> Infographics -> Notation -> Encodings ?\n",
        "\n",
        "Invalid label, ignoring the line: Information_technology -> Information_science -> Infographics -> Symbols -> Cantabrian_symbols ?\n",
        "\n",
        "Invalid label, ignoring the line: Computer_industry -> Computer_companies -> Computing_by_company ?\n",
        "\n",
        "Invalid label, ignoring the line: Computer_systems -> Computer_hardware -> Computer_hardware_by_company ?\n",
        "\n",
        "Invalid label, ignoring the line: Software -> Wikipedia_categories_named_after_software -> Wikipedia_categories_named_after_operating_systems ?\n",
        "\n",
        "Invalid label, ignoring the line: Software -> Wikipedia_categories_named_after_software -> Wikipedia_categories_named_after_operating_systems -> Linux -> Linux_organizations ?\n",
        "\n",
        "Invalid label, ignoring the line: Software -> Wikipedia_categories_named_after_software -> Wikipedia_categories_named_after_operating_systems -> Linux -> Linux_organizations -> NSLU2-Linux ?\n",
        "\n",
        "Invalid label, ignoring the line: Information_technology -> Information_technology_places -> Silicon_Valley -> Companies_based_in_Silicon_Valley ?\n",
        "\n",
        "Invalid label, ignoring the line: Information_technology -> Information_technology_places -> Silicon_Valley -> Companies_based_in_Silicon_Valley -> Companies_based_in_Sunnyvale,_California ?\n",
        "\n",
        "Invalid label, ignoring the line: Information_technology -> Information_technology_companies -> Wikipedia_categories_named_after_information_technology_companies -> Wikipedia_categories_named_after_information_technology_companies_of_the_United_States -> Advanced_Micro_Devices ?\n",
        "\n",
        "Invalid label, ignoring the line: Information_technology -> Information_technology_companies -> Wikipedia_categories_named_after_information_technology_companies -> Wikipedia_categories_named_after_information_technology_companies_of_the_United_States -> Advanced_Micro_Devices -> Advanced_Micro_Devices_people ?\n",
        "\n",
        "Invalid label, ignoring the line: Information_technology -> Information_technology_companies -> Information_technology_companies_by_country -> Information_technology_companies_of_the_United_States ?\n",
        "\n",
        "Invalid label, ignoring the line: Information_technology -> Information_technology_companies -> Wikipedia_categories_named_after_information_technology_companies -> Wikipedia_categories_named_after_information_technology_companies_of_the_United_States ?\n",
        "\n",
        "Invalid label, ignoring the line: Information_technology -> Information_technology_companies -> Wikipedia_categories_named_after_information_technology_companies -> Wikipedia_categories_named_after_information_technology_companies_of_the_United_States -> Oracle_Corporation -> Oracle_acquisitions ?\n",
        "\n",
        "Invalid label, ignoring the line: Software -> WikiProject_Software -> WikiProject_Software_articles -> Software_articles_by_quality ?\n",
        "\n",
        "Invalid label, ignoring the line: Software -> WikiProject_Software -> WikiProject_Software_articles -> Software_articles_by_quality -> FA-Class_software_articles ?\n",
        "\n",
        "Invalid label, ignoring the line: Software -> WikiProject_Software -> WikiProject_Software_articles -> Software_articles_by_quality_and_importance -> FA-Class_software_articles_of_Mid-importance ?\n",
        "\n",
        "Invalid label, ignoring the line: Information_technology -> Information_technology_companies -> Information_technology_companies_by_country -> Information_technology_companies_of_Ireland ?\n",
        "\n",
        "Invalid label, ignoring the line: Information_technology -> Information_technology_companies -> Information_technology_companies_by_country -> Telecommunications_companies_by_country -> Telecommunications_companies_of_Ireland ?\n",
        "\n",
        "Invalid label, ignoring the line: Information_technology -> Information_technology_companies -> Information_technology_companies_by_country -> Telecommunications_companies_by_country -> Telecommunications_companies_of_Ireland -> Telecommunications_companies_of_the_Republic_of_Ireland ?\n",
        "\n",
        "Invalid label, ignoring the line: World_Wide_Web -> Internet_companies -> Internet_companies_by_country -> Internet_companies_of_the_Republic_of_Ireland ?\n",
        "\n",
        "Invalid label, ignoring the line: Software -> Software_by_license -> Free_software -> Public_commons ?\n",
        "\n",
        "Invalid label, ignoring the line: Software -> Software_by_license -> Free_software -> Public_commons -> Public_domain ?\n",
        "\n",
        "Invalid label, ignoring the line: Software -> Software_by_license -> Free_software -> Public_commons -> Public_domain -> Public_domain_in_the_United_States ?\n",
        "\n",
        "Invalid label, ignoring the line: Information_technology -> Information_technology_companies -> Wikipedia_categories_named_after_information_technology_companies -> Wikipedia_categories_named_after_information_technology_companies_of_the_United_States -> IBM ?\n",
        "\n",
        "Invalid label, ignoring the line: Information_technology -> Information_technology_companies -> Wikipedia_categories_named_after_information_technology_companies -> Wikipedia_categories_named_after_information_technology_companies_of_the_United_States -> IBM -> IBM_subsidiaries ?\n",
        "\n",
        "Invalid label, ignoring the line: Computer_industry -> Software_industry -> Software_companies -> Software_companies_by_category ?\n",
        "\n",
        "Invalid label, ignoring the line: Software -> Software_development -> Video_game_development -> Video_game_companies -> Video_game_publishers ?\n",
        "\n",
        "Invalid label, ignoring the line: Software -> Software_by_year -> 21st-century_software -> 2000s_software ?\n",
        "\n",
        "Invalid label, ignoring the line: Software -> Software_by_year -> 21st-century_software -> 2000s_software -> 2008_software ?\n",
        "\n",
        "Invalid label, ignoring the line: Information_technology -> Information_technology_by_country -> Information_technology_in_China -> Information_technology_companies_of_China ?\n",
        "\n",
        "Invalid label, ignoring the line: Information_technology -> Information_technology_companies -> Information_technology_companies_by_country -> Telecommunications_companies_by_country -> Telecommunications_companies_of_China ?\n",
        "\n",
        "Invalid label, ignoring the line: Information_technology -> Information_technology_companies -> Information_technology_companies_by_country -> Telecommunications_companies_by_country -> Telecommunications_companies_of_Hong_Kong ?\n",
        "\n",
        "Invalid label, ignoring the line: Information_technology -> Information_technology_companies -> Information_technology_companies_by_country -> Telecommunications_companies_by_country -> Telecommunications_companies_of_Hong_Kong -> Mobile_phone_companies_of_Hong_Kong ?\n",
        "\n",
        "Invalid label, ignoring the line: Computing_and_society -> Computing_culture -> Video_game_culture -> Video_gaming_by_country -> Video_gaming_in_Japan -> Video_game_companies_of_Japan ?\n",
        "\n",
        "Invalid label, ignoring the line: Software -> Application_software -> Video_games -> Video_games_by_theme -> Video_games_by_setting ?\n",
        "\n",
        "Invalid label, ignoring the line: Software -> Application_software -> Video_games -> Video_games_by_theme -> Video_games_by_setting -> Video_games_by_continent_of_setting ?\n",
        "\n",
        "Invalid label, ignoring the line: Software -> Application_software -> Video_games -> Video_games_by_game_engine ?\n",
        "\n",
        "Invalid label, ignoring the line: Software -> Application_software -> Video_games -> Video_games_by_staff ?\n",
        "\n",
        "Invalid label, ignoring the line: Computer_industry -> Computer_companies -> Computer_companies_by_country ?\n",
        "\n",
        "Invalid label, ignoring the line: Computer_industry -> Computer_companies -> Computer_companies_by_country -> Computer_companies_of_Malaysia ?\n",
        "\n",
        "Invalid label, ignoring the line: Computer_industry -> Computer_companies -> Computer_companies_by_country -> Computer_companies_of_Malaysia -> Software_companies_of_Malaysia ?\n",
        "\n",
        "Invalid label, ignoring the line: Software -> Software_by_company -> Video_games_by_company -> Bullfrog_Productions_games ?\n",
        "\n",
        "Invalid label, ignoring the line: Software -> Application_software -> Video_games -> Video_game_franchises -> Populous ?\n",
        "\n",
        "Invalid label, ignoring the line: Software -> Web_software -> Social_software -> Massively_multiplayer_online_games -> Massively_multiplayer_online_role-playing_games ?\n",
        "\n",
        "Invalid label, ignoring the line: Software -> Software_by_company -> Video_games_by_company -> UNiCO_Electronics_games ?\n",
        "\n",
        "Invalid label, ignoring the line: Internet -> Internet_by_country -> Internet_in_the_United_Kingdom ?\n",
        "\n",
        "Invalid label, ignoring the line: Internet -> Internet_by_country -> Internet_in_the_United_Kingdom -> Domain_names_of_the_United_Kingdom ?\n",
        "\n",
        "Invalid label, ignoring the line: Software -> Application_software -> Video_games -> Video_games_by_genre -> Adventure_games ?\n",
        "\n",
        "Invalid label, ignoring the line: World_Wide_Web -> Web_fiction -> Interactive_fiction ?\n",
        "\n",
        "Invalid label, ignoring the line: World_Wide_Web -> Internet-based_works -> Web_series ?\n",
        "\n",
        "Invalid label, ignoring the line: World_Wide_Web -> Websites -> Websites_by_topic ?\n",
        "\n",
        "Invalid label, ignoring the line: World_Wide_Web -> Websites -> Websites_by_topic -> Educational_websites ?\n",
        "\n",
        "Invalid label, ignoring the line: Software -> Application_software -> Simulation_software -> Simulation_video_games -> Vehicle_simulation_games ?\n",
        "\n",
        "Invalid label, ignoring the line: Software -> Application_software -> Simulation_software -> Simulation_video_games -> Vehicle_simulation_games -> Flight_simulation_video_games ?\n",
        "\n",
        "Invalid label, ignoring the line: History_of_computing -> History_of_computer_science -> 20th_century_in_computer_science -> 20th-century_software ?\n",
        "\n",
        "Invalid label, ignoring the line: Information_technology -> Information_technology_companies -> Telecommunications_companies -> Wikipedia_categories_named_after_telecommunications_companies -> Wikipedia_categories_named_after_telecommunications_companies_of_the_United_States ?\n",
        "\n",
        "Invalid label, ignoring the line: Information_technology -> Information_technology_companies -> Telecommunications_companies -> Wikipedia_categories_named_after_telecommunications_companies -> Wikipedia_categories_named_after_telecommunications_companies_of_the_United_States -> Otelco ?\n",
        "\n",
        "Invalid label, ignoring the line: Software -> Application_software -> Video_games -> Video_games_by_platform -> ZX_Spectrum_games ?\n",
        "\n",
        "Invalid label, ignoring the line: Computer_science -> Areas_of_computer_science -> Artificial_intelligence -> Problem_solving -> Game_theory -> Go_openings ?\n",
        "\n",
        "Invalid label, ignoring the line: Computer_science -> Areas_of_computer_science -> Artificial_intelligence -> Problem_solving -> Game_theory -> Go_openings -> Joseki\n",
        "\n",
        "Invalid label, ignoring the line: World_Wide_Web -> Web_2.0 -> Crowdsourcing -> Open_content ?\n",
        "\n",
        "Invalid label, ignoring the line: World_Wide_Web -> Web_2.0 -> Crowdsourcing -> Open_content -> Free_content ?\n",
        "\n",
        "Invalid label, ignoring the line: Computer_industry -> Vaporware ?\n",
        "\n",
        "Invalid label, ignoring the line: Computer_industry -> Vaporware -> Vaporware_game_consoles ?\n",
        "\n",
        "Invalid label, ignoring the line: Software -> Application_software -> Video_games -> Video_game_gameplay -> Open_world_video_games ?\n",
        "\n",
        "Invalid label, ignoring the line: Software -> Software_by_operating_system -> Single-platform_software -> Single-platform_video_games ?\n",
        "\n",
        "Invalid label, ignoring the line: Software -> Software_by_operating_system -> Single-platform_software -> Single-platform_video_games -> Arcade-only_games ?\n",
        "\n",
        "Invalid label, ignoring the line: Software -> Software_by_operating_system -> Single-platform_software -> Single-platform_video_games -> Arcade-only_games -> Discrete_video_arcade_games ?\n",
        "\n",
        "Invalid label, ignoring the line: Software -> Application_software -> Video_games -> Video_games_by_genre -> Platform_games ?\n",
        "\n",
        "Invalid label, ignoring the line: Software -> Application_software -> Video_games -> Video_games_by_theme -> Parkour_video_games ?\n",
        "\n",
        "Invalid label, ignoring the line: Software -> Application_software -> Video_games -> Video_game_franchises -> Assassin's_Creed ?\n",
        "\n",
        "Invalid label, ignoring the line: Software -> Microcomputer_software -> Home_computer_software -> Amstrad_CPC_games ?\n",
        "\n",
        "Invalid label, ignoring the line: Computer_systems -> Computer_hardware -> Video_game_hardware -> Arcade_hardware ?\n",
        "\n",
        "Invalid label, ignoring the line: Computer_systems -> Computer_hardware -> Video_game_hardware -> Arcade_hardware -> Arcade_system_boards ?\n",
        "\n",
        "Invalid label, ignoring the line: Software -> Application_software -> Video_games -> Video_game_industry ?\n",
        "\n",
        "Invalid label, ignoring the line: Software -> Application_software -> Video_games -> Video_game_industry -> Pay_what_you_want_game_vendors ?\n",
        "\n",
        "Invalid label, ignoring the line: Software -> Microsoft -> Games_on_Microsoft_platforms -> Xbox_One_games -> Xbox_One-only_games ?\n",
        "\n",
        "Invalid label, ignoring the line: Computer_industry -> Software_industry -> Software_companies -> Software_companies_by_country -> Software_companies_of_South_Africa ?\n",
        "\n",
        "Invalid label, ignoring the line: Computing_platforms -> Video_game_platforms -> Video_game_consoles -> Video_game_consoles_by_company -> NEC_consoles ?\n",
        "\n",
        "Invalid label, ignoring the line: Computing_platforms -> Video_game_platforms -> Video_game_consoles -> Video_game_consoles_by_company -> NEC_consoles -> TurboGrafx-16 ?\n",
        "\n",
        "Invalid label, ignoring the line: Computing_and_society -> Computer_law -> Electronic_Frontier_Foundation -> Litigation_involving_the_Electronic_Frontier_Foundation ?\n",
        "\n",
        "Invalid label, ignoring the line: Computer_science -> Areas_of_computer_science -> Theoretical_computer_science -> Graph_theory -> Mathematical_chemistry ?\n",
        "\n",
        "Invalid label, ignoring the line: Computing_platforms -> Inferno_(operating_system) -> Inferno_(operating_system)_people ?\n",
        "\n",
        "Invalid label, ignoring the line: Information_technology -> Information_technology_companies -> Information_technology_companies_by_country -> Telecommunications_companies_by_country -> Telecommunications_companies_of_Spain ?\n",
        "\n",
        "Invalid label, ignoring the line: Information_technology -> Information_technology_companies -> Telecommunications_companies -> Wikipedia_categories_named_after_telecommunications_companies -> KPN ?\n",
        "\n",
        "Invalid label, ignoring the line: Software -> Software_by_company -> Video_games_by_company -> Hi_Tech_Expressions_games ?\n",
        "\n",
        "Invalid label, ignoring the line: Software -> Application_software -> Business_software -> Business_simulation_games ?\n",
        "\n",
        "Invalid label, ignoring the line: Software -> Application_software -> Business_software -> Business_simulation_games -> Sports_management_video_games ?\n",
        "\n",
        "Invalid label, ignoring the line: Software -> Application_software -> Business_software -> Business_simulation_games -> Sports_management_video_games -> Sports_management_MMORPGs ?\n",
        "\n",
        "Invalid label, ignoring the line: Software -> Software_by_company -> Video_games_by_company -> Disney_video_games ?\n",
        "\n",
        "Invalid label, ignoring the line: Computing_platforms -> Video_game_platforms -> Online_gaming_services -> Online-only_retailers_of_video_games ?\n",
        "\n"
       ]
      }
     ],
     "prompt_number": 4
    },
    {
     "cell_type": "code",
     "collapsed": false,
     "input": [
      "is_class = generate_topic_classifier()"
     ],
     "language": "python",
     "metadata": {},
     "outputs": [
      {
       "output_type": "stream",
       "stream": "stderr",
       "text": [
        "/Library/Frameworks/Python.framework/Versions/3.3/lib/python3.3/site-packages/sklearn/metrics/metrics.py:1249: UserWarning: The sum of true positives and false positives are equal to zero for some labels. Precision is ill defined for those labels [False]. The precision and recall are equal to zero for some labels. fbeta_score is ill defined for those labels [False]. \n",
        "  average=average)\n"
       ]
      }
     ],
     "prompt_number": 5
    },
    {
     "cell_type": "code",
     "collapsed": false,
     "input": [
      "def wikipedia_ptrn(title):\n",
      "    return title.startswith('Wikipedia ')\n",
      "\n",
      "def years_in_ptrn(title):\n",
      "    return title.startswith(\"Years in \")\n",
      "\n",
      "def years_of_ptrn(title):\n",
      "    return title.startswith(\"Years of \")\n",
      "\n",
      "def some_year_in_ptrn(title):\n",
      "    return re.match('^\\d{4}s? in ', title) is not None\n",
      "\n",
      "def wiki_project_ptrn(title):\n",
      "    return title.startswith('WikiProject ')\n",
      "\n",
      "def template_ptrn(title):\n",
      "    return title.startswith('Template:')\n",
      "\n",
      "def lists_ptrn(title):\n",
      "    return title.startswith('Lists of ')\n",
      "\n",
      "def comparisons_ptrn(title):\n",
      "    return title.endswith(' comparisons')\n",
      "\n",
      "def by_ptrn(title):\n",
      "    return ' by ' in title\n",
      "\n",
      "def stubs_ptrn(title):\n",
      "    return title.endswith(' stubs')\n",
      "\n",
      "def portal_ptrn(title):\n",
      "    return re.match('.* portals?$', title) is not None\n",
      "\n",
      "def screenshots_ptrn(title):\n",
      "    return title.startswith('Screenshots of')\n",
      "\n",
      "patterns_to_skip = [wikipedia_ptrn, years_in_ptrn, years_of_ptrn, some_year_in_ptrn, \n",
      "                    wiki_project_ptrn, template_ptrn, lists_ptrn, comparisons_ptrn, \n",
      "                    by_ptrn, stubs_ptrn, portal_ptrn, screenshots_ptrn]\n",
      "\n",
      "def filter_patterns(node):\n",
      "    title = uri_to_title(node)\n",
      "    return not any([ptrn(title) for ptrn in patterns_to_skip])\n",
      "\n",
      "# test_titles = ['Years_in_video_gaming', 'Years_of_the_21st_century_in_video_gaming',\n",
      "#                'Years_of_the_21st_century_in_video_gaming', '2004_in_video_gaming',\n",
      "#                '2000s_in_computer_science', '2007_in_computer_science',\n",
      "#                'Years_of_the_20th_century_in_video_gaming', '1972_in_video_gaming',\n",
      "#                'Template:Metadata_Population', 'Lists_of_typefaces', 'Computing_comparisons',\n",
      "#                'Markup_language_comparisons', 'WikiProject JVM',\n",
      "#                'Computing', 'Natural language processing', 'IEEE 201214']\n",
      "\n",
      "# for title in test_titles:\n",
      "#     uri = title_to_uri(title)\n",
      "#     print(filter_patterns(uri), uri_to_title(uri))"
     ],
     "language": "python",
     "metadata": {},
     "outputs": [],
     "prompt_number": 5
    },
    {
     "cell_type": "code",
     "collapsed": false,
     "input": [
      "with open(util.resource('cats_in_acm.txt')) as file:\n",
      "    acm_cats = {line.strip() for line in file.readlines()}"
     ],
     "language": "python",
     "metadata": {},
     "outputs": [],
     "prompt_number": 6
    },
    {
     "cell_type": "code",
     "collapsed": false,
     "input": [
      "from dswont import topics_music\n",
      "from dswont import topic_type"
     ],
     "language": "python",
     "metadata": {},
     "outputs": [],
     "prompt_number": 28
    },
    {
     "cell_type": "code",
     "collapsed": false,
     "input": [
      "# music_rel_data_sampler = topics.TrainingDataSelection(topics_music.precompute_full_selection())\n",
      "# data_processor = topics.TrainingDataProcessing()\n",
      "# topic_type_prediction_music = topic_type.topic_type_prediction(\n",
      "#         ground_truth_file=util.resource('labeled-topic-types-music-1000-dm.txt'))\n",
      "\n",
      "# music_is_class = topic_type_prediction_music.is_class\n",
      "# topic_relevance_classifier = topics_music.default_trained_topic_selection_classifier()\n",
      "def music_is_relevant(node):\n",
      "    return topic_relevance_classifier.predict([node])[0]\n",
      "\n",
      "# wtx = WikiTaxonomy()\n",
      "\n",
      "def filter_class(node):\n",
      "    return music_is_relevant(node) and wtx.contains(node) and filter_patterns(node) and music_is_class(node)\n",
      "\n",
      "def filter_individual(node):\n",
      "    return music_is_relevant(node) and wtx.contains(node) and filter_patterns(node) and not music_is_class(node)\n",
      "\n",
      "# pairs = music_rel_data_sampler.sample_relations_with_children(\n",
      "#         n_nodes=200, max_children=3, with_paths=True,\n",
      "#         filter_parent=filter_class, filter_child=filter_class)\n",
      "# data_processor.save_pairs(pairs, util.resource('labeled-relations-music-200-subcl-in-wtx-with-3-children.txt'))\n",
      "\n",
      "# pairs = music_rel_data_sampler.sample_relations_with_children(\n",
      "#         n_nodes=200, max_children=3, with_paths=True,\n",
      "#         filter_parent=filter_class, filter_child=filter_individual)\n",
      "# data_processor.save_pairs(pairs, util.resource('labeled-relations-music-200-ind-in-wtx-with-3-children.txt'))\n",
      "\n",
      "pairs = music_rel_data_sampler.sample_relations_with_children(\n",
      "        n_nodes=200, max_children=3, with_paths=True,\n",
      "        filter_parent=filter_individual, filter_child=filter_individual)\n",
      "data_processor.save_pairs(pairs, util.resource('labeled-relations-music-200-part-in-wtx-with-3-children.txt'))\n",
      "\n",
      "\n",
      "# pairs = rel_data_sampler.sample_relations_with_children(n_nodes=1000, max_children=10, paths=False, filter_fn=filter_fn)\n",
      "# parents = set(parent for parent, child in pairs)\n",
      "# print(\"# parents:\", len(parents))\n",
      "# depths = [selection.get_depth(parent) for parent in parents]\n",
      "# x, y = zip(*stats.itemfreq(depths))\n",
      "# print((0.0,) + x, (0.0,) + y)\n",
      "# plt.bar((0.0,) + x, (1e-5,) + y)\n",
      "# plt.show()\n",
      "\n"
     ],
     "language": "python",
     "metadata": {},
     "outputs": [
      {
       "output_type": "stream",
       "stream": "stdout",
       "text": [
        "Sampled 'Music' -> 'Music_industry'\n",
        "Sampled 'Music' -> 'Music_performance'\n",
        "Sampled 'Music' -> 'Musical_composition'\n",
        "Sampled 'Periodic_phenomena' -> 'Business_cycle'"
       ]
      },
      {
       "output_type": "stream",
       "stream": "stdout",
       "text": [
        "\n",
        "Sampled 'Periodic_phenomena' -> 'Business_cycle'\n",
        "Sampled 'Music_industry' -> 'Radio'"
       ]
      },
      {
       "output_type": "stream",
       "stream": "stdout",
       "text": [
        "\n",
        "Sampled 'Music_industry' -> 'Recorded_music'\n",
        "Sampled 'Music_industry' -> 'DJing'\n",
        "Sampled 'Music_theory' -> 'Musicology'"
       ]
      },
      {
       "output_type": "stream",
       "stream": "stdout",
       "text": [
        "\n",
        "Sampled 'Music_theory' -> 'Philosophy_of_music'\n",
        "Sampled 'Musical_theatre' -> 'Blackface_minstrelsy'"
       ]
      },
      {
       "output_type": "stream",
       "stream": "stdout",
       "text": [
        "\n",
        "Sampled 'Musical_theatre' -> 'Blackface_minstrelsy'\n",
        "Sampled 'Musical_theatre' -> 'Rock_operas'\n",
        "Sampled 'British_radio' -> 'Scottish_radio'"
       ]
      },
      {
       "output_type": "stream",
       "stream": "stdout",
       "text": [
        "\n",
        "Sampled 'British_radio' -> 'British_radio_comedy'\n",
        "Sampled 'British_radio' -> 'Sports_radio_in_the_United_Kingdom'\n",
        "Sampled 'American_radio' -> 'Sports_radio_in_the_United_States'"
       ]
      },
      {
       "output_type": "stream",
       "stream": "stdout",
       "text": [
        "\n",
        "Sampled 'American_radio' -> 'Radio_in_Minnesota'\n",
        "Sampled 'Summer' -> 'Summer_Universiade'"
       ]
      },
      {
       "output_type": "stream",
       "stream": "stdout",
       "text": [
        "\n",
        "Sampled 'Finnish_music' -> 'Finnish_hip_hop'"
       ]
      },
      {
       "output_type": "stream",
       "stream": "stdout",
       "text": [
        "\n",
        "Sampled 'Sony' -> 'Sony_people'"
       ]
      },
      {
       "output_type": "stream",
       "stream": "stdout",
       "text": [
        "\n",
        "Sampled 'Sony' -> 'Sony_Ericsson'\n",
        "Sampled 'American_music' -> 'Ethnic_music_in_the_United_States'"
       ]
      },
      {
       "output_type": "stream",
       "stream": "stdout",
       "text": [
        "\n",
        "Sampled 'American_music' -> 'Music_of_United_States_subdivisions'\n",
        "Sampled 'Music_history' -> 'Byzantine_music'"
       ]
      },
      {
       "output_type": "stream",
       "stream": "stdout",
       "text": [
        "\n",
        "Sampled 'Music_performance' -> 'Bell_ringing'"
       ]
      },
      {
       "output_type": "stream",
       "stream": "stdout",
       "text": [
        "\n",
        "Sampled 'Music_performance' -> 'Singing'\n",
        "Sampled 'Music_performance' -> 'Hip_hop_production'\n",
        "Sampled 'Estonian_music' -> 'Estonia_in_the_Eurovision_Song_Contest'"
       ]
      },
      {
       "output_type": "stream",
       "stream": "stdout",
       "text": [
        "\n",
        "Sampled 'Estonian_music' -> 'Estonian_hip_hop'\n",
        "Sampled 'Australian_music' -> 'Classical_music_in_Australia'"
       ]
      },
      {
       "output_type": "stream",
       "stream": "stdout",
       "text": [
        "\n",
        "Sampled 'Light' -> 'Lighting'"
       ]
      },
      {
       "output_type": "stream",
       "stream": "stdout",
       "text": [
        "\n",
        "Sampled 'Light' -> 'Vision'\n",
        "Sampled 'Russian_music' -> 'Soviet_music'"
       ]
      },
      {
       "output_type": "stream",
       "stream": "stdout",
       "text": [
        "\n",
        "Sampled 'Indian_music' -> 'Sikh_music'"
       ]
      },
      {
       "output_type": "stream",
       "stream": "stdout",
       "text": [
        "\n",
        "Sampled 'Indian_music' -> 'Hindu_music'\n",
        "Sampled 'Indian_music' -> 'Music_of_Indian_subdivisions'\n",
        "Sampled 'Ukrainian_music' -> 'Ukrainian-language_operas'"
       ]
      },
      {
       "output_type": "stream",
       "stream": "stdout",
       "text": [
        "\n",
        "Sampled 'Popular_music' -> 'Jazz'"
       ]
      },
      {
       "output_type": "stream",
       "stream": "stdout",
       "text": [
        "\n",
        "Sampled 'Popular_music' -> 'Country_music'\n",
        "Sampled 'Popular_music' -> 'Funk'\n",
        "Sampled 'Musical_composition' -> 'Serialism'"
       ]
      },
      {
       "output_type": "stream",
       "stream": "stdout",
       "text": [
        "\n",
        "Sampled 'Musical_composition' -> 'Musical_notation'\n",
        "Sampled 'Musical_composition' -> 'Accompaniment'\n",
        "Sampled 'Italian_music' -> 'Music_of_Italian_subdivisions'"
       ]
      },
      {
       "output_type": "stream",
       "stream": "stdout",
       "text": [
        "\n",
        "Sampled 'Italian_music' -> 'Italian-language_operas'\n",
        "Sampled 'Music_education' -> 'Ear_training'"
       ]
      },
      {
       "output_type": "stream",
       "stream": "stdout",
       "text": [
        "\n",
        "Sampled 'Radio_navigation' -> 'Omega_navigation_system'"
       ]
      },
      {
       "output_type": "stream",
       "stream": "stdout",
       "text": [
        "\n",
        "Sampled 'Radio_technology' -> 'Satellite_radio'"
       ]
      },
      {
       "output_type": "stream",
       "stream": "stdout",
       "text": [
        "\n",
        "Sampled 'Radio_technology' -> 'Digital_radio'\n",
        "Sampled 'Radio_technology' -> 'Radio_frequency_propagation'\n",
        "Sampled 'Canadian_music' -> 'Music_of_Canadian_subdivisions'"
       ]
      },
      {
       "output_type": "stream",
       "stream": "stdout",
       "text": [
        "\n",
        "Sampled 'Cuban_music' -> 'Cuban_hip_hop'"
       ]
      },
      {
       "output_type": "stream",
       "stream": "stdout",
       "text": [
        "\n",
        "Sampled 'Sound' -> 'Music'"
       ]
      },
      {
       "output_type": "stream",
       "stream": "stdout",
       "text": [
        "\n",
        "Sampled 'Sound' -> 'Sound_production'\n",
        "Sampled 'Sound' -> 'Sound_technology'\n",
        "Sampled 'Hungarian_music' -> 'Hungarian-language_operettas'"
       ]
      },
      {
       "output_type": "stream",
       "stream": "stdout",
       "text": [
        "\n",
        "Sampled 'Hungarian_music' -> 'Hungarian-language_operas'\n",
        "Sampled 'Chinese_music' -> 'Music_of_Chinese_subdivisions'"
       ]
      },
      {
       "output_type": "stream",
       "stream": "stdout",
       "text": [
        "\n",
        "Sampled 'Classical_music' -> 'Chamber_music'"
       ]
      },
      {
       "output_type": "stream",
       "stream": "stdout",
       "text": [
        "\n",
        "Sampled 'Classical_music' -> 'Early_music'\n",
        "Sampled 'Classical_music' -> 'Chamber_music'\n",
        "Sampled 'Great_Depression' -> 'Great_Depression_in_the_United_States'"
       ]
      },
      {
       "output_type": "stream",
       "stream": "stdout",
       "text": [
        "\n",
        "Sampled 'Christian_music' -> 'Christmas_music'"
       ]
      },
      {
       "output_type": "stream",
       "stream": "stdout",
       "text": [
        "\n",
        "Sampled 'Christian_music' -> 'Catholic_music'\n",
        "Sampled 'Christian_music' -> 'Latter_Day_Saint_music'\n",
        "Sampled 'Classical_music_in_England' -> 'Classical_music_in_London'"
       ]
      },
      {
       "output_type": "stream",
       "stream": "stdout",
       "text": [
        "\n",
        "Sampled 'Music_of_Canadian_subdivisions' -> 'New_Brunswick_music'"
       ]
      },
      {
       "output_type": "stream",
       "stream": "stdout",
       "text": [
        "\n",
        "Sampled 'Music_of_Canadian_subdivisions' -> 'Newfoundland_and_Labrador_music'\n",
        "Sampled 'Music_of_Canadian_subdivisions' -> 'Nova_Scotia_music'\n",
        "Sampled 'Polish_music' -> 'Polish-language_operas'"
       ]
      },
      {
       "output_type": "stream",
       "stream": "stdout",
       "text": [
        "\n",
        "Sampled 'Dance_music' -> 'Tango'"
       ]
      },
      {
       "output_type": "stream",
       "stream": "stdout",
       "text": [
        "\n",
        "Sampled 'Dance_music' -> 'Waltz'\n",
        "Sampled 'Dance_music' -> 'Mambo'\n",
        "Sampled 'Radiation' -> 'Radioactivity'"
       ]
      },
      {
       "output_type": "stream",
       "stream": "stdout",
       "text": [
        "\n",
        "Sampled 'Radiation' -> 'Electromagnetic_radiation'\n",
        "Sampled 'Incidental_music' -> 'Theme_music'"
       ]
      },
      {
       "output_type": "stream",
       "stream": "stdout",
       "text": [
        "\n",
        "Sampled 'British_music' -> 'BBC_music'"
       ]
      },
      {
       "output_type": "stream",
       "stream": "stdout",
       "text": [
        "\n",
        "Sampled 'British_music' -> 'Music_of_British_Overseas_Territories'\n",
        "Sampled 'British_music' -> 'English_music'\n",
        "Sampled 'Punk' -> 'Punk_fashion'"
       ]
      },
      {
       "output_type": "stream",
       "stream": "stdout",
       "text": [
        "\n",
        "Sampled 'Croatian_music' -> 'Croatian-language_operas'"
       ]
      },
      {
       "output_type": "stream",
       "stream": "stdout",
       "text": [
        "\n",
        "Sampled 'Harmony' -> 'Chromaticism'"
       ]
      },
      {
       "output_type": "stream",
       "stream": "stdout",
       "text": [
        "\n",
        "Sampled 'Harmony' -> 'Counterpoint'\n",
        "Sampled 'Music_software' -> 'Guitar-related_software'"
       ]
      },
      {
       "output_type": "stream",
       "stream": "stdout",
       "text": [
        "\n",
        "Sampled 'Ghanaian_music' -> 'Ghanaian_jazz'"
       ]
      },
      {
       "output_type": "stream",
       "stream": "stdout",
       "text": [
        "\n",
        "Sampled 'Musical_notation' -> 'Shape_note'"
       ]
      },
      {
       "output_type": "stream",
       "stream": "stdout",
       "text": [
        "\n",
        "Sampled 'German_music' -> 'Germany_in_the_Eurovision_Song_Contest'"
       ]
      },
      {
       "output_type": "stream",
       "stream": "stdout",
       "text": [
        "\n",
        "Sampled 'Serbian_music' -> 'Serbian-language_operas'"
       ]
      },
      {
       "output_type": "stream",
       "stream": "stdout",
       "text": [
        "\n",
        "Sampled 'Celtic_music' -> 'Asturian_music'"
       ]
      },
      {
       "output_type": "stream",
       "stream": "stdout",
       "text": [
        "\n",
        "Sampled 'Celtic_music' -> 'Cornish_music'\n",
        "Sampled 'Celtic_music' -> 'Celtic_fusion'\n",
        "Sampled 'European_music' -> 'Central_European_music'"
       ]
      },
      {
       "output_type": "stream",
       "stream": "stdout",
       "text": [
        "\n",
        "Sampled 'European_music' -> 'Southern_European_music'\n",
        "Sampled 'European_music' -> 'Eastern_European_music'\n",
        "Sampled 'Canadian_radio' -> 'Canadian_radio_comedy'"
       ]
      },
      {
       "output_type": "stream",
       "stream": "stdout",
       "text": [
        "\n",
        "Sampled 'Canadian_radio' -> 'Sports_radio_in_Canada'\n",
        "Sampled 'Czech_music' -> 'Czech-language_operas'"
       ]
      },
      {
       "output_type": "stream",
       "stream": "stdout",
       "text": [
        "\n",
        "Sampled 'Singing' -> 'Barbershop_music'"
       ]
      },
      {
       "output_type": "stream",
       "stream": "stdout",
       "text": [
        "\n",
        "Sampled 'Digital_television' -> 'Serial_digital_interface'"
       ]
      },
      {
       "output_type": "stream",
       "stream": "stdout",
       "text": [
        "\n",
        "Sampled 'Digital_television' -> 'Digital_cable'\n",
        "Sampled 'C-pop' -> 'Cantopop'"
       ]
      },
      {
       "output_type": "stream",
       "stream": "stdout",
       "text": [
        "\n",
        "Sampled 'C-pop' -> 'Cantopop'\n",
        "Sampled 'Music_technology' -> 'Electronic_music'"
       ]
      },
      {
       "output_type": "stream",
       "stream": "stdout",
       "text": [
        "\n",
        "Sampled 'Danish_music' -> 'Danish-language_operas'"
       ]
      },
      {
       "output_type": "stream",
       "stream": "stdout",
       "text": [
        "\n",
        "Sampled 'Mexican_music' -> 'Mexican_orchestras'"
       ]
      },
      {
       "output_type": "stream",
       "stream": "stdout",
       "text": [
        "\n",
        "Sampled 'French_music' -> 'Music_of_French_subdivisions'"
       ]
      },
      {
       "output_type": "stream",
       "stream": "stdout",
       "text": [
        "\n",
        "Sampled 'French_music' -> 'French-language_operas'\n",
        "Sampled 'British_popular_music' -> 'United_Kingdom_in_the_Eurovision_Song_Contest'"
       ]
      },
      {
       "output_type": "stream",
       "stream": "stdout",
       "text": [
        "\n",
        "Sampled 'Polynesian_music' -> 'Hawaiian_music'"
       ]
      },
      {
       "output_type": "stream",
       "stream": "stdout",
       "text": [
        "\n",
        "Sampled 'Greek_music' -> 'Greek_hip_hop'"
       ]
      },
      {
       "output_type": "stream",
       "stream": "stdout",
       "text": [
        "\n",
        "Sampled 'Norwegian_music' -> 'Norwegian_electronic_music'"
       ]
      },
      {
       "output_type": "stream",
       "stream": "stdout",
       "text": [
        "\n",
        "Sampled 'Scottish_music' -> 'Scottish_country_dance'"
       ]
      },
      {
       "output_type": "stream",
       "stream": "stdout",
       "text": [
        "\n",
        "Sampled 'Krautrock' -> 'Kraftwerk'"
       ]
      },
      {
       "output_type": "stream",
       "stream": "stdout",
       "text": [
        "\n",
        "Sampled 'Australian_popular_music' -> 'Triple_J'"
       ]
      },
      {
       "output_type": "stream",
       "stream": "stdout",
       "text": [
        "\n",
        "Sampled 'Australian_popular_music' -> 'Triple_J'\n",
        "Sampled 'Religious_music' -> 'Buddhist_music'"
       ]
      },
      {
       "output_type": "stream",
       "stream": "stdout",
       "text": [
        "\n",
        "Sampled 'Francophone_music' -> 'Quebec_music'"
       ]
      },
      {
       "output_type": "stream",
       "stream": "stdout",
       "text": [
        "\n",
        "Sampled 'Asian_music' -> 'Central_Asian_music'"
       ]
      },
      {
       "output_type": "stream",
       "stream": "stdout",
       "text": [
        "\n",
        "Sampled 'Asian_music' -> 'East_Asian_music'\n",
        "Sampled 'Asian_music' -> 'South_Asian_music'\n",
        "Sampled 'Hip_hop' -> 'Hip_hop_dance'"
       ]
      },
      {
       "output_type": "stream",
       "stream": "stdout",
       "text": [
        "\n",
        "Sampled 'Hip_hop' -> 'Hip_hop_media'\n",
        "Sampled 'Hip_hop' -> 'Hip_hop_dance'\n",
        "Sampled 'Grunge' -> 'Post-grunge'"
       ]
      },
      {
       "output_type": "stream",
       "stream": "stdout",
       "text": [
        "\n",
        "Sampled 'Funk' -> 'Funk_dance'"
       ]
      },
      {
       "output_type": "stream",
       "stream": "stdout",
       "text": [
        "\n",
        "Sampled 'Ambient_music' -> 'New_Age_music'"
       ]
      },
      {
       "output_type": "stream",
       "stream": "stdout",
       "text": [
        "\n",
        "Sampled 'Chinese_opera' -> 'Cantonese_opera'"
       ]
      },
      {
       "output_type": "stream",
       "stream": "stdout",
       "text": [
        "\n",
        "Sampled 'Chinese_opera' -> 'Cantonese_opera'\n",
        "Sampled 'Psychedelic_music' -> 'Psychedelic_trance'"
       ]
      },
      {
       "output_type": "stream",
       "stream": "stdout",
       "text": [
        "\n",
        "Sampled 'Psychedelic_music' -> 'New_Weird_America'\n",
        "Sampled 'Swedish_music' -> 'Swedish-language_operas'"
       ]
      },
      {
       "output_type": "stream",
       "stream": "stdout",
       "text": [
        "\n",
        "Sampled 'Spanish_music' -> 'Spanish-language_operas'"
       ]
      },
      {
       "output_type": "stream",
       "stream": "stdout",
       "text": [
        "\n",
        "Sampled 'East_Asian_music' -> 'Southeast_Asian_music'"
       ]
      },
      {
       "output_type": "stream",
       "stream": "stdout",
       "text": [
        "\n",
        "Sampled 'Music_of_Indian_subdivisions' -> 'Bengali_music'"
       ]
      },
      {
       "output_type": "stream",
       "stream": "stdout",
       "text": [
        "\n",
        "Sampled 'Music_of_Indian_subdivisions' -> 'Music_of_Tripura'\n",
        "Sampled 'Music_of_Indian_subdivisions' -> 'Bengali_music'\n",
        "Sampled 'Belizean_music' -> 'Garifuna_music'"
       ]
      },
      {
       "output_type": "stream",
       "stream": "stdout",
       "text": [
        "\n",
        "Sampled 'Radio_spectrum' -> 'Terahertz_technology'"
       ]
      },
      {
       "output_type": "stream",
       "stream": "stdout",
       "text": [
        "\n",
        "Sampled 'Hip_hop_production' -> 'Beatboxing'"
       ]
      },
      {
       "output_type": "stream",
       "stream": "stdout",
       "text": [
        "\n",
        "Sampled 'Hip_hop_production' -> 'Rapping'\n",
        "Sampled 'African_music' -> 'East_African_music'"
       ]
      },
      {
       "output_type": "stream",
       "stream": "stdout",
       "text": [
        "\n",
        "Sampled 'African_music' -> 'North_African_music'\n",
        "Sampled 'African_music' -> 'West_African_music'\n",
        "Sampled 'Beavis_and_Butt-head' -> 'Daria'"
       ]
      },
      {
       "output_type": "stream",
       "stream": "stdout",
       "text": [
        "\n",
        "Sampled 'Indian_classical_music' -> 'Carnatic_music'"
       ]
      },
      {
       "output_type": "stream",
       "stream": "stdout",
       "text": [
        "\n",
        "Sampled 'Romantic_music' -> 'Mazurka'"
       ]
      },
      {
       "output_type": "stream",
       "stream": "stdout",
       "text": [
        "\n",
        "Sampled 'Electronic_test_equipment' -> 'Medical_testing_equipment'"
       ]
      },
      {
       "output_type": "stream",
       "stream": "stdout",
       "text": [
        "\n",
        "Sampled 'Musical_terminology' -> 'Opera_terminology'"
       ]
      },
      {
       "output_type": "stream",
       "stream": "stdout",
       "text": [
        "\n",
        "Sampled 'Tango' -> 'Tango_dance'"
       ]
      },
      {
       "output_type": "stream",
       "stream": "stdout",
       "text": [
        "\n",
        "Sampled 'Tango' -> 'Tango_dance'\n",
        "Sampled 'South_American_music' -> 'Andean_music'"
       ]
      },
      {
       "output_type": "stream",
       "stream": "stdout",
       "text": [
        "\n",
        "Sampled 'Turkish_popular_music' -> 'Turkey_in_the_Eurovision_Song_Contest'"
       ]
      },
      {
       "output_type": "stream",
       "stream": "stdout",
       "text": [
        "\n",
        "Sampled 'Angolan_music' -> 'Angolan_hip_hop'"
       ]
      },
      {
       "output_type": "stream",
       "stream": "stdout",
       "text": [
        "\n",
        "Sampled 'Caribbean_music' -> 'Antillean_music'"
       ]
      },
      {
       "output_type": "stream",
       "stream": "stdout",
       "text": [
        "\n",
        "Sampled 'Indigenous_music' -> 'Indigenous_Australian_music'"
       ]
      },
      {
       "output_type": "stream",
       "stream": "stdout",
       "text": [
        "\n",
        "Sampled 'History_of_hip_hop' -> 'Hip_hop_fashion'"
       ]
      },
      {
       "output_type": "stream",
       "stream": "stdout",
       "text": [
        "\n",
        "Sampled 'Classical_music_in_the_United_Kingdom' -> 'Opera_in_the_United_Kingdom'"
       ]
      },
      {
       "output_type": "stream",
       "stream": "stdout",
       "text": [
        "\n",
        "Sampled 'Industrial_music' -> 'Electronic_body_music'"
       ]
      },
      {
       "output_type": "stream",
       "stream": "stdout",
       "text": [
        "\n",
        "Sampled 'North_American_music' -> 'Central_American_music'"
       ]
      },
      {
       "output_type": "stream",
       "stream": "stdout",
       "text": [
        "\n",
        "Sampled 'Chinese_hip_hop' -> 'Hong_Kong_hip_hop'"
       ]
      },
      {
       "output_type": "stream",
       "stream": "stdout",
       "text": [
        "\n",
        "Sampled 'Philosophy_of_music' -> 'Pythagorean_philosophy'"
       ]
      },
      {
       "output_type": "stream",
       "stream": "stdout",
       "text": [
        "\n",
        "Sampled 'Bulgarian_music' -> 'Bulgarian_folk_music'"
       ]
      },
      {
       "output_type": "stream",
       "stream": "stdout",
       "text": [
        "\n",
        "Sampled 'Jazz' -> 'Jazz_poetry'"
       ]
      },
      {
       "output_type": "stream",
       "stream": "stdout",
       "text": [
        "\n",
        "Sampled 'Pakistani_music' -> 'Sufi_music'"
       ]
      },
      {
       "output_type": "stream",
       "stream": "stdout",
       "text": [
        "\n",
        "Sampled 'Internet_radio' -> 'Internet_radio_software'"
       ]
      },
      {
       "output_type": "stream",
       "stream": "stdout",
       "text": [
        "\n",
        "Sampled 'Germanic_music' -> 'Nordic_music'"
       ]
      },
      {
       "output_type": "stream",
       "stream": "stdout",
       "text": [
        "\n",
        "Sampled 'Romanian_music' -> 'Romania_in_the_Eurovision_Song_Contest'"
       ]
      },
      {
       "output_type": "stream",
       "stream": "stdout",
       "text": [
        "\n",
        "Sampled 'Albanian_music' -> 'Albanian_hip_hop'"
       ]
      },
      {
       "output_type": "stream",
       "stream": "stdout",
       "text": [
        "\n",
        "Sampled 'Classical_music_in_the_United_States' -> 'American_orchestras'"
       ]
      },
      {
       "output_type": "stream",
       "stream": "stdout",
       "text": [
        "\n",
        "Sampled 'Classical_music_in_the_United_States' -> 'American_orchestras'\n",
        "Sampled 'German_hip_hop' -> 'Hamburg_hip_hop'"
       ]
      },
      {
       "output_type": "stream",
       "stream": "stdout",
       "text": [
        "\n",
        "Sampled 'British_music_industry' -> 'British_music_media'"
       ]
      },
      {
       "output_type": "stream",
       "stream": "stdout",
       "text": [
        "\n",
        "Sampled 'British_music_industry' -> 'Rough_Trade'\n",
        "Sampled 'South_Asian_music' -> 'Persian_music'"
       ]
      },
      {
       "output_type": "stream",
       "stream": "stdout",
       "text": [
        "\n",
        "Sampled 'South_Asian_music' -> 'Persian_music'\n",
        "Sampled 'Sports_radio' -> 'Cricket_on_the_radio'"
       ]
      },
      {
       "output_type": "stream",
       "stream": "stdout",
       "text": [
        "\n",
        "Sampled 'Funk_dance' -> 'Popping_(dance)'"
       ]
      },
      {
       "output_type": "stream",
       "stream": "stdout",
       "text": [
        "\n",
        "Sampled 'Funk_dance' -> 'Popping_(dance)'\n",
        "Sampled 'Digital_radio' -> 'DAB_ensemble'"
       ]
      },
      {
       "output_type": "stream",
       "stream": "stdout",
       "text": [
        "\n",
        "Sampled 'Folk_punk' -> 'Anti-folk_music'"
       ]
      },
      {
       "output_type": "stream",
       "stream": "stdout",
       "text": [
        "\n",
        "Sampled 'Amateur_radio' -> 'Radiosport'"
       ]
      },
      {
       "output_type": "stream",
       "stream": "stdout",
       "text": [
        "\n",
        "Sampled 'Amateur_radio' -> 'Packet_radio'\n",
        "Sampled 'Breakbeat' -> 'Breakcore'"
       ]
      },
      {
       "output_type": "stream",
       "stream": "stdout",
       "text": [
        "\n",
        "Sampled 'Indigenous_Australian_music' -> 'Australian_Aboriginal_music'"
       ]
      },
      {
       "output_type": "stream",
       "stream": "stdout",
       "text": [
        "\n",
        "Sampled 'Avatar:_The_Last_Airbender' -> 'Avatar:_The_Last_Airbender_characters'"
       ]
      },
      {
       "output_type": "stream",
       "stream": "stdout",
       "text": [
        "\n",
        "Sampled 'Music_of_Tripura' -> 'Tripuri_music'"
       ]
      },
      {
       "output_type": "stream",
       "stream": "stdout",
       "text": [
        "\n",
        "Sampled 'Reggae' -> 'Reggaeton'"
       ]
      },
      {
       "output_type": "stream",
       "stream": "stdout",
       "text": [
        "\n",
        "Sampled 'BBC_music' -> 'BBC_Symphony_Orchestra'"
       ]
      },
      {
       "output_type": "stream",
       "stream": "stdout",
       "text": [
        "\n"
       ]
      }
     ],
     "prompt_number": 37
    },
    {
     "cell_type": "code",
     "collapsed": true,
     "input": [
      "rel_data_sampler = topics.TrainingDataSelection(selection)\n",
      "data_processor = topics.TrainingDataProcessing(rel_data_sampler)\n",
      "\n",
      "wtx = WikiTaxonomy()\n",
      "\n",
      "def filter_class(node):\n",
      "    return node in acm_cats and filter_patterns(node) and is_class(node)\n",
      "\n",
      "def filter_individual(node):\n",
      "    return node in acm_cats and filter_patterns(node) and not is_class(node)\n",
      "\n",
      "pairs = rel_data_sampler.sample_relations_with_children(n_nodes=150, max_children=None, with_paths=True,\n",
      "                                                        filter_parent=filter_individual, filter_child=filter_individual)\n",
      "\n",
      "data_processor.save_pairs(pairs, util.resource('labeled-relations-150-part-in-acm-with-all-children.txt'))\n",
      "\n",
      "# pairs = rel_data_sampler.sample_relations_with_children(n_nodes=1000, max_children=10, paths=False, filter_fn=filter_fn)\n",
      "# parents = set(parent for parent, child in pairs)\n",
      "# print(\"# parents:\", len(parents))\n",
      "# depths = [selection.get_depth(parent) for parent in parents]\n",
      "# x, y = zip(*stats.itemfreq(depths))\n",
      "# print((0.0,) + x, (0.0,) + y)\n",
      "# plt.bar((0.0,) + x, (1e-5,) + y)\n",
      "# plt.show()\n",
      "\n"
     ],
     "language": "python",
     "metadata": {},
     "outputs": [
      {
       "output_type": "stream",
       "stream": "stdout",
       "text": [
        "Sampled 'World_Wide_Web' -> 'Blogging'\n",
        "Sampled 'World_Wide_Web' -> 'Internet_search'\n",
        "Sampled 'World_Wide_Web' -> 'Social_media'\n",
        "Sampled 'Computer_graphics' -> 'Image_processing'"
       ]
      },
      {
       "output_type": "stream",
       "stream": "stdout",
       "text": [
        "\n",
        "Sampled 'Computer_graphics' -> 'Texture_filtering'\n",
        "Sampled 'Computer_graphics' -> 'Texture_mapping'\n",
        "Sampled 'Software_engineering' -> 'Revision_control'"
       ]
      },
      {
       "output_type": "stream",
       "stream": "stdout",
       "text": [
        "\n",
        "Sampled 'Software_engineering' -> 'Software_architecture'\n",
        "Sampled 'Software_engineering' -> 'Software_testing'\n",
        "Sampled 'Software_engineering' -> 'Software_maintenance'\n",
        "Sampled 'Software_engineering' -> 'Software_design'\n",
        "Sampled 'Computer_architecture' -> 'Interoperability'"
       ]
      },
      {
       "output_type": "stream",
       "stream": "stdout",
       "text": [
        "\n",
        "Sampled 'Computer_architecture' -> 'Network_architecture'\n",
        "Sampled 'Digital_signal_processing' -> 'Speech_recognition'"
       ]
      },
      {
       "output_type": "stream",
       "stream": "stdout",
       "text": [
        "\n",
        "Sampled 'Digital_signal_processing' -> 'Image_processing'\n",
        "Sampled 'Cloud_computing' -> 'Cloud_storage'"
       ]
      },
      {
       "output_type": "stream",
       "stream": "stdout",
       "text": [
        "\n",
        "Sampled 'Enterprise_architecture' -> 'Architecture_description_language'"
       ]
      },
      {
       "output_type": "stream",
       "stream": "stdout",
       "text": [
        "\n",
        "Sampled 'Enterprise_architecture' -> 'Enterprise_application_integration'\n",
        "Sampled 'Enterprise_architecture' -> 'Enterprise_modelling'\n",
        "Sampled 'Software_architecture' -> 'Architecture_description_language'"
       ]
      },
      {
       "output_type": "stream",
       "stream": "stdout",
       "text": [
        "\n",
        "Sampled 'Software_architecture' -> 'Enterprise_application_integration'\n",
        "Sampled 'Software_architecture' -> 'Enterprise_architecture'\n",
        "Sampled 'Software_architecture' -> 'Interoperability'\n",
        "Sampled 'Cryptography' -> 'Key_management'"
       ]
      },
      {
       "output_type": "stream",
       "stream": "stdout",
       "text": [
        "\n",
        "Sampled 'Cryptography' -> 'Quantum_cryptography'\n",
        "Sampled 'Cryptography' -> 'Public-key_cryptography'\n",
        "Sampled 'Cryptography' -> 'Symmetric-key_cryptography'\n",
        "Sampled 'Robotics' -> 'Robot_control'"
       ]
      },
      {
       "output_type": "stream",
       "stream": "stdout",
       "text": [
        "\n",
        "Sampled 'Ambient_intelligence' -> 'Internet_of_Things'"
       ]
      },
      {
       "output_type": "stream",
       "stream": "stdout",
       "text": [
        "\n",
        "Sampled 'Ambient_intelligence' -> 'Internet_of_Things'\n",
        "Sampled 'Trusted_computing' -> 'Digital_rights_management'"
       ]
      },
      {
       "output_type": "stream",
       "stream": "stdout",
       "text": [
        "\n",
        "Sampled 'Computer_network_security' -> 'Computer_access_control'"
       ]
      },
      {
       "output_type": "stream",
       "stream": "stdout",
       "text": [
        "\n",
        "Sampled 'Theory_of_computation' -> 'Automata_theory'"
       ]
      },
      {
       "output_type": "stream",
       "stream": "stdout",
       "text": [
        "\n",
        "Sampled 'Theory_of_computation' -> 'Turing_machine'\n",
        "Sampled 'Theory_of_computation' -> 'Recursion'\n",
        "Sampled 'Computer_access_control' -> 'Digital_rights_management'"
       ]
      },
      {
       "output_type": "stream",
       "stream": "stdout",
       "text": [
        "\n",
        "Sampled 'Machine_learning' -> 'Dimension_reduction'"
       ]
      },
      {
       "output_type": "stream",
       "stream": "stdout",
       "text": [
        "\n",
        "Sampled 'Machine_learning' -> 'Ensemble_learning'\n",
        "Sampled 'Computational_complexity_theory' -> 'Quantum_complexity_theory'"
       ]
      },
      {
       "output_type": "stream",
       "stream": "stdout",
       "text": [
        "\n",
        "Sampled 'Computational_complexity_theory' -> 'Parameterized_complexity'\n",
        "Sampled 'Computational_complexity_theory' -> 'Circuit_complexity'\n",
        "Sampled 'Distributed_data_storage' -> 'Cloud_storage'"
       ]
      },
      {
       "output_type": "stream",
       "stream": "stdout",
       "text": [
        "\n",
        "Sampled 'Hypertext' -> 'World_Wide_Web'"
       ]
      },
      {
       "output_type": "stream",
       "stream": "stdout",
       "text": [
        "\n",
        "Sampled 'Memory_management' -> 'Virtual_memory'"
       ]
      },
      {
       "output_type": "stream",
       "stream": "stdout",
       "text": [
        "\n",
        "Sampled 'Data_mining' -> 'Dimension_reduction'"
       ]
      },
      {
       "output_type": "stream",
       "stream": "stdout",
       "text": [
        "\n",
        "Sampled 'Virtual_reality' -> 'Mixed_reality'"
       ]
      },
      {
       "output_type": "stream",
       "stream": "stdout",
       "text": [
        "\n",
        "Sampled 'Virtual_reality' -> 'Haptic_technology'\n",
        "Sampled 'Data_modeling' -> 'Unified_Modeling_Language'"
       ]
      },
      {
       "output_type": "stream",
       "stream": "stdout",
       "text": [
        "\n",
        "Sampled 'Fault_tolerance' -> 'Error_detection_and_correction'"
       ]
      },
      {
       "output_type": "stream",
       "stream": "stdout",
       "text": [
        "\n",
        "Sampled 'Natural_language_processing' -> 'Natural_language_generation'"
       ]
      },
      {
       "output_type": "stream",
       "stream": "stdout",
       "text": [
        "\n",
        "Sampled 'Natural_language_processing' -> 'Machine_translation'\n",
        "Sampled 'Network_performance' -> 'Queueing_theory'"
       ]
      },
      {
       "output_type": "stream",
       "stream": "stdout",
       "text": [
        "\n",
        "Sampled 'Computer_vision' -> 'Image_processing'"
       ]
      },
      {
       "output_type": "stream",
       "stream": "stdout",
       "text": [
        "\n",
        "Sampled 'Software_design' -> 'Unified_Modeling_Language'"
       ]
      },
      {
       "output_type": "stream",
       "stream": "stdout",
       "text": [
        "\n",
        "Sampled 'Software_design' -> 'Data_modeling'\n",
        "Sampled 'Software_design' -> 'Software_architecture'\n",
        "Sampled 'Robot_control' -> 'Automated_planning_and_scheduling'"
       ]
      },
      {
       "output_type": "stream",
       "stream": "stdout",
       "text": [
        "\n",
        "Sampled 'Control_flow' -> 'Recursion'"
       ]
      },
      {
       "output_type": "stream",
       "stream": "stdout",
       "text": [
        "\n",
        "Sampled 'Logic_programming' -> 'Constraint_programming'"
       ]
      },
      {
       "output_type": "stream",
       "stream": "stdout",
       "text": [
        "\n",
        "Sampled 'Ubiquitous_computing' -> 'Ambient_intelligence'"
       ]
      },
      {
       "output_type": "stream",
       "stream": "stdout",
       "text": [
        "\n",
        "Sampled 'Ubiquitous_computing' -> 'Tracking'\n",
        "Sampled 'Business_intelligence' -> 'Data_warehousing'"
       ]
      },
      {
       "output_type": "stream",
       "stream": "stdout",
       "text": [
        "\n",
        "Sampled 'Network_architecture' -> 'Network_topology'"
       ]
      },
      {
       "output_type": "stream",
       "stream": "stdout",
       "text": [
        "\n",
        "Sampled 'Network_architecture' -> 'Network_addressing'\n",
        "Sampled 'Image_processing' -> 'Interpolation'"
       ]
      },
      {
       "output_type": "stream",
       "stream": "stdout",
       "text": [
        "\n",
        "Sampled 'Image_processing' -> 'Computer_vision'\n",
        "Sampled 'Combinatorial_optimization' -> 'Linear_programming'"
       ]
      },
      {
       "output_type": "stream",
       "stream": "stdout",
       "text": [
        "\n",
        "Sampled 'Combinatorial_optimization' -> 'Network_flow'\n",
        "Sampled 'Model_checking' -> 'Temporal_logic'"
       ]
      },
      {
       "output_type": "stream",
       "stream": "stdout",
       "text": [
        "\n",
        "Sampled 'Quality_control' -> 'Fault_tolerance'"
       ]
      },
      {
       "output_type": "stream",
       "stream": "stdout",
       "text": [
        "\n",
        "Sampled 'Quality_control' -> 'Software_testing'\n",
        "Sampled 'Resource_Description_Framework' -> 'RSS'"
       ]
      },
      {
       "output_type": "stream",
       "stream": "stdout",
       "text": [
        "\n",
        "Sampled 'Object-oriented_programming' -> 'Common_Object_Request_Broker_Architecture'"
       ]
      },
      {
       "output_type": "stream",
       "stream": "stdout",
       "text": [
        "\n"
       ]
      }
     ],
     "prompt_number": 17
    },
    {
     "cell_type": "code",
     "collapsed": false,
     "input": [
      "is_class(title_to_uri('Aggregation-based digital libraries'))"
     ],
     "language": "python",
     "metadata": {},
     "outputs": [
      {
       "metadata": {},
       "output_type": "pyout",
       "prompt_number": 9,
       "text": [
        "True"
       ]
      }
     ],
     "prompt_number": 9
    },
    {
     "cell_type": "code",
     "collapsed": false,
     "input": [
      "len(list(selection._bfs(should_report=selection.is_relevant)))"
     ],
     "language": "python",
     "metadata": {},
     "outputs": [
      {
       "metadata": {},
       "output_type": "pyout",
       "prompt_number": 15,
       "text": [
        "7572"
       ]
      }
     ],
     "prompt_number": 15
    },
    {
     "cell_type": "code",
     "collapsed": false,
     "input": [],
     "language": "python",
     "metadata": {},
     "outputs": []
    }
   ],
   "metadata": {}
  }
 ]
}